{
 "cells": [
  {
   "cell_type": "code",
   "execution_count": 1,
   "id": "71d58f50-0b2f-427f-bdfa-42dcccb34b87",
   "metadata": {},
   "outputs": [],
   "source": [
    "# !pip install contractions\n",
    "# !pip install --upgrade pyLDAvis joblib"
   ]
  },
  {
   "cell_type": "code",
   "execution_count": 2,
   "id": "afa4fbea-975a-4b5b-ad25-8a2961be7988",
   "metadata": {},
   "outputs": [],
   "source": [
    "#Import Libraries\n",
    "\n",
    "#for reading and data-manipulation\n",
    "import os\n",
    "import numpy as np\n",
    "import pandas as pd\n",
    "\n",
    "\n"
   ]
  },
  {
   "cell_type": "code",
   "execution_count": 3,
   "id": "f1cc5533-ca50-4f17-846a-59fa90656321",
   "metadata": {},
   "outputs": [],
   "source": [
    "#for visualization\n",
    "import matplotlib.pyplot as plt\n",
    "import seaborn as sns\n",
    "sns.set()\n",
    "from wordcloud import WordCloud\n",
    "import pyLDAvis\n",
    "import pyLDAvis.gensim_models as gensimvis\n",
    "\n",
    "\n"
   ]
  },
  {
   "cell_type": "code",
   "execution_count": 4,
   "id": "be05c9ef-1ff2-48dd-8229-141de7117ced",
   "metadata": {},
   "outputs": [],
   "source": [
    "#for any hypothesis testing\n",
    "# import scipy.stats as stats\n",
    "\n"
   ]
  },
  {
   "cell_type": "code",
   "execution_count": 5,
   "id": "ef55c5bc-e574-4c83-b957-4323a09c2a12",
   "metadata": {},
   "outputs": [],
   "source": [
    "#for data preprocessing\n",
    "import time\n",
    "from contractions import contractions_dict\n",
    "import re\n",
    "from collections import Counter\n",
    "from wordcloud import STOPWORDS\n",
    "import string\n",
    "import nltk\n",
    "from nltk.corpus import stopwords\n",
    "from nltk.tokenize import word_tokenize\n",
    "from nltk.stem import PorterStemmer\n",
    "from nltk.stem import WordNetLemmatizer\n",
    "from nltk import pos_tag\n",
    "from sklearn.feature_extraction.text import CountVectorizer\n",
    "from sklearn.feature_extraction.text import TfidfVectorizer"
   ]
  },
  {
   "cell_type": "code",
   "execution_count": 6,
   "id": "68d97003-d343-4996-8962-a23966518602",
   "metadata": {},
   "outputs": [],
   "source": [
    "# for ML model Implementation\n",
    "from gensim import corpora\n",
    "from gensim.models import CoherenceModel, LdaModel\n",
    "from gensim.models.coherencemodel import CoherenceModel\n",
    "from sklearn.metrics import make_scorer\n",
    "from sklearn.model_selection import GridSearchCV\n",
    "from sklearn.pipeline import Pipeline\n",
    "from sklearn.model_selection import ParameterGrid\n",
    "from sklearn.decomposition import NMF\n",
    "from sklearn.decomposition import TruncatedSVD"
   ]
  },
  {
   "cell_type": "code",
   "execution_count": 7,
   "id": "9da8fd09-6a8c-4278-ba42-3b6dff8c0725",
   "metadata": {},
   "outputs": [],
   "source": [
    "#for future work\n",
    "import joblib"
   ]
  },
  {
   "cell_type": "markdown",
   "id": "27a45569-6cb0-4068-9c23-5b188dc0c625",
   "metadata": {},
   "source": [
    "# DATASET LOADING"
   ]
  },
  {
   "cell_type": "code",
   "execution_count": 8,
   "id": "c4c70cb6-9c88-4fe1-8bde-170c9e515c60",
   "metadata": {},
   "outputs": [
    {
     "data": {
      "text/html": [
       "<div>\n",
       "<style scoped>\n",
       "    .dataframe tbody tr th:only-of-type {\n",
       "        vertical-align: middle;\n",
       "    }\n",
       "\n",
       "    .dataframe tbody tr th {\n",
       "        vertical-align: top;\n",
       "    }\n",
       "\n",
       "    .dataframe thead th {\n",
       "        text-align: right;\n",
       "    }\n",
       "</style>\n",
       "<table border=\"1\" class=\"dataframe\">\n",
       "  <thead>\n",
       "    <tr style=\"text-align: right;\">\n",
       "      <th></th>\n",
       "      <th>phone_url</th>\n",
       "      <th>date</th>\n",
       "      <th>lang</th>\n",
       "      <th>country</th>\n",
       "      <th>source</th>\n",
       "      <th>domain</th>\n",
       "      <th>score</th>\n",
       "      <th>score_max</th>\n",
       "      <th>extract</th>\n",
       "      <th>author</th>\n",
       "      <th>product</th>\n",
       "    </tr>\n",
       "  </thead>\n",
       "  <tbody>\n",
       "    <tr>\n",
       "      <th>0</th>\n",
       "      <td>/cellphones/samsung-galaxy-s8/</td>\n",
       "      <td>5/2/2017</td>\n",
       "      <td>en</td>\n",
       "      <td>us</td>\n",
       "      <td>Verizon Wireless</td>\n",
       "      <td>verizonwireless.com</td>\n",
       "      <td>10.0</td>\n",
       "      <td>10.0</td>\n",
       "      <td>As a diehard Samsung fan who has had every Sam...</td>\n",
       "      <td>CarolAnn35</td>\n",
       "      <td>Samsung Galaxy S8</td>\n",
       "    </tr>\n",
       "    <tr>\n",
       "      <th>1</th>\n",
       "      <td>/cellphones/samsung-galaxy-s8/</td>\n",
       "      <td>4/28/2017</td>\n",
       "      <td>en</td>\n",
       "      <td>us</td>\n",
       "      <td>Phone Arena</td>\n",
       "      <td>phonearena.com</td>\n",
       "      <td>10.0</td>\n",
       "      <td>10.0</td>\n",
       "      <td>Love the phone. the phone is sleek and smooth ...</td>\n",
       "      <td>james0923</td>\n",
       "      <td>Samsung Galaxy S8</td>\n",
       "    </tr>\n",
       "    <tr>\n",
       "      <th>2</th>\n",
       "      <td>/cellphones/samsung-galaxy-s8/</td>\n",
       "      <td>5/4/2017</td>\n",
       "      <td>en</td>\n",
       "      <td>us</td>\n",
       "      <td>Amazon</td>\n",
       "      <td>amazon.com</td>\n",
       "      <td>6.0</td>\n",
       "      <td>10.0</td>\n",
       "      <td>Adequate feel. Nice heft. Processor's still sl...</td>\n",
       "      <td>R. Craig</td>\n",
       "      <td>Samsung Galaxy S8 (64GB) G950U 5.8\" 4G LTE Unl...</td>\n",
       "    </tr>\n",
       "    <tr>\n",
       "      <th>3</th>\n",
       "      <td>/cellphones/samsung-galaxy-s8/</td>\n",
       "      <td>5/2/2017</td>\n",
       "      <td>en</td>\n",
       "      <td>us</td>\n",
       "      <td>Samsung</td>\n",
       "      <td>samsung.com</td>\n",
       "      <td>9.2</td>\n",
       "      <td>10.0</td>\n",
       "      <td>Never disappointed. One of the reasons I've be...</td>\n",
       "      <td>Buster2020</td>\n",
       "      <td>Samsung Galaxy S8 64GB (AT&amp;T)</td>\n",
       "    </tr>\n",
       "    <tr>\n",
       "      <th>4</th>\n",
       "      <td>/cellphones/samsung-galaxy-s8/</td>\n",
       "      <td>5/11/2017</td>\n",
       "      <td>en</td>\n",
       "      <td>us</td>\n",
       "      <td>Verizon Wireless</td>\n",
       "      <td>verizonwireless.com</td>\n",
       "      <td>4.0</td>\n",
       "      <td>10.0</td>\n",
       "      <td>I've now found that i'm in a group of people t...</td>\n",
       "      <td>S Ate Mine</td>\n",
       "      <td>Samsung Galaxy S8</td>\n",
       "    </tr>\n",
       "  </tbody>\n",
       "</table>\n",
       "</div>"
      ],
      "text/plain": [
       "                        phone_url       date lang country            source  \\\n",
       "0  /cellphones/samsung-galaxy-s8/   5/2/2017   en      us  Verizon Wireless   \n",
       "1  /cellphones/samsung-galaxy-s8/  4/28/2017   en      us       Phone Arena   \n",
       "2  /cellphones/samsung-galaxy-s8/   5/4/2017   en      us            Amazon   \n",
       "3  /cellphones/samsung-galaxy-s8/   5/2/2017   en      us           Samsung   \n",
       "4  /cellphones/samsung-galaxy-s8/  5/11/2017   en      us  Verizon Wireless   \n",
       "\n",
       "                domain  score  score_max  \\\n",
       "0  verizonwireless.com   10.0       10.0   \n",
       "1       phonearena.com   10.0       10.0   \n",
       "2           amazon.com    6.0       10.0   \n",
       "3          samsung.com    9.2       10.0   \n",
       "4  verizonwireless.com    4.0       10.0   \n",
       "\n",
       "                                             extract       author  \\\n",
       "0  As a diehard Samsung fan who has had every Sam...   CarolAnn35   \n",
       "1  Love the phone. the phone is sleek and smooth ...    james0923   \n",
       "2  Adequate feel. Nice heft. Processor's still sl...     R. Craig   \n",
       "3  Never disappointed. One of the reasons I've be...  Buster2020    \n",
       "4  I've now found that i'm in a group of people t...   S Ate Mine   \n",
       "\n",
       "                                             product  \n",
       "0                                  Samsung Galaxy S8  \n",
       "1                                  Samsung Galaxy S8  \n",
       "2  Samsung Galaxy S8 (64GB) G950U 5.8\" 4G LTE Unl...  \n",
       "3                      Samsung Galaxy S8 64GB (AT&T)  \n",
       "4                                  Samsung Galaxy S8  "
      ]
     },
     "execution_count": 8,
     "metadata": {},
     "output_type": "execute_result"
    }
   ],
   "source": [
    "df = pd.read_csv('Cell_Phone_Reviews/phone_user_review_file_1.csv', encoding='ISO-8859-1')\n",
    "df.head()"
   ]
  },
  {
   "cell_type": "code",
   "execution_count": 9,
   "id": "0aa68a4f-dfe4-4f64-95a3-02dd2a4b87b8",
   "metadata": {},
   "outputs": [
    {
     "name": "stdout",
     "output_type": "stream",
     "text": [
      "<class 'pandas.core.frame.DataFrame'>\n",
      "RangeIndex: 374910 entries, 0 to 374909\n",
      "Data columns (total 11 columns):\n",
      " #   Column     Non-Null Count   Dtype  \n",
      "---  ------     --------------   -----  \n",
      " 0   phone_url  374910 non-null  object \n",
      " 1   date       374910 non-null  object \n",
      " 2   lang       374910 non-null  object \n",
      " 3   country    374910 non-null  object \n",
      " 4   source     374910 non-null  object \n",
      " 5   domain     374910 non-null  object \n",
      " 6   score      366691 non-null  float64\n",
      " 7   score_max  366691 non-null  float64\n",
      " 8   extract    371934 non-null  object \n",
      " 9   author     371630 non-null  object \n",
      " 10  product    374910 non-null  object \n",
      "dtypes: float64(2), object(9)\n",
      "memory usage: 31.5+ MB\n"
     ]
    }
   ],
   "source": [
    "df.info()"
   ]
  },
  {
   "cell_type": "code",
   "execution_count": 10,
   "id": "be881df5-1d17-4226-95f3-60cfbbd98c03",
   "metadata": {},
   "outputs": [],
   "source": [
    "df = df[df['product'].str.contains('Samsung', na=False)]\n",
    "df = df[df['lang']=='en']"
   ]
  },
  {
   "cell_type": "code",
   "execution_count": 11,
   "id": "e377f0a8-eee4-4553-b267-0e29d6c705fe",
   "metadata": {},
   "outputs": [
    {
     "name": "stdout",
     "output_type": "stream",
     "text": [
      "<class 'pandas.core.frame.DataFrame'>\n",
      "Index: 64368 entries, 0 to 369253\n",
      "Data columns (total 11 columns):\n",
      " #   Column     Non-Null Count  Dtype  \n",
      "---  ------     --------------  -----  \n",
      " 0   phone_url  64368 non-null  object \n",
      " 1   date       64368 non-null  object \n",
      " 2   lang       64368 non-null  object \n",
      " 3   country    64368 non-null  object \n",
      " 4   source     64368 non-null  object \n",
      " 5   domain     64368 non-null  object \n",
      " 6   score      64359 non-null  float64\n",
      " 7   score_max  64359 non-null  float64\n",
      " 8   extract    64162 non-null  object \n",
      " 9   author     64331 non-null  object \n",
      " 10  product    64368 non-null  object \n",
      "dtypes: float64(2), object(9)\n",
      "memory usage: 5.9+ MB\n"
     ]
    }
   ],
   "source": [
    "df.info()"
   ]
  },
  {
   "cell_type": "code",
   "execution_count": 12,
   "id": "7c8feb89-c3ad-4594-928b-374965edf560",
   "metadata": {},
   "outputs": [],
   "source": [
    "df = df[['phone_url', 'score', 'extract']].dropna()\n",
    "df.rename(columns={'phone_url': 'unique_identifier', 'score': 'score', 'extract': 'brief_review'}, inplace=True)"
   ]
  },
  {
   "cell_type": "code",
   "execution_count": 13,
   "id": "4e8916fe-9f6a-4c39-ae1a-0261d27e77f4",
   "metadata": {},
   "outputs": [
    {
     "data": {
      "text/html": [
       "<div>\n",
       "<style scoped>\n",
       "    .dataframe tbody tr th:only-of-type {\n",
       "        vertical-align: middle;\n",
       "    }\n",
       "\n",
       "    .dataframe tbody tr th {\n",
       "        vertical-align: top;\n",
       "    }\n",
       "\n",
       "    .dataframe thead th {\n",
       "        text-align: right;\n",
       "    }\n",
       "</style>\n",
       "<table border=\"1\" class=\"dataframe\">\n",
       "  <thead>\n",
       "    <tr style=\"text-align: right;\">\n",
       "      <th></th>\n",
       "      <th>unique_identifier</th>\n",
       "      <th>score</th>\n",
       "      <th>brief_review</th>\n",
       "    </tr>\n",
       "  </thead>\n",
       "  <tbody>\n",
       "    <tr>\n",
       "      <th>0</th>\n",
       "      <td>/cellphones/samsung-galaxy-s8/</td>\n",
       "      <td>10.0</td>\n",
       "      <td>As a diehard Samsung fan who has had every Sam...</td>\n",
       "    </tr>\n",
       "    <tr>\n",
       "      <th>1</th>\n",
       "      <td>/cellphones/samsung-galaxy-s8/</td>\n",
       "      <td>10.0</td>\n",
       "      <td>Love the phone. the phone is sleek and smooth ...</td>\n",
       "    </tr>\n",
       "    <tr>\n",
       "      <th>2</th>\n",
       "      <td>/cellphones/samsung-galaxy-s8/</td>\n",
       "      <td>6.0</td>\n",
       "      <td>Adequate feel. Nice heft. Processor's still sl...</td>\n",
       "    </tr>\n",
       "    <tr>\n",
       "      <th>3</th>\n",
       "      <td>/cellphones/samsung-galaxy-s8/</td>\n",
       "      <td>9.2</td>\n",
       "      <td>Never disappointed. One of the reasons I've be...</td>\n",
       "    </tr>\n",
       "    <tr>\n",
       "      <th>4</th>\n",
       "      <td>/cellphones/samsung-galaxy-s8/</td>\n",
       "      <td>4.0</td>\n",
       "      <td>I've now found that i'm in a group of people t...</td>\n",
       "    </tr>\n",
       "  </tbody>\n",
       "</table>\n",
       "</div>"
      ],
      "text/plain": [
       "                unique_identifier  score  \\\n",
       "0  /cellphones/samsung-galaxy-s8/   10.0   \n",
       "1  /cellphones/samsung-galaxy-s8/   10.0   \n",
       "2  /cellphones/samsung-galaxy-s8/    6.0   \n",
       "3  /cellphones/samsung-galaxy-s8/    9.2   \n",
       "4  /cellphones/samsung-galaxy-s8/    4.0   \n",
       "\n",
       "                                        brief_review  \n",
       "0  As a diehard Samsung fan who has had every Sam...  \n",
       "1  Love the phone. the phone is sleek and smooth ...  \n",
       "2  Adequate feel. Nice heft. Processor's still sl...  \n",
       "3  Never disappointed. One of the reasons I've be...  \n",
       "4  I've now found that i'm in a group of people t...  "
      ]
     },
     "execution_count": 13,
     "metadata": {},
     "output_type": "execute_result"
    }
   ],
   "source": [
    "df.head()"
   ]
  },
  {
   "cell_type": "code",
   "execution_count": 14,
   "id": "7d1fe1f8-ec05-41b6-843f-2e36bfd1d26e",
   "metadata": {},
   "outputs": [
    {
     "name": "stdout",
     "output_type": "stream",
     "text": [
      "<class 'pandas.core.frame.DataFrame'>\n",
      "Index: 1000 entries, 0 to 1306\n",
      "Data columns (total 3 columns):\n",
      " #   Column             Non-Null Count  Dtype  \n",
      "---  ------             --------------  -----  \n",
      " 0   unique_identifier  1000 non-null   object \n",
      " 1   score              1000 non-null   float64\n",
      " 2   brief_review       1000 non-null   object \n",
      "dtypes: float64(1), object(2)\n",
      "memory usage: 31.2+ KB\n"
     ]
    }
   ],
   "source": [
    "# for testing and computational reasons, I will be working with only 1000 datasets for now.\n",
    "df = df.iloc[:1000]\n",
    "df.info()"
   ]
  },
  {
   "cell_type": "markdown",
   "id": "037f1562-b394-483a-8bba-b44529d97e0d",
   "metadata": {},
   "source": [
    "# Knowing your data "
   ]
  },
  {
   "cell_type": "code",
   "execution_count": 15,
   "id": "0bb8863d-59fc-4372-bfde-4b46da01b533",
   "metadata": {},
   "outputs": [
    {
     "data": {
      "text/html": [
       "<div>\n",
       "<style scoped>\n",
       "    .dataframe tbody tr th:only-of-type {\n",
       "        vertical-align: middle;\n",
       "    }\n",
       "\n",
       "    .dataframe tbody tr th {\n",
       "        vertical-align: top;\n",
       "    }\n",
       "\n",
       "    .dataframe thead th {\n",
       "        text-align: right;\n",
       "    }\n",
       "</style>\n",
       "<table border=\"1\" class=\"dataframe\">\n",
       "  <thead>\n",
       "    <tr style=\"text-align: right;\">\n",
       "      <th></th>\n",
       "      <th>score</th>\n",
       "    </tr>\n",
       "  </thead>\n",
       "  <tbody>\n",
       "    <tr>\n",
       "      <th>count</th>\n",
       "      <td>1000.000000</td>\n",
       "    </tr>\n",
       "    <tr>\n",
       "      <th>mean</th>\n",
       "      <td>9.169700</td>\n",
       "    </tr>\n",
       "    <tr>\n",
       "      <th>std</th>\n",
       "      <td>1.523737</td>\n",
       "    </tr>\n",
       "    <tr>\n",
       "      <th>min</th>\n",
       "      <td>2.000000</td>\n",
       "    </tr>\n",
       "    <tr>\n",
       "      <th>25%</th>\n",
       "      <td>8.800000</td>\n",
       "    </tr>\n",
       "    <tr>\n",
       "      <th>50%</th>\n",
       "      <td>10.000000</td>\n",
       "    </tr>\n",
       "    <tr>\n",
       "      <th>75%</th>\n",
       "      <td>10.000000</td>\n",
       "    </tr>\n",
       "    <tr>\n",
       "      <th>max</th>\n",
       "      <td>10.000000</td>\n",
       "    </tr>\n",
       "  </tbody>\n",
       "</table>\n",
       "</div>"
      ],
      "text/plain": [
       "             score\n",
       "count  1000.000000\n",
       "mean      9.169700\n",
       "std       1.523737\n",
       "min       2.000000\n",
       "25%       8.800000\n",
       "50%      10.000000\n",
       "75%      10.000000\n",
       "max      10.000000"
      ]
     },
     "execution_count": 15,
     "metadata": {},
     "output_type": "execute_result"
    }
   ],
   "source": [
    "df.describe()"
   ]
  },
  {
   "cell_type": "code",
   "execution_count": 16,
   "id": "b6cf1a24-5b4f-4440-9fe3-7093c96fed36",
   "metadata": {},
   "outputs": [
    {
     "data": {
      "text/plain": [
       "unique_identifier    0\n",
       "score                0\n",
       "brief_review         0\n",
       "dtype: int64"
      ]
     },
     "execution_count": 16,
     "metadata": {},
     "output_type": "execute_result"
    }
   ],
   "source": [
    "# Handling missing values\n",
    "df.isnull().sum()"
   ]
  },
  {
   "cell_type": "code",
   "execution_count": 17,
   "id": "57cf3620-b846-48fb-81ef-bbcde94d08e2",
   "metadata": {},
   "outputs": [
    {
     "data": {
      "text/plain": [
       "1"
      ]
     },
     "execution_count": 17,
     "metadata": {},
     "output_type": "execute_result"
    }
   ],
   "source": [
    "#handling duplicate values \n",
    "len(df[df.duplicated(subset=['brief_review'])])"
   ]
  },
  {
   "cell_type": "code",
   "execution_count": 18,
   "id": "e73de940-c228-4e1e-8859-b3bd98807954",
   "metadata": {},
   "outputs": [
    {
     "data": {
      "text/plain": [
       "998"
      ]
     },
     "execution_count": 18,
     "metadata": {},
     "output_type": "execute_result"
    }
   ],
   "source": [
    "len(df[df.duplicated(subset=['unique_identifier'])])\n"
   ]
  },
  {
   "cell_type": "code",
   "execution_count": 19,
   "id": "d75c8ad8-a073-4751-94cd-374eb543aeb0",
   "metadata": {},
   "outputs": [
    {
     "data": {
      "text/plain": [
       "score\n",
       "10.0    556\n",
       "9.6     101\n",
       "9.2      78\n",
       "8.0      68\n",
       "8.8      59\n",
       "8.4      37\n",
       "6.0      22\n",
       "7.6      19\n",
       "2.0      15\n",
       "4.0      15\n",
       "6.8       8\n",
       "7.2       6\n",
       "5.6       3\n",
       "5.2       3\n",
       "6.4       2\n",
       "3.2       2\n",
       "8.3       1\n",
       "4.4       1\n",
       "2.8       1\n",
       "9.0       1\n",
       "3.6       1\n",
       "4.8       1\n",
       "Name: count, dtype: int64"
      ]
     },
     "execution_count": 19,
     "metadata": {},
     "output_type": "execute_result"
    }
   ],
   "source": [
    "df.score.value_counts()"
   ]
  },
  {
   "cell_type": "code",
   "execution_count": 20,
   "id": "4c2f18b0-fb21-42ae-a260-7217082c7916",
   "metadata": {},
   "outputs": [
    {
     "name": "stdout",
     "output_type": "stream",
     "text": [
      "                unique_identifier  score  \\\n",
      "0  /cellphones/samsung-galaxy-s8/   10.0   \n",
      "1  /cellphones/samsung-galaxy-s8/   10.0   \n",
      "2  /cellphones/samsung-galaxy-s8/    6.0   \n",
      "3  /cellphones/samsung-galaxy-s8/    9.2   \n",
      "4  /cellphones/samsung-galaxy-s8/    4.0   \n",
      "\n",
      "                                        brief_review  \n",
      "0  As a diehard Samsung fan who has had every Sam...  \n",
      "1  Love the phone. the phone is sleek and smooth ...  \n",
      "2  Adequate feel. Nice heft. Processor's still sl...  \n",
      "3  Never disappointed. One of the reasons I've be...  \n",
      "4  I've now found that i'm in a group of people t...  \n"
     ]
    }
   ],
   "source": [
    "# Drop duplicate \n",
    "df_cleaned = df.drop_duplicates(subset = [\"brief_review\", \"unique_identifier\"])\n",
    "print(df_cleaned.head())"
   ]
  },
  {
   "cell_type": "code",
   "execution_count": 21,
   "id": "65267761-36fb-4212-a456-a87a474baa54",
   "metadata": {},
   "outputs": [
    {
     "name": "stdout",
     "output_type": "stream",
     "text": [
      "<class 'pandas.core.frame.DataFrame'>\n",
      "Index: 999 entries, 0 to 1306\n",
      "Data columns (total 3 columns):\n",
      " #   Column             Non-Null Count  Dtype  \n",
      "---  ------             --------------  -----  \n",
      " 0   unique_identifier  999 non-null    object \n",
      " 1   score              999 non-null    float64\n",
      " 2   brief_review       999 non-null    object \n",
      "dtypes: float64(1), object(2)\n",
      "memory usage: 31.2+ KB\n"
     ]
    }
   ],
   "source": [
    "df_cleaned.info()"
   ]
  },
  {
   "cell_type": "code",
   "execution_count": 22,
   "id": "c2448b5e-0583-49f8-80d9-90435063d9df",
   "metadata": {},
   "outputs": [
    {
     "name": "stderr",
     "output_type": "stream",
     "text": [
      "/Users/binitkc/pytorch_Tutorial/venv/lib/python3.12/site-packages/IPython/core/pylabtools.py:77: DeprecationWarning: backend2gui is deprecated since IPython 8.24, backends are managed in matplotlib and can be externally registered.\n",
      "  warnings.warn(\n",
      "/Users/binitkc/pytorch_Tutorial/venv/lib/python3.12/site-packages/IPython/core/pylabtools.py:77: DeprecationWarning: backend2gui is deprecated since IPython 8.24, backends are managed in matplotlib and can be externally registered.\n",
      "  warnings.warn(\n",
      "/Users/binitkc/pytorch_Tutorial/venv/lib/python3.12/site-packages/IPython/core/pylabtools.py:77: DeprecationWarning: backend2gui is deprecated since IPython 8.24, backends are managed in matplotlib and can be externally registered.\n",
      "  warnings.warn(\n"
     ]
    },
    {
     "data": {
      "image/png": "[encoded data removed]",
      "text/plain": [
       "<Figure size 1000x600 with 1 Axes>"
      ]
     },
     "metadata": {},
     "output_type": "display_data"
    }
   ],
   "source": [
    "#visualization for common words in entire documents\n",
    "# Chart - 4 visualization code\n",
    "\n",
    "# Combine all article content across categories\n",
    "combined_content = ' '.join(df_cleaned['brief_review'])\n",
    "\n",
    "#convert the whole content in lowercase\n",
    "combined_content = combined_content.lower()\n",
    "\n",
    "# Tokenize the combined content\n",
    "tokens = combined_content.split()\n",
    "\n",
    "# Filter out stopwords and non-alphanumeric words\n",
    "filtered_tokens = [word for word in tokens if word.isalpha() and word not in STOPWORDS]\n",
    "\n",
    "# Create a Counter to count word frequencies\n",
    "word_counter = Counter(filtered_tokens)\n",
    "\n",
    "# Choose the number of most common words to visualize\n",
    "num_common_words = 20\n",
    "common_words = word_counter.most_common(num_common_words)\n",
    "\n",
    "# Create a bar plot for common words\n",
    "plt.figure(figsize=(10, 6))\n",
    "plt.barh([word[0] for word in common_words], [count[1] for count in common_words], color='skyblue', edgecolor='black')\n",
    "plt.title('Common Words in Entire Documents')\n",
    "plt.xlabel('Word Frequency')\n",
    "plt.ylabel('Word')\n",
    "plt.tight_layout()\n",
    "\n",
    "# Display the plot\n",
    "plt.show()"
   ]
  },
  {
   "cell_type": "code",
   "execution_count": 23,
   "id": "5d692fd6-0f83-4b64-a300-ccada7e0df54",
   "metadata": {},
   "outputs": [
    {
     "data": {
      "text/plain": [
       "[('phone', 669),\n",
       " ('love', 374),\n",
       " ('samsung', 286),\n",
       " ('great', 262),\n",
       " ('edge', 211),\n",
       " ('screen', 161),\n",
       " ('galaxy', 153),\n",
       " ('best', 124),\n",
       " ('one', 103),\n",
       " ('features', 103),\n",
       " ('battery', 102),\n",
       " ('really', 102),\n",
       " ('camera', 99),\n",
       " ('easy', 93),\n",
       " ('new', 93),\n",
       " ('use', 86),\n",
       " ('good', 85),\n",
       " ('everything', 82),\n",
       " ('amazing', 81),\n",
       " ('fast', 70)]"
      ]
     },
     "execution_count": 23,
     "metadata": {},
     "output_type": "execute_result"
    }
   ],
   "source": [
    "common_words"
   ]
  },
  {
   "cell_type": "markdown",
   "id": "08575813-9bd8-4032-85c4-f73a569ea0f3",
   "metadata": {},
   "source": [
    "# Textual Data Preprocessing"
   ]
  },
  {
   "cell_type": "markdown",
   "id": "586fd837-b5a3-4f42-b764-06bbbf03a00c",
   "metadata": {},
   "source": [
    "## 1. Expand Contraction"
   ]
  },
  {
   "cell_type": "code",
   "execution_count": 24,
   "id": "5308b3b9-8285-4832-ae6e-206a9f183ea0",
   "metadata": {},
   "outputs": [
    {
     "name": "stderr",
     "output_type": "stream",
     "text": [
      "/var/folders/zl/sz8m1sq17kg0nb_7_b93gkn40000gn/T/ipykernel_75927/4259473925.py:18: SettingWithCopyWarning: \n",
      "A value is trying to be set on a copy of a slice from a DataFrame.\n",
      "Try using .loc[row_indexer,col_indexer] = value instead\n",
      "\n",
      "See the caveats in the documentation: https://pandas.pydata.org/pandas-docs/stable/user_guide/indexing.html#returning-a-view-versus-a-copy\n",
      "  df_cleaned['brief_review'] = df_cleaned['brief_review'].apply(expand_contractions)\n"
     ]
    }
   ],
   "source": [
    "# Expand Contraction\n",
    "\n",
    "# Function to expand contractions using the contractions_dict\n",
    "def expand_contractions(text):\n",
    "    # Regular expression pattern to match contractions\n",
    "    contractions_pattern = re.compile('({})'.format('|'.join(contractions_dict.keys())),\n",
    "                                      flags=re.IGNORECASE | re.DOTALL)\n",
    "\n",
    "    def expand_match(contraction):\n",
    "        match = contraction.group(0)\n",
    "        expanded = contractions_dict.get(match.lower())\n",
    "        return expanded\n",
    "\n",
    "    expanded_text = contractions_pattern.sub(expand_match, text)\n",
    "    return expanded_text\n",
    "\n",
    "# Apply the expand_contractions function to the \"brief_review\" column\n",
    "df_cleaned['brief_review'] = df_cleaned['brief_review'].apply(expand_contractions)"
   ]
  },
  {
   "cell_type": "markdown",
   "id": "a69edd7d-ff3f-4c98-80c8-16c77b50dda1",
   "metadata": {},
   "source": [
    "## 2. Lower casing"
   ]
  },
  {
   "cell_type": "code",
   "execution_count": 25,
   "id": "d1fea882-1138-484e-99da-bd072d9fc13c",
   "metadata": {},
   "outputs": [
    {
     "data": {
      "text/plain": [
       "'As a diehard Samsung fan who has had every Samsung phone since before the S series started, this has been my favorite upgrade so far. I am amazed at some of the reviews and think people may just have a defective device that needs to be replaced. The battery life is amazing.'"
      ]
     },
     "execution_count": 25,
     "metadata": {},
     "output_type": "execute_result"
    }
   ],
   "source": [
    "#before lower casing\n",
    "df_cleaned.brief_review[0]"
   ]
  },
  {
   "cell_type": "code",
   "execution_count": 26,
   "id": "324b9859-0023-4e4f-bd11-653a78b81f45",
   "metadata": {},
   "outputs": [
    {
     "name": "stderr",
     "output_type": "stream",
     "text": [
      "/var/folders/zl/sz8m1sq17kg0nb_7_b93gkn40000gn/T/ipykernel_75927/532198602.py:2: SettingWithCopyWarning: \n",
      "A value is trying to be set on a copy of a slice from a DataFrame.\n",
      "Try using .loc[row_indexer,col_indexer] = value instead\n",
      "\n",
      "See the caveats in the documentation: https://pandas.pydata.org/pandas-docs/stable/user_guide/indexing.html#returning-a-view-versus-a-copy\n",
      "  df_cleaned['brief_review'] = df_cleaned['brief_review'].str.lower()\n"
     ]
    }
   ],
   "source": [
    "# Convert text in the \"brief_review\" column to lowercase\n",
    "df_cleaned['brief_review'] = df_cleaned['brief_review'].str.lower()"
   ]
  },
  {
   "cell_type": "code",
   "execution_count": 27,
   "id": "fabc3601-1493-43d4-a866-f32c685799c3",
   "metadata": {},
   "outputs": [
    {
     "data": {
      "text/plain": [
       "'as a diehard samsung fan who has had every samsung phone since before the s series started, this has been my favorite upgrade so far. i am amazed at some of the reviews and think people may just have a defective device that needs to be replaced. the battery life is amazing.'"
      ]
     },
     "execution_count": 27,
     "metadata": {},
     "output_type": "execute_result"
    }
   ],
   "source": [
    "#After lower casing\n",
    "df_cleaned.brief_review[0]"
   ]
  },
  {
   "cell_type": "markdown",
   "id": "805524a5-03ec-49dc-a9fa-84b1c5a93bd0",
   "metadata": {},
   "source": [
    "## 3. Removing Puncuations"
   ]
  },
  {
   "cell_type": "code",
   "execution_count": 28,
   "id": "286ba72d-d818-4f6b-b982-13f938ef056c",
   "metadata": {},
   "outputs": [
    {
     "name": "stderr",
     "output_type": "stream",
     "text": [
      "/var/folders/zl/sz8m1sq17kg0nb_7_b93gkn40000gn/T/ipykernel_75927/2115045767.py:13: SettingWithCopyWarning: \n",
      "A value is trying to be set on a copy of a slice from a DataFrame.\n",
      "Try using .loc[row_indexer,col_indexer] = value instead\n",
      "\n",
      "See the caveats in the documentation: https://pandas.pydata.org/pandas-docs/stable/user_guide/indexing.html#returning-a-view-versus-a-copy\n",
      "  df_cleaned['brief_review'] = df_cleaned['brief_review'].apply(remove_punctuations)\n"
     ]
    }
   ],
   "source": [
    "# Remove Punctuations\n",
    "\n",
    "# Function to remove punctuations from text\n",
    "def remove_punctuations(text):\n",
    "    # Create a translation table to remove punctuations\n",
    "    translator = str.maketrans('', '', string.punctuation +'\\n')\n",
    "\n",
    "    # Apply the translation table to remove punctuations\n",
    "    text_without_punctuations = text.translate(translator)\n",
    "    return text_without_punctuations\n",
    "\n",
    "# Apply the remove_punctuations function to the \"brief_review\" column\n",
    "df_cleaned['brief_review'] = df_cleaned['brief_review'].apply(remove_punctuations)"
   ]
  },
  {
   "cell_type": "code",
   "execution_count": 29,
   "id": "c3eecb63-44c3-4b89-9e37-d8c8b3e48e10",
   "metadata": {},
   "outputs": [
    {
     "data": {
      "text/plain": [
       "'as a diehard samsung fan who has had every samsung phone since before the s series started this has been my favorite upgrade so far i am amazed at some of the reviews and think people may just have a defective device that needs to be replaced the battery life is amazing'"
      ]
     },
     "execution_count": 29,
     "metadata": {},
     "output_type": "execute_result"
    }
   ],
   "source": [
    "#After removing punctuation\n",
    "df_cleaned.brief_review[0]"
   ]
  },
  {
   "cell_type": "markdown",
   "id": "8b87446f-f5e1-4c70-9661-d2df1fa1ac3b",
   "metadata": {},
   "source": [
    "## 4. Removing URLs, and words that contain digits."
   ]
  },
  {
   "cell_type": "code",
   "execution_count": 30,
   "id": "2f717b44-a68c-42aa-b7f2-e40e2ee50d40",
   "metadata": {},
   "outputs": [
    {
     "name": "stderr",
     "output_type": "stream",
     "text": [
      "/var/folders/zl/sz8m1sq17kg0nb_7_b93gkn40000gn/T/ipykernel_75927/2387428990.py:11: SettingWithCopyWarning: \n",
      "A value is trying to be set on a copy of a slice from a DataFrame.\n",
      "Try using .loc[row_indexer,col_indexer] = value instead\n",
      "\n",
      "See the caveats in the documentation: https://pandas.pydata.org/pandas-docs/stable/user_guide/indexing.html#returning-a-view-versus-a-copy\n",
      "  df_cleaned['brief_review'] = df_cleaned['brief_review'].apply(remove_urls)\n",
      "/var/folders/zl/sz8m1sq17kg0nb_7_b93gkn40000gn/T/ipykernel_75927/2387428990.py:14: SettingWithCopyWarning: \n",
      "A value is trying to be set on a copy of a slice from a DataFrame.\n",
      "Try using .loc[row_indexer,col_indexer] = value instead\n",
      "\n",
      "See the caveats in the documentation: https://pandas.pydata.org/pandas-docs/stable/user_guide/indexing.html#returning-a-view-versus-a-copy\n",
      "  df_cleaned['brief_review'] = df_cleaned['brief_review'].apply(remove_words_with_digits)\n"
     ]
    }
   ],
   "source": [
    "# Function to remove URLs from text\n",
    "def remove_urls(text):\n",
    "    url_pattern = re.compile(r'https?://\\S+|www\\.\\S+')\n",
    "    return re.sub(url_pattern, '', text)\n",
    "\n",
    "# Function to remove words containing digits from text\n",
    "def remove_words_with_digits(text):\n",
    "    return ' '.join(word for word in text.split() if not any(char.isdigit() for char in word))\n",
    "\n",
    "# Apply the remove_urls function to the \"brief_review\" column\n",
    "df_cleaned['brief_review'] = df_cleaned['brief_review'].apply(remove_urls)\n",
    "\n",
    "# Apply the remove_words_with_digits function to the \"brief_review\" column\n",
    "df_cleaned['brief_review'] = df_cleaned['brief_review'].apply(remove_words_with_digits)\n",
    "\n"
   ]
  },
  {
   "cell_type": "markdown",
   "id": "703f4769-f644-4fb0-8ab9-295221e1432f",
   "metadata": {},
   "source": [
    "## 5. Removing Stopwords, and White spaces "
   ]
  },
  {
   "cell_type": "code",
   "execution_count": 31,
   "id": "6151c59e-2395-450a-96da-b8749e913af6",
   "metadata": {},
   "outputs": [
    {
     "name": "stderr",
     "output_type": "stream",
     "text": [
      "[nltk_data] Downloading package stopwords to\n",
      "[nltk_data]     /Users/binitkc/nltk_data...\n",
      "[nltk_data]   Package stopwords is already up-to-date!\n",
      "/var/folders/zl/sz8m1sq17kg0nb_7_b93gkn40000gn/T/ipykernel_75927/3748325818.py:20: SettingWithCopyWarning: \n",
      "A value is trying to be set on a copy of a slice from a DataFrame.\n",
      "Try using .loc[row_indexer,col_indexer] = value instead\n",
      "\n",
      "See the caveats in the documentation: https://pandas.pydata.org/pandas-docs/stable/user_guide/indexing.html#returning-a-view-versus-a-copy\n",
      "  df_cleaned['brief_review'] = df_cleaned['brief_review'].apply(remove_stopwords)\n"
     ]
    }
   ],
   "source": [
    " # Remove Stopwords\n",
    "# Download the list of stopwords if not already downloaded\n",
    "nltk.download('stopwords')\n",
    "\n",
    "# Get the list of English stopwords\n",
    "stop_words = set(stopwords.words('english'))\n",
    "\n",
    "# Add unnecessary words to the list of English stopwords\n",
    "stop_unnecessary_words = stop_words.union(set(['mr', 'people', 'would', 'year', 'said', 'say', 'also', 'wale', 'could']))\n",
    "\n",
    "\n",
    "# Function to remove stopwords from text\n",
    "def remove_stopwords(text):\n",
    "    words = text.split()\n",
    "    words = [word for word in words if len(word)>2]\n",
    "    filtered_words = [word for word in words if word.lower() not in stop_unnecessary_words]\n",
    "    return ' '.join(filtered_words)\n",
    "\n",
    "# Apply the remove_stopwords function to the \"brief_review\" column\n",
    "df_cleaned['brief_review'] = df_cleaned['brief_review'].apply(remove_stopwords)"
   ]
  },
  {
   "cell_type": "code",
   "execution_count": 32,
   "id": "84146308-30e9-4fb4-979b-6764d6654e0e",
   "metadata": {},
   "outputs": [
    {
     "name": "stderr",
     "output_type": "stream",
     "text": [
      "<>:2: SyntaxWarning: invalid escape sequence '\\s'\n",
      "<>:2: SyntaxWarning: invalid escape sequence '\\s'\n",
      "/var/folders/zl/sz8m1sq17kg0nb_7_b93gkn40000gn/T/ipykernel_75927/553858847.py:2: SyntaxWarning: invalid escape sequence '\\s'\n",
      "  df_cleaned['brief_review'] = df_cleaned['brief_review'].str.replace('\\s+', ' ', regex=True)\n",
      "/var/folders/zl/sz8m1sq17kg0nb_7_b93gkn40000gn/T/ipykernel_75927/553858847.py:2: SettingWithCopyWarning: \n",
      "A value is trying to be set on a copy of a slice from a DataFrame.\n",
      "Try using .loc[row_indexer,col_indexer] = value instead\n",
      "\n",
      "See the caveats in the documentation: https://pandas.pydata.org/pandas-docs/stable/user_guide/indexing.html#returning-a-view-versus-a-copy\n",
      "  df_cleaned['brief_review'] = df_cleaned['brief_review'].str.replace('\\s+', ' ', regex=True)\n"
     ]
    }
   ],
   "source": [
    "# Remove white spaces from the \"brief_review\" column\n",
    "df_cleaned['brief_review'] = df_cleaned['brief_review'].str.replace('\\s+', ' ', regex=True)"
   ]
  },
  {
   "cell_type": "markdown",
   "id": "eeac6250-a647-4333-aca1-d8d9ec0abddf",
   "metadata": {},
   "source": [
    "## 6. Tokenization"
   ]
  },
  {
   "cell_type": "code",
   "execution_count": 33,
   "id": "a6a30b2e-b6da-423c-8d64-06818805cfb9",
   "metadata": {},
   "outputs": [
    {
     "name": "stderr",
     "output_type": "stream",
     "text": [
      "[nltk_data] Downloading package punkt to /Users/binitkc/nltk_data...\n",
      "[nltk_data]   Package punkt is already up-to-date!\n",
      "[nltk_data] Downloading package punkt_tab to\n",
      "[nltk_data]     /Users/binitkc/nltk_data...\n",
      "[nltk_data]   Package punkt_tab is already up-to-date!\n",
      "/var/folders/zl/sz8m1sq17kg0nb_7_b93gkn40000gn/T/ipykernel_75927/3200996586.py:14: SettingWithCopyWarning: \n",
      "A value is trying to be set on a copy of a slice from a DataFrame.\n",
      "Try using .loc[row_indexer,col_indexer] = value instead\n",
      "\n",
      "See the caveats in the documentation: https://pandas.pydata.org/pandas-docs/stable/user_guide/indexing.html#returning-a-view-versus-a-copy\n",
      "  df_cleaned['tokenized_content'] = df_cleaned['brief_review'].apply(tokenize_text)\n"
     ]
    }
   ],
   "source": [
    "# Tokenization\n",
    "\n",
    "# Download the punkt package\n",
    "nltk.download('punkt')\n",
    "# Download the punkt_tab resource as well\n",
    "nltk.download('punkt_tab')\n",
    "\n",
    "# Function to tokenize text\n",
    "def tokenize_text(text):\n",
    "    tokens = word_tokenize(text)\n",
    "    return tokens\n",
    "\n",
    "# Apply the tokenize_text function to the \"brief_review\" column\n",
    "df_cleaned['tokenized_content'] = df_cleaned['brief_review'].apply(tokenize_text)\n"
   ]
  },
  {
   "cell_type": "code",
   "execution_count": 34,
   "id": "5bf31dce-4b7c-4a3a-9aac-a3b9b99fab88",
   "metadata": {},
   "outputs": [
    {
     "data": {
      "text/html": [
       "<div>\n",
       "<style scoped>\n",
       "    .dataframe tbody tr th:only-of-type {\n",
       "        vertical-align: middle;\n",
       "    }\n",
       "\n",
       "    .dataframe tbody tr th {\n",
       "        vertical-align: top;\n",
       "    }\n",
       "\n",
       "    .dataframe thead th {\n",
       "        text-align: right;\n",
       "    }\n",
       "</style>\n",
       "<table border=\"1\" class=\"dataframe\">\n",
       "  <thead>\n",
       "    <tr style=\"text-align: right;\">\n",
       "      <th></th>\n",
       "      <th>unique_identifier</th>\n",
       "      <th>score</th>\n",
       "      <th>brief_review</th>\n",
       "      <th>tokenized_content</th>\n",
       "    </tr>\n",
       "  </thead>\n",
       "  <tbody>\n",
       "    <tr>\n",
       "      <th>0</th>\n",
       "      <td>/cellphones/samsung-galaxy-s8/</td>\n",
       "      <td>10.0</td>\n",
       "      <td>diehard samsung fan every samsung phone since ...</td>\n",
       "      <td>[diehard, samsung, fan, every, samsung, phone,...</td>\n",
       "    </tr>\n",
       "    <tr>\n",
       "      <th>1</th>\n",
       "      <td>/cellphones/samsung-galaxy-s8/</td>\n",
       "      <td>10.0</td>\n",
       "      <td>love phone phone sleek smooth beautiful highly...</td>\n",
       "      <td>[love, phone, phone, sleek, smooth, beautiful,...</td>\n",
       "    </tr>\n",
       "    <tr>\n",
       "      <th>2</th>\n",
       "      <td>/cellphones/samsung-galaxy-s8/</td>\n",
       "      <td>6.0</td>\n",
       "      <td>adequate feel nice heft processors still slugg...</td>\n",
       "      <td>[adequate, feel, nice, heft, processors, still...</td>\n",
       "    </tr>\n",
       "    <tr>\n",
       "      <th>3</th>\n",
       "      <td>/cellphones/samsung-galaxy-s8/</td>\n",
       "      <td>9.2</td>\n",
       "      <td>never disappointed one reasons long samsung pr...</td>\n",
       "      <td>[never, disappointed, one, reasons, long, sams...</td>\n",
       "    </tr>\n",
       "    <tr>\n",
       "      <th>4</th>\n",
       "      <td>/cellphones/samsung-galaxy-s8/</td>\n",
       "      <td>4.0</td>\n",
       "      <td>found group carried phone pocket without probl...</td>\n",
       "      <td>[found, group, carried, phone, pocket, without...</td>\n",
       "    </tr>\n",
       "  </tbody>\n",
       "</table>\n",
       "</div>"
      ],
      "text/plain": [
       "                unique_identifier  score  \\\n",
       "0  /cellphones/samsung-galaxy-s8/   10.0   \n",
       "1  /cellphones/samsung-galaxy-s8/   10.0   \n",
       "2  /cellphones/samsung-galaxy-s8/    6.0   \n",
       "3  /cellphones/samsung-galaxy-s8/    9.2   \n",
       "4  /cellphones/samsung-galaxy-s8/    4.0   \n",
       "\n",
       "                                        brief_review  \\\n",
       "0  diehard samsung fan every samsung phone since ...   \n",
       "1  love phone phone sleek smooth beautiful highly...   \n",
       "2  adequate feel nice heft processors still slugg...   \n",
       "3  never disappointed one reasons long samsung pr...   \n",
       "4  found group carried phone pocket without probl...   \n",
       "\n",
       "                                   tokenized_content  \n",
       "0  [diehard, samsung, fan, every, samsung, phone,...  \n",
       "1  [love, phone, phone, sleek, smooth, beautiful,...  \n",
       "2  [adequate, feel, nice, heft, processors, still...  \n",
       "3  [never, disappointed, one, reasons, long, sams...  \n",
       "4  [found, group, carried, phone, pocket, without...  "
      ]
     },
     "execution_count": 34,
     "metadata": {},
     "output_type": "execute_result"
    }
   ],
   "source": [
    "df_cleaned.head()"
   ]
  },
  {
   "cell_type": "markdown",
   "id": "986b9865-3c5c-433a-8648-997d722bd583",
   "metadata": {},
   "source": [
    "## 7. Text Normalization (Stemming, Lemmatization)"
   ]
  },
  {
   "cell_type": "markdown",
   "id": "a4bdbfaa-99f2-4933-9a77-e7f442b6e514",
   "metadata": {},
   "source": [
    "### 7.1 Stemming"
   ]
  },
  {
   "cell_type": "code",
   "execution_count": 35,
   "id": "4819278a-7896-41ba-b10e-217d19c17cdb",
   "metadata": {},
   "outputs": [
    {
     "name": "stderr",
     "output_type": "stream",
     "text": [
      "/var/folders/zl/sz8m1sq17kg0nb_7_b93gkn40000gn/T/ipykernel_75927/3778423393.py:10: SettingWithCopyWarning: \n",
      "A value is trying to be set on a copy of a slice from a DataFrame.\n",
      "Try using .loc[row_indexer,col_indexer] = value instead\n",
      "\n",
      "See the caveats in the documentation: https://pandas.pydata.org/pandas-docs/stable/user_guide/indexing.html#returning-a-view-versus-a-copy\n",
      "  df_cleaned['stemmed_content'] = df_cleaned['tokenized_content'].apply(stem_text)\n"
     ]
    }
   ],
   "source": [
    "# Initialize the stemmer\n",
    "stemmer = PorterStemmer()\n",
    "\n",
    "# Function to perform stemming on text\n",
    "def stem_text(tokens):\n",
    "    stemmed_tokens = [stemmer.stem(token) for token in tokens]\n",
    "    return stemmed_tokens\n",
    "\n",
    "# Apply the stem_text function to the \"tokenized_content\" column\n",
    "df_cleaned['stemmed_content'] = df_cleaned['tokenized_content'].apply(stem_text)"
   ]
  },
  {
   "cell_type": "markdown",
   "id": "5f015ada-ac98-4748-8a07-59f92b4c778c",
   "metadata": {},
   "source": [
    "### 7.2 Lemmatization"
   ]
  },
  {
   "cell_type": "code",
   "execution_count": 36,
   "id": "38e43551-5301-4336-9320-5da2cad0adcc",
   "metadata": {},
   "outputs": [
    {
     "name": "stderr",
     "output_type": "stream",
     "text": [
      "[nltk_data] Downloading package wordnet to /Users/binitkc/nltk_data...\n",
      "[nltk_data]   Package wordnet is already up-to-date!\n",
      "/var/folders/zl/sz8m1sq17kg0nb_7_b93gkn40000gn/T/ipykernel_75927/522873989.py:11: SettingWithCopyWarning: \n",
      "A value is trying to be set on a copy of a slice from a DataFrame.\n",
      "Try using .loc[row_indexer,col_indexer] = value instead\n",
      "\n",
      "See the caveats in the documentation: https://pandas.pydata.org/pandas-docs/stable/user_guide/indexing.html#returning-a-view-versus-a-copy\n",
      "  df_cleaned['lemmatized_content'] = df_cleaned['tokenized_content'].apply(lemmatize_text)\n"
     ]
    }
   ],
   "source": [
    "nltk.download('wordnet')\n",
    "# Initialize the lemmatizer\n",
    "lemmatizer = WordNetLemmatizer()\n",
    "\n",
    "# Function to perform lemmatization on text\n",
    "def lemmatize_text(tokens):\n",
    "    lemmatized_tokens = [lemmatizer.lemmatize(token) for token in tokens]\n",
    "    return lemmatized_tokens\n",
    "\n",
    "# Apply the lemmatize_text function to the \"tokenized_content\" column\n",
    "df_cleaned['lemmatized_content'] = df_cleaned['tokenized_content'].apply(lemmatize_text)"
   ]
  },
  {
   "cell_type": "code",
   "execution_count": 37,
   "id": "3e7531e6-2cd0-4df2-8cfd-f6ba74b07b24",
   "metadata": {},
   "outputs": [
    {
     "data": {
      "text/html": [
       "<div>\n",
       "<style scoped>\n",
       "    .dataframe tbody tr th:only-of-type {\n",
       "        vertical-align: middle;\n",
       "    }\n",
       "\n",
       "    .dataframe tbody tr th {\n",
       "        vertical-align: top;\n",
       "    }\n",
       "\n",
       "    .dataframe thead th {\n",
       "        text-align: right;\n",
       "    }\n",
       "</style>\n",
       "<table border=\"1\" class=\"dataframe\">\n",
       "  <thead>\n",
       "    <tr style=\"text-align: right;\">\n",
       "      <th></th>\n",
       "      <th>unique_identifier</th>\n",
       "      <th>score</th>\n",
       "      <th>brief_review</th>\n",
       "      <th>tokenized_content</th>\n",
       "      <th>stemmed_content</th>\n",
       "      <th>lemmatized_content</th>\n",
       "    </tr>\n",
       "  </thead>\n",
       "  <tbody>\n",
       "    <tr>\n",
       "      <th>0</th>\n",
       "      <td>/cellphones/samsung-galaxy-s8/</td>\n",
       "      <td>10.0</td>\n",
       "      <td>diehard samsung fan every samsung phone since ...</td>\n",
       "      <td>[diehard, samsung, fan, every, samsung, phone,...</td>\n",
       "      <td>[diehard, samsung, fan, everi, samsung, phone,...</td>\n",
       "      <td>[diehard, samsung, fan, every, samsung, phone,...</td>\n",
       "    </tr>\n",
       "    <tr>\n",
       "      <th>1</th>\n",
       "      <td>/cellphones/samsung-galaxy-s8/</td>\n",
       "      <td>10.0</td>\n",
       "      <td>love phone phone sleek smooth beautiful highly...</td>\n",
       "      <td>[love, phone, phone, sleek, smooth, beautiful,...</td>\n",
       "      <td>[love, phone, phone, sleek, smooth, beauti, hi...</td>\n",
       "      <td>[love, phone, phone, sleek, smooth, beautiful,...</td>\n",
       "    </tr>\n",
       "    <tr>\n",
       "      <th>2</th>\n",
       "      <td>/cellphones/samsung-galaxy-s8/</td>\n",
       "      <td>6.0</td>\n",
       "      <td>adequate feel nice heft processors still slugg...</td>\n",
       "      <td>[adequate, feel, nice, heft, processors, still...</td>\n",
       "      <td>[adequ, feel, nice, heft, processor, still, sl...</td>\n",
       "      <td>[adequate, feel, nice, heft, processor, still,...</td>\n",
       "    </tr>\n",
       "    <tr>\n",
       "      <th>3</th>\n",
       "      <td>/cellphones/samsung-galaxy-s8/</td>\n",
       "      <td>9.2</td>\n",
       "      <td>never disappointed one reasons long samsung pr...</td>\n",
       "      <td>[never, disappointed, one, reasons, long, sams...</td>\n",
       "      <td>[never, disappoint, one, reason, long, samsung...</td>\n",
       "      <td>[never, disappointed, one, reason, long, samsu...</td>\n",
       "    </tr>\n",
       "    <tr>\n",
       "      <th>4</th>\n",
       "      <td>/cellphones/samsung-galaxy-s8/</td>\n",
       "      <td>4.0</td>\n",
       "      <td>found group carried phone pocket without probl...</td>\n",
       "      <td>[found, group, carried, phone, pocket, without...</td>\n",
       "      <td>[found, group, carri, phone, pocket, without, ...</td>\n",
       "      <td>[found, group, carried, phone, pocket, without...</td>\n",
       "    </tr>\n",
       "  </tbody>\n",
       "</table>\n",
       "</div>"
      ],
      "text/plain": [
       "                unique_identifier  score  \\\n",
       "0  /cellphones/samsung-galaxy-s8/   10.0   \n",
       "1  /cellphones/samsung-galaxy-s8/   10.0   \n",
       "2  /cellphones/samsung-galaxy-s8/    6.0   \n",
       "3  /cellphones/samsung-galaxy-s8/    9.2   \n",
       "4  /cellphones/samsung-galaxy-s8/    4.0   \n",
       "\n",
       "                                        brief_review  \\\n",
       "0  diehard samsung fan every samsung phone since ...   \n",
       "1  love phone phone sleek smooth beautiful highly...   \n",
       "2  adequate feel nice heft processors still slugg...   \n",
       "3  never disappointed one reasons long samsung pr...   \n",
       "4  found group carried phone pocket without probl...   \n",
       "\n",
       "                                   tokenized_content  \\\n",
       "0  [diehard, samsung, fan, every, samsung, phone,...   \n",
       "1  [love, phone, phone, sleek, smooth, beautiful,...   \n",
       "2  [adequate, feel, nice, heft, processors, still...   \n",
       "3  [never, disappointed, one, reasons, long, sams...   \n",
       "4  [found, group, carried, phone, pocket, without...   \n",
       "\n",
       "                                     stemmed_content  \\\n",
       "0  [diehard, samsung, fan, everi, samsung, phone,...   \n",
       "1  [love, phone, phone, sleek, smooth, beauti, hi...   \n",
       "2  [adequ, feel, nice, heft, processor, still, sl...   \n",
       "3  [never, disappoint, one, reason, long, samsung...   \n",
       "4  [found, group, carri, phone, pocket, without, ...   \n",
       "\n",
       "                                  lemmatized_content  \n",
       "0  [diehard, samsung, fan, every, samsung, phone,...  \n",
       "1  [love, phone, phone, sleek, smooth, beautiful,...  \n",
       "2  [adequate, feel, nice, heft, processor, still,...  \n",
       "3  [never, disappointed, one, reason, long, samsu...  \n",
       "4  [found, group, carried, phone, pocket, without...  "
      ]
     },
     "execution_count": 37,
     "metadata": {},
     "output_type": "execute_result"
    }
   ],
   "source": [
    "df_cleaned.head()"
   ]
  },
  {
   "cell_type": "code",
   "execution_count": 38,
   "id": "903f5cf9-f75d-4dc2-a986-5228cfc1bdfa",
   "metadata": {},
   "outputs": [
    {
     "data": {
      "text/plain": [
       "['diehard',\n",
       " 'samsung',\n",
       " 'fan',\n",
       " 'everi',\n",
       " 'samsung',\n",
       " 'phone',\n",
       " 'sinc',\n",
       " 'seri',\n",
       " 'start',\n",
       " 'favorit',\n",
       " 'upgrad',\n",
       " 'far',\n",
       " 'amaz',\n",
       " 'review',\n",
       " 'think',\n",
       " 'may',\n",
       " 'defect',\n",
       " 'devic',\n",
       " 'need',\n",
       " 'replac',\n",
       " 'batteri',\n",
       " 'life',\n",
       " 'amaz']"
      ]
     },
     "execution_count": 38,
     "metadata": {},
     "output_type": "execute_result"
    }
   ],
   "source": [
    "df_cleaned.stemmed_content[0]"
   ]
  },
  {
   "cell_type": "code",
   "execution_count": 39,
   "id": "9013957b-11f8-4b8e-b600-d8502d732da6",
   "metadata": {},
   "outputs": [
    {
     "data": {
      "text/plain": [
       "['diehard',\n",
       " 'samsung',\n",
       " 'fan',\n",
       " 'every',\n",
       " 'samsung',\n",
       " 'phone',\n",
       " 'since',\n",
       " 'series',\n",
       " 'started',\n",
       " 'favorite',\n",
       " 'upgrade',\n",
       " 'far',\n",
       " 'amazed',\n",
       " 'review',\n",
       " 'think',\n",
       " 'may',\n",
       " 'defective',\n",
       " 'device',\n",
       " 'need',\n",
       " 'replaced',\n",
       " 'battery',\n",
       " 'life',\n",
       " 'amazing']"
      ]
     },
     "execution_count": 39,
     "metadata": {},
     "output_type": "execute_result"
    }
   ],
   "source": [
    "df_cleaned.lemmatized_content[0]\n"
   ]
  },
  {
   "cell_type": "code",
   "execution_count": 40,
   "id": "177e91cd-39bd-49a2-b616-3a3cf3001dae",
   "metadata": {},
   "outputs": [],
   "source": [
    "# we can see that the lemmatized contents are better than the stemmed contents. "
   ]
  },
  {
   "cell_type": "markdown",
   "id": "608b3114-bc59-44c2-b62b-c79ab466a184",
   "metadata": {},
   "source": [
    "## 8. POS Tagging"
   ]
  },
  {
   "cell_type": "code",
   "execution_count": 41,
   "id": "3a73d254-5a78-497c-957f-49e0fb85bd00",
   "metadata": {},
   "outputs": [],
   "source": [
    "# # Download required NLTK packages\n",
    "# nltk.download('averaged_perceptron_tagger')\n",
    "# nltk.download('punkt')  # Ensure the punkt package is also downloaded\n",
    "\n",
    "# # Function to perform POS tagging on text\n",
    "# def pos_tagging(tokens):\n",
    "#     pos_tags = pos_tag(tokens)\n",
    "#     return pos_tags\n",
    "\n",
    "# # Assuming df_cleaned['lemmatized_content'] contains tokenized text\n",
    "# df_cleaned['pos_tags'] = df_cleaned['lemmatized_content'].apply(pos_tagging)\n"
   ]
  },
  {
   "cell_type": "markdown",
   "id": "22bb2698-feef-4bff-a1ad-a4764a35756b",
   "metadata": {},
   "source": [
    "## 9. Text Vectorization"
   ]
  },
  {
   "cell_type": "code",
   "execution_count": 42,
   "id": "71bea793-41b7-4532-97f5-d1042d9a7a2b",
   "metadata": {},
   "outputs": [
    {
     "name": "stdout",
     "output_type": "stream",
     "text": [
      "\n",
      "\n",
      "\n",
      "\n",
      "Shape of the vectorized matrix: (999, 977)\n"
     ]
    }
   ],
   "source": [
    "\n",
    "# Vectorizing Text\n",
    "\n",
    "\n",
    "# Convert the list of lemmatized tokens into strings\n",
    "lemmatized_text = [' '.join(tokens) for tokens in df_cleaned['lemmatized_content']]\n",
    "\n",
    "# Initialize a CountVectorizer\n",
    "vectorizer = CountVectorizer(max_df=0.95, min_df=2, stop_words='english')\n",
    "\n",
    "# Fit and transform the lemmatized text data\n",
    "tfidf_matrix = vectorizer.fit_transform(lemmatized_text)\n",
    "\n",
    "print('\\n')\n",
    "print('\\n')\n",
    "# Display the shape of the resulting matrix\n",
    "print(\"Shape of the vectorized matrix:\", tfidf_matrix.shape)\n",
    "     "
   ]
  },
  {
   "cell_type": "code",
   "execution_count": null,
   "id": "315546a3-954a-40c5-a38f-3a3e4b3d0f51",
   "metadata": {},
   "outputs": [],
   "source": []
  },
  {
   "cell_type": "code",
   "execution_count": null,
   "id": "1a09578e-b9f8-46d6-85a2-7a82f3d810b6",
   "metadata": {},
   "outputs": [],
   "source": []
  },
  {
   "cell_type": "markdown",
   "id": "ad84086e-4232-4558-842d-f87f6d65b093",
   "metadata": {},
   "source": [
    "# ML model Implementation -LDA Model"
   ]
  },
  {
   "cell_type": "code",
   "execution_count": 43,
   "id": "79701fa1-7d16-4ed4-bea3-26584bac2de2",
   "metadata": {},
   "outputs": [
    {
     "name": "stdout",
     "output_type": "stream",
     "text": [
      "\n",
      "\n",
      "\n",
      "\n",
      "Coherence Score: 0.3201\n",
      "\n",
      "\n",
      "Topic 0: 0.067*\"love\" + 0.057*\"samsung\" + 0.053*\"phone\" + 0.044*\"edge\" + 0.033*\"galaxy\" + 0.022*\"feature\" + 0.021*\"product\" + 0.018*\"plus\" + 0.015*\"new\" + 0.014*\"great\"\n",
      "\n",
      "\n",
      "Topic 1: 0.098*\"phone\" + 0.034*\"love\" + 0.027*\"great\" + 0.021*\"one\" + 0.017*\"everything\" + 0.017*\"best\" + 0.015*\"battery\" + 0.015*\"get\" + 0.015*\"camera\" + 0.015*\"screen\"\n",
      "\n",
      "\n",
      "Topic 2: 0.095*\"phone\" + 0.045*\"great\" + 0.028*\"edge\" + 0.022*\"feature\" + 0.018*\"best\" + 0.018*\"screen\" + 0.016*\"like\" + 0.016*\"samsung\" + 0.011*\"far\" + 0.009*\"much\"\n",
      "\n",
      "\n",
      "Topic 3: 0.058*\"phone\" + 0.024*\"device\" + 0.022*\"love\" + 0.021*\"samsung\" + 0.020*\"iphone\" + 0.016*\"camera\" + 0.016*\"user\" + 0.014*\"screen\" + 0.012*\"battery\" + 0.012*\"picture\"\n",
      "\n",
      "\n",
      "Topic 4: 0.065*\"phone\" + 0.031*\"good\" + 0.025*\"screen\" + 0.023*\"love\" + 0.022*\"battery\" + 0.022*\"use\" + 0.014*\"like\" + 0.014*\"little\" + 0.012*\"time\" + 0.011*\"still\"\n"
     ]
    }
   ],
   "source": [
    "# ML Model - 1 Implementation\n",
    "\n",
    "# Convert the list of lemmatized tokens into a list of lists\n",
    "lemmatized_text = [tokens for tokens in df_cleaned['lemmatized_content']]\n",
    "\n",
    "# Create a dictionary of terms with term frequency filtering\n",
    "dictionary = corpora.Dictionary(lemmatized_text)\n",
    "dictionary.filter_extremes(no_below=3, no_above=0.85)\n",
    "\n",
    "# Fit the Algorithm\n",
    "\n",
    "# Create a Gensim corpus\n",
    "corpus_gensim = [dictionary.doc2bow(text) for text in lemmatized_text]\n",
    "\n",
    "# Build LDA model\n",
    "num_topics = 5\n",
    "lda_model = LdaModel(corpus_gensim, num_topics=num_topics, id2word=dictionary, passes=20, random_state= 40)\n",
    "\n",
    "print('\\n')\n",
    "print('\\n')\n",
    "# Calculate coherence score\n",
    "coherence_model = CoherenceModel(model=lda_model, texts=lemmatized_text, dictionary=dictionary, coherence='c_v')\n",
    "coherence_score = coherence_model.get_coherence()\n",
    "\n",
    "# Print coherence score\n",
    "print(f\"Coherence Score: {coherence_score:.4f}\")\n",
    "\n",
    "\n",
    "# Print topics and associated words\n",
    "for topic_id, topic_words in lda_model.print_topics():\n",
    "    print('\\n')\n",
    "    print(f\"Topic {topic_id}: {topic_words}\")"
   ]
  },
  {
   "cell_type": "code",
   "execution_count": 44,
   "id": "2f8d138b-a15a-4793-8911-68508e345ce8",
   "metadata": {},
   "outputs": [
    {
     "name": "stderr",
     "output_type": "stream",
     "text": [
      "/Users/binitkc/pytorch_Tutorial/venv/lib/python3.12/site-packages/joblib/externals/loky/backend/fork_exec.py:38: DeprecationWarning: This process (pid=75927) is multi-threaded, use of fork() may lead to deadlocks in the child.\n",
      "  pid = os.fork()\n",
      "/Users/binitkc/pytorch_Tutorial/venv/lib/python3.12/site-packages/joblib/externals/loky/backend/fork_exec.py:38: DeprecationWarning: This process (pid=75927) is multi-threaded, use of fork() may lead to deadlocks in the child.\n",
      "  pid = os.fork()\n",
      "/Users/binitkc/pytorch_Tutorial/venv/lib/python3.12/site-packages/joblib/externals/loky/backend/fork_exec.py:38: DeprecationWarning: This process (pid=75927) is multi-threaded, use of fork() may lead to deadlocks in the child.\n",
      "  pid = os.fork()\n",
      "/Users/binitkc/pytorch_Tutorial/venv/lib/python3.12/site-packages/joblib/externals/loky/backend/fork_exec.py:38: DeprecationWarning: This process (pid=75927) is multi-threaded, use of fork() may lead to deadlocks in the child.\n",
      "  pid = os.fork()\n",
      "/Users/binitkc/pytorch_Tutorial/venv/lib/python3.12/site-packages/joblib/externals/loky/backend/fork_exec.py:38: DeprecationWarning: This process (pid=75927) is multi-threaded, use of fork() may lead to deadlocks in the child.\n",
      "  pid = os.fork()\n",
      "/Users/binitkc/pytorch_Tutorial/venv/lib/python3.12/site-packages/joblib/externals/loky/backend/fork_exec.py:38: DeprecationWarning: This process (pid=75927) is multi-threaded, use of fork() may lead to deadlocks in the child.\n",
      "  pid = os.fork()\n",
      "/Users/binitkc/pytorch_Tutorial/venv/lib/python3.12/site-packages/joblib/externals/loky/backend/fork_exec.py:38: DeprecationWarning: This process (pid=75927) is multi-threaded, use of fork() may lead to deadlocks in the child.\n",
      "  pid = os.fork()\n",
      "/Users/binitkc/pytorch_Tutorial/venv/lib/python3.12/site-packages/joblib/externals/loky/backend/fork_exec.py:38: DeprecationWarning: This process (pid=75927) is multi-threaded, use of fork() may lead to deadlocks in the child.\n",
      "  pid = os.fork()\n",
      "/Users/binitkc/pytorch_Tutorial/venv/lib/python3.12/site-packages/joblib/externals/loky/backend/fork_exec.py:38: DeprecationWarning: This process (pid=75927) is multi-threaded, use of fork() may lead to deadlocks in the child.\n",
      "  pid = os.fork()\n"
     ]
    },
    {
     "data": {
      "text/html": [
       "\n",
       "<link rel=\"stylesheet\" type=\"text/css\" href=\"https://cdn.jsdelivr.net/gh/bmabey/pyLDAvis@3.4.0/pyLDAvis/js/ldavis.v1.0.0.css\">\n",
       "\n",
       "\n",
       "<div id=\"ldavis_el75927132301772326757608364\" style=\"background-color:white;\"></div>\n",
       "<script type=\"text/javascript\">\n",
       "\n",
       "var ldavis_el75927132301772326757608364_data = {\"mdsDat\": {\"x\": [-0.035389336062016094, -0.08434693342716428, -0.011375732957076052, -0.029274150540909573, 0.1603861529871661], \"y\": [0.00479151412617155, -0.09951692516098229, -0.020124214143320426, 0.14169331008266683, -0.026843684904535727], \"topics\": [1, 2, 3, 4, 5], \"cluster\": [1, 1, 1, 1, 1], \"Freq\": [32.944633582624036, 23.874281120960156, 18.981629157773813, 14.273638448302748, 9.925817690339244]}, \"tinfo\": {\"Term\": [\"samsung\", \"love\", \"edge\", \"good\", \"great\", \"device\", \"phone\", \"battery\", \"best\", \"iphone\", \"ever\", \"galaxy\", \"plus\", \"product\", \"little\", \"user\", \"use\", \"recommend\", \"everything\", \"display\", \"feature\", \"screen\", \"camera\", \"can\", \"not\", \"quality\", \"problem\", \"one\", \"get\", \"excellent\", \"worried\", \"version\", \"ton\", \"money\", \"experience\", \"superb\", \"sensitive\", \"series\", \"cover\", \"item\", \"idea\", \"interface\", \"waited\", \"key\", \"premium\", \"biggest\", \"job\", \"wait\", \"added\", \"accessory\", \"flaw\", \"recognition\", \"face\", \"sim\", \"definition\", \"beauty\", \"load\", \"unfortunately\", \"drain\", \"built\", \"overall\", \"lack\", \"fit\", \"actually\", \"great\", \"wish\", \"though\", \"far\", \"enough\", \"best\", \"much\", \"loving\", \"come\", \"phone\", \"feature\", \"like\", \"keep\", \"edge\", \"note\", \"glass\", \"case\", \"ever\", \"screen\", \"high\", \"can\", \"not\", \"nice\", \"got\", \"thing\", \"last\", \"feel\", \"look\", \"apps\", \"samsung\", \"amazing\", \"fast\", \"life\", \"really\", \"make\", \"one\", \"design\", \"good\", \"galaxy\", \"battery\", \"camera\", \"charging\", \"gold\", \"upgrading\", \"removable\", \"style\", \"knew\", \"needed\", \"anyone\", \"loud\", \"taken\", \"went\", \"single\", \"wireless\", \"stepped\", \"vivid\", \"literally\", \"stick\", \"froze\", \"fix\", \"immediately\", \"bigger\", \"always\", \"family\", \"computer\", \"going\", \"watch\", \"entire\", \"personal\", \"reliable\", \"friend\", \"recommend\", \"plus\", \"product\", \"galaxy\", \"samsung\", \"love\", \"pay\", \"edge\", \"miss\", \"better\", \"new\", \"feature\", \"color\", \"thought\", \"size\", \"phone\", \"lot\", \"back\", \"easy\", \"really\", \"issue\", \"camera\", \"great\", \"amazing\", \"use\", \"every\", \"get\", \"design\", \"fast\", \"awesome\", \"screen\", \"picture\", \"one\", \"brand\", \"wife\", \"wifi\", \"okay\", \"making\", \"error\", \"application\", \"cellphone\", \"dy\", \"unlocked\", \"looked\", \"hassle\", \"warm\", \"droid\", \"maybe\", \"fairly\", \"incredibly\", \"purchasing\", \"mail\", \"worst\", \"stuff\", \"theme\", \"person\", \"trying\", \"window\", \"handle\", \"long\", \"stunning\", \"free\", \"owning\", \"several\", \"everyone\", \"everything\", \"one\", \"get\", \"ever\", \"phone\", \"never\", \"sleek\", \"processor\", \"best\", \"awesome\", \"cell\", \"make\", \"easy\", \"life\", \"battery\", \"owned\", \"love\", \"camera\", \"need\", \"great\", \"size\", \"use\", \"work\", \"picture\", \"screen\", \"like\", \"amazing\", \"take\", \"used\", \"fast\", \"product\", \"samsung\", \"design\", \"far\", \"incredible\", \"little\", \"included\", \"doubt\", \"together\", \"bad\", \"performs\", \"response\", \"happier\", \"two\", \"navigate\", \"etc\", \"blown\", \"fingerprint\", \"play\", \"improved\", \"husband\", \"gear\", \"large\", \"speaker\", \"proof\", \"compared\", \"usage\", \"mine\", \"couple\", \"able\", \"instead\", \"charge\", \"already\", \"negative\", \"water\", \"option\", \"good\", \"although\", \"hour\", \"protector\", \"away\", \"still\", \"hard\", \"use\", \"upgrade\", \"battery\", \"can\", \"not\", \"display\", \"different\", \"screen\", \"phone\", \"lot\", \"time\", \"without\", \"like\", \"love\", \"fast\", \"day\", \"life\", \"thing\", \"easy\", \"really\", \"feature\", \"everything\", \"edge\", \"amazing\", \"galaxy\", \"longer\", \"end\", \"ordered\", \"streaming\", \"reason\", \"piece\", \"main\", \"viewing\", \"superior\", \"pre\", \"considering\", \"dual\", \"expect\", \"friendly\", \"power\", \"switching\", \"regret\", \"user\", \"outstanding\", \"gotten\", \"allows\", \"medium\", \"delivery\", \"received\", \"switched\", \"sometimes\", \"operating\", \"future\", \"order\", \"social\", \"system\", \"taking\", \"iphone\", \"device\", \"fantastic\", \"excellent\", \"problem\", \"performance\", \"quality\", \"bought\", \"phone\", \"yet\", \"display\", \"camera\", \"picture\", \"samsung\", \"design\", \"love\", \"way\", \"battery\", \"day\", \"beautiful\", \"screen\", \"amazing\", \"happy\", \"awesome\", \"work\", \"well\", \"good\", \"really\", \"better\", \"use\"], \"Freq\": [297.0, 372.0, 270.0, 106.0, 304.0, 71.0, 978.0, 121.0, 124.0, 57.0, 68.0, 155.0, 79.0, 96.0, 29.0, 30.0, 117.0, 55.0, 79.0, 41.0, 180.0, 195.0, 123.0, 39.0, 39.0, 44.0, 40.0, 112.0, 76.0, 28.0, 8.43310169685288, 7.550901418433046, 7.547856991706256, 6.6247223789032, 5.7104264711491775, 5.708915866657954, 5.693492512573046, 5.61356010694409, 5.591836521191494, 4.789272138457254, 4.786490846166336, 4.781035643652079, 4.780305735814341, 4.779598562017938, 4.7669352172916355, 4.766873303306725, 12.695099828718936, 17.898814508109425, 3.8685359670149833, 3.8665965598079506, 3.8665885787083334, 3.8665982527684757, 3.8665864020448013, 3.8659779036618493, 3.8639245843966408, 3.861939467255436, 3.8613360477540586, 3.861472693853569, 3.8565493227956367, 3.8389792947651484, 29.240106044985282, 8.266822983720607, 18.130639815736014, 7.388074409959552, 187.56849467996742, 19.726410862828825, 12.533114463477826, 47.535425451712044, 7.228123015863365, 74.75117636755523, 38.11926027428644, 4.55694281229725, 22.89968833146574, 394.9892133097266, 91.45555401801222, 68.2690917173115, 15.563047513361873, 115.02477631268007, 24.459348046859287, 12.724065899597083, 17.964799337528188, 35.77123431052653, 72.75576602635897, 11.033194004275158, 21.671756007976533, 21.67146965579632, 26.88142507138462, 23.547349244686057, 25.003479103248484, 17.774491226408394, 22.51358498231343, 28.194593603975814, 25.9822734210804, 66.71142872793133, 34.69002265277987, 31.296416529589496, 26.379767008644283, 30.641869620359873, 22.57792135188394, 30.549302408482035, 26.987762340469043, 28.31650417507735, 28.714019045573544, 26.61481958273435, 26.668539638704672, 22.027285080882372, 6.930825092709384, 6.916672820027521, 5.9340738045725, 6.752081054477558, 5.009715944579829, 5.005359916130394, 19.160372686058896, 4.043612841157516, 4.039180747835341, 14.490933124941655, 4.030085211808467, 10.352034483709796, 3.0827455948969638, 3.081454945765973, 3.0753238365997158, 3.073112697349773, 3.0508870322765524, 3.017686643237501, 6.767830338957573, 6.6139360286437805, 29.944714337599386, 6.341051019251738, 4.853122558136588, 8.88894032722051, 8.142539917559084, 4.045957882625829, 4.730414495116418, 4.0216052053508555, 10.563560028386556, 37.921380253182335, 53.30114789095945, 61.99147757751792, 98.18752704594365, 172.68565129025873, 200.45362312368547, 10.47953253053632, 131.60578551016408, 9.649443935452357, 41.90454640809744, 45.07869358714791, 67.02542141091791, 16.588448981480806, 8.23525633736994, 22.327265309320403, 158.9619161834087, 18.549249972005416, 16.86454974728993, 32.27287711581028, 31.60214057329148, 14.975833018007433, 29.188504714118935, 42.727785659341215, 25.219743914089, 25.67992728039638, 15.834391608316563, 20.521134701129142, 20.866358456084072, 21.416711996877073, 18.198133117324737, 25.773557880797576, 19.15014283699892, 17.682515634729633, 12.322710792336778, 5.791093720051123, 5.697523330524366, 4.851155905815974, 4.849096914680342, 3.915474863454895, 3.9079445520736336, 3.8970523551930327, 2.9888352112429977, 2.9861761919651064, 2.9848147718652744, 2.9846701296888543, 2.9829497517407964, 2.980933958172304, 2.976736826810283, 2.9741101360342515, 2.972066751761586, 2.9500284677832, 2.945855304103592, 2.8973614365393803, 6.4616392430723435, 5.29611648719387, 6.61680211729578, 3.913882127350383, 3.8269638844690492, 3.7273909839678443, 12.76451655784362, 4.861069608127381, 4.8507936036399695, 2.9852852073061173, 5.31361679707081, 9.87622688909741, 41.81597182444596, 50.89513504110955, 36.08077296933287, 32.29468401636064, 234.6679664437965, 18.403256081617286, 16.53107129226162, 8.46972636558709, 40.874623818664205, 24.74250742008348, 7.119455697180622, 20.153719602370654, 31.605716821159504, 25.15957630778867, 36.824295068808794, 12.4125840275044, 81.14202473124128, 35.96352083741858, 19.562883902398188, 65.37954796381102, 19.248934017415344, 29.892107792525234, 20.25729789277458, 22.333204638309578, 35.20737278580288, 26.288224505581372, 22.518714500183105, 16.48373121778099, 13.473748149830632, 20.255469660255663, 20.057984875383244, 30.715532571285134, 18.747184520806623, 16.755450046352827, 8.944912209602291, 25.653217035638153, 3.109360794684342, 3.086003396887276, 3.085447617651378, 7.646204510759889, 3.7797535706783467, 3.7014964173183533, 5.852581689445405, 13.157200761048708, 4.088258409387512, 4.084864635275092, 4.046618976363135, 6.741948340835658, 6.714340447389086, 2.623682463246281, 2.606368850284839, 5.193445538676818, 13.65079643176015, 9.98244641982137, 3.1070113071226313, 3.0800004781719394, 3.0997465683547514, 3.064984589019845, 4.903484697504495, 11.582336167757267, 3.033983550170395, 17.462152716320475, 4.088664974891903, 4.086118701243273, 7.517134633005328, 9.720200771857602, 54.92558127438996, 6.791610107627076, 7.742845550293139, 9.858988822586175, 6.011471679958055, 20.59659168682072, 8.48836429655379, 39.123377671216815, 12.772561292396283, 39.664872626301154, 16.27709055444752, 16.276056117679648, 16.1394266363816, 8.90562624596673, 44.61358123950379, 117.76453340752579, 14.616170713766001, 21.306409790398956, 11.038340625251076, 26.056560194051308, 41.923445434995074, 18.473935821942927, 12.715114844045031, 14.495983244433129, 13.008517660394729, 15.081134113615686, 13.937530735558456, 16.112155731250006, 12.319118366210175, 14.720833248786901, 11.926564701832085, 11.861473983718906, 10.727283543717686, 5.942386398166345, 5.862329555011591, 4.870669378330738, 4.840015140093041, 4.0217686111660385, 4.018568296102619, 3.0703726534110416, 3.0669030222166027, 3.0644812173111426, 3.048534729384483, 3.6071331100468553, 4.9897202242869065, 9.206274641889879, 7.546463004224053, 4.013069175492279, 5.7482001407353716, 20.10345119532398, 5.51416792049111, 3.0501226452738734, 4.86409241026097, 3.009337573614107, 3.578040847075539, 7.318838409330812, 4.43323644160132, 3.824672049007538, 2.7404146324867207, 4.85954813775152, 2.119226191985215, 2.110391952512109, 5.768009449749052, 5.184819941409024, 25.145550492417527, 29.43762418442231, 7.285525985903828, 12.36542514273733, 14.442154473411826, 11.708090921547317, 13.97125463538806, 10.5395970154228, 72.18369035663721, 7.95584567491765, 11.379709449273092, 20.604386194245304, 14.687402369761767, 26.81853530308939, 14.664002179001153, 27.024630929690794, 10.148257359636844, 14.854540427021037, 10.39165851680265, 10.213633558974268, 17.05062110682387, 13.270350660378364, 8.936878065791813, 10.041540551252508, 9.953692194229328, 8.364500842296284, 9.411348965760661, 9.08209775394643, 8.60283629128338, 8.719260722026753], \"Total\": [297.0, 372.0, 270.0, 106.0, 304.0, 71.0, 978.0, 121.0, 124.0, 57.0, 68.0, 155.0, 79.0, 96.0, 29.0, 30.0, 117.0, 55.0, 79.0, 41.0, 180.0, 195.0, 123.0, 39.0, 39.0, 44.0, 40.0, 112.0, 76.0, 28.0, 9.244833113103942, 8.321740494026566, 8.32191197017105, 7.40030512752338, 6.478755547445516, 6.478783136567105, 6.479335930999367, 6.480249482382382, 6.483675608131876, 5.557280359966259, 5.55713878990678, 5.557249950903344, 5.5576860996399935, 5.557650453171187, 5.557583526795882, 5.557570361034849, 14.824504231282948, 21.364679627821584, 4.63579335309492, 4.635711278409553, 4.635745687443411, 4.635845028902647, 4.635842598789124, 4.635730967287976, 4.6358835306404185, 4.635797893792905, 4.635760183697834, 4.636061223551279, 4.635907215219479, 4.636169094997386, 37.095392664228505, 10.215714793731449, 23.255166748342265, 9.296410690618593, 304.55156065235775, 27.09775335943721, 16.702461491792135, 74.4099244461407, 9.260590064028088, 124.42281451367519, 58.90638966920805, 5.56762055576826, 35.471496541363656, 978.5673197010949, 180.89524320487382, 136.02290954296953, 23.223156955958004, 270.2021340170533, 41.09669629249035, 18.720955233895403, 28.824026811852924, 68.65796002796169, 195.40089903928708, 15.850510174119385, 39.595304791789985, 39.59527549943087, 54.47985908483742, 46.9142914491471, 52.93437902349281, 31.975638291265007, 47.00747804050617, 68.65364244327654, 61.40296162889264, 297.510589188426, 107.62539642926242, 95.41900504563849, 70.39737643008455, 97.56515201125693, 51.35391651513745, 112.66050318231326, 85.85815686808529, 106.68661895268538, 155.53036406686275, 121.29484694524218, 123.92241008739832, 24.070469901998905, 7.695193896621253, 7.694574321753485, 6.731319400130681, 7.6896636339122, 5.768217931486893, 5.768016904894491, 22.08689082338099, 4.804428521108826, 4.804145975732864, 17.26715718408006, 4.804064767538891, 12.470519273186047, 3.8409260207809597, 3.8409315729917037, 3.840313389167657, 3.840294996568767, 3.8396961482358845, 3.8413817729422486, 8.623984717668538, 8.601952742650026, 40.07008349383141, 8.592861829229845, 6.69719208896834, 12.448914391127726, 11.517323807507202, 5.725400864889091, 6.743236249690458, 5.764322447138746, 15.331177013025181, 55.36095867277156, 79.00993446438827, 96.2631197861688, 155.53036406686275, 297.510589188426, 372.5634813234649, 15.276877699131335, 270.2021340170533, 14.264826693865972, 80.10752637346597, 90.16786692332552, 180.89524320487382, 30.403692361384717, 12.359123309836473, 52.15134646551541, 978.5673197010949, 40.29726610720526, 35.072555698567975, 95.75217329265767, 97.56515201125693, 34.23026538407057, 123.92241008739832, 304.55156065235775, 107.62539642926242, 117.29311690777135, 42.50609137586382, 76.54714578863768, 85.85815686808529, 95.41900504563849, 63.52287778436508, 195.40089903928708, 80.27676186799252, 112.66050318231326, 13.09567987435429, 6.555921945349333, 6.554965539682955, 5.6212238594045365, 5.621515117697988, 4.687037695886037, 4.686938346100808, 4.686957033400647, 3.7530245360895473, 3.7527863996137563, 3.7529283525696067, 3.752909744879206, 3.7531157905578887, 3.7527172302206613, 3.7533437021555622, 3.7524495374832014, 3.7529930997189123, 3.7539838673700143, 3.7523009617764944, 3.756312229270589, 8.461040672113747, 7.4774173151325325, 9.382236300503322, 5.659160647070972, 5.65828165476226, 5.6055984558804965, 19.805712428561787, 7.555609274125736, 7.567140743587569, 4.673681792633989, 8.391608586975975, 16.052250064971638, 79.27361187029216, 112.66050318231326, 76.54714578863768, 68.65796002796169, 978.5673197010949, 41.13395049173567, 36.77973614254199, 15.081998429246388, 124.42281451367519, 63.52287778436508, 12.162452057806613, 51.35391651513745, 95.75217329265767, 70.39737643008455, 121.29484694524218, 26.918725981255523, 372.5634813234649, 123.92241008739832, 51.686066447181325, 304.55156065235775, 52.15134646551541, 117.29311690777135, 62.99072834945307, 80.27676186799252, 195.40089903928708, 136.02290954296953, 107.62539642926242, 57.705428946585016, 38.34480763184599, 95.41900504563849, 96.2631197861688, 297.510589188426, 85.85815686808529, 74.4099244461407, 9.70588820594038, 29.080305069757102, 3.868605779359975, 3.867596676999215, 3.8673361260916286, 9.653997120581176, 4.82930646912644, 4.821173158315674, 7.714476105846138, 17.346920472422692, 5.804614031935455, 5.801820557360713, 5.7741320841090795, 9.627463962771623, 9.670238616280805, 3.8425082238634367, 3.84801785407732, 7.736591925483347, 21.020219800102794, 15.495562749846925, 4.828555353092789, 4.7879351698080725, 4.828175782481758, 4.802241534866257, 7.693750566882067, 18.21739197069143, 4.785488970951155, 28.055719033649737, 6.68420366032204, 6.722665046035612, 12.395295679564944, 16.45248836075141, 106.68661895268538, 11.575236142134424, 13.41603576934174, 18.150500159702688, 10.48454576527901, 47.56266183933319, 16.31003421771478, 117.29311690777135, 27.719146001175357, 121.29484694524218, 39.595304791789985, 39.59527549943087, 41.08150753278827, 18.237371436113392, 195.40089903928708, 978.5673197010949, 40.29726610720526, 79.76913676359149, 26.68228048535209, 136.02290954296953, 372.5634813234649, 95.41900504563849, 48.43383454271519, 70.39737643008455, 52.93437902349281, 95.75217329265767, 97.56515201125693, 180.89524320487382, 79.27361187029216, 270.2021340170533, 107.62539642926242, 155.53036406686275, 11.513076135121095, 6.711593992709711, 6.709624238412592, 5.751094075969822, 5.745459763616777, 4.791153402395504, 4.790897952800186, 3.8311898822630797, 3.830499873925297, 3.831158391635393, 3.831136789753261, 4.7739550021014345, 6.724092174629373, 12.451763985321184, 10.504529435122674, 5.763004921036154, 8.547173676735245, 30.596644850847337, 8.56834200711257, 4.751120969743801, 7.616421066581985, 4.763692256730879, 5.694030869531208, 12.381302159357602, 7.648023514706503, 6.62532513145209, 4.756104691936921, 8.550559843408157, 3.7919456774046436, 3.791662555438892, 10.440863164057149, 9.56964995035627, 57.01520817890868, 71.28242104156001, 14.189208955324876, 28.850161584260636, 40.5458660777975, 32.25735698773288, 44.18866451300633, 30.228315104690278, 978.5673197010949, 20.73514580947877, 41.08150753278827, 123.92241008739832, 80.27676186799252, 297.510589188426, 85.85815686808529, 372.5634813234649, 40.87927760151699, 121.29484694524218, 48.43383454271519, 46.43226524116904, 195.40089903928708, 107.62539642926242, 34.87815249059066, 63.52287778436508, 62.99072834945307, 31.299875462811844, 106.68661895268538, 97.56515201125693, 80.10752637346597, 117.29311690777135], \"Category\": [\"Default\", \"Default\", \"Default\", \"Default\", \"Default\", \"Default\", \"Default\", \"Default\", \"Default\", \"Default\", \"Default\", \"Default\", \"Default\", \"Default\", \"Default\", \"Default\", \"Default\", \"Default\", \"Default\", \"Default\", \"Default\", \"Default\", \"Default\", \"Default\", \"Default\", \"Default\", \"Default\", \"Default\", \"Default\", \"Default\", \"Topic1\", \"Topic1\", \"Topic1\", \"Topic1\", \"Topic1\", \"Topic1\", \"Topic1\", \"Topic1\", \"Topic1\", \"Topic1\", \"Topic1\", \"Topic1\", \"Topic1\", \"Topic1\", \"Topic1\", \"Topic1\", \"Topic1\", \"Topic1\", \"Topic1\", \"Topic1\", \"Topic1\", \"Topic1\", \"Topic1\", \"Topic1\", \"Topic1\", \"Topic1\", \"Topic1\", \"Topic1\", \"Topic1\", \"Topic1\", \"Topic1\", \"Topic1\", \"Topic1\", \"Topic1\", \"Topic1\", \"Topic1\", \"Topic1\", \"Topic1\", \"Topic1\", \"Topic1\", \"Topic1\", \"Topic1\", \"Topic1\", \"Topic1\", \"Topic1\", \"Topic1\", \"Topic1\", \"Topic1\", \"Topic1\", \"Topic1\", \"Topic1\", \"Topic1\", \"Topic1\", \"Topic1\", \"Topic1\", \"Topic1\", \"Topic1\", \"Topic1\", \"Topic1\", \"Topic1\", \"Topic1\", \"Topic1\", \"Topic1\", \"Topic1\", \"Topic1\", \"Topic1\", \"Topic1\", \"Topic1\", \"Topic1\", \"Topic1\", \"Topic1\", \"Topic1\", \"Topic1\", \"Topic1\", \"Topic1\", \"Topic2\", \"Topic2\", \"Topic2\", \"Topic2\", \"Topic2\", \"Topic2\", \"Topic2\", \"Topic2\", \"Topic2\", \"Topic2\", \"Topic2\", \"Topic2\", \"Topic2\", \"Topic2\", \"Topic2\", \"Topic2\", \"Topic2\", \"Topic2\", \"Topic2\", \"Topic2\", \"Topic2\", \"Topic2\", \"Topic2\", \"Topic2\", \"Topic2\", \"Topic2\", \"Topic2\", \"Topic2\", \"Topic2\", \"Topic2\", \"Topic2\", \"Topic2\", \"Topic2\", \"Topic2\", \"Topic2\", \"Topic2\", \"Topic2\", \"Topic2\", \"Topic2\", \"Topic2\", \"Topic2\", \"Topic2\", \"Topic2\", \"Topic2\", \"Topic2\", \"Topic2\", \"Topic2\", \"Topic2\", \"Topic2\", \"Topic2\", \"Topic2\", \"Topic2\", \"Topic2\", \"Topic2\", \"Topic2\", \"Topic2\", \"Topic2\", \"Topic2\", \"Topic2\", \"Topic2\", \"Topic2\", \"Topic2\", \"Topic2\", \"Topic3\", \"Topic3\", \"Topic3\", \"Topic3\", \"Topic3\", \"Topic3\", \"Topic3\", \"Topic3\", \"Topic3\", \"Topic3\", \"Topic3\", \"Topic3\", \"Topic3\", \"Topic3\", \"Topic3\", \"Topic3\", \"Topic3\", \"Topic3\", \"Topic3\", \"Topic3\", \"Topic3\", \"Topic3\", \"Topic3\", \"Topic3\", \"Topic3\", \"Topic3\", \"Topic3\", \"Topic3\", \"Topic3\", \"Topic3\", \"Topic3\", \"Topic3\", \"Topic3\", \"Topic3\", \"Topic3\", \"Topic3\", \"Topic3\", \"Topic3\", \"Topic3\", \"Topic3\", \"Topic3\", \"Topic3\", \"Topic3\", \"Topic3\", \"Topic3\", \"Topic3\", \"Topic3\", \"Topic3\", \"Topic3\", \"Topic3\", \"Topic3\", \"Topic3\", \"Topic3\", \"Topic3\", \"Topic3\", \"Topic3\", \"Topic3\", \"Topic3\", \"Topic3\", \"Topic3\", \"Topic3\", \"Topic3\", \"Topic3\", \"Topic3\", \"Topic3\", \"Topic3\", \"Topic4\", \"Topic4\", \"Topic4\", \"Topic4\", \"Topic4\", \"Topic4\", \"Topic4\", \"Topic4\", \"Topic4\", \"Topic4\", \"Topic4\", \"Topic4\", \"Topic4\", \"Topic4\", \"Topic4\", \"Topic4\", \"Topic4\", \"Topic4\", \"Topic4\", \"Topic4\", \"Topic4\", \"Topic4\", \"Topic4\", \"Topic4\", \"Topic4\", \"Topic4\", \"Topic4\", \"Topic4\", \"Topic4\", \"Topic4\", \"Topic4\", \"Topic4\", \"Topic4\", \"Topic4\", \"Topic4\", \"Topic4\", \"Topic4\", \"Topic4\", \"Topic4\", \"Topic4\", \"Topic4\", \"Topic4\", \"Topic4\", \"Topic4\", \"Topic4\", \"Topic4\", \"Topic4\", \"Topic4\", \"Topic4\", \"Topic4\", \"Topic4\", \"Topic4\", \"Topic4\", \"Topic4\", \"Topic4\", \"Topic4\", \"Topic4\", \"Topic4\", \"Topic4\", \"Topic4\", \"Topic4\", \"Topic4\", \"Topic4\", \"Topic4\", \"Topic5\", \"Topic5\", \"Topic5\", \"Topic5\", \"Topic5\", \"Topic5\", \"Topic5\", \"Topic5\", \"Topic5\", \"Topic5\", \"Topic5\", \"Topic5\", \"Topic5\", \"Topic5\", \"Topic5\", \"Topic5\", \"Topic5\", \"Topic5\", \"Topic5\", \"Topic5\", \"Topic5\", \"Topic5\", \"Topic5\", \"Topic5\", \"Topic5\", \"Topic5\", \"Topic5\", \"Topic5\", \"Topic5\", \"Topic5\", \"Topic5\", \"Topic5\", \"Topic5\", \"Topic5\", \"Topic5\", \"Topic5\", \"Topic5\", \"Topic5\", \"Topic5\", \"Topic5\", \"Topic5\", \"Topic5\", \"Topic5\", \"Topic5\", \"Topic5\", \"Topic5\", \"Topic5\", \"Topic5\", \"Topic5\", \"Topic5\", \"Topic5\", \"Topic5\", \"Topic5\", \"Topic5\", \"Topic5\", \"Topic5\", \"Topic5\", \"Topic5\", \"Topic5\", \"Topic5\", \"Topic5\", \"Topic5\"], \"logprob\": [30.0, 29.0, 28.0, 27.0, 26.0, 25.0, 24.0, 23.0, 22.0, 21.0, 20.0, 19.0, 18.0, 17.0, 16.0, 15.0, 14.0, 13.0, 12.0, 11.0, 10.0, 9.0, 8.0, 7.0, 6.0, 5.0, 4.0, 3.0, 2.0, 1.0, -6.1999, -6.3104, -6.3108, -6.4413, -6.5898, -6.59, -6.5927, -6.6069, -6.6108, -6.7657, -6.7663, -6.7674, -6.7676, -6.7677, -6.7704, -6.7704, -5.7908, -5.4473, -6.9792, -6.9797, -6.9797, -6.9797, -6.9797, -6.9798, -6.9804, -6.9809, -6.981, -6.981, -6.9823, -6.9869, -4.9565, -6.2198, -5.4345, -6.3322, -3.0979, -5.3501, -5.8037, -4.4706, -6.3541, -4.0179, -4.6913, -6.8154, -5.2009, -2.3532, -3.8162, -4.1086, -5.5872, -3.5869, -5.135, -5.7886, -5.4436, -4.7549, -4.045, -5.9312, -5.2561, -5.2561, -5.0406, -5.173, -5.113, -5.4543, -5.2179, -4.9929, -5.0746, -4.1317, -4.7856, -4.8886, -5.0595, -4.9097, -5.2151, -4.9127, -5.0367, -4.9886, -4.9747, -5.0506, -5.0486, -4.9178, -6.0741, -6.0761, -6.2293, -6.1002, -6.3987, -6.3995, -5.0572, -6.6129, -6.614, -5.3365, -6.6162, -5.6729, -6.8842, -6.8846, -6.8866, -6.8873, -6.8946, -6.9055, -6.0979, -6.1209, -4.6107, -6.163, -6.4304, -5.8252, -5.9129, -6.6123, -6.456, -6.6184, -5.6526, -4.3745, -4.0341, -3.883, -3.4232, -2.8586, -2.7095, -5.6606, -3.1302, -5.7431, -4.2746, -4.2016, -3.805, -5.2013, -5.9016, -4.9042, -2.9414, -5.0896, -5.1848, -4.5358, -4.5568, -5.3036, -4.6363, -4.2552, -4.7824, -4.7643, -5.2479, -4.9886, -4.9719, -4.9459, -5.1087, -4.7607, -5.0577, -5.1375, -5.2693, -6.0244, -6.0407, -6.2015, -6.2019, -6.4158, -6.4177, -6.4205, -6.6858, -6.6867, -6.6872, -6.6872, -6.6878, -6.6885, -6.6899, -6.6908, -6.6914, -6.6989, -6.7003, -6.7169, -5.9148, -6.1137, -5.8911, -6.4162, -6.4386, -6.465, -5.234, -6.1994, -6.2016, -6.687, -6.1104, -5.4906, -4.0474, -3.8509, -4.1949, -4.3058, -2.3225, -4.8682, -4.9755, -5.6442, -4.0702, -4.5722, -5.8179, -4.7773, -4.3274, -4.5555, -4.1745, -5.262, -3.3845, -4.1982, -4.8071, -3.6005, -4.8232, -4.3831, -4.7722, -4.6746, -4.2194, -4.5116, -4.6664, -4.9783, -5.18, -4.7723, -4.7821, -4.3559, -4.8497, -4.962, -5.3046, -4.251, -6.3612, -6.3688, -6.369, -5.4614, -6.166, -6.1869, -5.7288, -4.9187, -6.0875, -6.0884, -6.0978, -5.5873, -5.5914, -6.5311, -6.5377, -5.8483, -4.8819, -5.1948, -6.362, -6.3707, -6.3643, -6.3756, -5.9057, -5.0462, -6.3858, -4.6356, -6.0874, -6.0881, -5.4785, -5.2214, -3.4897, -5.58, -5.4489, -5.2073, -5.702, -4.4705, -5.357, -3.8289, -4.9483, -3.8152, -4.7059, -4.706, -4.7144, -5.309, -3.6976, -2.727, -4.8135, -4.4366, -5.0943, -4.2354, -3.7598, -4.5793, -4.9529, -4.8218, -4.93, -4.7822, -4.8611, -4.7161, -4.9845, -4.8064, -5.0169, -5.0224, -4.7596, -5.3503, -5.3638, -5.5491, -5.5555, -5.7407, -5.7414, -6.0106, -6.0117, -6.0125, -6.0177, -5.8495, -5.525, -4.9125, -5.1113, -5.7428, -5.3835, -4.1315, -5.4251, -6.0172, -5.5505, -6.0307, -5.8576, -5.1419, -5.6432, -5.7909, -6.1243, -5.5514, -6.3813, -6.3855, -5.38, -5.4866, -3.9077, -3.7501, -5.1465, -4.6175, -4.4622, -4.6721, -4.4954, -4.7772, -2.8532, -5.0585, -4.7005, -4.1069, -4.4454, -3.8433, -4.447, -3.8356, -4.8151, -4.4341, -4.7914, -4.8086, -4.2962, -4.5468, -4.9422, -4.8256, -4.8344, -5.0084, -4.8905, -4.9261, -4.9803, -4.9668], \"loglift\": [30.0, 29.0, 28.0, 27.0, 26.0, 25.0, 24.0, 23.0, 22.0, 21.0, 20.0, 19.0, 18.0, 17.0, 16.0, 15.0, 14.0, 13.0, 12.0, 11.0, 10.0, 9.0, 8.0, 7.0, 6.0, 5.0, 4.0, 3.0, 2.0, 1.0, 1.0184, 1.0131, 1.0127, 0.9996, 0.9841, 0.9838, 0.981, 0.9668, 0.9624, 0.9616, 0.9611, 0.9599, 0.9597, 0.9595, 0.9569, 0.9569, 0.9553, 0.9333, 0.9294, 0.9289, 0.9289, 0.9289, 0.9289, 0.9288, 0.9282, 0.9277, 0.9276, 0.9275, 0.9263, 0.9217, 0.8724, 0.8987, 0.8614, 0.8806, 0.6256, 0.7928, 0.8232, 0.6622, 0.8626, 0.6008, 0.6751, 0.91, 0.6727, 0.2031, 0.4283, 0.421, 0.7101, 0.2563, 0.5914, 0.7242, 0.6375, 0.4583, 0.1224, 0.748, 0.5076, 0.5076, 0.4039, 0.421, 0.3603, 0.5231, 0.3742, 0.2204, 0.2503, -0.3847, -0.0219, -0.0044, 0.1288, -0.0478, 0.2886, -0.1947, -0.047, -0.2161, -0.5791, -0.4064, -0.4258, 1.3437, 1.3278, 1.3258, 1.3063, 1.3023, 1.2914, 1.2905, 1.2902, 1.26, 1.2589, 1.2571, 1.2567, 1.2462, 1.2125, 1.2121, 1.2102, 1.2095, 1.2024, 1.191, 1.19, 1.1696, 1.1411, 1.1285, 1.1103, 1.0955, 1.0856, 1.0852, 1.0778, 1.0724, 1.0599, 1.054, 1.0388, 0.9923, 0.9724, 0.8884, 0.8125, 1.0555, 0.713, 1.0415, 0.7844, 0.7391, 0.4395, 0.8265, 1.0264, 0.584, -0.3851, 0.6565, 0.7002, 0.3448, 0.3051, 0.6057, -0.0135, -0.5316, -0.0187, -0.0866, 0.4449, 0.1159, 0.0178, -0.0617, 0.1823, -0.5933, -0.0008, -0.4194, 1.6009, 1.5377, 1.5215, 1.5144, 1.5139, 1.4818, 1.4799, 1.4771, 1.434, 1.4332, 1.4327, 1.4327, 1.432, 1.4315, 1.4299, 1.4292, 1.4284, 1.4207, 1.4197, 1.4021, 1.3921, 1.3168, 1.3125, 1.293, 1.2707, 1.2536, 1.2224, 1.2207, 1.217, 1.2134, 1.2047, 1.176, 1.0221, 0.8671, 0.9096, 0.9075, 0.2338, 0.8574, 0.862, 1.0847, 0.5485, 0.7188, 1.1262, 0.7263, 0.5533, 0.6328, 0.4696, 0.8876, 0.1375, 0.4245, 0.6901, 0.1231, 0.665, 0.2946, 0.5272, 0.3823, -0.0521, 0.018, 0.0974, 0.4087, 0.6158, 0.1118, 0.0932, -0.609, 0.14, 0.1708, 1.8651, 1.8214, 1.7283, 1.721, 1.7209, 1.7136, 1.7017, 1.6825, 1.6705, 1.6703, 1.5962, 1.5959, 1.5912, 1.5905, 1.5819, 1.5652, 1.5572, 1.5482, 1.5151, 1.507, 1.5059, 1.5056, 1.5036, 1.4977, 1.4963, 1.4939, 1.491, 1.4726, 1.4552, 1.4489, 1.4466, 1.4205, 1.2828, 1.4136, 1.3971, 1.3364, 1.3905, 1.1098, 1.2937, 0.8488, 1.1719, 0.829, 1.0578, 1.0577, 1.0125, 1.23, 0.4697, -0.1706, 0.9326, 0.6266, 1.0641, 0.2942, -0.2378, 0.3048, 0.6093, 0.3665, 0.5433, 0.0984, 0.0008, -0.4716, 0.085, -0.9632, -0.2531, -0.6268, 2.2393, 2.1883, 2.175, 2.1439, 2.1385, 2.135, 2.1342, 2.0887, 2.0877, 2.0867, 2.0815, 2.0298, 2.0117, 2.0081, 1.9793, 1.9481, 1.9133, 1.89, 1.8693, 1.8668, 1.8616, 1.8507, 1.8454, 1.7843, 1.7647, 1.7606, 1.7587, 1.745, 1.7282, 1.7241, 1.7166, 1.6972, 1.4914, 1.4257, 1.6434, 1.4628, 1.2777, 1.2966, 1.1586, 1.2564, -0.2968, 1.3521, 1.0263, 0.5159, 0.6115, -0.0963, 0.5427, -0.3136, 0.9167, 0.2101, 0.7708, 0.7958, -0.1288, 0.2169, 0.9484, 0.4654, 0.465, 0.9904, -0.1179, -0.0642, 0.0788, -0.2891]}, \"token.table\": {\"Topic\": [1, 3, 4, 5, 1, 1, 4, 1, 3, 5, 1, 4, 1, 2, 4, 5, 1, 2, 3, 1, 2, 3, 4, 5, 1, 2, 4, 5, 3, 1, 2, 3, 4, 5, 1, 3, 4, 1, 2, 3, 4, 5, 1, 2, 3, 4, 5, 3, 4, 1, 2, 3, 4, 5, 1, 2, 3, 4, 5, 1, 1, 2, 3, 1, 2, 4, 5, 1, 2, 1, 3, 4, 1, 3, 4, 5, 3, 1, 1, 2, 3, 4, 5, 1, 3, 4, 1, 3, 4, 5, 1, 2, 3, 3, 1, 2, 3, 4, 5, 2, 5, 1, 2, 3, 4, 1, 2, 3, 5, 1, 4, 2, 3, 5, 1, 2, 4, 1, 1, 2, 3, 4, 5, 1, 1, 5, 1, 2, 3, 4, 5, 1, 2, 3, 4, 5, 2, 3, 4, 5, 1, 2, 4, 5, 4, 1, 3, 1, 5, 3, 1, 2, 3, 4, 5, 1, 2, 3, 4, 5, 1, 3, 1, 2, 3, 4, 5, 1, 3, 1, 2, 3, 5, 2, 3, 5, 1, 2, 3, 4, 1, 2, 4, 5, 4, 5, 1, 1, 3, 1, 2, 1, 3, 4, 5, 1, 2, 3, 4, 5, 1, 2, 3, 4, 5, 1, 2, 3, 4, 5, 1, 2, 3, 4, 5, 1, 4, 5, 1, 2, 2, 1, 3, 4, 2, 3, 5, 1, 4, 5, 2, 3, 5, 1, 2, 3, 4, 5, 4, 5, 1, 2, 3, 4, 1, 2, 4, 1, 2, 5, 2, 1, 3, 4, 5, 1, 2, 3, 4, 1, 5, 1, 2, 3, 4, 1, 3, 3, 4, 1, 2, 3, 4, 5, 3, 4, 5, 3, 1, 3, 4, 1, 3, 4, 5, 3, 4, 1, 2, 3, 1, 4, 4, 4, 3, 1, 4, 1, 1, 2, 3, 4, 5, 1, 2, 3, 4, 1, 1, 5, 1, 3, 4, 5, 1, 2, 1, 2, 1, 3, 4, 1, 3, 4, 5, 1, 3, 4, 5, 1, 2, 3, 4, 2, 1, 2, 4, 1, 3, 5, 5, 1, 2, 3, 4, 5, 3, 1, 2, 4, 2, 1, 2, 3, 4, 5, 1, 3, 5, 1, 2, 3, 4, 3, 3, 3, 5, 3, 4, 1, 2, 1, 1, 2, 3, 4, 2, 4, 1, 2, 3, 4, 5, 2, 1, 4, 5, 1, 2, 3, 5, 1, 2, 3, 4, 5, 1, 2, 3, 4, 5, 1, 3, 4, 1, 2, 3, 5, 3, 1, 2, 3, 4, 5, 3, 5, 2, 4, 1, 5, 5, 3, 5, 1, 3, 5, 1, 3, 1, 3, 2, 3, 1, 2, 3, 4, 5, 4, 1, 3, 4, 2, 4, 1, 2, 3, 4, 5, 1, 2, 3, 4, 5, 5, 4, 5, 1, 2, 4, 1, 2, 5, 5, 1, 1, 2, 3, 4, 5, 1, 2, 3, 5, 1, 2, 3, 5, 4, 5, 3, 4, 3, 1, 2, 3, 4, 5, 1, 2, 3, 4, 5, 5, 1, 2, 3, 5, 1, 1, 2, 3, 4, 1, 5, 2, 5, 2, 1, 4, 1, 2, 3, 4, 5, 1, 2, 3, 4, 5, 1, 1, 1, 3, 1, 2, 1, 2, 3, 4, 5, 1, 2, 3, 4, 5, 1, 5, 1, 5, 2, 4, 2, 2, 1, 2, 3, 4, 5, 2, 3, 2, 3, 4, 2, 1, 5, 2, 3, 5, 4, 5, 1, 4, 5, 1, 2, 3, 4, 5, 2, 2, 3, 5, 1, 3, 1, 2, 4, 1, 2, 3, 1, 2, 1, 2, 3, 4, 5, 4, 1, 3, 4, 1, 3, 4, 1, 3, 1, 2, 4, 2, 4, 5, 1, 2, 3, 4, 5, 1, 2, 3, 4, 1, 2, 4, 5, 1, 5, 2, 1, 4, 1, 3, 1, 2, 4, 5, 1, 4, 1, 2, 3, 4, 5, 1, 2, 3, 4, 5, 2, 3, 3, 3, 3, 4, 2, 3, 1, 4, 1, 2, 3, 4, 5, 1, 2, 3, 4, 5, 1, 3, 1, 2, 3, 5], \"Freq\": [0.10978519884831194, 0.1646777982724679, 0.6587111930898716, 0.05489259942415597, 0.8628665073749683, 0.7529787821297526, 0.1075683974471075, 0.8628512307024092, 0.2625905241472605, 0.6564763103681511, 0.2992129057754715, 0.598425811550943, 0.0863913260792971, 0.1727826521585942, 0.6047392825550797, 0.1727826521585942, 0.17469392099164494, 0.7486882328213353, 0.07486882328213354, 0.32520205417318954, 0.23228718155227826, 0.213704207028096, 0.11149784714509356, 0.12078933440718469, 0.09055145045054587, 0.8602387792801858, 0.045275725225272935, 0.045275725225272935, 0.8534355915579109, 0.4234323444712465, 0.27685960984658425, 0.065143437610961, 0.17914445343014276, 0.065143437610961, 0.28613542896010863, 0.09537847632003621, 0.5722708579202173, 0.09445415902547134, 0.28336247707641404, 0.3935589959394639, 0.07871179918789278, 0.15742359837578557, 0.17107393175356714, 0.48470947330177355, 0.28512321958927855, 0.028512321958927857, 0.028512321958927857, 0.10358403752453155, 0.8286723001962524, 0.22259807963803263, 0.024733119959781405, 0.30504181283730397, 0.3297749327970854, 0.12366559979890702, 0.30151447333624676, 0.21536748095446198, 0.10768374047723099, 0.15075723666812338, 0.21536748095446198, 0.862850385551923, 0.6027833423729281, 0.06429688985311233, 0.3295215604972007, 0.2496644311142355, 0.5242953053398945, 0.12483221555711775, 0.11234899400140598, 0.11625267307524494, 0.8137687115267146, 0.8996737198427431, 0.17318620104865426, 0.692744804194617, 0.3638972255616464, 0.09924469788044901, 0.16540782980074833, 0.3638972255616464, 0.9163327230913763, 0.8627813002584747, 0.21787826738487256, 0.23401739830227053, 0.2905043565131634, 0.08876522004568882, 0.16946087463267867, 0.5556214332907891, 0.025255519695035866, 0.40408831512057386, 0.6244790194476956, 0.27754623086564245, 0.06938655771641061, 0.034693278858205306, 0.24666078729366211, 0.0822202624312207, 0.5755418370185449, 0.8534321888369816, 0.03564335666466471, 0.2851468533173177, 0.03564335666466471, 0.6059370632993001, 0.03564335666466471, 0.9139829878507288, 0.04154468126594222, 0.23023519369938755, 0.5591426132699412, 0.16445370978527682, 0.06578148391411073, 0.6484079399689121, 0.19734154694706021, 0.08457494869159723, 0.08457494869159723, 0.2088582999840588, 0.6265748999521764, 0.7465815424700203, 0.14931630849400404, 0.7830573964426916, 0.1299756199927411, 0.1299756199927411, 0.6498780999637055, 0.9254010167434585, 0.24776068451521954, 0.10323361854800814, 0.165173789676813, 0.2684074082248212, 0.20646723709601628, 0.8628344464571621, 0.35124502234471744, 0.7024900446894349, 0.3144721594883932, 0.2445894573798614, 0.22129522334368412, 0.05823558509044319, 0.17470675527132956, 0.22445926732302582, 0.22445926732302582, 0.07014352103844557, 0.056114816830756455, 0.4068324220229843, 0.10966492660447917, 0.21932985320895834, 0.49349216972015625, 0.16449738990671875, 0.24341852576901485, 0.07302555773070446, 0.38946964123042377, 0.2677603783459163, 0.7756755035604269, 0.8628300382863955, 0.7994207439454741, 0.20946992578686072, 0.8378797031474429, 0.7993552856240692, 0.16709803495631873, 0.33419606991263745, 0.33419606991263745, 0.1566544077715488, 0.01044362718476992, 0.42560729736036057, 0.4885231587092834, 0.03330839718472387, 0.05551399530787311, 0.8939754112834208, 0.7558913580670045, 0.10798447972385779, 0.17466025935973856, 0.6986410374389542, 0.8534175015300022, 0.6894387650313036, 0.1723596912578259, 0.5243383285104686, 0.46607851423152763, 0.3999426776194503, 0.37641663775948264, 0.04705207971993533, 0.18820831887974132, 0.18688968760500682, 0.6229656253500228, 0.18688968760500682, 0.12614538134533398, 0.189218072018001, 0.5298106016504028, 0.1513744576144008, 0.06932370185029088, 0.2426329564760181, 0.2772948074011635, 0.4159422111017453, 0.14871896072054058, 0.7435948036027029, 0.9261037796627035, 0.8628420647941745, 0.7994777731273968, 0.2327513277586653, 0.698253983275996, 0.2819043692001515, 0.14095218460007575, 0.07047609230003787, 0.49333264610026517, 0.6450752417406806, 0.04031720260879254, 0.22846414811649107, 0.05375627014505672, 0.05375627014505672, 0.324882867780615, 0.220081942690094, 0.2096018501810419, 0.18864166516293773, 0.04192037003620838, 0.5030535816629379, 0.3703801095760092, 0.011056122673910722, 0.08844898139128578, 0.022112245347821444, 0.48928385352179465, 0.0850928440907469, 0.14891247715880707, 0.23400532124955395, 0.04254642204537345, 0.10386951370235126, 0.7270865959164587, 0.10386951370235126, 0.7740215408811516, 0.17200478686247814, 0.7809689786970054, 0.8628601027089514, 0.6607515532517383, 0.2643006213006953, 0.7174922049790785, 0.13045312817801427, 0.13045312817801427, 0.08030990638586262, 0.16061981277172524, 0.7227891574727636, 0.7813118236916544, 0.3508542194828068, 0.5847570324713447, 0.1864587675467207, 0.6301020420544354, 0.06429612674024851, 0.07715535208829821, 0.04500728871817396, 0.6462794015967984, 0.2585117606387194, 0.13063844375872674, 0.27434073189332614, 0.4702983975314163, 0.13063844375872674, 0.6944090105222156, 0.053416077732478126, 0.2136643109299125, 0.08032828956657415, 0.7229546060991673, 0.1606565791331483, 0.9096586900914226, 0.26245090785394337, 0.13122545392697169, 0.5155285689988174, 0.08435922038162466, 0.5115711920324936, 0.10657733167343615, 0.19183919701218508, 0.19183919701218508, 0.21047664464201674, 0.6314299339260502, 0.617301056009363, 0.14119119898086493, 0.21342855659898188, 0.029551646298320567, 0.1783930846760813, 0.7135723387043252, 0.12962643039910202, 0.777758582394612, 0.2867124341720157, 0.08601373025160472, 0.25804119075481413, 0.08601373025160472, 0.25804119075481413, 0.24524779939796137, 0.49049559879592275, 0.18393584954847103, 0.7993797357086615, 0.693983971440915, 0.12617890389834818, 0.18926835584752227, 0.14907533301084291, 0.14907533301084291, 0.5963013320433717, 0.14907533301084291, 0.25987405410305214, 0.7796221623091564, 0.8997435891076375, 0.8116897500593465, 0.11595567857990666, 0.26024667788337313, 0.7807400336501193, 0.7754731733085304, 0.9272721680939671, 0.7993619813009224, 0.20896506210132207, 0.6268951863039662, 0.8997255916457813, 0.19293098019537125, 0.14031344014208819, 0.15785262015984922, 0.07015672007104409, 0.4384795004440256, 0.23371130519259392, 0.4382086972361136, 0.1460695657453712, 0.17528347889444543, 0.8997206684080912, 0.8769264588671475, 0.06745588145131903, 0.6889674832040925, 0.21530233850127892, 0.04306046770025578, 0.04306046770025578, 0.8996607545094901, 0.8668188441193541, 0.7831072187830603, 0.09788840234788254, 0.28543945101709445, 0.0475732418361824, 0.6660253857065537, 0.5629285594251039, 0.03127380885695021, 0.2501904708556017, 0.15636904428475107, 0.3693319455707559, 0.35512687074111143, 0.1988710476150224, 0.05682029931857783, 0.49991578792481906, 0.1102755414540042, 0.19114427185360727, 0.19114427185360727, 0.7811862460136919, 0.0343875347112496, 0.0687750694224992, 0.8940759024924896, 0.8628574045021665, 0.6563762877447782, 0.30294290203605145, 0.9554353563635408, 0.40784434741586134, 0.23305391280906362, 0.18935630415736418, 0.04369760865169943, 0.11652695640453181, 0.7993757722408739, 0.17370905463853245, 0.4714960054474452, 0.37223368851114097, 0.8325652015480147, 0.059050339345791354, 0.5368212667799214, 0.21741261304586815, 0.11273246602378349, 0.07247087101528939, 0.8980497054203552, 0.7995094291636127, 0.8349165520551484, 0.4478723641890167, 0.11683626891887393, 0.38945422972957977, 0.03894542297295798, 0.8894399277267268, 0.7992873123442136, 0.20992120105723575, 0.6297636031717073, 0.20823608990501352, 0.6247082697150406, 0.28040999626865726, 0.7010249906716433, 0.9459069429401558, 0.645091308657533, 0.10185652241961046, 0.08488043534967538, 0.16976087069935075, 0.17227674303549967, 0.6891069721419987, 0.32890875952753196, 0.11608544453912892, 0.38695148179709643, 0.13543301862898374, 0.05804272226956446, 0.866849054439701, 0.14875053169422814, 0.5950021267769126, 0.14875053169422814, 0.3646622758252624, 0.12155409194175414, 0.4375947309903149, 0.07293245516505248, 0.232898933029628, 0.49906914220634574, 0.14417552997072208, 0.04436170152945295, 0.07763297767654266, 0.49559599553946926, 0.22026488690643078, 0.1468432579376205, 0.12848785069541796, 0.018355407242202564, 0.5556218443363583, 0.025255538378925378, 0.40408861406280605, 0.5839885481107528, 0.21899570554153233, 0.1459971370276882, 0.04866571234256274, 0.889486013198851, 0.2751629819177546, 0.15977205401676073, 0.4526874863808221, 0.044381126115766875, 0.07100980178522699, 0.21025609501307058, 0.6307682850392118, 0.36468647589585473, 0.607810793159758, 0.2637168580654455, 0.527433716130891, 0.8942378569652241, 0.23341738674060894, 0.7002521602218268, 0.7817682444419848, 0.0808725770112398, 0.10783010268165308, 0.5200840489163084, 0.44578632764255005, 0.2139640746565292, 0.6418922239695876, 0.6545840188645756, 0.26183360754583024, 0.15500339974851152, 0.12400271979880921, 0.24800543959761842, 0.0930020398491069, 0.3720081593964276, 0.8282762805739992, 0.10658439714914808, 0.7460907800440366, 0.10658439714914808, 0.7414837349395137, 0.14829674698790274, 0.4036513299061054, 0.1624824340634703, 0.24014699374160703, 0.12058444792131758, 0.07357695127402428, 0.24913810092250724, 0.23668119587638187, 0.27405191101475795, 0.049827620184501445, 0.1868535756918804, 0.83487203686696, 0.7238704521949237, 0.20682012919854964, 0.2784459973184251, 0.6708017208125696, 0.05062654496698639, 0.09519702964098761, 0.09519702964098761, 0.7615762371279009, 0.7830529811949124, 0.8996715885406862, 0.3946148287793373, 0.02466342679870858, 0.12331713399354291, 0.09865370719483432, 0.3452879751819201, 0.06630421059193596, 0.26521684236774384, 0.5304336847354877, 0.06630421059193596, 0.09349374942337087, 0.6440680515832216, 0.20776388760749082, 0.051940971901872704, 0.6213038436182445, 0.2071012812060815, 0.4407592038571704, 0.5509490048214629, 0.7991510102311004, 0.4073442861053641, 0.02263023811696467, 0.18104190493571737, 0.06789071435089401, 0.3168233336375054, 0.3177363983035999, 0.3279859595391999, 0.12299473482719996, 0.14349385729839995, 0.09224605112039996, 0.8702523741724877, 0.08076694899528117, 0.16153389799056234, 0.16153389799056234, 0.5653686429669681, 0.8628416124917018, 0.018063271012173327, 0.6864042984625864, 0.27094906518259987, 0.018063271012173327, 0.2339954791656858, 0.7019864374970574, 0.6939237068504889, 0.17348092671262222, 0.8913557125046714, 0.2074183953080333, 0.8296735812321332, 0.22520206821131356, 0.5814919074710037, 0.10419797185896597, 0.0033612248986763216, 0.09075307226426069, 0.3735909116023192, 0.1330597767350726, 0.17911893022029002, 0.23029576742608718, 0.08700062324985516, 0.9260208243400285, 0.9258902788097868, 0.23833332778462274, 0.5958333194615568, 0.8628628426079922, 0.8326282416149, 0.09587480168524898, 0.4218491274150955, 0.3643242464039461, 0.019174960337049796, 0.07669984134819918, 0.16313330733930917, 0.24469996100896374, 0.462211037461376, 0.054377769113103054, 0.08156665366965458, 0.263736549700491, 0.527473099400982, 0.30187197764914137, 0.6037439552982827, 0.3226730181225198, 0.6453460362450396, 0.7810616460116101, 0.7811899874047292, 0.3574232253322165, 0.16819916486221953, 0.04204979121555488, 0.44152280776332625, 0.8693997931440266, 0.11818877118695836, 0.7091326271217502, 0.13235200017879573, 0.6617600008939786, 0.13235200017879573, 0.9103128996604333, 0.9260998359607393, 0.7831875992011862, 0.26150547212023717, 0.13075273606011859, 0.5230109442404743, 0.17352058755837502, 0.6940823502335001, 0.28733256559932246, 0.09577752186644081, 0.5746651311986449, 0.22528209628306273, 0.27727027234838486, 0.27727027234838486, 0.08664696010887028, 0.12130574415241839, 0.8326141670559473, 0.3134910906420681, 0.10449703021402271, 0.5224851510701135, 0.13373601577328517, 0.6686800788664259, 0.4722828615577931, 0.28336971693467583, 0.24558708801005238, 0.7783283922784923, 0.1197428295813065, 0.1197428295813065, 0.32364755166868914, 0.6472951033373783, 0.238187358806571, 0.20057882846869138, 0.18804265168939815, 0.26325971236515744, 0.1128255910136389, 0.7757277625184942, 0.9613175468179781, 0.7068185989861043, 0.17670464974652608, 0.057647119648110014, 0.17294135894433005, 0.7494125554254302, 0.8628013753744072, 0.7994060094410824, 0.25253303257261905, 0.25253303257261905, 0.468989917634864, 0.9097319367245774, 0.621352687879552, 0.20711756262651734, 0.11935909258007295, 0.22166688622013547, 0.2557694841001563, 0.33250032933020324, 0.07673084523004689, 0.4433455544547112, 0.13039575131020917, 0.3390289534065438, 0.0782374507861255, 0.13073328855170946, 0.09804996641378208, 0.09804996641378208, 0.6536664427585472, 0.9613373555378812, 0.7830465448577305, 0.7810605169576865, 0.8425120485570016, 0.14041867475950026, 0.8996549841711791, 0.7993358498417283, 0.0868257258989438, 0.6946058071915504, 0.0868257258989438, 0.0868257258989438, 0.32270307247244256, 0.6454061449448851, 0.2690849898871941, 0.3180095335030476, 0.04892454361585347, 0.1223113590396337, 0.2446227180792674, 0.35143909799479467, 0.25559207126894157, 0.031949008908617696, 0.12779603563447078, 0.25559207126894157, 0.8107877776723834, 0.11582682538176906, 0.9152030866164148, 0.915336619800171, 0.7069284005389557, 0.17673210013473892, 0.8018912268955691, 0.16037824537911383, 0.7380685673351105, 0.2583239985672887, 0.18739027958067062, 0.07495611183226825, 0.18739027958067062, 0.41225861507747535, 0.1499122236645365, 0.3333823969060732, 0.06350140893449013, 0.31750704467245067, 0.12700281786898027, 0.15875352233622533, 0.8653482331293278, 0.7986556539743631, 0.28936377178776274, 0.09645459059592092, 0.2411364764898023, 0.38581836238368367], \"Term\": [\"able\", \"able\", \"able\", \"able\", \"accessory\", \"actually\", \"actually\", \"added\", \"allows\", \"allows\", \"already\", \"already\", \"although\", \"although\", \"although\", \"although\", \"always\", \"always\", \"always\", \"amazing\", \"amazing\", \"amazing\", \"amazing\", \"amazing\", \"anyone\", \"anyone\", \"anyone\", \"anyone\", \"application\", \"apps\", \"apps\", \"apps\", \"apps\", \"apps\", \"away\", \"away\", \"away\", \"awesome\", \"awesome\", \"awesome\", \"awesome\", \"awesome\", \"back\", \"back\", \"back\", \"back\", \"back\", \"bad\", \"bad\", \"battery\", \"battery\", \"battery\", \"battery\", \"battery\", \"beautiful\", \"beautiful\", \"beautiful\", \"beautiful\", \"beautiful\", \"beauty\", \"best\", \"best\", \"best\", \"better\", \"better\", \"better\", \"better\", \"bigger\", \"bigger\", \"biggest\", \"blown\", \"blown\", \"bought\", \"bought\", \"bought\", \"bought\", \"brand\", \"built\", \"camera\", \"camera\", \"camera\", \"camera\", \"camera\", \"can\", \"can\", \"can\", \"case\", \"case\", \"case\", \"case\", \"cell\", \"cell\", \"cell\", \"cellphone\", \"charge\", \"charge\", \"charge\", \"charge\", \"charge\", \"charging\", \"charging\", \"color\", \"color\", \"color\", \"color\", \"come\", \"come\", \"come\", \"come\", \"compared\", \"compared\", \"computer\", \"computer\", \"considering\", \"couple\", \"couple\", \"couple\", \"cover\", \"day\", \"day\", \"day\", \"day\", \"day\", \"definition\", \"delivery\", \"delivery\", \"design\", \"design\", \"design\", \"design\", \"design\", \"device\", \"device\", \"device\", \"device\", \"device\", \"different\", \"different\", \"different\", \"different\", \"display\", \"display\", \"display\", \"display\", \"doubt\", \"drain\", \"droid\", \"dual\", \"dual\", \"dy\", \"easy\", \"easy\", \"easy\", \"easy\", \"easy\", \"edge\", \"edge\", \"edge\", \"edge\", \"end\", \"enough\", \"enough\", \"entire\", \"entire\", \"error\", \"etc\", \"etc\", \"ever\", \"ever\", \"every\", \"every\", \"every\", \"every\", \"everyone\", \"everyone\", \"everyone\", \"everything\", \"everything\", \"everything\", \"everything\", \"excellent\", \"excellent\", \"excellent\", \"excellent\", \"expect\", \"expect\", \"experience\", \"face\", \"fairly\", \"family\", \"family\", \"fantastic\", \"fantastic\", \"fantastic\", \"fantastic\", \"far\", \"far\", \"far\", \"far\", \"far\", \"fast\", \"fast\", \"fast\", \"fast\", \"fast\", \"feature\", \"feature\", \"feature\", \"feature\", \"feature\", \"feel\", \"feel\", \"feel\", \"feel\", \"feel\", \"fingerprint\", \"fingerprint\", \"fingerprint\", \"fit\", \"fit\", \"fix\", \"flaw\", \"free\", \"free\", \"friend\", \"friend\", \"friend\", \"friendly\", \"friendly\", \"friendly\", \"froze\", \"future\", \"future\", \"galaxy\", \"galaxy\", \"galaxy\", \"galaxy\", \"galaxy\", \"gear\", \"gear\", \"get\", \"get\", \"get\", \"get\", \"glass\", \"glass\", \"glass\", \"going\", \"going\", \"going\", \"gold\", \"good\", \"good\", \"good\", \"good\", \"got\", \"got\", \"got\", \"got\", \"gotten\", \"gotten\", \"great\", \"great\", \"great\", \"great\", \"handle\", \"handle\", \"happier\", \"happier\", \"happy\", \"happy\", \"happy\", \"happy\", \"happy\", \"hard\", \"hard\", \"hard\", \"hassle\", \"high\", \"high\", \"high\", \"hour\", \"hour\", \"hour\", \"hour\", \"husband\", \"husband\", \"idea\", \"immediately\", \"immediately\", \"improved\", \"improved\", \"included\", \"incredible\", \"incredibly\", \"instead\", \"instead\", \"interface\", \"iphone\", \"iphone\", \"iphone\", \"iphone\", \"iphone\", \"issue\", \"issue\", \"issue\", \"issue\", \"item\", \"job\", \"job\", \"keep\", \"keep\", \"keep\", \"keep\", \"key\", \"knew\", \"lack\", \"lack\", \"large\", \"large\", \"large\", \"last\", \"last\", \"last\", \"last\", \"life\", \"life\", \"life\", \"life\", \"like\", \"like\", \"like\", \"like\", \"literally\", \"little\", \"little\", \"little\", \"load\", \"long\", \"long\", \"longer\", \"look\", \"look\", \"look\", \"look\", \"look\", \"looked\", \"lot\", \"lot\", \"lot\", \"loud\", \"love\", \"love\", \"love\", \"love\", \"love\", \"loving\", \"mail\", \"main\", \"make\", \"make\", \"make\", \"make\", \"making\", \"maybe\", \"medium\", \"medium\", \"mine\", \"mine\", \"miss\", \"miss\", \"money\", \"much\", \"much\", \"much\", \"much\", \"navigate\", \"navigate\", \"need\", \"need\", \"need\", \"need\", \"need\", \"needed\", \"negative\", \"negative\", \"negative\", \"never\", \"never\", \"never\", \"never\", \"new\", \"new\", \"new\", \"new\", \"new\", \"nice\", \"nice\", \"nice\", \"nice\", \"nice\", \"not\", \"not\", \"not\", \"note\", \"note\", \"note\", \"note\", \"okay\", \"one\", \"one\", \"one\", \"one\", \"one\", \"operating\", \"operating\", \"option\", \"option\", \"order\", \"order\", \"ordered\", \"outstanding\", \"outstanding\", \"overall\", \"overall\", \"overall\", \"owned\", \"owned\", \"owning\", \"owning\", \"pay\", \"pay\", \"performance\", \"performance\", \"performance\", \"performance\", \"performance\", \"performs\", \"person\", \"person\", \"person\", \"personal\", \"personal\", \"phone\", \"phone\", \"phone\", \"phone\", \"phone\", \"picture\", \"picture\", \"picture\", \"picture\", \"picture\", \"piece\", \"play\", \"play\", \"plus\", \"plus\", \"plus\", \"power\", \"power\", \"power\", \"pre\", \"premium\", \"problem\", \"problem\", \"problem\", \"problem\", \"problem\", \"processor\", \"processor\", \"processor\", \"processor\", \"product\", \"product\", \"product\", \"product\", \"proof\", \"proof\", \"protector\", \"protector\", \"purchasing\", \"quality\", \"quality\", \"quality\", \"quality\", \"quality\", \"really\", \"really\", \"really\", \"really\", \"really\", \"reason\", \"received\", \"received\", \"received\", \"received\", \"recognition\", \"recommend\", \"recommend\", \"recommend\", \"recommend\", \"regret\", \"regret\", \"reliable\", \"reliable\", \"removable\", \"response\", \"response\", \"samsung\", \"samsung\", \"samsung\", \"samsung\", \"samsung\", \"screen\", \"screen\", \"screen\", \"screen\", \"screen\", \"sensitive\", \"series\", \"several\", \"several\", \"sim\", \"single\", \"size\", \"size\", \"size\", \"size\", \"size\", \"sleek\", \"sleek\", \"sleek\", \"sleek\", \"sleek\", \"social\", \"social\", \"sometimes\", \"sometimes\", \"speaker\", \"speaker\", \"stepped\", \"stick\", \"still\", \"still\", \"still\", \"still\", \"streaming\", \"stuff\", \"stuff\", \"stunning\", \"stunning\", \"stunning\", \"style\", \"superb\", \"superior\", \"switched\", \"switched\", \"switched\", \"switching\", \"switching\", \"system\", \"system\", \"system\", \"take\", \"take\", \"take\", \"take\", \"take\", \"taken\", \"taking\", \"taking\", \"taking\", \"theme\", \"theme\", \"thing\", \"thing\", \"thing\", \"though\", \"though\", \"though\", \"thought\", \"thought\", \"time\", \"time\", \"time\", \"time\", \"time\", \"together\", \"ton\", \"trying\", \"trying\", \"two\", \"two\", \"two\", \"unfortunately\", \"unlocked\", \"upgrade\", \"upgrade\", \"upgrade\", \"upgrading\", \"usage\", \"usage\", \"use\", \"use\", \"use\", \"use\", \"use\", \"used\", \"used\", \"used\", \"used\", \"user\", \"user\", \"user\", \"user\", \"version\", \"viewing\", \"vivid\", \"wait\", \"wait\", \"waited\", \"warm\", \"watch\", \"watch\", \"watch\", \"watch\", \"water\", \"water\", \"way\", \"way\", \"way\", \"way\", \"way\", \"well\", \"well\", \"well\", \"well\", \"well\", \"went\", \"went\", \"wife\", \"wifi\", \"window\", \"window\", \"wireless\", \"wireless\", \"wish\", \"wish\", \"without\", \"without\", \"without\", \"without\", \"without\", \"work\", \"work\", \"work\", \"work\", \"work\", \"worried\", \"worst\", \"yet\", \"yet\", \"yet\", \"yet\"]}, \"R\": 30, \"lambda.step\": 0.01, \"plot.opts\": {\"xlab\": \"PC1\", \"ylab\": \"PC2\"}, \"topic.order\": [3, 1, 2, 5, 4]};\n",
       "\n",
       "function LDAvis_load_lib(url, callback){\n",
       "  var s = document.createElement('script');\n",
       "  s.src = url;\n",
       "  s.async = true;\n",
       "  s.onreadystatechange = s.onload = callback;\n",
       "  s.onerror = function(){console.warn(\"failed to load library \" + url);};\n",
       "  document.getElementsByTagName(\"head\")[0].appendChild(s);\n",
       "}\n",
       "\n",
       "if(typeof(LDAvis) !== \"undefined\"){\n",
       "   // already loaded: just create the visualization\n",
       "   !function(LDAvis){\n",
       "       new LDAvis(\"#\" + \"ldavis_el75927132301772326757608364\", ldavis_el75927132301772326757608364_data);\n",
       "   }(LDAvis);\n",
       "}else if(typeof define === \"function\" && define.amd){\n",
       "   // require.js is available: use it to load d3/LDAvis\n",
       "   require.config({paths: {d3: \"https://d3js.org/d3.v5\"}});\n",
       "   require([\"d3\"], function(d3){\n",
       "      window.d3 = d3;\n",
       "      LDAvis_load_lib(\"https://cdn.jsdelivr.net/gh/bmabey/pyLDAvis@3.4.0/pyLDAvis/js/ldavis.v3.0.0.js\", function(){\n",
       "        new LDAvis(\"#\" + \"ldavis_el75927132301772326757608364\", ldavis_el75927132301772326757608364_data);\n",
       "      });\n",
       "    });\n",
       "}else{\n",
       "    // require.js not available: dynamically load d3 & LDAvis\n",
       "    LDAvis_load_lib(\"https://d3js.org/d3.v5.js\", function(){\n",
       "         LDAvis_load_lib(\"https://cdn.jsdelivr.net/gh/bmabey/pyLDAvis@3.4.0/pyLDAvis/js/ldavis.v3.0.0.js\", function(){\n",
       "                 new LDAvis(\"#\" + \"ldavis_el75927132301772326757608364\", ldavis_el75927132301772326757608364_data);\n",
       "            })\n",
       "         });\n",
       "}\n",
       "</script>"
      ],
      "text/plain": [
       "<IPython.core.display.HTML object>"
      ]
     },
     "execution_count": 44,
     "metadata": {},
     "output_type": "execute_result"
    }
   ],
   "source": [
    "# Visualizing evaluation Metric Score chart\n",
    "\n",
    "# Visualize the topics\n",
    "vis_data = gensimvis.prepare(lda_model, corpus_gensim, dictionary)\n",
    "pyLDAvis.display(vis_data)"
   ]
  },
  {
   "cell_type": "code",
   "execution_count": 45,
   "id": "6f26097c-fbc2-4d63-b957-78208668debe",
   "metadata": {},
   "outputs": [
    {
     "data": {
      "image/png": "[encoded data removed]",
      "text/plain": [
       "<Figure size 1000x800 with 2 Axes>"
      ]
     },
     "metadata": {},
     "output_type": "display_data"
    }
   ],
   "source": [
    "# import numpy as np\n",
    "from sklearn.manifold import TSNE\n",
    "# import matplotlib.pyplot as plt\n",
    "\n",
    "# Generate the document-topic distribution for each document\n",
    "# Each element in `doc_topics` is a list of (topic_id, probability) tuples for a document\n",
    "doc_topics = [lda_model.get_document_topics(doc, minimum_probability=0) for doc in corpus_gensim]\n",
    "\n",
    "# Create the document-topic matrix where each row represents a document, and each column represents a topic's probability\n",
    "doc_topic_matrix = np.array([[topic[1] for topic in doc] for doc in doc_topics])\n",
    "\n",
    "# Apply t-SNE to document-topic matrix to reduce dimensions to 2\n",
    "tsne = TSNE(n_components=2, random_state=42)\n",
    "doc_topic_tsne = tsne.fit_transform(doc_topic_matrix)\n",
    "\n",
    "# Plot the t-SNE result\n",
    "plt.figure(figsize=(10, 8))\n",
    "plt.scatter(doc_topic_tsne[:, 0], doc_topic_tsne[:, 1], c=np.argmax(doc_topic_matrix, axis=1), cmap=\"tab10\")\n",
    "plt.colorbar(label='Topic')\n",
    "plt.xlabel(\"t-SNE Dimension 1\")\n",
    "plt.ylabel(\"t-SNE Dimension 2\")\n",
    "plt.title(\"Document Clustering by Topic\")\n",
    "plt.show()\n"
   ]
  },
  {
   "cell_type": "code",
   "execution_count": null,
   "id": "70cb0754-47eb-4f87-a2f0-0d0320d3cd8a",
   "metadata": {},
   "outputs": [],
   "source": []
  },
  {
   "cell_type": "markdown",
   "id": "fbd7da7a-5ea6-4d19-8c94-ee0fd8c68b83",
   "metadata": {},
   "source": [
    "# LSA Model"
   ]
  },
  {
   "cell_type": "code",
   "execution_count": null,
   "id": "179ec1c2-57e4-47a3-9494-d334633b2759",
   "metadata": {},
   "outputs": [],
   "source": []
  },
  {
   "cell_type": "code",
   "execution_count": null,
   "id": "aa364673-ea21-4f22-ad3b-3b1486c0be93",
   "metadata": {},
   "outputs": [],
   "source": []
  }
 ],
 "metadata": {
  "kernelspec": {
   "display_name": "venv",
   "language": "python",
   "name": "venv"
  },
  "language_info": {
   "codemirror_mode": {
    "name": "ipython",
    "version": 3
   },
   "file_extension": ".py",
   "mimetype": "text/x-python",
   "name": "python",
   "nbconvert_exporter": "python",
   "pygments_lexer": "ipython3",
   "version": "3.12.6"
  }
 },
 "nbformat": 4,
 "nbformat_minor": 5
}
