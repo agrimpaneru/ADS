{
 "cells": [
  {
   "cell_type": "code",
   "execution_count": 1,
   "id": "a1f746ab-d055-47d4-b750-e0c756292ef0",
   "metadata": {},
   "outputs": [],
   "source": [
    "#Import Libraries\n",
    "\n",
    "#for reading and data-manipulation\n",
    "import os\n",
    "import numpy as np\n",
    "import pandas as pd"
   ]
  },
  {
   "cell_type": "code",
   "execution_count": 2,
   "id": "c31388f7-a8bc-4578-b93a-d9e4f458bd68",
   "metadata": {},
   "outputs": [],
   "source": [
    "#for visualization\n",
    "import matplotlib.pyplot as plt\n",
    "import seaborn as sns\n",
    "sns.set()\n",
    "from wordcloud import WordCloud\n",
    "import pyLDAvis\n",
    "import pyLDAvis.gensim_models as gensimvis"
   ]
  },
  {
   "cell_type": "code",
   "execution_count": 3,
   "id": "f50e62f5-bc32-46ef-b5dc-8bd9a91b37fc",
   "metadata": {},
   "outputs": [],
   "source": [
    "#for data preprocessing\n",
    "import time\n",
    "from contractions import contractions_dict\n",
    "import re\n",
    "from collections import Counter\n",
    "from wordcloud import STOPWORDS\n",
    "import string\n",
    "import nltk\n",
    "from nltk.corpus import stopwords\n",
    "from nltk.tokenize import word_tokenize\n",
    "from nltk.stem import PorterStemmer\n",
    "from nltk.stem import WordNetLemmatizer\n",
    "from nltk import pos_tag\n",
    "from sklearn.feature_extraction.text import CountVectorizer\n",
    "from sklearn.feature_extraction.text import TfidfVectorizer"
   ]
  },
  {
   "cell_type": "code",
   "execution_count": 4,
   "id": "106c4edf-02aa-4ab7-91fa-9b71dda15ae3",
   "metadata": {},
   "outputs": [
    {
     "name": "stderr",
     "output_type": "stream",
     "text": [
      "/Users/binitkc/ADS_FiNAL/ADS/lib/python3.9/site-packages/urllib3/__init__.py:35: NotOpenSSLWarning: urllib3 v2 only supports OpenSSL 1.1.1+, currently the 'ssl' module is compiled with 'LibreSSL 2.8.3'. See: https://github.com/urllib3/urllib3/issues/3020\n",
      "  warnings.warn(\n"
     ]
    }
   ],
   "source": [
    "# for ML model Implementation\n",
    "from gensim import corpora\n",
    "from gensim.models import CoherenceModel, LdaModel\n",
    "from gensim.models.coherencemodel import CoherenceModel\n",
    "from sklearn.metrics import make_scorer\n",
    "from sklearn.model_selection import GridSearchCV\n",
    "from sklearn.pipeline import Pipeline\n",
    "from sklearn.model_selection import ParameterGrid\n",
    "from sklearn.decomposition import NMF\n",
    "from sklearn.decomposition import TruncatedSVD\n",
    "from sklearn.decomposition import PCA\n",
    "from sklearn.cluster import KMeans\n",
    "from bertopic import BERTopic\n",
    "from sklearn.metrics import silhouette_score\n",
    "import hdbscan\n",
    "from sentence_transformers import SentenceTransformer\n",
    "from umap import UMAP"
   ]
  },
  {
   "cell_type": "code",
   "execution_count": 5,
   "id": "0ebbbfbb-10c1-4bb6-88d4-ee9f3c72d2c6",
   "metadata": {},
   "outputs": [],
   "source": [
    "# This code avoids printing different warnings in following jupyter cells.\n",
    "import warnings\n",
    "warnings.simplefilter(\"ignore\", category=DeprecationWarning)\n",
    "# warnings.simplefilter(\"ignore\", category=SettingWithCopyWarning)\n"
   ]
  },
  {
   "cell_type": "code",
   "execution_count": 6,
   "id": "3bb2389a-9fd0-4bc6-bba0-51257a74e42d",
   "metadata": {},
   "outputs": [
    {
     "data": {
      "text/html": [
       "<div>\n",
       "<style scoped>\n",
       "    .dataframe tbody tr th:only-of-type {\n",
       "        vertical-align: middle;\n",
       "    }\n",
       "\n",
       "    .dataframe tbody tr th {\n",
       "        vertical-align: top;\n",
       "    }\n",
       "\n",
       "    .dataframe thead th {\n",
       "        text-align: right;\n",
       "    }\n",
       "</style>\n",
       "<table border=\"1\" class=\"dataframe\">\n",
       "  <thead>\n",
       "    <tr style=\"text-align: right;\">\n",
       "      <th></th>\n",
       "      <th>article_id</th>\n",
       "      <th>source_id</th>\n",
       "      <th>source_name</th>\n",
       "      <th>author</th>\n",
       "      <th>title</th>\n",
       "      <th>description</th>\n",
       "      <th>url</th>\n",
       "      <th>url_to_image</th>\n",
       "      <th>published_at</th>\n",
       "      <th>content</th>\n",
       "      <th>category</th>\n",
       "      <th>full_content</th>\n",
       "    </tr>\n",
       "  </thead>\n",
       "  <tbody>\n",
       "    <tr>\n",
       "      <th>0</th>\n",
       "      <td>89541</td>\n",
       "      <td>NaN</td>\n",
       "      <td>International Business Times</td>\n",
       "      <td>Paavan MATHEMA</td>\n",
       "      <td>UN Chief Urges World To 'Stop The Madness' Of ...</td>\n",
       "      <td>UN Secretary-General Antonio Guterres urged th...</td>\n",
       "      <td>https://www.ibtimes.com/un-chief-urges-world-s...</td>\n",
       "      <td>https://d.ibtimes.com/en/full/4496078/nepals-g...</td>\n",
       "      <td>2023-10-30 10:12:35.000000</td>\n",
       "      <td>UN Secretary-General Antonio Guterres urged th...</td>\n",
       "      <td>Nepal</td>\n",
       "      <td>UN Secretary-General Antonio Guterres urged th...</td>\n",
       "    </tr>\n",
       "    <tr>\n",
       "      <th>1</th>\n",
       "      <td>89542</td>\n",
       "      <td>NaN</td>\n",
       "      <td>Prtimes.jp</td>\n",
       "      <td>NaN</td>\n",
       "      <td>RANDEBOOããã¯ã³ã©ã³ã¯ä¸ã®å¤§äººã£ã...</td>\n",
       "      <td>[æ ªå¼ä¼ç¤¾Ainer]\\nRANDEBOOï¼ã©ã³ããã...</td>\n",
       "      <td>https://prtimes.jp/main/html/rd/p/000000147.00...</td>\n",
       "      <td>https://prtimes.jp/i/32220/147/ogp/d32220-147-...</td>\n",
       "      <td>2023-10-06 04:40:02.000000</td>\n",
       "      <td>RANDEBOO2023718()WEB2023 Autumn Winter \\n\"Nepa...</td>\n",
       "      <td>Nepal</td>\n",
       "      <td>NaN</td>\n",
       "    </tr>\n",
       "    <tr>\n",
       "      <th>2</th>\n",
       "      <td>89543</td>\n",
       "      <td>NaN</td>\n",
       "      <td>VOA News</td>\n",
       "      <td>webdesk@voanews.com (Agence France-Presse)</td>\n",
       "      <td>UN Chief Urges World to 'Stop the Madness' of ...</td>\n",
       "      <td>UN Secretary-General Antonio Guterres urged th...</td>\n",
       "      <td>https://www.voanews.com/a/un-chief-urges-world...</td>\n",
       "      <td>https://gdb.voanews.com/01000000-0a00-0242-60f...</td>\n",
       "      <td>2023-10-30 10:53:30.000000</td>\n",
       "      <td>Kathmandu, Nepal Â UN Secretary-General Antoni...</td>\n",
       "      <td>Nepal</td>\n",
       "      <td>NaN</td>\n",
       "    </tr>\n",
       "    <tr>\n",
       "      <th>3</th>\n",
       "      <td>89545</td>\n",
       "      <td>NaN</td>\n",
       "      <td>The Indian Express</td>\n",
       "      <td>Editorial</td>\n",
       "      <td>Sikkim warning: Hydroelectricity push must be ...</td>\n",
       "      <td>Ecologists caution against the adverse effects...</td>\n",
       "      <td>https://indianexpress.com/article/opinion/edit...</td>\n",
       "      <td>https://images.indianexpress.com/2023/10/edit-...</td>\n",
       "      <td>2023-10-06 01:20:24.000000</td>\n",
       "      <td>At least 14 persons lost their lives and more ...</td>\n",
       "      <td>Nepal</td>\n",
       "      <td>At least 14 persons lost their lives and more ...</td>\n",
       "    </tr>\n",
       "    <tr>\n",
       "      <th>4</th>\n",
       "      <td>89547</td>\n",
       "      <td>NaN</td>\n",
       "      <td>The Times of Israel</td>\n",
       "      <td>Jacob Magid</td>\n",
       "      <td>200 foreigners, dual nationals cut down in Ham...</td>\n",
       "      <td>France lost 35 citizens, Thailand 33, US 31, U...</td>\n",
       "      <td>https://www.timesofisrael.com/200-foreigners-d...</td>\n",
       "      <td>https://static.timesofisrael.com/www/uploads/2...</td>\n",
       "      <td>2023-10-27 01:08:34.000000</td>\n",
       "      <td>Scores of foreign citizens were killed, taken ...</td>\n",
       "      <td>Nepal</td>\n",
       "      <td>NaN</td>\n",
       "    </tr>\n",
       "  </tbody>\n",
       "</table>\n",
       "</div>"
      ],
      "text/plain": [
       "   article_id source_id                   source_name  \\\n",
       "0       89541       NaN  International Business Times   \n",
       "1       89542       NaN                    Prtimes.jp   \n",
       "2       89543       NaN                      VOA News   \n",
       "3       89545       NaN            The Indian Express   \n",
       "4       89547       NaN           The Times of Israel   \n",
       "\n",
       "                                       author  \\\n",
       "0                              Paavan MATHEMA   \n",
       "1                                         NaN   \n",
       "2  webdesk@voanews.com (Agence France-Presse)   \n",
       "3                                   Editorial   \n",
       "4                                 Jacob Magid   \n",
       "\n",
       "                                               title  \\\n",
       "0  UN Chief Urges World To 'Stop The Madness' Of ...   \n",
       "1  RANDEBOOããã¯ã³ã©ã³ã¯ä¸ã®å¤§äººã£ã...   \n",
       "2  UN Chief Urges World to 'Stop the Madness' of ...   \n",
       "3  Sikkim warning: Hydroelectricity push must be ...   \n",
       "4  200 foreigners, dual nationals cut down in Ham...   \n",
       "\n",
       "                                         description  \\\n",
       "0  UN Secretary-General Antonio Guterres urged th...   \n",
       "1  [æ ªå¼ä¼ç¤¾Ainer]\\nRANDEBOOï¼ã©ã³ããã...   \n",
       "2  UN Secretary-General Antonio Guterres urged th...   \n",
       "3  Ecologists caution against the adverse effects...   \n",
       "4  France lost 35 citizens, Thailand 33, US 31, U...   \n",
       "\n",
       "                                                 url  \\\n",
       "0  https://www.ibtimes.com/un-chief-urges-world-s...   \n",
       "1  https://prtimes.jp/main/html/rd/p/000000147.00...   \n",
       "2  https://www.voanews.com/a/un-chief-urges-world...   \n",
       "3  https://indianexpress.com/article/opinion/edit...   \n",
       "4  https://www.timesofisrael.com/200-foreigners-d...   \n",
       "\n",
       "                                        url_to_image  \\\n",
       "0  https://d.ibtimes.com/en/full/4496078/nepals-g...   \n",
       "1  https://prtimes.jp/i/32220/147/ogp/d32220-147-...   \n",
       "2  https://gdb.voanews.com/01000000-0a00-0242-60f...   \n",
       "3  https://images.indianexpress.com/2023/10/edit-...   \n",
       "4  https://static.timesofisrael.com/www/uploads/2...   \n",
       "\n",
       "                 published_at  \\\n",
       "0  2023-10-30 10:12:35.000000   \n",
       "1  2023-10-06 04:40:02.000000   \n",
       "2  2023-10-30 10:53:30.000000   \n",
       "3  2023-10-06 01:20:24.000000   \n",
       "4  2023-10-27 01:08:34.000000   \n",
       "\n",
       "                                             content category  \\\n",
       "0  UN Secretary-General Antonio Guterres urged th...    Nepal   \n",
       "1  RANDEBOO2023718()WEB2023 Autumn Winter \\n\"Nepa...    Nepal   \n",
       "2  Kathmandu, Nepal Â UN Secretary-General Antoni...    Nepal   \n",
       "3  At least 14 persons lost their lives and more ...    Nepal   \n",
       "4  Scores of foreign citizens were killed, taken ...    Nepal   \n",
       "\n",
       "                                        full_content  \n",
       "0  UN Secretary-General Antonio Guterres urged th...  \n",
       "1                                                NaN  \n",
       "2                                                NaN  \n",
       "3  At least 14 persons lost their lives and more ...  \n",
       "4                                                NaN  "
      ]
     },
     "execution_count": 6,
     "metadata": {},
     "output_type": "execute_result"
    }
   ],
   "source": [
    "df = pd.read_csv('GlobalNewsDataset/data.csv', encoding='ISO-8859-1')\n",
    "df.head()"
   ]
  },
  {
   "cell_type": "code",
   "execution_count": 7,
   "id": "2e1b77d0-0c40-4c1f-bf11-f97767233a7b",
   "metadata": {},
   "outputs": [
    {
     "data": {
      "text/plain": [
       "category\n",
       "Stock          3999\n",
       "Health         2594\n",
       "Finance        2402\n",
       "Technology     2371\n",
       "Real estate    2352\n",
       "Canada         2324\n",
       "News           1852\n",
       "COVID          1821\n",
       "Education      1771\n",
       "Food           1613\n",
       "Jobs           1562\n",
       "Weather        1496\n",
       "Travel         1451\n",
       "Cars           1289\n",
       "Science        1261\n",
       "Asia           1242\n",
       "India          1196\n",
       "Music          1159\n",
       "Politics       1156\n",
       "Climate        1140\n",
       "Name: count, dtype: int64"
      ]
     },
     "execution_count": 7,
     "metadata": {},
     "output_type": "execute_result"
    }
   ],
   "source": [
    "df.category.value_counts().iloc[0:20]"
   ]
  },
  {
   "cell_type": "code",
   "execution_count": 8,
   "id": "ac759f4c-5058-40ba-9d01-55ba8dc0057b",
   "metadata": {},
   "outputs": [
    {
     "data": {
      "text/plain": [
       "category\n",
       "Stock          3999\n",
       "Health         2594\n",
       "Finance        2402\n",
       "Technology     2371\n",
       "Real estate    2352\n",
       "COVID          1821\n",
       "Education      1771\n",
       "Food           1613\n",
       "Jobs           1562\n",
       "Weather        1496\n",
       "Travel         1451\n",
       "Cars           1289\n",
       "Science        1261\n",
       "Music          1159\n",
       "Politics       1156\n",
       "Climate        1140\n",
       "Name: count, dtype: int64"
      ]
     },
     "execution_count": 8,
     "metadata": {},
     "output_type": "execute_result"
    }
   ],
   "source": [
    "# Define the list of categories you want to keep\n",
    "categories_to_keep = ['Stock', 'Health', 'Finance', 'Technology', 'Real estate', 'COVID', \n",
    "                      'Education', 'Food', 'Jobs', 'Weather', 'Travel', 'Cars', \n",
    "                      'Science', 'Music', 'Politics', 'Climate']\n",
    "\n",
    "# Filter the dataframe to keep only the records with the desired categories\n",
    "df_filtered = df[df['category'].isin(categories_to_keep)]\n",
    "\n",
    "# Verify the filtered data\n",
    "df_filtered['category'].value_counts()\n"
   ]
  },
  {
   "cell_type": "code",
   "execution_count": 9,
   "id": "8aae62a4-ad89-4c33-a233-e177f33cebc9",
   "metadata": {},
   "outputs": [],
   "source": [
    "df = df_filtered.rename(columns={'article_id': 'unique_identifier', 'content': 'brief_review'})"
   ]
  },
  {
   "cell_type": "code",
   "execution_count": 10,
   "id": "1b9561f8-f6c5-4ce7-afdf-95c6b136f069",
   "metadata": {},
   "outputs": [],
   "source": [
    "df = df[['unique_identifier', 'brief_review', 'category']].dropna()"
   ]
  },
  {
   "cell_type": "code",
   "execution_count": 11,
   "id": "11c8ccc2-c1c1-4830-87ea-e3476c3e1a0d",
   "metadata": {},
   "outputs": [
    {
     "data": {
      "text/plain": [
       "unique_identifier    0\n",
       "brief_review         0\n",
       "category             0\n",
       "dtype: int64"
      ]
     },
     "execution_count": 11,
     "metadata": {},
     "output_type": "execute_result"
    }
   ],
   "source": [
    "# Handling missing values\n",
    "df.isnull().sum()"
   ]
  },
  {
   "cell_type": "code",
   "execution_count": 12,
   "id": "8f7e020e-bd11-4cfe-94db-7dd703cf907c",
   "metadata": {},
   "outputs": [
    {
     "data": {
      "text/plain": [
       "2952"
      ]
     },
     "execution_count": 12,
     "metadata": {},
     "output_type": "execute_result"
    }
   ],
   "source": [
    "#handling duplicate values \n",
    "len(df[df.duplicated(subset=['brief_review'])])"
   ]
  },
  {
   "cell_type": "code",
   "execution_count": 13,
   "id": "f996f32d-2926-4d21-8232-5036d2b2f8a6",
   "metadata": {},
   "outputs": [
    {
     "name": "stdout",
     "output_type": "stream",
     "text": [
      "      unique_identifier                                       brief_review  \\\n",
      "556               95201  <ul><li>Samia says the two nations will addres...   \n",
      "961               96533  Environmental Defenders Face Harassment, Intim...   \n",
      "1280              93416  WeWork has seen a dramatic fall from grace sin...   \n",
      "1289              93553  Orlando real estate agent and content creator ...   \n",
      "1393             105026  Piers, Roxie, and Ryuki rock Pasio with a publ...   \n",
      "\n",
      "         category  \n",
      "556      Politics  \n",
      "961       Climate  \n",
      "1280  Real estate  \n",
      "1289  Real estate  \n",
      "1393      Weather  \n"
     ]
    }
   ],
   "source": [
    "# Drop duplicate \n",
    "df_cleaned = df.drop_duplicates(subset = [\"brief_review\"])\n",
    "print(df_cleaned.head())"
   ]
  },
  {
   "cell_type": "code",
   "execution_count": 14,
   "id": "66e849d5-b196-4c4a-a0f7-5ab996747966",
   "metadata": {},
   "outputs": [
    {
     "name": "stdout",
     "output_type": "stream",
     "text": [
      "<class 'pandas.core.frame.DataFrame'>\n",
      "Index: 26485 entries, 556 to 104690\n",
      "Data columns (total 3 columns):\n",
      " #   Column             Non-Null Count  Dtype \n",
      "---  ------             --------------  ----- \n",
      " 0   unique_identifier  26485 non-null  int64 \n",
      " 1   brief_review       26485 non-null  object\n",
      " 2   category           26485 non-null  object\n",
      "dtypes: int64(1), object(2)\n",
      "memory usage: 827.7+ KB\n"
     ]
    }
   ],
   "source": [
    "df_cleaned.info()"
   ]
  },
  {
   "cell_type": "code",
   "execution_count": 15,
   "id": "27c4db27-6caf-45af-af84-d6e3db1e8079",
   "metadata": {},
   "outputs": [],
   "source": [
    "# Expand Contraction\n",
    "\n",
    "# Function to expand contractions using the contractions_dict\n",
    "def expand_contractions(text):\n",
    "    # Regular expression pattern to match contractions\n",
    "    contractions_pattern = re.compile('({})'.format('|'.join(contractions_dict.keys())),\n",
    "                                      flags=re.IGNORECASE | re.DOTALL)\n",
    "\n",
    "    def expand_match(contraction):\n",
    "        match = contraction.group(0)\n",
    "        expanded = contractions_dict.get(match.lower())\n",
    "        return expanded\n",
    "\n",
    "    expanded_text = contractions_pattern.sub(expand_match, text)\n",
    "    return expanded_text\n",
    "\n",
    "# Apply the expand_contractions function to the \"brief_review\" column\n",
    "df_cleaned['brief_review'] = df_cleaned['brief_review'].apply(expand_contractions)"
   ]
  },
  {
   "cell_type": "code",
   "execution_count": 16,
   "id": "066e63a2-bbea-4b33-bf16-9b3b86a70d46",
   "metadata": {},
   "outputs": [],
   "source": [
    "# Remove Punctuations\n",
    "\n",
    "# Function to remove punctuations from text\n",
    "def remove_punctuations(text):\n",
    "    # Create a translation table to remove punctuations\n",
    "    translator = str.maketrans('', '', string.punctuation +'\\n')\n",
    "\n",
    "    # Apply the translation table to remove punctuations\n",
    "    text_without_punctuations = text.translate(translator)\n",
    "    return text_without_punctuations\n",
    "\n",
    "# Apply the remove_punctuations function to the \"brief_review\" column\n",
    "df_cleaned['brief_review'] = df_cleaned['brief_review'].apply(remove_punctuations)"
   ]
  },
  {
   "cell_type": "code",
   "execution_count": 17,
   "id": "293e719b-54ee-45bc-9992-f453554d3135",
   "metadata": {},
   "outputs": [],
   "source": [
    "# Convert text in the \"brief_review\" column to lowercase\n",
    "df_cleaned['brief_review'] = df_cleaned['brief_review'].str.lower()"
   ]
  },
  {
   "cell_type": "code",
   "execution_count": 18,
   "id": "c4e59383-4c53-4c99-80fa-d5d5384e14ab",
   "metadata": {},
   "outputs": [
    {
     "data": {
      "text/plain": [
       "556     ullisamia says the two nations will address sh...\n",
       "961     environmental defenders face harassment intimi...\n",
       "1280    wework has seen a dramatic fall from grace sin...\n",
       "1289    orlando real estate agent and content creator ...\n",
       "1393    piers roxie and ryuki rock pasio with a public...\n",
       "Name: brief_review, dtype: object"
      ]
     },
     "execution_count": 18,
     "metadata": {},
     "output_type": "execute_result"
    }
   ],
   "source": [
    "# Function to remove URLs from text\n",
    "def remove_urls(text):\n",
    "    url_pattern = re.compile(r'https?://\\S+|www\\.\\S+')\n",
    "    return re.sub(url_pattern, '', text)\n",
    "\n",
    "# Function to remove words containing digits from text\n",
    "def remove_words_with_digits(text):\n",
    "    return ' '.join(word for word in text.split() if not any(char.isdigit() for char in word))\n",
    "\n",
    "# Function to remove non-ASCII characters (special characters)\n",
    "def remove_special_characters(text):\n",
    "    # Replace non-ASCII characters with a space\n",
    "    return re.sub(r'[^\\x00-\\x7F]+', ' ', text)\n",
    "\n",
    "# Apply the remove_urls function to the \"brief_review\" column\n",
    "df_cleaned['brief_review'] = df_cleaned['brief_review'].apply(remove_urls)\n",
    "\n",
    "# Apply the remove_words_with_digits function to the \"brief_review\" column\n",
    "df_cleaned['brief_review'] = df_cleaned['brief_review'].apply(remove_words_with_digits)\n",
    "\n",
    "# Apply the remove_special_characters function to the \"brief_review\" column\n",
    "df_cleaned['brief_review'] = df_cleaned['brief_review'].apply(remove_special_characters)\n",
    "\n",
    "# Verify the cleaned data\n",
    "df_cleaned['brief_review'].head()\n"
   ]
  },
  {
   "cell_type": "code",
   "execution_count": 19,
   "id": "10b225d2-91c6-4c86-b8ee-e63fc0b03b2f",
   "metadata": {},
   "outputs": [
    {
     "name": "stderr",
     "output_type": "stream",
     "text": [
      "[nltk_data] Downloading package stopwords to\n",
      "[nltk_data]     /Users/binitkc/nltk_data...\n",
      "[nltk_data]   Package stopwords is already up-to-date!\n"
     ]
    }
   ],
   "source": [
    " # Remove Stopwords\n",
    "# Download the list of stopwords if not already downloaded\n",
    "nltk.download('stopwords')\n",
    "\n",
    "# Get the list of English stopwords\n",
    "stop_words = set(stopwords.words('english'))\n",
    "\n",
    "# Add unnecessary words to the list of English stopwords\n",
    "stop_unnecessary_words = stop_words.union(set(['mr', 'people', 'would', 'year', 'said', 'say', 'also', 'wale', 'could']))\n",
    "\n",
    "\n",
    "# Function to remove stopwords from text\n",
    "def remove_stopwords(text):\n",
    "    words = text.split()\n",
    "    words = [word for word in words if len(word)>2]\n",
    "    filtered_words = [word for word in words if word.lower() not in stop_unnecessary_words]\n",
    "    return ' '.join(filtered_words)\n",
    "\n",
    "# Apply the remove_stopwords function to the \"brief_review\" column\n",
    "df_cleaned['brief_review'] = df_cleaned['brief_review'].apply(remove_stopwords)"
   ]
  },
  {
   "cell_type": "code",
   "execution_count": 20,
   "id": "5bdac301-439d-44c6-bae4-186631d239a7",
   "metadata": {},
   "outputs": [],
   "source": [
    "# Remove white spaces from the \"brief_review\" column\n",
    "df_cleaned['brief_review'] = df_cleaned['brief_review'].str.replace('\\s+', ' ', regex=True)"
   ]
  },
  {
   "cell_type": "code",
   "execution_count": 21,
   "id": "644e0b2c-8c7d-430a-b938-15d7e022bc8e",
   "metadata": {},
   "outputs": [
    {
     "name": "stderr",
     "output_type": "stream",
     "text": [
      "[nltk_data] Downloading package punkt to /Users/binitkc/nltk_data...\n",
      "[nltk_data]   Package punkt is already up-to-date!\n",
      "[nltk_data] Downloading package punkt_tab to\n",
      "[nltk_data]     /Users/binitkc/nltk_data...\n",
      "[nltk_data]   Package punkt_tab is already up-to-date!\n"
     ]
    }
   ],
   "source": [
    "# Tokenization\n",
    "\n",
    "# Download the punkt package\n",
    "nltk.download('punkt')\n",
    "# Download the punkt_tab resource as well\n",
    "nltk.download('punkt_tab')\n",
    "\n",
    "# Function to tokenize text\n",
    "def tokenize_text(text):\n",
    "    tokens = word_tokenize(text)\n",
    "    return tokens\n",
    "\n",
    "# Apply the tokenize_text function to the \"brief_review\" column\n",
    "df_cleaned['tokenized_content'] = df_cleaned['brief_review'].apply(tokenize_text)\n"
   ]
  },
  {
   "cell_type": "code",
   "execution_count": 22,
   "id": "0ed4eba1-f81d-4dca-b19d-9582e6dce706",
   "metadata": {},
   "outputs": [
    {
     "data": {
      "text/html": [
       "<div>\n",
       "<style scoped>\n",
       "    .dataframe tbody tr th:only-of-type {\n",
       "        vertical-align: middle;\n",
       "    }\n",
       "\n",
       "    .dataframe tbody tr th {\n",
       "        vertical-align: top;\n",
       "    }\n",
       "\n",
       "    .dataframe thead th {\n",
       "        text-align: right;\n",
       "    }\n",
       "</style>\n",
       "<table border=\"1\" class=\"dataframe\">\n",
       "  <thead>\n",
       "    <tr style=\"text-align: right;\">\n",
       "      <th></th>\n",
       "      <th>unique_identifier</th>\n",
       "      <th>brief_review</th>\n",
       "      <th>category</th>\n",
       "      <th>tokenized_content</th>\n",
       "    </tr>\n",
       "  </thead>\n",
       "  <tbody>\n",
       "    <tr>\n",
       "      <th>556</th>\n",
       "      <td>95201</td>\n",
       "      <td>ullisamia says two nations address shared colo...</td>\n",
       "      <td>Politics</td>\n",
       "      <td>[ullisamia, says, two, nations, address, share...</td>\n",
       "    </tr>\n",
       "    <tr>\n",
       "      <th>961</th>\n",
       "      <td>96533</td>\n",
       "      <td>environmental defenders face harassment intimi...</td>\n",
       "      <td>Climate</td>\n",
       "      <td>[environmental, defenders, face, harassment, i...</td>\n",
       "    </tr>\n",
       "    <tr>\n",
       "      <th>1280</th>\n",
       "      <td>93416</td>\n",
       "      <td>wework seen dramatic fall grace since valued b...</td>\n",
       "      <td>Real estate</td>\n",
       "      <td>[wework, seen, dramatic, fall, grace, since, v...</td>\n",
       "    </tr>\n",
       "    <tr>\n",
       "      <th>1289</th>\n",
       "      <td>93553</td>\n",
       "      <td>orlando real estate agent content creator fred...</td>\n",
       "      <td>Real estate</td>\n",
       "      <td>[orlando, real, estate, agent, content, creato...</td>\n",
       "    </tr>\n",
       "    <tr>\n",
       "      <th>1393</th>\n",
       "      <td>105026</td>\n",
       "      <td>piers roxie ryuki rock pasio public jam sessio...</td>\n",
       "      <td>Weather</td>\n",
       "      <td>[piers, roxie, ryuki, rock, pasio, public, jam...</td>\n",
       "    </tr>\n",
       "  </tbody>\n",
       "</table>\n",
       "</div>"
      ],
      "text/plain": [
       "      unique_identifier                                       brief_review  \\\n",
       "556               95201  ullisamia says two nations address shared colo...   \n",
       "961               96533  environmental defenders face harassment intimi...   \n",
       "1280              93416  wework seen dramatic fall grace since valued b...   \n",
       "1289              93553  orlando real estate agent content creator fred...   \n",
       "1393             105026  piers roxie ryuki rock pasio public jam sessio...   \n",
       "\n",
       "         category                                  tokenized_content  \n",
       "556      Politics  [ullisamia, says, two, nations, address, share...  \n",
       "961       Climate  [environmental, defenders, face, harassment, i...  \n",
       "1280  Real estate  [wework, seen, dramatic, fall, grace, since, v...  \n",
       "1289  Real estate  [orlando, real, estate, agent, content, creato...  \n",
       "1393      Weather  [piers, roxie, ryuki, rock, pasio, public, jam...  "
      ]
     },
     "execution_count": 22,
     "metadata": {},
     "output_type": "execute_result"
    }
   ],
   "source": [
    "df_cleaned.head()"
   ]
  },
  {
   "cell_type": "code",
   "execution_count": 23,
   "id": "1934f5d1-f594-4944-9dce-41e2f100dc40",
   "metadata": {},
   "outputs": [],
   "source": [
    "# Initialize the stemmer\n",
    "stemmer = PorterStemmer()\n",
    "\n",
    "# Function to perform stemming on text\n",
    "def stem_text(tokens):\n",
    "    stemmed_tokens = [stemmer.stem(token) for token in tokens]\n",
    "    return stemmed_tokens\n",
    "\n",
    "# Apply the stem_text function to the \"tokenized_content\" column\n",
    "df_cleaned['stemmed_content'] = df_cleaned['tokenized_content'].apply(stem_text)"
   ]
  },
  {
   "cell_type": "code",
   "execution_count": 24,
   "id": "d25f76a2-332c-40bf-b1dd-184feb0e6674",
   "metadata": {},
   "outputs": [
    {
     "name": "stderr",
     "output_type": "stream",
     "text": [
      "[nltk_data] Downloading package wordnet to /Users/binitkc/nltk_data...\n",
      "[nltk_data]   Package wordnet is already up-to-date!\n"
     ]
    }
   ],
   "source": [
    "nltk.download('wordnet')\n",
    "# Initialize the lemmatizer\n",
    "lemmatizer = WordNetLemmatizer()\n",
    "\n",
    "# Function to perform lemmatization on text\n",
    "def lemmatize_text(tokens):\n",
    "    lemmatized_tokens = [lemmatizer.lemmatize(token) for token in tokens]\n",
    "    return lemmatized_tokens\n",
    "\n",
    "# Apply the lemmatize_text function to the \"tokenized_content\" column\n",
    "df_cleaned['lemmatized_content'] = df_cleaned['tokenized_content'].apply(lemmatize_text)"
   ]
  },
  {
   "cell_type": "code",
   "execution_count": 25,
   "id": "0ce38bcd-2000-4746-891a-49fdd5cd75e1",
   "metadata": {},
   "outputs": [
    {
     "name": "stdout",
     "output_type": "stream",
     "text": [
      "<class 'pandas.core.series.Series'>\n",
      "Index: 26485 entries, 556 to 104690\n",
      "Series name: lemmatized_content\n",
      "Non-Null Count  Dtype \n",
      "--------------  ----- \n",
      "26485 non-null  object\n",
      "dtypes: object(1)\n",
      "memory usage: 413.8+ KB\n"
     ]
    }
   ],
   "source": [
    "df_cleaned['lemmatized_content'].info()"
   ]
  },
  {
   "cell_type": "code",
   "execution_count": 26,
   "id": "298c6905-35e8-4b12-8c19-b7293d7109dd",
   "metadata": {},
   "outputs": [],
   "source": [
    "df_cleaned = df_cleaned.iloc[0:10000]"
   ]
  },
  {
   "cell_type": "code",
   "execution_count": 27,
   "id": "9c141d75-d9dc-4172-a3c5-a9e0ae55ec9e",
   "metadata": {},
   "outputs": [
    {
     "name": "stdout",
     "output_type": "stream",
     "text": [
      "<class 'pandas.core.frame.DataFrame'>\n",
      "Index: 10000 entries, 556 to 55850\n",
      "Data columns (total 6 columns):\n",
      " #   Column              Non-Null Count  Dtype \n",
      "---  ------              --------------  ----- \n",
      " 0   unique_identifier   10000 non-null  int64 \n",
      " 1   brief_review        10000 non-null  object\n",
      " 2   category            10000 non-null  object\n",
      " 3   tokenized_content   10000 non-null  object\n",
      " 4   stemmed_content     10000 non-null  object\n",
      " 5   lemmatized_content  10000 non-null  object\n",
      "dtypes: int64(1), object(5)\n",
      "memory usage: 546.9+ KB\n"
     ]
    }
   ],
   "source": [
    "df_cleaned.info()"
   ]
  },
  {
   "cell_type": "code",
   "execution_count": 31,
   "id": "cde3c3a4-a6fd-4e5e-8ac6-ae84900ddbd8",
   "metadata": {},
   "outputs": [
    {
     "name": "stdout",
     "output_type": "stream",
     "text": [
      "\n",
      "\n",
      "\n",
      "\n"
     ]
    },
    {
     "name": "stderr",
     "output_type": "stream",
     "text": [
      "/Users/binitkc/ADS_FiNAL/ADS/lib/python3.9/site-packages/urllib3/__init__.py:35: NotOpenSSLWarning: urllib3 v2 only supports OpenSSL 1.1.1+, currently the 'ssl' module is compiled with 'LibreSSL 2.8.3'. See: https://github.com/urllib3/urllib3/issues/3020\n",
      "  warnings.warn(\n",
      "/Users/binitkc/ADS_FiNAL/ADS/lib/python3.9/site-packages/urllib3/__init__.py:35: NotOpenSSLWarning: urllib3 v2 only supports OpenSSL 1.1.1+, currently the 'ssl' module is compiled with 'LibreSSL 2.8.3'. See: https://github.com/urllib3/urllib3/issues/3020\n",
      "  warnings.warn(\n",
      "/Users/binitkc/ADS_FiNAL/ADS/lib/python3.9/site-packages/urllib3/__init__.py:35: NotOpenSSLWarning: urllib3 v2 only supports OpenSSL 1.1.1+, currently the 'ssl' module is compiled with 'LibreSSL 2.8.3'. See: https://github.com/urllib3/urllib3/issues/3020\n",
      "  warnings.warn(\n",
      "/Users/binitkc/ADS_FiNAL/ADS/lib/python3.9/site-packages/urllib3/__init__.py:35: NotOpenSSLWarning: urllib3 v2 only supports OpenSSL 1.1.1+, currently the 'ssl' module is compiled with 'LibreSSL 2.8.3'. See: https://github.com/urllib3/urllib3/issues/3020\n",
      "  warnings.warn(\n",
      "/Users/binitkc/ADS_FiNAL/ADS/lib/python3.9/site-packages/urllib3/__init__.py:35: NotOpenSSLWarning: urllib3 v2 only supports OpenSSL 1.1.1+, currently the 'ssl' module is compiled with 'LibreSSL 2.8.3'. See: https://github.com/urllib3/urllib3/issues/3020\n",
      "  warnings.warn(\n",
      "/Users/binitkc/ADS_FiNAL/ADS/lib/python3.9/site-packages/urllib3/__init__.py:35: NotOpenSSLWarning: urllib3 v2 only supports OpenSSL 1.1.1+, currently the 'ssl' module is compiled with 'LibreSSL 2.8.3'. See: https://github.com/urllib3/urllib3/issues/3020\n",
      "  warnings.warn(\n",
      "/Users/binitkc/ADS_FiNAL/ADS/lib/python3.9/site-packages/urllib3/__init__.py:35: NotOpenSSLWarning: urllib3 v2 only supports OpenSSL 1.1.1+, currently the 'ssl' module is compiled with 'LibreSSL 2.8.3'. See: https://github.com/urllib3/urllib3/issues/3020\n",
      "  warnings.warn(\n"
     ]
    },
    {
     "name": "stdout",
     "output_type": "stream",
     "text": [
      "Coherence Score: 0.3111\n",
      "\n",
      "\n",
      "Topic 0: 0.012*\"new\" + 0.010*\"apple\" + 0.009*\"one\" + 0.008*\"music\" + 0.007*\"time\" + 0.006*\"first\" + 0.006*\"week\" + 0.005*\"world\" + 0.005*\"last\" + 0.004*\"year\"\n",
      "\n",
      "\n",
      "Topic 1: 0.012*\"president\" + 0.010*\"former\" + 0.008*\"trump\" + 0.007*\"case\" + 0.007*\"product\" + 0.006*\"house\" + 0.006*\"minister\" + 0.006*\"state\" + 0.006*\"expert\" + 0.006*\"thursday\"\n",
      "\n",
      "\n",
      "Topic 2: 0.006*\"car\" + 0.006*\"new\" + 0.005*\"may\" + 0.005*\"travel\" + 0.005*\"like\" + 0.005*\"rate\" + 0.005*\"one\" + 0.005*\"food\" + 0.005*\"climate\" + 0.005*\"industry\"\n",
      "\n",
      "\n",
      "Topic 3: 0.030*\"report\" + 0.018*\"company\" + 0.016*\"free\" + 0.015*\"share\" + 0.011*\"inc\" + 0.011*\"quarter\" + 0.010*\"according\" + 0.009*\"stock\" + 0.009*\"november\" + 0.008*\"global\"\n",
      "\n",
      "\n",
      "Topic 4: 0.011*\"new\" + 0.008*\"city\" + 0.007*\"state\" + 0.007*\"israel\" + 0.006*\"gaza\" + 0.006*\"million\" + 0.005*\"two\" + 0.005*\"united\" + 0.005*\"country\" + 0.004*\"york\"\n"
     ]
    }
   ],
   "source": [
    "# ML Model - 1 Implementation\n",
    "\n",
    "# Convert the list of lemmatized tokens into a list of lists\n",
    "lemmatized_text = [tokens for tokens in df_cleaned['lemmatized_content']]\n",
    "\n",
    "# Create a dictionary of terms with term frequency filtering\n",
    "dictionary = corpora.Dictionary(lemmatized_text)\n",
    "dictionary.filter_extremes(no_below=3, no_above=0.85)\n",
    "\n",
    "# Fit the Algorithm\n",
    "\n",
    "# Create a Gensim corpus\n",
    "corpus_gensim = [dictionary.doc2bow(text) for text in lemmatized_text]\n",
    "\n",
    "# Build LDA model\n",
    "num_topics = 5\n",
    "lda_model = LdaModel(corpus_gensim, num_topics=num_topics, id2word=dictionary, passes=20, random_state= 40)\n",
    "\n",
    "print('\\n')\n",
    "print('\\n')\n",
    "# Calculate coherence score\n",
    "coherence_model = CoherenceModel(model=lda_model, texts=lemmatized_text, dictionary=dictionary, coherence='c_v')\n",
    "coherence_score = coherence_model.get_coherence()\n",
    "\n",
    "# Print coherence score\n",
    "print(f\"Coherence Score: {coherence_score:.4f}\")\n",
    "\n",
    "\n",
    "# Print topics and associated words\n",
    "for topic_id, topic_words in lda_model.print_topics():\n",
    "    print('\\n')\n",
    "    print(f\"Topic {topic_id}: {topic_words}\")"
   ]
  },
  {
   "cell_type": "code",
   "execution_count": 32,
   "id": "f90b212c-bed4-4e81-b9cc-92d4a0550f11",
   "metadata": {},
   "outputs": [
    {
     "name": "stderr",
     "output_type": "stream",
     "text": [
      "/Users/binitkc/ADS_FiNAL/ADS/lib/python3.9/site-packages/urllib3/__init__.py:35: NotOpenSSLWarning: urllib3 v2 only supports OpenSSL 1.1.1+, currently the 'ssl' module is compiled with 'LibreSSL 2.8.3'. See: https://github.com/urllib3/urllib3/issues/3020\n",
      "  warnings.warn(\n",
      "/Users/binitkc/ADS_FiNAL/ADS/lib/python3.9/site-packages/urllib3/__init__.py:35: NotOpenSSLWarning: urllib3 v2 only supports OpenSSL 1.1.1+, currently the 'ssl' module is compiled with 'LibreSSL 2.8.3'. See: https://github.com/urllib3/urllib3/issues/3020\n",
      "  warnings.warn(\n",
      "/Users/binitkc/ADS_FiNAL/ADS/lib/python3.9/site-packages/urllib3/__init__.py:35: NotOpenSSLWarning: urllib3 v2 only supports OpenSSL 1.1.1+, currently the 'ssl' module is compiled with 'LibreSSL 2.8.3'. See: https://github.com/urllib3/urllib3/issues/3020\n",
      "  warnings.warn(\n",
      "/Users/binitkc/ADS_FiNAL/ADS/lib/python3.9/site-packages/urllib3/__init__.py:35: NotOpenSSLWarning: urllib3 v2 only supports OpenSSL 1.1.1+, currently the 'ssl' module is compiled with 'LibreSSL 2.8.3'. See: https://github.com/urllib3/urllib3/issues/3020\n",
      "  warnings.warn(\n",
      "/Users/binitkc/ADS_FiNAL/ADS/lib/python3.9/site-packages/urllib3/__init__.py:35: NotOpenSSLWarning: urllib3 v2 only supports OpenSSL 1.1.1+, currently the 'ssl' module is compiled with 'LibreSSL 2.8.3'. See: https://github.com/urllib3/urllib3/issues/3020\n",
      "  warnings.warn(\n",
      "/Users/binitkc/ADS_FiNAL/ADS/lib/python3.9/site-packages/urllib3/__init__.py:35: NotOpenSSLWarning: urllib3 v2 only supports OpenSSL 1.1.1+, currently the 'ssl' module is compiled with 'LibreSSL 2.8.3'. See: https://github.com/urllib3/urllib3/issues/3020\n",
      "  warnings.warn(\n",
      "/Users/binitkc/ADS_FiNAL/ADS/lib/python3.9/site-packages/urllib3/__init__.py:35: NotOpenSSLWarning: urllib3 v2 only supports OpenSSL 1.1.1+, currently the 'ssl' module is compiled with 'LibreSSL 2.8.3'. See: https://github.com/urllib3/urllib3/issues/3020\n",
      "  warnings.warn(\n",
      "/Users/binitkc/ADS_FiNAL/ADS/lib/python3.9/site-packages/urllib3/__init__.py:35: NotOpenSSLWarning: urllib3 v2 only supports OpenSSL 1.1.1+, currently the 'ssl' module is compiled with 'LibreSSL 2.8.3'. See: https://github.com/urllib3/urllib3/issues/3020\n",
      "  warnings.warn(\n",
      "/Users/binitkc/ADS_FiNAL/ADS/lib/python3.9/site-packages/urllib3/__init__.py:35: NotOpenSSLWarning: urllib3 v2 only supports OpenSSL 1.1.1+, currently the 'ssl' module is compiled with 'LibreSSL 2.8.3'. See: https://github.com/urllib3/urllib3/issues/3020\n",
      "  warnings.warn(\n",
      "/Users/binitkc/ADS_FiNAL/ADS/lib/python3.9/site-packages/urllib3/__init__.py:35: NotOpenSSLWarning: urllib3 v2 only supports OpenSSL 1.1.1+, currently the 'ssl' module is compiled with 'LibreSSL 2.8.3'. See: https://github.com/urllib3/urllib3/issues/3020\n",
      "  warnings.warn(\n",
      "/Users/binitkc/ADS_FiNAL/ADS/lib/python3.9/site-packages/urllib3/__init__.py:35: NotOpenSSLWarning: urllib3 v2 only supports OpenSSL 1.1.1+, currently the 'ssl' module is compiled with 'LibreSSL 2.8.3'. See: https://github.com/urllib3/urllib3/issues/3020\n",
      "  warnings.warn(\n",
      "/Users/binitkc/ADS_FiNAL/ADS/lib/python3.9/site-packages/urllib3/__init__.py:35: NotOpenSSLWarning: urllib3 v2 only supports OpenSSL 1.1.1+, currently the 'ssl' module is compiled with 'LibreSSL 2.8.3'. See: https://github.com/urllib3/urllib3/issues/3020\n",
      "  warnings.warn(\n",
      "/Users/binitkc/ADS_FiNAL/ADS/lib/python3.9/site-packages/urllib3/__init__.py:35: NotOpenSSLWarning: urllib3 v2 only supports OpenSSL 1.1.1+, currently the 'ssl' module is compiled with 'LibreSSL 2.8.3'. See: https://github.com/urllib3/urllib3/issues/3020\n",
      "  warnings.warn(\n",
      "/Users/binitkc/ADS_FiNAL/ADS/lib/python3.9/site-packages/urllib3/__init__.py:35: NotOpenSSLWarning: urllib3 v2 only supports OpenSSL 1.1.1+, currently the 'ssl' module is compiled with 'LibreSSL 2.8.3'. See: https://github.com/urllib3/urllib3/issues/3020\n",
      "  warnings.warn(\n",
      "/Users/binitkc/ADS_FiNAL/ADS/lib/python3.9/site-packages/urllib3/__init__.py:35: NotOpenSSLWarning: urllib3 v2 only supports OpenSSL 1.1.1+, currently the 'ssl' module is compiled with 'LibreSSL 2.8.3'. See: https://github.com/urllib3/urllib3/issues/3020\n",
      "  warnings.warn(\n",
      "/Users/binitkc/ADS_FiNAL/ADS/lib/python3.9/site-packages/urllib3/__init__.py:35: NotOpenSSLWarning: urllib3 v2 only supports OpenSSL 1.1.1+, currently the 'ssl' module is compiled with 'LibreSSL 2.8.3'. See: https://github.com/urllib3/urllib3/issues/3020\n",
      "  warnings.warn(\n",
      "/Users/binitkc/ADS_FiNAL/ADS/lib/python3.9/site-packages/urllib3/__init__.py:35: NotOpenSSLWarning: urllib3 v2 only supports OpenSSL 1.1.1+, currently the 'ssl' module is compiled with 'LibreSSL 2.8.3'. See: https://github.com/urllib3/urllib3/issues/3020\n",
      "  warnings.warn(\n",
      "/Users/binitkc/ADS_FiNAL/ADS/lib/python3.9/site-packages/urllib3/__init__.py:35: NotOpenSSLWarning: urllib3 v2 only supports OpenSSL 1.1.1+, currently the 'ssl' module is compiled with 'LibreSSL 2.8.3'. See: https://github.com/urllib3/urllib3/issues/3020\n",
      "  warnings.warn(\n",
      "/Users/binitkc/ADS_FiNAL/ADS/lib/python3.9/site-packages/urllib3/__init__.py:35: NotOpenSSLWarning: urllib3 v2 only supports OpenSSL 1.1.1+, currently the 'ssl' module is compiled with 'LibreSSL 2.8.3'. See: https://github.com/urllib3/urllib3/issues/3020\n",
      "  warnings.warn(\n",
      "/Users/binitkc/ADS_FiNAL/ADS/lib/python3.9/site-packages/urllib3/__init__.py:35: NotOpenSSLWarning: urllib3 v2 only supports OpenSSL 1.1.1+, currently the 'ssl' module is compiled with 'LibreSSL 2.8.3'. See: https://github.com/urllib3/urllib3/issues/3020\n",
      "  warnings.warn(\n",
      "/Users/binitkc/ADS_FiNAL/ADS/lib/python3.9/site-packages/urllib3/__init__.py:35: NotOpenSSLWarning: urllib3 v2 only supports OpenSSL 1.1.1+, currently the 'ssl' module is compiled with 'LibreSSL 2.8.3'. See: https://github.com/urllib3/urllib3/issues/3020\n",
      "  warnings.warn(\n",
      "/Users/binitkc/ADS_FiNAL/ADS/lib/python3.9/site-packages/urllib3/__init__.py:35: NotOpenSSLWarning: urllib3 v2 only supports OpenSSL 1.1.1+, currently the 'ssl' module is compiled with 'LibreSSL 2.8.3'. See: https://github.com/urllib3/urllib3/issues/3020\n",
      "  warnings.warn(\n",
      "/Users/binitkc/ADS_FiNAL/ADS/lib/python3.9/site-packages/urllib3/__init__.py:35: NotOpenSSLWarning: urllib3 v2 only supports OpenSSL 1.1.1+, currently the 'ssl' module is compiled with 'LibreSSL 2.8.3'. See: https://github.com/urllib3/urllib3/issues/3020\n",
      "  warnings.warn(\n",
      "/Users/binitkc/ADS_FiNAL/ADS/lib/python3.9/site-packages/urllib3/__init__.py:35: NotOpenSSLWarning: urllib3 v2 only supports OpenSSL 1.1.1+, currently the 'ssl' module is compiled with 'LibreSSL 2.8.3'. See: https://github.com/urllib3/urllib3/issues/3020\n",
      "  warnings.warn(\n",
      "/Users/binitkc/ADS_FiNAL/ADS/lib/python3.9/site-packages/urllib3/__init__.py:35: NotOpenSSLWarning: urllib3 v2 only supports OpenSSL 1.1.1+, currently the 'ssl' module is compiled with 'LibreSSL 2.8.3'. See: https://github.com/urllib3/urllib3/issues/3020\n",
      "  warnings.warn(\n",
      "/Users/binitkc/ADS_FiNAL/ADS/lib/python3.9/site-packages/urllib3/__init__.py:35: NotOpenSSLWarning: urllib3 v2 only supports OpenSSL 1.1.1+, currently the 'ssl' module is compiled with 'LibreSSL 2.8.3'. See: https://github.com/urllib3/urllib3/issues/3020\n",
      "  warnings.warn(\n",
      "/Users/binitkc/ADS_FiNAL/ADS/lib/python3.9/site-packages/urllib3/__init__.py:35: NotOpenSSLWarning: urllib3 v2 only supports OpenSSL 1.1.1+, currently the 'ssl' module is compiled with 'LibreSSL 2.8.3'. See: https://github.com/urllib3/urllib3/issues/3020\n",
      "  warnings.warn(\n",
      "/Users/binitkc/ADS_FiNAL/ADS/lib/python3.9/site-packages/urllib3/__init__.py:35: NotOpenSSLWarning: urllib3 v2 only supports OpenSSL 1.1.1+, currently the 'ssl' module is compiled with 'LibreSSL 2.8.3'. See: https://github.com/urllib3/urllib3/issues/3020\n",
      "  warnings.warn(\n",
      "/Users/binitkc/ADS_FiNAL/ADS/lib/python3.9/site-packages/urllib3/__init__.py:35: NotOpenSSLWarning: urllib3 v2 only supports OpenSSL 1.1.1+, currently the 'ssl' module is compiled with 'LibreSSL 2.8.3'. See: https://github.com/urllib3/urllib3/issues/3020\n",
      "  warnings.warn(\n",
      "/Users/binitkc/ADS_FiNAL/ADS/lib/python3.9/site-packages/urllib3/__init__.py:35: NotOpenSSLWarning: urllib3 v2 only supports OpenSSL 1.1.1+, currently the 'ssl' module is compiled with 'LibreSSL 2.8.3'. See: https://github.com/urllib3/urllib3/issues/3020\n",
      "  warnings.warn(\n",
      "/Users/binitkc/ADS_FiNAL/ADS/lib/python3.9/site-packages/urllib3/__init__.py:35: NotOpenSSLWarning: urllib3 v2 only supports OpenSSL 1.1.1+, currently the 'ssl' module is compiled with 'LibreSSL 2.8.3'. See: https://github.com/urllib3/urllib3/issues/3020\n",
      "  warnings.warn(\n",
      "/Users/binitkc/ADS_FiNAL/ADS/lib/python3.9/site-packages/urllib3/__init__.py:35: NotOpenSSLWarning: urllib3 v2 only supports OpenSSL 1.1.1+, currently the 'ssl' module is compiled with 'LibreSSL 2.8.3'. See: https://github.com/urllib3/urllib3/issues/3020\n",
      "  warnings.warn(\n",
      "/Users/binitkc/ADS_FiNAL/ADS/lib/python3.9/site-packages/urllib3/__init__.py:35: NotOpenSSLWarning: urllib3 v2 only supports OpenSSL 1.1.1+, currently the 'ssl' module is compiled with 'LibreSSL 2.8.3'. See: https://github.com/urllib3/urllib3/issues/3020\n",
      "  warnings.warn(\n",
      "/Users/binitkc/ADS_FiNAL/ADS/lib/python3.9/site-packages/urllib3/__init__.py:35: NotOpenSSLWarning: urllib3 v2 only supports OpenSSL 1.1.1+, currently the 'ssl' module is compiled with 'LibreSSL 2.8.3'. See: https://github.com/urllib3/urllib3/issues/3020\n",
      "  warnings.warn(\n",
      "/Users/binitkc/ADS_FiNAL/ADS/lib/python3.9/site-packages/urllib3/__init__.py:35: NotOpenSSLWarning: urllib3 v2 only supports OpenSSL 1.1.1+, currently the 'ssl' module is compiled with 'LibreSSL 2.8.3'. See: https://github.com/urllib3/urllib3/issues/3020\n",
      "  warnings.warn(\n",
      "/Users/binitkc/ADS_FiNAL/ADS/lib/python3.9/site-packages/urllib3/__init__.py:35: NotOpenSSLWarning: urllib3 v2 only supports OpenSSL 1.1.1+, currently the 'ssl' module is compiled with 'LibreSSL 2.8.3'. See: https://github.com/urllib3/urllib3/issues/3020\n",
      "  warnings.warn(\n",
      "/Users/binitkc/ADS_FiNAL/ADS/lib/python3.9/site-packages/urllib3/__init__.py:35: NotOpenSSLWarning: urllib3 v2 only supports OpenSSL 1.1.1+, currently the 'ssl' module is compiled with 'LibreSSL 2.8.3'. See: https://github.com/urllib3/urllib3/issues/3020\n",
      "  warnings.warn(\n",
      "/Users/binitkc/ADS_FiNAL/ADS/lib/python3.9/site-packages/urllib3/__init__.py:35: NotOpenSSLWarning: urllib3 v2 only supports OpenSSL 1.1.1+, currently the 'ssl' module is compiled with 'LibreSSL 2.8.3'. See: https://github.com/urllib3/urllib3/issues/3020\n",
      "  warnings.warn(\n",
      "/Users/binitkc/ADS_FiNAL/ADS/lib/python3.9/site-packages/urllib3/__init__.py:35: NotOpenSSLWarning: urllib3 v2 only supports OpenSSL 1.1.1+, currently the 'ssl' module is compiled with 'LibreSSL 2.8.3'. See: https://github.com/urllib3/urllib3/issues/3020\n",
      "  warnings.warn(\n",
      "/Users/binitkc/ADS_FiNAL/ADS/lib/python3.9/site-packages/urllib3/__init__.py:35: NotOpenSSLWarning: urllib3 v2 only supports OpenSSL 1.1.1+, currently the 'ssl' module is compiled with 'LibreSSL 2.8.3'. See: https://github.com/urllib3/urllib3/issues/3020\n",
      "  warnings.warn(\n",
      "/Users/binitkc/ADS_FiNAL/ADS/lib/python3.9/site-packages/urllib3/__init__.py:35: NotOpenSSLWarning: urllib3 v2 only supports OpenSSL 1.1.1+, currently the 'ssl' module is compiled with 'LibreSSL 2.8.3'. See: https://github.com/urllib3/urllib3/issues/3020\n",
      "  warnings.warn(\n",
      "/Users/binitkc/ADS_FiNAL/ADS/lib/python3.9/site-packages/urllib3/__init__.py:35: NotOpenSSLWarning: urllib3 v2 only supports OpenSSL 1.1.1+, currently the 'ssl' module is compiled with 'LibreSSL 2.8.3'. See: https://github.com/urllib3/urllib3/issues/3020\n",
      "  warnings.warn(\n",
      "/Users/binitkc/ADS_FiNAL/ADS/lib/python3.9/site-packages/urllib3/__init__.py:35: NotOpenSSLWarning: urllib3 v2 only supports OpenSSL 1.1.1+, currently the 'ssl' module is compiled with 'LibreSSL 2.8.3'. See: https://github.com/urllib3/urllib3/issues/3020\n",
      "  warnings.warn(\n",
      "/Users/binitkc/ADS_FiNAL/ADS/lib/python3.9/site-packages/urllib3/__init__.py:35: NotOpenSSLWarning: urllib3 v2 only supports OpenSSL 1.1.1+, currently the 'ssl' module is compiled with 'LibreSSL 2.8.3'. See: https://github.com/urllib3/urllib3/issues/3020\n",
      "  warnings.warn(\n",
      "/Users/binitkc/ADS_FiNAL/ADS/lib/python3.9/site-packages/urllib3/__init__.py:35: NotOpenSSLWarning: urllib3 v2 only supports OpenSSL 1.1.1+, currently the 'ssl' module is compiled with 'LibreSSL 2.8.3'. See: https://github.com/urllib3/urllib3/issues/3020\n",
      "  warnings.warn(\n",
      "/Users/binitkc/ADS_FiNAL/ADS/lib/python3.9/site-packages/urllib3/__init__.py:35: NotOpenSSLWarning: urllib3 v2 only supports OpenSSL 1.1.1+, currently the 'ssl' module is compiled with 'LibreSSL 2.8.3'. See: https://github.com/urllib3/urllib3/issues/3020\n",
      "  warnings.warn(\n",
      "/Users/binitkc/ADS_FiNAL/ADS/lib/python3.9/site-packages/urllib3/__init__.py:35: NotOpenSSLWarning: urllib3 v2 only supports OpenSSL 1.1.1+, currently the 'ssl' module is compiled with 'LibreSSL 2.8.3'. See: https://github.com/urllib3/urllib3/issues/3020\n",
      "  warnings.warn(\n",
      "/Users/binitkc/ADS_FiNAL/ADS/lib/python3.9/site-packages/urllib3/__init__.py:35: NotOpenSSLWarning: urllib3 v2 only supports OpenSSL 1.1.1+, currently the 'ssl' module is compiled with 'LibreSSL 2.8.3'. See: https://github.com/urllib3/urllib3/issues/3020\n",
      "  warnings.warn(\n",
      "/Users/binitkc/ADS_FiNAL/ADS/lib/python3.9/site-packages/urllib3/__init__.py:35: NotOpenSSLWarning: urllib3 v2 only supports OpenSSL 1.1.1+, currently the 'ssl' module is compiled with 'LibreSSL 2.8.3'. See: https://github.com/urllib3/urllib3/issues/3020\n",
      "  warnings.warn(\n",
      "/Users/binitkc/ADS_FiNAL/ADS/lib/python3.9/site-packages/urllib3/__init__.py:35: NotOpenSSLWarning: urllib3 v2 only supports OpenSSL 1.1.1+, currently the 'ssl' module is compiled with 'LibreSSL 2.8.3'. See: https://github.com/urllib3/urllib3/issues/3020\n",
      "  warnings.warn(\n",
      "/Users/binitkc/ADS_FiNAL/ADS/lib/python3.9/site-packages/urllib3/__init__.py:35: NotOpenSSLWarning: urllib3 v2 only supports OpenSSL 1.1.1+, currently the 'ssl' module is compiled with 'LibreSSL 2.8.3'. See: https://github.com/urllib3/urllib3/issues/3020\n",
      "  warnings.warn(\n",
      "/Users/binitkc/ADS_FiNAL/ADS/lib/python3.9/site-packages/urllib3/__init__.py:35: NotOpenSSLWarning: urllib3 v2 only supports OpenSSL 1.1.1+, currently the 'ssl' module is compiled with 'LibreSSL 2.8.3'. See: https://github.com/urllib3/urllib3/issues/3020\n",
      "  warnings.warn(\n",
      "/Users/binitkc/ADS_FiNAL/ADS/lib/python3.9/site-packages/urllib3/__init__.py:35: NotOpenSSLWarning: urllib3 v2 only supports OpenSSL 1.1.1+, currently the 'ssl' module is compiled with 'LibreSSL 2.8.3'. See: https://github.com/urllib3/urllib3/issues/3020\n",
      "  warnings.warn(\n",
      "/Users/binitkc/ADS_FiNAL/ADS/lib/python3.9/site-packages/urllib3/__init__.py:35: NotOpenSSLWarning: urllib3 v2 only supports OpenSSL 1.1.1+, currently the 'ssl' module is compiled with 'LibreSSL 2.8.3'. See: https://github.com/urllib3/urllib3/issues/3020\n",
      "  warnings.warn(\n",
      "/Users/binitkc/ADS_FiNAL/ADS/lib/python3.9/site-packages/urllib3/__init__.py:35: NotOpenSSLWarning: urllib3 v2 only supports OpenSSL 1.1.1+, currently the 'ssl' module is compiled with 'LibreSSL 2.8.3'. See: https://github.com/urllib3/urllib3/issues/3020\n",
      "  warnings.warn(\n",
      "/Users/binitkc/ADS_FiNAL/ADS/lib/python3.9/site-packages/urllib3/__init__.py:35: NotOpenSSLWarning: urllib3 v2 only supports OpenSSL 1.1.1+, currently the 'ssl' module is compiled with 'LibreSSL 2.8.3'. See: https://github.com/urllib3/urllib3/issues/3020\n",
      "  warnings.warn(\n",
      "/Users/binitkc/ADS_FiNAL/ADS/lib/python3.9/site-packages/urllib3/__init__.py:35: NotOpenSSLWarning: urllib3 v2 only supports OpenSSL 1.1.1+, currently the 'ssl' module is compiled with 'LibreSSL 2.8.3'. See: https://github.com/urllib3/urllib3/issues/3020\n",
      "  warnings.warn(\n",
      "/Users/binitkc/ADS_FiNAL/ADS/lib/python3.9/site-packages/urllib3/__init__.py:35: NotOpenSSLWarning: urllib3 v2 only supports OpenSSL 1.1.1+, currently the 'ssl' module is compiled with 'LibreSSL 2.8.3'. See: https://github.com/urllib3/urllib3/issues/3020\n",
      "  warnings.warn(\n",
      "/Users/binitkc/ADS_FiNAL/ADS/lib/python3.9/site-packages/urllib3/__init__.py:35: NotOpenSSLWarning: urllib3 v2 only supports OpenSSL 1.1.1+, currently the 'ssl' module is compiled with 'LibreSSL 2.8.3'. See: https://github.com/urllib3/urllib3/issues/3020\n",
      "  warnings.warn(\n",
      "/Users/binitkc/ADS_FiNAL/ADS/lib/python3.9/site-packages/urllib3/__init__.py:35: NotOpenSSLWarning: urllib3 v2 only supports OpenSSL 1.1.1+, currently the 'ssl' module is compiled with 'LibreSSL 2.8.3'. See: https://github.com/urllib3/urllib3/issues/3020\n",
      "  warnings.warn(\n",
      "/Users/binitkc/ADS_FiNAL/ADS/lib/python3.9/site-packages/urllib3/__init__.py:35: NotOpenSSLWarning: urllib3 v2 only supports OpenSSL 1.1.1+, currently the 'ssl' module is compiled with 'LibreSSL 2.8.3'. See: https://github.com/urllib3/urllib3/issues/3020\n",
      "  warnings.warn(\n",
      "/Users/binitkc/ADS_FiNAL/ADS/lib/python3.9/site-packages/urllib3/__init__.py:35: NotOpenSSLWarning: urllib3 v2 only supports OpenSSL 1.1.1+, currently the 'ssl' module is compiled with 'LibreSSL 2.8.3'. See: https://github.com/urllib3/urllib3/issues/3020\n",
      "  warnings.warn(\n",
      "/Users/binitkc/ADS_FiNAL/ADS/lib/python3.9/site-packages/urllib3/__init__.py:35: NotOpenSSLWarning: urllib3 v2 only supports OpenSSL 1.1.1+, currently the 'ssl' module is compiled with 'LibreSSL 2.8.3'. See: https://github.com/urllib3/urllib3/issues/3020\n",
      "  warnings.warn(\n",
      "/Users/binitkc/ADS_FiNAL/ADS/lib/python3.9/site-packages/urllib3/__init__.py:35: NotOpenSSLWarning: urllib3 v2 only supports OpenSSL 1.1.1+, currently the 'ssl' module is compiled with 'LibreSSL 2.8.3'. See: https://github.com/urllib3/urllib3/issues/3020\n",
      "  warnings.warn(\n",
      "/Users/binitkc/ADS_FiNAL/ADS/lib/python3.9/site-packages/urllib3/__init__.py:35: NotOpenSSLWarning: urllib3 v2 only supports OpenSSL 1.1.1+, currently the 'ssl' module is compiled with 'LibreSSL 2.8.3'. See: https://github.com/urllib3/urllib3/issues/3020\n",
      "  warnings.warn(\n",
      "/Users/binitkc/ADS_FiNAL/ADS/lib/python3.9/site-packages/urllib3/__init__.py:35: NotOpenSSLWarning: urllib3 v2 only supports OpenSSL 1.1.1+, currently the 'ssl' module is compiled with 'LibreSSL 2.8.3'. See: https://github.com/urllib3/urllib3/issues/3020\n",
      "  warnings.warn(\n",
      "/Users/binitkc/ADS_FiNAL/ADS/lib/python3.9/site-packages/urllib3/__init__.py:35: NotOpenSSLWarning: urllib3 v2 only supports OpenSSL 1.1.1+, currently the 'ssl' module is compiled with 'LibreSSL 2.8.3'. See: https://github.com/urllib3/urllib3/issues/3020\n",
      "  warnings.warn(\n",
      "/Users/binitkc/ADS_FiNAL/ADS/lib/python3.9/site-packages/urllib3/__init__.py:35: NotOpenSSLWarning: urllib3 v2 only supports OpenSSL 1.1.1+, currently the 'ssl' module is compiled with 'LibreSSL 2.8.3'. See: https://github.com/urllib3/urllib3/issues/3020\n",
      "  warnings.warn(\n",
      "/Users/binitkc/ADS_FiNAL/ADS/lib/python3.9/site-packages/urllib3/__init__.py:35: NotOpenSSLWarning: urllib3 v2 only supports OpenSSL 1.1.1+, currently the 'ssl' module is compiled with 'LibreSSL 2.8.3'. See: https://github.com/urllib3/urllib3/issues/3020\n",
      "  warnings.warn(\n",
      "/Users/binitkc/ADS_FiNAL/ADS/lib/python3.9/site-packages/urllib3/__init__.py:35: NotOpenSSLWarning: urllib3 v2 only supports OpenSSL 1.1.1+, currently the 'ssl' module is compiled with 'LibreSSL 2.8.3'. See: https://github.com/urllib3/urllib3/issues/3020\n",
      "  warnings.warn(\n",
      "/Users/binitkc/ADS_FiNAL/ADS/lib/python3.9/site-packages/urllib3/__init__.py:35: NotOpenSSLWarning: urllib3 v2 only supports OpenSSL 1.1.1+, currently the 'ssl' module is compiled with 'LibreSSL 2.8.3'. See: https://github.com/urllib3/urllib3/issues/3020\n",
      "  warnings.warn(\n",
      "/Users/binitkc/ADS_FiNAL/ADS/lib/python3.9/site-packages/urllib3/__init__.py:35: NotOpenSSLWarning: urllib3 v2 only supports OpenSSL 1.1.1+, currently the 'ssl' module is compiled with 'LibreSSL 2.8.3'. See: https://github.com/urllib3/urllib3/issues/3020\n",
      "  warnings.warn(\n",
      "/Users/binitkc/ADS_FiNAL/ADS/lib/python3.9/site-packages/urllib3/__init__.py:35: NotOpenSSLWarning: urllib3 v2 only supports OpenSSL 1.1.1+, currently the 'ssl' module is compiled with 'LibreSSL 2.8.3'. See: https://github.com/urllib3/urllib3/issues/3020\n",
      "  warnings.warn(\n",
      "/Users/binitkc/ADS_FiNAL/ADS/lib/python3.9/site-packages/urllib3/__init__.py:35: NotOpenSSLWarning: urllib3 v2 only supports OpenSSL 1.1.1+, currently the 'ssl' module is compiled with 'LibreSSL 2.8.3'. See: https://github.com/urllib3/urllib3/issues/3020\n",
      "  warnings.warn(\n",
      "/Users/binitkc/ADS_FiNAL/ADS/lib/python3.9/site-packages/urllib3/__init__.py:35: NotOpenSSLWarning: urllib3 v2 only supports OpenSSL 1.1.1+, currently the 'ssl' module is compiled with 'LibreSSL 2.8.3'. See: https://github.com/urllib3/urllib3/issues/3020\n",
      "  warnings.warn(\n",
      "/Users/binitkc/ADS_FiNAL/ADS/lib/python3.9/site-packages/urllib3/__init__.py:35: NotOpenSSLWarning: urllib3 v2 only supports OpenSSL 1.1.1+, currently the 'ssl' module is compiled with 'LibreSSL 2.8.3'. See: https://github.com/urllib3/urllib3/issues/3020\n",
      "  warnings.warn(\n",
      "/Users/binitkc/ADS_FiNAL/ADS/lib/python3.9/site-packages/urllib3/__init__.py:35: NotOpenSSLWarning: urllib3 v2 only supports OpenSSL 1.1.1+, currently the 'ssl' module is compiled with 'LibreSSL 2.8.3'. See: https://github.com/urllib3/urllib3/issues/3020\n",
      "  warnings.warn(\n",
      "/Users/binitkc/ADS_FiNAL/ADS/lib/python3.9/site-packages/urllib3/__init__.py:35: NotOpenSSLWarning: urllib3 v2 only supports OpenSSL 1.1.1+, currently the 'ssl' module is compiled with 'LibreSSL 2.8.3'. See: https://github.com/urllib3/urllib3/issues/3020\n",
      "  warnings.warn(\n",
      "/Users/binitkc/ADS_FiNAL/ADS/lib/python3.9/site-packages/urllib3/__init__.py:35: NotOpenSSLWarning: urllib3 v2 only supports OpenSSL 1.1.1+, currently the 'ssl' module is compiled with 'LibreSSL 2.8.3'. See: https://github.com/urllib3/urllib3/issues/3020\n",
      "  warnings.warn(\n",
      "/Users/binitkc/ADS_FiNAL/ADS/lib/python3.9/site-packages/urllib3/__init__.py:35: NotOpenSSLWarning: urllib3 v2 only supports OpenSSL 1.1.1+, currently the 'ssl' module is compiled with 'LibreSSL 2.8.3'. See: https://github.com/urllib3/urllib3/issues/3020\n",
      "  warnings.warn(\n",
      "/Users/binitkc/ADS_FiNAL/ADS/lib/python3.9/site-packages/urllib3/__init__.py:35: NotOpenSSLWarning: urllib3 v2 only supports OpenSSL 1.1.1+, currently the 'ssl' module is compiled with 'LibreSSL 2.8.3'. See: https://github.com/urllib3/urllib3/issues/3020\n",
      "  warnings.warn(\n",
      "/Users/binitkc/ADS_FiNAL/ADS/lib/python3.9/site-packages/urllib3/__init__.py:35: NotOpenSSLWarning: urllib3 v2 only supports OpenSSL 1.1.1+, currently the 'ssl' module is compiled with 'LibreSSL 2.8.3'. See: https://github.com/urllib3/urllib3/issues/3020\n",
      "  warnings.warn(\n",
      "/Users/binitkc/ADS_FiNAL/ADS/lib/python3.9/site-packages/urllib3/__init__.py:35: NotOpenSSLWarning: urllib3 v2 only supports OpenSSL 1.1.1+, currently the 'ssl' module is compiled with 'LibreSSL 2.8.3'. See: https://github.com/urllib3/urllib3/issues/3020\n",
      "  warnings.warn(\n",
      "/Users/binitkc/ADS_FiNAL/ADS/lib/python3.9/site-packages/urllib3/__init__.py:35: NotOpenSSLWarning: urllib3 v2 only supports OpenSSL 1.1.1+, currently the 'ssl' module is compiled with 'LibreSSL 2.8.3'. See: https://github.com/urllib3/urllib3/issues/3020\n",
      "  warnings.warn(\n",
      "/Users/binitkc/ADS_FiNAL/ADS/lib/python3.9/site-packages/urllib3/__init__.py:35: NotOpenSSLWarning: urllib3 v2 only supports OpenSSL 1.1.1+, currently the 'ssl' module is compiled with 'LibreSSL 2.8.3'. See: https://github.com/urllib3/urllib3/issues/3020\n",
      "  warnings.warn(\n",
      "/Users/binitkc/ADS_FiNAL/ADS/lib/python3.9/site-packages/urllib3/__init__.py:35: NotOpenSSLWarning: urllib3 v2 only supports OpenSSL 1.1.1+, currently the 'ssl' module is compiled with 'LibreSSL 2.8.3'. See: https://github.com/urllib3/urllib3/issues/3020\n",
      "  warnings.warn(\n",
      "/Users/binitkc/ADS_FiNAL/ADS/lib/python3.9/site-packages/urllib3/__init__.py:35: NotOpenSSLWarning: urllib3 v2 only supports OpenSSL 1.1.1+, currently the 'ssl' module is compiled with 'LibreSSL 2.8.3'. See: https://github.com/urllib3/urllib3/issues/3020\n",
      "  warnings.warn(\n",
      "/Users/binitkc/ADS_FiNAL/ADS/lib/python3.9/site-packages/urllib3/__init__.py:35: NotOpenSSLWarning: urllib3 v2 only supports OpenSSL 1.1.1+, currently the 'ssl' module is compiled with 'LibreSSL 2.8.3'. See: https://github.com/urllib3/urllib3/issues/3020\n",
      "  warnings.warn(\n",
      "/Users/binitkc/ADS_FiNAL/ADS/lib/python3.9/site-packages/urllib3/__init__.py:35: NotOpenSSLWarning: urllib3 v2 only supports OpenSSL 1.1.1+, currently the 'ssl' module is compiled with 'LibreSSL 2.8.3'. See: https://github.com/urllib3/urllib3/issues/3020\n",
      "  warnings.warn(\n",
      "/Users/binitkc/ADS_FiNAL/ADS/lib/python3.9/site-packages/urllib3/__init__.py:35: NotOpenSSLWarning: urllib3 v2 only supports OpenSSL 1.1.1+, currently the 'ssl' module is compiled with 'LibreSSL 2.8.3'. See: https://github.com/urllib3/urllib3/issues/3020\n",
      "  warnings.warn(\n",
      "/Users/binitkc/ADS_FiNAL/ADS/lib/python3.9/site-packages/urllib3/__init__.py:35: NotOpenSSLWarning: urllib3 v2 only supports OpenSSL 1.1.1+, currently the 'ssl' module is compiled with 'LibreSSL 2.8.3'. See: https://github.com/urllib3/urllib3/issues/3020\n",
      "  warnings.warn(\n",
      "/Users/binitkc/ADS_FiNAL/ADS/lib/python3.9/site-packages/urllib3/__init__.py:35: NotOpenSSLWarning: urllib3 v2 only supports OpenSSL 1.1.1+, currently the 'ssl' module is compiled with 'LibreSSL 2.8.3'. See: https://github.com/urllib3/urllib3/issues/3020\n",
      "  warnings.warn(\n",
      "/Users/binitkc/ADS_FiNAL/ADS/lib/python3.9/site-packages/urllib3/__init__.py:35: NotOpenSSLWarning: urllib3 v2 only supports OpenSSL 1.1.1+, currently the 'ssl' module is compiled with 'LibreSSL 2.8.3'. See: https://github.com/urllib3/urllib3/issues/3020\n",
      "  warnings.warn(\n",
      "/Users/binitkc/ADS_FiNAL/ADS/lib/python3.9/site-packages/urllib3/__init__.py:35: NotOpenSSLWarning: urllib3 v2 only supports OpenSSL 1.1.1+, currently the 'ssl' module is compiled with 'LibreSSL 2.8.3'. See: https://github.com/urllib3/urllib3/issues/3020\n",
      "  warnings.warn(\n",
      "/Users/binitkc/ADS_FiNAL/ADS/lib/python3.9/site-packages/urllib3/__init__.py:35: NotOpenSSLWarning: urllib3 v2 only supports OpenSSL 1.1.1+, currently the 'ssl' module is compiled with 'LibreSSL 2.8.3'. See: https://github.com/urllib3/urllib3/issues/3020\n",
      "  warnings.warn(\n",
      "/Users/binitkc/ADS_FiNAL/ADS/lib/python3.9/site-packages/urllib3/__init__.py:35: NotOpenSSLWarning: urllib3 v2 only supports OpenSSL 1.1.1+, currently the 'ssl' module is compiled with 'LibreSSL 2.8.3'. See: https://github.com/urllib3/urllib3/issues/3020\n",
      "  warnings.warn(\n",
      "/Users/binitkc/ADS_FiNAL/ADS/lib/python3.9/site-packages/urllib3/__init__.py:35: NotOpenSSLWarning: urllib3 v2 only supports OpenSSL 1.1.1+, currently the 'ssl' module is compiled with 'LibreSSL 2.8.3'. See: https://github.com/urllib3/urllib3/issues/3020\n",
      "  warnings.warn(\n",
      "/Users/binitkc/ADS_FiNAL/ADS/lib/python3.9/site-packages/urllib3/__init__.py:35: NotOpenSSLWarning: urllib3 v2 only supports OpenSSL 1.1.1+, currently the 'ssl' module is compiled with 'LibreSSL 2.8.3'. See: https://github.com/urllib3/urllib3/issues/3020\n",
      "  warnings.warn(\n",
      "/Users/binitkc/ADS_FiNAL/ADS/lib/python3.9/site-packages/urllib3/__init__.py:35: NotOpenSSLWarning: urllib3 v2 only supports OpenSSL 1.1.1+, currently the 'ssl' module is compiled with 'LibreSSL 2.8.3'. See: https://github.com/urllib3/urllib3/issues/3020\n",
      "  warnings.warn(\n",
      "/Users/binitkc/ADS_FiNAL/ADS/lib/python3.9/site-packages/urllib3/__init__.py:35: NotOpenSSLWarning: urllib3 v2 only supports OpenSSL 1.1.1+, currently the 'ssl' module is compiled with 'LibreSSL 2.8.3'. See: https://github.com/urllib3/urllib3/issues/3020\n",
      "  warnings.warn(\n",
      "/Users/binitkc/ADS_FiNAL/ADS/lib/python3.9/site-packages/urllib3/__init__.py:35: NotOpenSSLWarning: urllib3 v2 only supports OpenSSL 1.1.1+, currently the 'ssl' module is compiled with 'LibreSSL 2.8.3'. See: https://github.com/urllib3/urllib3/issues/3020\n",
      "  warnings.warn(\n",
      "/Users/binitkc/ADS_FiNAL/ADS/lib/python3.9/site-packages/urllib3/__init__.py:35: NotOpenSSLWarning: urllib3 v2 only supports OpenSSL 1.1.1+, currently the 'ssl' module is compiled with 'LibreSSL 2.8.3'. See: https://github.com/urllib3/urllib3/issues/3020\n",
      "  warnings.warn(\n",
      "/Users/binitkc/ADS_FiNAL/ADS/lib/python3.9/site-packages/urllib3/__init__.py:35: NotOpenSSLWarning: urllib3 v2 only supports OpenSSL 1.1.1+, currently the 'ssl' module is compiled with 'LibreSSL 2.8.3'. See: https://github.com/urllib3/urllib3/issues/3020\n",
      "  warnings.warn(\n",
      "/Users/binitkc/ADS_FiNAL/ADS/lib/python3.9/site-packages/urllib3/__init__.py:35: NotOpenSSLWarning: urllib3 v2 only supports OpenSSL 1.1.1+, currently the 'ssl' module is compiled with 'LibreSSL 2.8.3'. See: https://github.com/urllib3/urllib3/issues/3020\n",
      "  warnings.warn(\n",
      "/Users/binitkc/ADS_FiNAL/ADS/lib/python3.9/site-packages/urllib3/__init__.py:35: NotOpenSSLWarning: urllib3 v2 only supports OpenSSL 1.1.1+, currently the 'ssl' module is compiled with 'LibreSSL 2.8.3'. See: https://github.com/urllib3/urllib3/issues/3020\n",
      "  warnings.warn(\n",
      "/Users/binitkc/ADS_FiNAL/ADS/lib/python3.9/site-packages/urllib3/__init__.py:35: NotOpenSSLWarning: urllib3 v2 only supports OpenSSL 1.1.1+, currently the 'ssl' module is compiled with 'LibreSSL 2.8.3'. See: https://github.com/urllib3/urllib3/issues/3020\n",
      "  warnings.warn(\n",
      "/Users/binitkc/ADS_FiNAL/ADS/lib/python3.9/site-packages/urllib3/__init__.py:35: NotOpenSSLWarning: urllib3 v2 only supports OpenSSL 1.1.1+, currently the 'ssl' module is compiled with 'LibreSSL 2.8.3'. See: https://github.com/urllib3/urllib3/issues/3020\n",
      "  warnings.warn(\n",
      "/Users/binitkc/ADS_FiNAL/ADS/lib/python3.9/site-packages/urllib3/__init__.py:35: NotOpenSSLWarning: urllib3 v2 only supports OpenSSL 1.1.1+, currently the 'ssl' module is compiled with 'LibreSSL 2.8.3'. See: https://github.com/urllib3/urllib3/issues/3020\n",
      "  warnings.warn(\n",
      "/Users/binitkc/ADS_FiNAL/ADS/lib/python3.9/site-packages/urllib3/__init__.py:35: NotOpenSSLWarning: urllib3 v2 only supports OpenSSL 1.1.1+, currently the 'ssl' module is compiled with 'LibreSSL 2.8.3'. See: https://github.com/urllib3/urllib3/issues/3020\n",
      "  warnings.warn(\n",
      "/Users/binitkc/ADS_FiNAL/ADS/lib/python3.9/site-packages/urllib3/__init__.py:35: NotOpenSSLWarning: urllib3 v2 only supports OpenSSL 1.1.1+, currently the 'ssl' module is compiled with 'LibreSSL 2.8.3'. See: https://github.com/urllib3/urllib3/issues/3020\n",
      "  warnings.warn(\n",
      "/Users/binitkc/ADS_FiNAL/ADS/lib/python3.9/site-packages/urllib3/__init__.py:35: NotOpenSSLWarning: urllib3 v2 only supports OpenSSL 1.1.1+, currently the 'ssl' module is compiled with 'LibreSSL 2.8.3'. See: https://github.com/urllib3/urllib3/issues/3020\n",
      "  warnings.warn(\n",
      "/Users/binitkc/ADS_FiNAL/ADS/lib/python3.9/site-packages/urllib3/__init__.py:35: NotOpenSSLWarning: urllib3 v2 only supports OpenSSL 1.1.1+, currently the 'ssl' module is compiled with 'LibreSSL 2.8.3'. See: https://github.com/urllib3/urllib3/issues/3020\n",
      "  warnings.warn(\n",
      "/Users/binitkc/ADS_FiNAL/ADS/lib/python3.9/site-packages/urllib3/__init__.py:35: NotOpenSSLWarning: urllib3 v2 only supports OpenSSL 1.1.1+, currently the 'ssl' module is compiled with 'LibreSSL 2.8.3'. See: https://github.com/urllib3/urllib3/issues/3020\n",
      "  warnings.warn(\n",
      "/Users/binitkc/ADS_FiNAL/ADS/lib/python3.9/site-packages/urllib3/__init__.py:35: NotOpenSSLWarning: urllib3 v2 only supports OpenSSL 1.1.1+, currently the 'ssl' module is compiled with 'LibreSSL 2.8.3'. See: https://github.com/urllib3/urllib3/issues/3020\n",
      "  warnings.warn(\n",
      "/Users/binitkc/ADS_FiNAL/ADS/lib/python3.9/site-packages/urllib3/__init__.py:35: NotOpenSSLWarning: urllib3 v2 only supports OpenSSL 1.1.1+, currently the 'ssl' module is compiled with 'LibreSSL 2.8.3'. See: https://github.com/urllib3/urllib3/issues/3020\n",
      "  warnings.warn(\n",
      "/Users/binitkc/ADS_FiNAL/ADS/lib/python3.9/site-packages/urllib3/__init__.py:35: NotOpenSSLWarning: urllib3 v2 only supports OpenSSL 1.1.1+, currently the 'ssl' module is compiled with 'LibreSSL 2.8.3'. See: https://github.com/urllib3/urllib3/issues/3020\n",
      "  warnings.warn(\n",
      "/Users/binitkc/ADS_FiNAL/ADS/lib/python3.9/site-packages/urllib3/__init__.py:35: NotOpenSSLWarning: urllib3 v2 only supports OpenSSL 1.1.1+, currently the 'ssl' module is compiled with 'LibreSSL 2.8.3'. See: https://github.com/urllib3/urllib3/issues/3020\n",
      "  warnings.warn(\n",
      "/Users/binitkc/ADS_FiNAL/ADS/lib/python3.9/site-packages/urllib3/__init__.py:35: NotOpenSSLWarning: urllib3 v2 only supports OpenSSL 1.1.1+, currently the 'ssl' module is compiled with 'LibreSSL 2.8.3'. See: https://github.com/urllib3/urllib3/issues/3020\n",
      "  warnings.warn(\n",
      "/Users/binitkc/ADS_FiNAL/ADS/lib/python3.9/site-packages/urllib3/__init__.py:35: NotOpenSSLWarning: urllib3 v2 only supports OpenSSL 1.1.1+, currently the 'ssl' module is compiled with 'LibreSSL 2.8.3'. See: https://github.com/urllib3/urllib3/issues/3020\n",
      "  warnings.warn(\n",
      "/Users/binitkc/ADS_FiNAL/ADS/lib/python3.9/site-packages/urllib3/__init__.py:35: NotOpenSSLWarning: urllib3 v2 only supports OpenSSL 1.1.1+, currently the 'ssl' module is compiled with 'LibreSSL 2.8.3'. See: https://github.com/urllib3/urllib3/issues/3020\n",
      "  warnings.warn(\n",
      "/Users/binitkc/ADS_FiNAL/ADS/lib/python3.9/site-packages/urllib3/__init__.py:35: NotOpenSSLWarning: urllib3 v2 only supports OpenSSL 1.1.1+, currently the 'ssl' module is compiled with 'LibreSSL 2.8.3'. See: https://github.com/urllib3/urllib3/issues/3020\n",
      "  warnings.warn(\n",
      "/Users/binitkc/ADS_FiNAL/ADS/lib/python3.9/site-packages/urllib3/__init__.py:35: NotOpenSSLWarning: urllib3 v2 only supports OpenSSL 1.1.1+, currently the 'ssl' module is compiled with 'LibreSSL 2.8.3'. See: https://github.com/urllib3/urllib3/issues/3020\n",
      "  warnings.warn(\n",
      "/Users/binitkc/ADS_FiNAL/ADS/lib/python3.9/site-packages/urllib3/__init__.py:35: NotOpenSSLWarning: urllib3 v2 only supports OpenSSL 1.1.1+, currently the 'ssl' module is compiled with 'LibreSSL 2.8.3'. See: https://github.com/urllib3/urllib3/issues/3020\n",
      "  warnings.warn(\n",
      "/Users/binitkc/ADS_FiNAL/ADS/lib/python3.9/site-packages/urllib3/__init__.py:35: NotOpenSSLWarning: urllib3 v2 only supports OpenSSL 1.1.1+, currently the 'ssl' module is compiled with 'LibreSSL 2.8.3'. See: https://github.com/urllib3/urllib3/issues/3020\n",
      "  warnings.warn(\n",
      "/Users/binitkc/ADS_FiNAL/ADS/lib/python3.9/site-packages/urllib3/__init__.py:35: NotOpenSSLWarning: urllib3 v2 only supports OpenSSL 1.1.1+, currently the 'ssl' module is compiled with 'LibreSSL 2.8.3'. See: https://github.com/urllib3/urllib3/issues/3020\n",
      "  warnings.warn(\n",
      "/Users/binitkc/ADS_FiNAL/ADS/lib/python3.9/site-packages/urllib3/__init__.py:35: NotOpenSSLWarning: urllib3 v2 only supports OpenSSL 1.1.1+, currently the 'ssl' module is compiled with 'LibreSSL 2.8.3'. See: https://github.com/urllib3/urllib3/issues/3020\n",
      "  warnings.warn(\n",
      "/Users/binitkc/ADS_FiNAL/ADS/lib/python3.9/site-packages/urllib3/__init__.py:35: NotOpenSSLWarning: urllib3 v2 only supports OpenSSL 1.1.1+, currently the 'ssl' module is compiled with 'LibreSSL 2.8.3'. See: https://github.com/urllib3/urllib3/issues/3020\n",
      "  warnings.warn(\n",
      "/Users/binitkc/ADS_FiNAL/ADS/lib/python3.9/site-packages/urllib3/__init__.py:35: NotOpenSSLWarning: urllib3 v2 only supports OpenSSL 1.1.1+, currently the 'ssl' module is compiled with 'LibreSSL 2.8.3'. See: https://github.com/urllib3/urllib3/issues/3020\n",
      "  warnings.warn(\n",
      "/Users/binitkc/ADS_FiNAL/ADS/lib/python3.9/site-packages/urllib3/__init__.py:35: NotOpenSSLWarning: urllib3 v2 only supports OpenSSL 1.1.1+, currently the 'ssl' module is compiled with 'LibreSSL 2.8.3'. See: https://github.com/urllib3/urllib3/issues/3020\n",
      "  warnings.warn(\n",
      "/Users/binitkc/ADS_FiNAL/ADS/lib/python3.9/site-packages/urllib3/__init__.py:35: NotOpenSSLWarning: urllib3 v2 only supports OpenSSL 1.1.1+, currently the 'ssl' module is compiled with 'LibreSSL 2.8.3'. See: https://github.com/urllib3/urllib3/issues/3020\n",
      "  warnings.warn(\n",
      "/Users/binitkc/ADS_FiNAL/ADS/lib/python3.9/site-packages/urllib3/__init__.py:35: NotOpenSSLWarning: urllib3 v2 only supports OpenSSL 1.1.1+, currently the 'ssl' module is compiled with 'LibreSSL 2.8.3'. See: https://github.com/urllib3/urllib3/issues/3020\n",
      "  warnings.warn(\n",
      "/Users/binitkc/ADS_FiNAL/ADS/lib/python3.9/site-packages/urllib3/__init__.py:35: NotOpenSSLWarning: urllib3 v2 only supports OpenSSL 1.1.1+, currently the 'ssl' module is compiled with 'LibreSSL 2.8.3'. See: https://github.com/urllib3/urllib3/issues/3020\n",
      "  warnings.warn(\n",
      "/Users/binitkc/ADS_FiNAL/ADS/lib/python3.9/site-packages/urllib3/__init__.py:35: NotOpenSSLWarning: urllib3 v2 only supports OpenSSL 1.1.1+, currently the 'ssl' module is compiled with 'LibreSSL 2.8.3'. See: https://github.com/urllib3/urllib3/issues/3020\n",
      "  warnings.warn(\n",
      "/Users/binitkc/ADS_FiNAL/ADS/lib/python3.9/site-packages/urllib3/__init__.py:35: NotOpenSSLWarning: urllib3 v2 only supports OpenSSL 1.1.1+, currently the 'ssl' module is compiled with 'LibreSSL 2.8.3'. See: https://github.com/urllib3/urllib3/issues/3020\n",
      "  warnings.warn(\n",
      "/Users/binitkc/ADS_FiNAL/ADS/lib/python3.9/site-packages/urllib3/__init__.py:35: NotOpenSSLWarning: urllib3 v2 only supports OpenSSL 1.1.1+, currently the 'ssl' module is compiled with 'LibreSSL 2.8.3'. See: https://github.com/urllib3/urllib3/issues/3020\n",
      "  warnings.warn(\n",
      "/Users/binitkc/ADS_FiNAL/ADS/lib/python3.9/site-packages/urllib3/__init__.py:35: NotOpenSSLWarning: urllib3 v2 only supports OpenSSL 1.1.1+, currently the 'ssl' module is compiled with 'LibreSSL 2.8.3'. See: https://github.com/urllib3/urllib3/issues/3020\n",
      "  warnings.warn(\n",
      "/Users/binitkc/ADS_FiNAL/ADS/lib/python3.9/site-packages/urllib3/__init__.py:35: NotOpenSSLWarning: urllib3 v2 only supports OpenSSL 1.1.1+, currently the 'ssl' module is compiled with 'LibreSSL 2.8.3'. See: https://github.com/urllib3/urllib3/issues/3020\n",
      "  warnings.warn(\n",
      "/Users/binitkc/ADS_FiNAL/ADS/lib/python3.9/site-packages/urllib3/__init__.py:35: NotOpenSSLWarning: urllib3 v2 only supports OpenSSL 1.1.1+, currently the 'ssl' module is compiled with 'LibreSSL 2.8.3'. See: https://github.com/urllib3/urllib3/issues/3020\n",
      "  warnings.warn(\n",
      "/Users/binitkc/ADS_FiNAL/ADS/lib/python3.9/site-packages/urllib3/__init__.py:35: NotOpenSSLWarning: urllib3 v2 only supports OpenSSL 1.1.1+, currently the 'ssl' module is compiled with 'LibreSSL 2.8.3'. See: https://github.com/urllib3/urllib3/issues/3020\n",
      "  warnings.warn(\n",
      "/Users/binitkc/ADS_FiNAL/ADS/lib/python3.9/site-packages/urllib3/__init__.py:35: NotOpenSSLWarning: urllib3 v2 only supports OpenSSL 1.1.1+, currently the 'ssl' module is compiled with 'LibreSSL 2.8.3'. See: https://github.com/urllib3/urllib3/issues/3020\n",
      "  warnings.warn(\n",
      "/Users/binitkc/ADS_FiNAL/ADS/lib/python3.9/site-packages/urllib3/__init__.py:35: NotOpenSSLWarning: urllib3 v2 only supports OpenSSL 1.1.1+, currently the 'ssl' module is compiled with 'LibreSSL 2.8.3'. See: https://github.com/urllib3/urllib3/issues/3020\n",
      "  warnings.warn(\n",
      "/Users/binitkc/ADS_FiNAL/ADS/lib/python3.9/site-packages/urllib3/__init__.py:35: NotOpenSSLWarning: urllib3 v2 only supports OpenSSL 1.1.1+, currently the 'ssl' module is compiled with 'LibreSSL 2.8.3'. See: https://github.com/urllib3/urllib3/issues/3020\n",
      "  warnings.warn(\n",
      "/Users/binitkc/ADS_FiNAL/ADS/lib/python3.9/site-packages/urllib3/__init__.py:35: NotOpenSSLWarning: urllib3 v2 only supports OpenSSL 1.1.1+, currently the 'ssl' module is compiled with 'LibreSSL 2.8.3'. See: https://github.com/urllib3/urllib3/issues/3020\n",
      "  warnings.warn(\n",
      "/Users/binitkc/ADS_FiNAL/ADS/lib/python3.9/site-packages/urllib3/__init__.py:35: NotOpenSSLWarning: urllib3 v2 only supports OpenSSL 1.1.1+, currently the 'ssl' module is compiled with 'LibreSSL 2.8.3'. See: https://github.com/urllib3/urllib3/issues/3020\n",
      "  warnings.warn(\n",
      "/Users/binitkc/ADS_FiNAL/ADS/lib/python3.9/site-packages/urllib3/__init__.py:35: NotOpenSSLWarning: urllib3 v2 only supports OpenSSL 1.1.1+, currently the 'ssl' module is compiled with 'LibreSSL 2.8.3'. See: https://github.com/urllib3/urllib3/issues/3020\n",
      "  warnings.warn(\n",
      "/Users/binitkc/ADS_FiNAL/ADS/lib/python3.9/site-packages/urllib3/__init__.py:35: NotOpenSSLWarning: urllib3 v2 only supports OpenSSL 1.1.1+, currently the 'ssl' module is compiled with 'LibreSSL 2.8.3'. See: https://github.com/urllib3/urllib3/issues/3020\n",
      "  warnings.warn(\n",
      "/Users/binitkc/ADS_FiNAL/ADS/lib/python3.9/site-packages/urllib3/__init__.py:35: NotOpenSSLWarning: urllib3 v2 only supports OpenSSL 1.1.1+, currently the 'ssl' module is compiled with 'LibreSSL 2.8.3'. See: https://github.com/urllib3/urllib3/issues/3020\n",
      "  warnings.warn(\n",
      "/Users/binitkc/ADS_FiNAL/ADS/lib/python3.9/site-packages/urllib3/__init__.py:35: NotOpenSSLWarning: urllib3 v2 only supports OpenSSL 1.1.1+, currently the 'ssl' module is compiled with 'LibreSSL 2.8.3'. See: https://github.com/urllib3/urllib3/issues/3020\n",
      "  warnings.warn(\n",
      "/Users/binitkc/ADS_FiNAL/ADS/lib/python3.9/site-packages/urllib3/__init__.py:35: NotOpenSSLWarning: urllib3 v2 only supports OpenSSL 1.1.1+, currently the 'ssl' module is compiled with 'LibreSSL 2.8.3'. See: https://github.com/urllib3/urllib3/issues/3020\n",
      "  warnings.warn(\n",
      "/Users/binitkc/ADS_FiNAL/ADS/lib/python3.9/site-packages/urllib3/__init__.py:35: NotOpenSSLWarning: urllib3 v2 only supports OpenSSL 1.1.1+, currently the 'ssl' module is compiled with 'LibreSSL 2.8.3'. See: https://github.com/urllib3/urllib3/issues/3020\n",
      "  warnings.warn(\n",
      "/Users/binitkc/ADS_FiNAL/ADS/lib/python3.9/site-packages/urllib3/__init__.py:35: NotOpenSSLWarning: urllib3 v2 only supports OpenSSL 1.1.1+, currently the 'ssl' module is compiled with 'LibreSSL 2.8.3'. See: https://github.com/urllib3/urllib3/issues/3020\n",
      "  warnings.warn(\n",
      "/Users/binitkc/ADS_FiNAL/ADS/lib/python3.9/site-packages/urllib3/__init__.py:35: NotOpenSSLWarning: urllib3 v2 only supports OpenSSL 1.1.1+, currently the 'ssl' module is compiled with 'LibreSSL 2.8.3'. See: https://github.com/urllib3/urllib3/issues/3020\n",
      "  warnings.warn(\n",
      "/Users/binitkc/ADS_FiNAL/ADS/lib/python3.9/site-packages/urllib3/__init__.py:35: NotOpenSSLWarning: urllib3 v2 only supports OpenSSL 1.1.1+, currently the 'ssl' module is compiled with 'LibreSSL 2.8.3'. See: https://github.com/urllib3/urllib3/issues/3020\n",
      "  warnings.warn(\n",
      "/Users/binitkc/ADS_FiNAL/ADS/lib/python3.9/site-packages/urllib3/__init__.py:35: NotOpenSSLWarning: urllib3 v2 only supports OpenSSL 1.1.1+, currently the 'ssl' module is compiled with 'LibreSSL 2.8.3'. See: https://github.com/urllib3/urllib3/issues/3020\n",
      "  warnings.warn(\n",
      "/Users/binitkc/ADS_FiNAL/ADS/lib/python3.9/site-packages/urllib3/__init__.py:35: NotOpenSSLWarning: urllib3 v2 only supports OpenSSL 1.1.1+, currently the 'ssl' module is compiled with 'LibreSSL 2.8.3'. See: https://github.com/urllib3/urllib3/issues/3020\n",
      "  warnings.warn(\n",
      "/Users/binitkc/ADS_FiNAL/ADS/lib/python3.9/site-packages/urllib3/__init__.py:35: NotOpenSSLWarning: urllib3 v2 only supports OpenSSL 1.1.1+, currently the 'ssl' module is compiled with 'LibreSSL 2.8.3'. See: https://github.com/urllib3/urllib3/issues/3020\n",
      "  warnings.warn(\n",
      "/Users/binitkc/ADS_FiNAL/ADS/lib/python3.9/site-packages/urllib3/__init__.py:35: NotOpenSSLWarning: urllib3 v2 only supports OpenSSL 1.1.1+, currently the 'ssl' module is compiled with 'LibreSSL 2.8.3'. See: https://github.com/urllib3/urllib3/issues/3020\n",
      "  warnings.warn(\n",
      "/Users/binitkc/ADS_FiNAL/ADS/lib/python3.9/site-packages/urllib3/__init__.py:35: NotOpenSSLWarning: urllib3 v2 only supports OpenSSL 1.1.1+, currently the 'ssl' module is compiled with 'LibreSSL 2.8.3'. See: https://github.com/urllib3/urllib3/issues/3020\n",
      "  warnings.warn(\n",
      "/Users/binitkc/ADS_FiNAL/ADS/lib/python3.9/site-packages/urllib3/__init__.py:35: NotOpenSSLWarning: urllib3 v2 only supports OpenSSL 1.1.1+, currently the 'ssl' module is compiled with 'LibreSSL 2.8.3'. See: https://github.com/urllib3/urllib3/issues/3020\n",
      "  warnings.warn(\n",
      "/Users/binitkc/ADS_FiNAL/ADS/lib/python3.9/site-packages/urllib3/__init__.py:35: NotOpenSSLWarning: urllib3 v2 only supports OpenSSL 1.1.1+, currently the 'ssl' module is compiled with 'LibreSSL 2.8.3'. See: https://github.com/urllib3/urllib3/issues/3020\n",
      "  warnings.warn(\n",
      "/Users/binitkc/ADS_FiNAL/ADS/lib/python3.9/site-packages/urllib3/__init__.py:35: NotOpenSSLWarning: urllib3 v2 only supports OpenSSL 1.1.1+, currently the 'ssl' module is compiled with 'LibreSSL 2.8.3'. See: https://github.com/urllib3/urllib3/issues/3020\n",
      "  warnings.warn(\n",
      "/Users/binitkc/ADS_FiNAL/ADS/lib/python3.9/site-packages/urllib3/__init__.py:35: NotOpenSSLWarning: urllib3 v2 only supports OpenSSL 1.1.1+, currently the 'ssl' module is compiled with 'LibreSSL 2.8.3'. See: https://github.com/urllib3/urllib3/issues/3020\n",
      "  warnings.warn(\n",
      "/Users/binitkc/ADS_FiNAL/ADS/lib/python3.9/site-packages/urllib3/__init__.py:35: NotOpenSSLWarning: urllib3 v2 only supports OpenSSL 1.1.1+, currently the 'ssl' module is compiled with 'LibreSSL 2.8.3'. See: https://github.com/urllib3/urllib3/issues/3020\n",
      "  warnings.warn(\n",
      "/Users/binitkc/ADS_FiNAL/ADS/lib/python3.9/site-packages/urllib3/__init__.py:35: NotOpenSSLWarning: urllib3 v2 only supports OpenSSL 1.1.1+, currently the 'ssl' module is compiled with 'LibreSSL 2.8.3'. See: https://github.com/urllib3/urllib3/issues/3020\n",
      "  warnings.warn(\n",
      "/Users/binitkc/ADS_FiNAL/ADS/lib/python3.9/site-packages/urllib3/__init__.py:35: NotOpenSSLWarning: urllib3 v2 only supports OpenSSL 1.1.1+, currently the 'ssl' module is compiled with 'LibreSSL 2.8.3'. See: https://github.com/urllib3/urllib3/issues/3020\n",
      "  warnings.warn(\n",
      "/Users/binitkc/ADS_FiNAL/ADS/lib/python3.9/site-packages/urllib3/__init__.py:35: NotOpenSSLWarning: urllib3 v2 only supports OpenSSL 1.1.1+, currently the 'ssl' module is compiled with 'LibreSSL 2.8.3'. See: https://github.com/urllib3/urllib3/issues/3020\n",
      "  warnings.warn(\n",
      "/Users/binitkc/ADS_FiNAL/ADS/lib/python3.9/site-packages/urllib3/__init__.py:35: NotOpenSSLWarning: urllib3 v2 only supports OpenSSL 1.1.1+, currently the 'ssl' module is compiled with 'LibreSSL 2.8.3'. See: https://github.com/urllib3/urllib3/issues/3020\n",
      "  warnings.warn(\n",
      "/Users/binitkc/ADS_FiNAL/ADS/lib/python3.9/site-packages/urllib3/__init__.py:35: NotOpenSSLWarning: urllib3 v2 only supports OpenSSL 1.1.1+, currently the 'ssl' module is compiled with 'LibreSSL 2.8.3'. See: https://github.com/urllib3/urllib3/issues/3020\n",
      "  warnings.warn(\n"
     ]
    }
   ],
   "source": [
    "# import matplotlib.pyplot as plt\n",
    "from mpl_toolkits.mplot3d import Axes3D\n",
    "from sklearn.model_selection import ParameterGrid\n",
    "# from gensim.models import LdaModel\n",
    "# from gensim.models.coherencemodel import CoherenceModel\n",
    "\n",
    "# Define a grid of hyperparameters to search over\n",
    "param_grid = {\n",
    "    'num_topics': [3, 4, 5, 6, 7, 8],\n",
    "    'passes': [10,15,20,25]\n",
    "}\n",
    "\n",
    "best_coherence_score = -1\n",
    "best_lda_model = None\n",
    "scores = []  # To store coherence scores\n",
    "topics = []  # To store number of topics\n",
    "passes_list = []  # To store passes for each model\n",
    "\n",
    "# Perform grid search\n",
    "for params in ParameterGrid(param_grid):\n",
    "    lda_model = LdaModel(corpus=corpus_gensim, id2word=dictionary, **params)\n",
    "    coherence_model = CoherenceModel(model=lda_model, texts=lemmatized_text, dictionary=dictionary, coherence='c_v')\n",
    "    coherence_score = coherence_model.get_coherence()\n",
    "    \n",
    "    # Track best model\n",
    "    if coherence_score > best_coherence_score:\n",
    "        best_coherence_score = coherence_score\n",
    "        best_lda_model = lda_model\n",
    "    \n",
    "    # Collect data for plotting\n",
    "    scores.append(coherence_score)\n",
    "    topics.append(params['num_topics'])\n",
    "    passes_list.append(params['passes'])\n"
   ]
  },
  {
   "cell_type": "code",
   "execution_count": 34,
   "id": "4d1199db-ee5f-4255-a661-11055b7cfb3e",
   "metadata": {},
   "outputs": [
    {
     "name": "stdout",
     "output_type": "stream",
     "text": [
      " LDA_news model saved successfully! \n"
     ]
    }
   ],
   "source": [
    "# After grid search is completed and best_lda_model is chosen:\n",
    "best_lda_model.save(\"Trained_models/lda_news.model\")\n",
    "\n",
    "# Optionally, print confirmation\n",
    "print(\" LDA_news model saved successfully! \")"
   ]
  },
  {
   "cell_type": "code",
   "execution_count": 35,
   "id": "741cb883-1ebe-46b8-9bfa-b1f2f9100f57",
   "metadata": {},
   "outputs": [
    {
     "name": "stdout",
     "output_type": "stream",
     "text": [
      "LDA model loaded successfully!\n"
     ]
    }
   ],
   "source": [
    "# Load the saved model\n",
    "best_lda_model = LdaModel.load(\"Trained_models/lda_news.model\")\n",
    "\n",
    "# Optionally, print to confirm successful loading\n",
    "print(\"LDA model loaded successfully!\")"
   ]
  },
  {
   "cell_type": "code",
   "execution_count": 33,
   "id": "cac43076-ec45-47b6-b1b8-47c7880c24ff",
   "metadata": {},
   "outputs": [
    {
     "data": {
      "image/png": "[encoded data removed]",
      "text/plain": [
       "<Figure size 1000x700 with 1 Axes>"
      ]
     },
     "metadata": {},
     "output_type": "display_data"
    },
    {
     "name": "stdout",
     "output_type": "stream",
     "text": [
      "Best Hyperparameters: LdaModel<num_terms=8085, num_topics=6, decay=0.5, chunksize=2000>\n",
      "Best Coherence Score: 0.4464\n",
      "\n",
      "Topic 0: 0.019*\"recent\" + 0.016*\"according\" + 0.016*\"report\" + 0.013*\"free\" + 0.012*\"company\" + 0.011*\"quarter\" + 0.011*\"inc\" + 0.011*\"trump\" + 0.009*\"new\" + 0.009*\"former\"\n",
      "\n",
      "Topic 1: 0.014*\"company\" + 0.013*\"november\" + 0.010*\"global\" + 0.010*\"today\" + 0.009*\"globe\" + 0.008*\"newswire\" + 0.007*\"announced\" + 0.007*\"quarter\" + 0.007*\"sale\" + 0.007*\"million\"\n",
      "\n",
      "Topic 2: 0.034*\"report\" + 0.015*\"free\" + 0.015*\"stock\" + 0.015*\"share\" + 0.014*\"get\" + 0.011*\"research\" + 0.009*\"issued\" + 0.009*\"earnings\" + 0.009*\"thursday\" + 0.008*\"mber\"\n",
      "\n",
      "Topic 3: 0.009*\"state\" + 0.009*\"health\" + 0.009*\"job\" + 0.009*\"new\" + 0.007*\"rate\" + 0.006*\"government\" + 0.005*\"federal\" + 0.005*\"school\" + 0.005*\"ber\" + 0.005*\"month\"\n",
      "\n",
      "Topic 4: 0.013*\"new\" + 0.009*\"product\" + 0.006*\"may\" + 0.006*\"commission\" + 0.006*\"case\" + 0.006*\"expert\" + 0.005*\"like\" + 0.005*\"receive\" + 0.005*\"industry\" + 0.005*\"question\"\n",
      "\n",
      "Topic 5: 0.010*\"one\" + 0.008*\"new\" + 0.008*\"apple\" + 0.007*\"music\" + 0.007*\"first\" + 0.006*\"time\" + 0.006*\"year\" + 0.006*\"day\" + 0.006*\"week\" + 0.005*\"israel\"\n"
     ]
    }
   ],
   "source": [
    "# # Plot coherence score in 3D\n",
    "# fig = plt.figure(figsize=(10, 7))\n",
    "# ax = fig.add_subplot(111, projection='3d')\n",
    "# ax.scatter(topics, passes_list, scores, c=scores, cmap='viridis', marker='o')\n",
    "# ax.set_xlabel('Number of Topics')\n",
    "# ax.set_ylabel('Passes')\n",
    "# ax.set_zlabel('Coherence Score')\n",
    "# ax.set_title(\"Coherence Score for Different Hyperparameter Combinations\")\n",
    "# plt.show()\n",
    "\n",
    "# # Print best hyperparameters and coherence score\n",
    "# print(\"Best Hyperparameters:\", best_lda_model)\n",
    "# print(f\"Best Coherence Score: {best_coherence_score:.4f}\")\n",
    "\n",
    "# # Print topics and associated words for the best model\n",
    "# for topic_id, topic_words in best_lda_model.print_topics():\n",
    "#     print(f\"\\nTopic {topic_id}: {topic_words}\")"
   ]
  },
  {
   "cell_type": "code",
   "execution_count": 38,
   "id": "bd58a716-2434-42e8-9a24-0d8ea6548cb6",
   "metadata": {},
   "outputs": [
    {
     "data": {
      "image/png": "[encoded data removed]",
      "text/plain": [
       "<Figure size 800x600 with 1 Axes>"
      ]
     },
     "metadata": {},
     "output_type": "display_data"
    },
    {
     "name": "stdout",
     "output_type": "stream",
     "text": [
      "Best Number of Topics: 6\n",
      "Best Number of Passes: 20\n",
      "Best Coherence Score: 0.4208\n",
      "\n",
      "Topic 0: 0.037*\"report\" + 0.018*\"free\" + 0.018*\"share\" + 0.017*\"company\" + 0.014*\"november\" + 0.014*\"research\" + 0.012*\"mber\" + 0.011*\"get\" + 0.011*\"globe\" + 0.011*\"today\"\n",
      "\n",
      "Topic 1: 0.010*\"music\" + 0.009*\"new\" + 0.008*\"one\" + 0.007*\"first\" + 0.006*\"like\" + 0.006*\"time\" + 0.005*\"day\" + 0.005*\"year\" + 0.005*\"world\" + 0.004*\"get\"\n",
      "\n",
      "Topic 2: 0.010*\"new\" + 0.010*\"stock\" + 0.009*\"thursday\" + 0.009*\"rate\" + 0.009*\"price\" + 0.008*\"million\" + 0.008*\"friday\" + 0.007*\"trump\" + 0.007*\"house\" + 0.007*\"federal\"\n",
      "\n",
      "Topic 3: 0.010*\"state\" + 0.007*\"israel\" + 0.007*\"gaza\" + 0.006*\"product\" + 0.006*\"country\" + 0.005*\"commission\" + 0.005*\"president\" + 0.005*\"new\" + 0.005*\"student\" + 0.005*\"university\"\n",
      "\n",
      "Topic 4: 0.013*\"new\" + 0.008*\"apple\" + 0.008*\"car\" + 0.008*\"one\" + 0.007*\"job\" + 0.006*\"time\" + 0.004*\"year\" + 0.004*\"watch\" + 0.004*\"ceo\" + 0.004*\"season\"\n",
      "\n",
      "Topic 5: 0.016*\"according\" + 0.016*\"company\" + 0.013*\"recent\" + 0.013*\"report\" + 0.012*\"new\" + 0.011*\"quarter\" + 0.009*\"free\" + 0.008*\"inc\" + 0.007*\"second\" + 0.006*\"share\"\n"
     ]
    }
   ],
   "source": [
    "# Plot coherence score in 3D\n",
    "fig = plt.figure(figsize=(8, 6))\n",
    "ax = fig.add_subplot(111, projection='3d')\n",
    "ax.scatter(topics, passes_list, scores, c=scores, cmap='viridis', marker='o')\n",
    "ax.set_xlabel('Number of Topics')\n",
    "ax.set_ylabel('Passes')\n",
    "ax.set_zlabel('Coherence Score')\n",
    "ax.set_title(\"Coherence Score for Different Hyperparameter Combinations\")\n",
    "plt.show()\n",
    "\n",
    "# Find the best hyperparameters and coherence score\n",
    "best_index = scores.index(max(scores))  # Get the index of the best score\n",
    "best_topics = topics[best_index]\n",
    "best_passes = passes_list[best_index]\n",
    "best_coherence_score = scores[best_index]\n",
    "\n",
    "# Print best hyperparameters and coherence score\n",
    "print(\"Best Number of Topics:\", best_topics)\n",
    "print(\"Best Number of Passes:\", best_passes)\n",
    "print(f\"Best Coherence Score: {best_coherence_score:.4f}\")\n",
    "\n",
    "# Print topics and associated words for the best model\n",
    "for topic_id, topic_words in best_lda_model.print_topics():\n",
    "    print(f\"\\nTopic {topic_id}: {topic_words}\")\n"
   ]
  },
  {
   "cell_type": "code",
   "execution_count": 43,
   "id": "72680f13-adc7-429d-a2d0-93bd90815bdd",
   "metadata": {},
   "outputs": [
    {
     "name": "stdout",
     "output_type": "stream",
     "text": [
      "Topic Diversity: 0.8142\n"
     ]
    }
   ],
   "source": [
    "import numpy as np\n",
    "from sklearn.metrics.pairwise import cosine_similarity\n",
    "\n",
    "def calculate_topic_diversity(lda_model, num_topics):\n",
    "    # Get the topic-word distributions from the LDA model\n",
    "    topic_word_distributions = [lda_model.get_topics()[i] for i in range(num_topics)]\n",
    "    \n",
    "    # Calculate pairwise cosine similarities between topics\n",
    "    similarities = cosine_similarity(topic_word_distributions)\n",
    "    \n",
    "    # Set diagonal elements to zero (similarity of a topic with itself should not be counted)\n",
    "    np.fill_diagonal(similarities, 0)\n",
    "    \n",
    "    # Calculate topic diversity (1 - average cosine similarity)\n",
    "    avg_similarity = np.mean(similarities)\n",
    "    topic_diversity = 1 - avg_similarity\n",
    "    \n",
    "    return topic_diversity\n",
    "\n",
    "# Assuming 'best_lda_model' is the trained model and 'num_topics' is the number of topics\n",
    "topic_diversity = calculate_topic_diversity(best_lda_model, best_lda_model.num_topics)\n",
    "\n",
    "print(f\"Topic Diversity: {topic_diversity:.4f}\")\n"
   ]
  },
  {
   "cell_type": "code",
   "execution_count": 49,
   "id": "f21172df-a5b4-4998-9e37-d00b8e334e28",
   "metadata": {},
   "outputs": [],
   "source": [
    "lda_model = best_lda_model"
   ]
  },
  {
   "cell_type": "code",
   "execution_count": 50,
   "id": "aaf2190d-2a74-4e74-9ceb-6aeb6a70472f",
   "metadata": {},
   "outputs": [
    {
     "data": {
      "text/html": [
       "\n",
       "<link rel=\"stylesheet\" type=\"text/css\" href=\"https://cdn.jsdelivr.net/gh/bmabey/pyLDAvis@3.4.0/pyLDAvis/js/ldavis.v1.0.0.css\">\n",
       "\n",
       "\n",
       "<div id=\"ldavis_el93465138954135365710947771\" style=\"background-color:white;\"></div>\n",
       "<script type=\"text/javascript\">\n",
       "\n",
       "var ldavis_el93465138954135365710947771_data = {\"mdsDat\": {\"x\": [-0.17344025074631142, -0.12995508307461887, -0.18581354369310765, 0.04187148922012237, 0.1710207162186132, 0.2763166720753026], \"y\": [0.1673341781178037, -0.12563812175965947, 0.06539924161838201, -0.24441245625025962, 0.027179320820895077, 0.1101378374528385], \"topics\": [1, 2, 3, 4, 5, 6], \"cluster\": [1, 1, 1, 1, 1, 1], \"Freq\": [19.544162544718905, 19.069376262987653, 18.882192321300217, 16.355315486549134, 13.658641564060176, 12.490311820383916]}, \"tinfo\": {\"Term\": [\"report\", \"free\", \"company\", \"share\", \"according\", \"november\", \"research\", \"recent\", \"inc\", \"music\", \"globe\", \"quarter\", \"newswire\", \"get\", \"issued\", \"stock\", \"earnings\", \"technology\", \"job\", \"rate\", \"today\", \"price\", \"state\", \"car\", \"israel\", \"trump\", \"gaza\", \"house\", \"apple\", \"global\", \"thing\", \"game\", \"google\", \"app\", \"single\", \"album\", \"problem\", \"film\", \"thought\", \"newsletter\", \"festival\", \"love\", \"disney\", \"tour\", \"race\", \"nasa\", \"everything\", \"promotion\", \"fact\", \"arrived\", \"longer\", \"voice\", \"christmas\", \"vega\", \"movie\", \"presentation\", \"fast\", \"concert\", \"heard\", \"culture\", \"music\", \"shared\", \"podcast\", \"version\", \"know\", \"article\", \"video\", \"user\", \"story\", \"earth\", \"available\", \"like\", \"best\", \"first\", \"one\", \"politics\", \"time\", \"good\", \"news\", \"need\", \"released\", \"year\", \"space\", \"day\", \"world\", \"life\", \"new\", \"get\", \"apple\", \"post\", \"many\", \"week\", \"may\", \"back\", \"make\", \"plan\", \"food\", \"israel\", \"gaza\", \"hamas\", \"war\", \"intelligence\", \"artificial\", \"biden\", \"israeli\", \"attack\", \"link\", \"write\", \"palestinian\", \"sunday\", \"scientist\", \"assess\", \"reader\", \"unbiased\", \"investing\", \"hospital\", \"secretary\", \"party\", \"foreign\", \"aid\", \"earn\", \"ukraine\", \"strip\", \"east\", \"insight\", \"paid\", \"crisis\", \"student\", \"commission\", \"university\", \"administration\", \"state\", \"product\", \"skip\", \"country\", \"minister\", \"united\", \"receive\", \"via\", \"getty\", \"government\", \"question\", \"school\", \"case\", \"president\", \"city\", \"climate\", \"food\", \"new\", \"may\", \"science\", \"two\", \"ber\", \"watch\", \"musk\", \"episode\", \"iphone\", \"elon\", \"safety\", \"upcoming\", \"starting\", \"labor\", \"youre\", \"different\", \"auto\", \"japan\", \"player\", \"summer\", \"winter\", \"remains\", \"sport\", \"wave\", \"tell\", \"filed\", \"employment\", \"singer\", \"television\", \"max\", \"easy\", \"unleashed\", \"conversation\", \"dont\", \"kind\", \"car\", \"tesla\", \"range\", \"season\", \"working\", \"francisco\", \"apple\", \"parent\", \"electric\", \"let\", \"event\", \"worker\", \"job\", \"look\", \"come\", \"one\", \"ceo\", \"new\", \"time\", \"way\", \"big\", \"make\", \"long\", \"take\", \"year\", \"work\", \"industry\", \"like\", \"much\", \"health\", \"week\", \"show\", \"day\", \"set\", \"world\", \"trump\", \"house\", \"interest\", \"higher\", \"trading\", \"donald\", \"profit\", \"trial\", \"sam\", \"fraud\", \"crore\", \"reserve\", \"loss\", \"delhi\", \"rep\", \"traded\", \"speaker\", \"covid\", \"bankmanfried\", \"treasury\", \"gain\", \"index\", \"percent\", \"rose\", \"fell\", \"civil\", \"inflation\", \"guilty\", \"mike\", \"sen\", \"rate\", \"federal\", \"price\", \"economy\", \"ember\", \"stock\", \"revenue\", \"republican\", \"net\", \"million\", \"former\", \"thursday\", \"friday\", \"job\", \"last\", \"high\", \"new\", \"york\", \"reported\", \"finance\", \"sale\", \"month\", \"president\", \"bank\", \"ber\", \"filing\", \"position\", \"stake\", \"storm\", \"wealth\", \"payment\", \"strategic\", \"test\", \"sec\", \"grew\", \"usd\", \"objective\", \"commercial\", \"collaboration\", \"chinese\", \"robot\", \"italy\", \"fully\", \"satellite\", \"slowed\", \"owned\", \"complete\", \"alert\", \"mass\", \"highest\", \"mind\", \"asteroid\", \"hub\", \"signed\", \"ciar\", \"llc\", \"recent\", \"form\", \"holding\", \"size\", \"according\", \"management\", \"security\", \"china\", \"quarter\", \"second\", \"capital\", \"company\", \"estate\", \"real\", \"inc\", \"billion\", \"reuters\", \"report\", \"free\", \"investment\", \"new\", \"service\", \"growth\", \"financial\", \"share\", \"york\", \"national\", \"group\", \"world\", \"technology\", \"amp\", \"issued\", \"newswire\", \"globe\", \"analyst\", \"note\", \"rating\", \"eps\", \"nasdaq\", \"provider\", \"io\", \"dublin\", \"healthcare\", \"hong\", \"benzinga\", \"kong\", \"corporation\", \"announce\", \"researchandetscoms\", \"operating\", \"candidate\", \"dividend\", \"leadership\", \"warned\", \"competition\", \"offeringthe\", \"venture\", \"animal\", \"brokerage\", \"scene\", \"whole\", \"result\", \"estimate\", \"november\", \"earnings\", \"research\", \"report\", \"nyse\", \"share\", \"free\", \"solution\", \"today\", \"software\", \"target\", \"per\", \"get\", \"technology\", \"inc\", \"company\", \"mber\", \"global\", \"announced\", \"leading\", \"investor\", \"amp\", \"group\", \"quarter\", \"thursday\", \"health\", \"business\"], \"Freq\": [979.0, 536.0, 730.0, 502.0, 456.0, 305.0, 321.0, 320.0, 382.0, 313.0, 217.0, 364.0, 203.0, 384.0, 195.0, 313.0, 216.0, 377.0, 353.0, 229.0, 326.0, 237.0, 355.0, 255.0, 203.0, 182.0, 198.0, 180.0, 387.0, 328.0, 119.07027795099017, 116.43474021908408, 81.91902768538115, 72.97336009805028, 70.34811786930622, 69.72905474862743, 58.391942410629696, 56.576039196472436, 55.100474215130376, 53.17866894231799, 49.20343493600479, 48.93455082746163, 48.13924924200071, 43.13596099563279, 42.9075507801677, 42.47477864522765, 41.68112586758938, 42.67008774196268, 40.60057011528718, 36.4542801075165, 35.06640393294443, 34.883334197014996, 33.17309005930742, 32.96228216903949, 31.974031885410692, 31.976013925972236, 30.772769515793165, 30.63095121599921, 30.500310097655635, 33.789806666116505, 299.18962674905697, 56.94463973095501, 34.70459648669117, 53.390847946459495, 99.00586266251878, 82.56654055114295, 115.06972172769545, 67.99278027436819, 109.87817781089907, 51.944885140089106, 62.877019036275094, 184.56865844307097, 102.62709589372217, 207.3725939626806, 239.33833321253695, 66.81604522280294, 181.79956380635596, 98.31667487734916, 125.21408995796362, 98.08126677436731, 111.72323194736076, 154.12713962560943, 87.49882245473171, 158.56124552690162, 146.40143015301774, 100.54900793754325, 253.73693108858228, 132.83417853702363, 132.27525004101759, 71.8776839102208, 95.35561041363678, 115.45093998098925, 98.22983303712385, 90.2747205931991, 87.99932414385181, 84.54939336748569, 85.10305262080797, 202.94879243745274, 197.32873626699427, 134.15182078729612, 117.3038313854106, 103.55794516446984, 101.01991493328303, 93.47540366835477, 92.1298288280617, 84.4869905590423, 75.2017743126217, 73.80954223864306, 64.78283741300879, 62.72584136448476, 60.81457466054718, 60.04554314852761, 85.23933845222221, 57.77117234881255, 55.97389343936696, 55.33802944849164, 55.23509632957671, 81.76815677362562, 50.6304412377747, 49.68164593420973, 48.586680995670754, 47.54069328247492, 45.028057646103335, 46.323984664924495, 44.35796277101924, 42.69154832530601, 39.72648722091611, 137.88028107359384, 146.27128109026214, 135.21560300584792, 72.23511800228914, 290.72878254209235, 173.14017133400333, 82.33697808587101, 165.64071193627058, 127.33165494689848, 125.66632767975763, 89.78383294283688, 131.91166393754415, 123.63596581283227, 132.49451357890726, 96.69463763978891, 112.59684942068886, 106.94082491241527, 144.92332868187623, 128.20092364592142, 102.61262138126838, 100.64568842494577, 141.760634769904, 102.55814052608065, 91.59516727619327, 92.39023688436373, 91.70556501060202, 119.70002701028147, 78.8717158233688, 74.57491068360554, 72.53506092197289, 70.71300761926456, 67.02229262529575, 66.41013245624045, 66.26132633904116, 64.71771607020152, 56.43094714331328, 52.68067214209983, 50.91389294070941, 50.52613583048113, 46.48194091288581, 46.06423611883463, 44.845844952616396, 42.71348267072188, 40.14804938119539, 39.933287933901504, 39.30517467056339, 34.56210879859084, 33.34355330577604, 32.467471208221944, 31.708627753306654, 30.846449697984326, 29.931066715019192, 29.81687985203086, 29.399748524265654, 29.308902745197518, 28.959383427908616, 229.69115577654847, 67.8878242846296, 41.942844590498076, 114.73128706356155, 73.76056843590356, 38.19262995415683, 237.66497979149747, 50.57871363417378, 86.02812568934128, 58.10262484214494, 90.24658393218733, 86.54688127946766, 187.9593501328915, 91.94756542287169, 107.3703677177584, 219.81552975549712, 117.61949132478104, 363.02814399512476, 170.09191136497333, 100.11811184913661, 83.11135542915164, 106.75557161595005, 71.65757031073395, 88.39028362531334, 126.40231194263764, 92.32683791495081, 100.56693138120669, 108.82984947636498, 75.9151718196025, 95.01443629140906, 97.12508063372495, 82.74521565038162, 87.85410270874308, 78.41494824979141, 78.78319409188065, 181.44238115139487, 179.61112847578877, 111.0616258973084, 107.7405174948901, 105.95820512111234, 104.69792263350337, 86.35714946867125, 84.4117957095053, 83.72376152793737, 82.3436380448257, 81.59070451476249, 74.79489277880799, 73.28352400146512, 70.22824091367845, 66.24885524160635, 65.66339003306537, 63.36570560620231, 63.071151683719194, 62.734193290314316, 59.601543393476376, 59.18182685672576, 58.554799573246534, 52.895525259736814, 51.948004067109764, 50.95525492460931, 50.426282533610895, 49.55464669502961, 49.323911530331884, 49.752691085939595, 49.00333047677197, 215.73707689174813, 167.677084675823, 214.62901826317355, 97.20646029436449, 147.52690303468142, 238.42213843019994, 107.54464009502736, 79.62051459815162, 99.55578649983057, 203.84679120590525, 148.03946322807002, 227.12445798506172, 189.6969438686738, 165.0525389881023, 146.97386135706444, 107.85804625865873, 244.66014459401, 116.31125175847734, 104.7880531941117, 105.13542243994729, 96.18992072736415, 100.41857427577125, 98.70143430297998, 94.73115812678475, 96.3097501036119, 117.2775193845943, 79.34743471335683, 75.13272964905858, 67.06717036395365, 51.48099841268631, 49.15434513579439, 49.48923598668921, 48.2308954405504, 45.73079271897191, 42.2271333432342, 37.113948026127744, 37.08908774767813, 35.62101892545013, 33.29001121844335, 57.913144250382935, 29.102286639792695, 27.914752280947752, 27.632097610366714, 26.864065895160966, 25.338974658292376, 24.681829294368068, 23.951825460209967, 23.744755933650524, 23.665869185513987, 23.343071278420034, 23.394283743130217, 22.882450199991503, 22.80959172975771, 22.70994199145233, 22.32558772549234, 70.76528233531633, 279.8459054756428, 80.5788675498388, 124.13582201735355, 54.489771347671045, 343.2168123783995, 110.3942206248693, 126.6451964001571, 111.29484776940544, 219.22022538660158, 136.06055624487738, 104.88837730125515, 324.4567727312021, 98.6519212510267, 111.76806637183756, 173.34189147565993, 107.00814784329728, 84.51061471026111, 267.8524998232212, 184.83721824719973, 90.94643816135837, 245.09014941494357, 103.73031721867511, 83.91486074629042, 99.45119569907327, 130.36236112590535, 94.2218720300176, 86.59170723907134, 92.2629364275939, 90.27059179367059, 84.66505506615657, 81.37876787140605, 194.65025772915175, 202.2192773373334, 216.31738339808933, 146.325896070788, 114.34600824973346, 76.86824452776679, 74.5333019469602, 69.16626510522612, 67.34915947358958, 55.43126072650244, 51.34999160904294, 48.36617780393015, 41.93399389091191, 41.0189457077611, 39.96663408572081, 38.575631649861144, 36.34791808912049, 34.120510662495924, 32.815003942823466, 32.358136486743426, 30.912517949884037, 29.704519382910313, 29.791780916172904, 29.317215358802216, 27.274329161465047, 26.737629470345325, 26.064720062837146, 25.062445840234304, 24.735603304052585, 24.425498317913227, 132.33922282828624, 98.38070591718771, 273.3372139834829, 196.57668429731413, 263.19773261452156, 711.4798925555097, 52.21590304819928, 343.8063592664, 350.60012306432276, 80.96649299685309, 215.02038631949873, 59.427287021174955, 66.81545235437272, 143.84534013215762, 217.13732591584372, 213.31199822960852, 208.21753610607254, 326.26570851939687, 229.27951005186165, 179.80030402620145, 167.12200362857487, 89.40023943826363, 102.74162633132579, 106.16120652214049, 120.85261824677042, 117.7653754776848, 100.1578898853965, 89.92491781941919, 87.686536150242], \"Total\": [979.0, 536.0, 730.0, 502.0, 456.0, 305.0, 321.0, 320.0, 382.0, 313.0, 217.0, 364.0, 203.0, 384.0, 195.0, 313.0, 216.0, 377.0, 353.0, 229.0, 326.0, 237.0, 355.0, 255.0, 203.0, 182.0, 198.0, 180.0, 387.0, 328.0, 119.86549690911299, 117.22977483766194, 82.71385364616073, 73.76818056592636, 71.14458580488109, 70.52363585787514, 59.189004640598746, 57.372843386211734, 55.896649287088785, 53.975167906151924, 50.0003420515191, 49.73041914246446, 48.933481916148075, 43.933021725674095, 43.705637879584536, 43.26920203208047, 42.478946027326344, 43.50350122380764, 41.397966955194306, 37.27016353934631, 35.865058543781316, 35.67882023956621, 33.969349032907466, 33.75854332157465, 32.768492872821675, 32.77163946256327, 31.56843759699636, 31.426107387387965, 31.299399080823996, 34.68707779189347, 313.83189858050025, 59.218535255472375, 35.81817695905419, 57.43639753265069, 116.92381307506474, 96.19071312674856, 141.87244957790364, 77.70948174983073, 136.88254310944043, 57.24997295277423, 72.58468093265004, 299.36964213008, 149.4222597202334, 417.2731420084428, 551.4438871798199, 84.88094698604448, 384.6124777824477, 153.86008165281532, 223.61551390659213, 154.64174349244362, 190.19574126075736, 345.8085270685176, 134.21760213442542, 374.1767120252391, 349.35176357598766, 180.40401798568365, 1249.9264702130513, 384.3149326593532, 387.1170578489386, 98.93842265325425, 204.27279781376456, 351.19842328177396, 268.2585532981879, 204.0281673166248, 209.05152042461887, 180.5034832505124, 215.4451073397944, 203.74228127344563, 198.12112931252892, 134.94472945932154, 118.09810761684558, 104.35534534053659, 101.8175463144928, 94.27180666304783, 92.92220275296208, 85.28057989610765, 75.99637389943577, 74.60342070058003, 65.5751210428512, 63.52272270890157, 61.6107902484555, 60.83750266316644, 86.38786222797687, 58.56300133652966, 56.768112494537334, 56.132356346165196, 56.03009929202231, 83.03887448001976, 51.42763072181111, 50.4763002579484, 49.38266470293254, 48.3351590536914, 45.82179039487842, 47.14117735306014, 45.17262807878676, 43.496512787102, 40.52268214894591, 147.65795869763613, 158.48497836374065, 150.53078982380612, 76.83205290605142, 355.26341929428986, 204.70969385248705, 93.55672016201892, 225.43318099369975, 165.9486877730804, 165.50130958089773, 108.7213988996369, 188.30359520877067, 175.07851465941536, 193.55886420921047, 124.2298404431033, 158.38886399357273, 150.22379181200435, 250.86754025216268, 241.5096390600426, 209.19189591813858, 215.4451073397944, 1249.9264702130513, 268.2585532981879, 148.40523348085208, 292.2114916101267, 317.3562354425791, 120.49396709085329, 79.66260228256613, 75.38040560270166, 73.32718699885437, 71.5040050739309, 67.8164535260813, 67.2063697584447, 67.05601103665738, 65.51659110705344, 57.2240325350581, 53.47602797204408, 51.705562961923455, 51.32127756406822, 47.27793408489251, 46.85975015734346, 45.637950571666984, 43.51216418632868, 40.94108636957631, 40.72943582833886, 40.098069016336616, 35.36070854387117, 34.14197602661141, 33.26705757496955, 32.50414247714129, 31.638959018772095, 30.724173111807573, 30.608363447042965, 30.193865471654206, 30.104669071476398, 29.752764501102234, 255.72804764960182, 72.96821538662837, 44.1837039554523, 137.96146739104825, 84.40828597636573, 40.68212384892301, 387.1170578489386, 57.49896436349942, 113.39871883374174, 69.0804634957264, 124.80245259563706, 118.66444301468631, 353.6481843494146, 133.78743522044817, 178.1278486945307, 551.4438871798199, 211.76263295655872, 1249.9264702130513, 384.6124777824477, 173.16643006672254, 127.98785369053407, 209.05152042461887, 101.78648892511522, 159.08508389690408, 345.8085270685176, 174.70325431311252, 230.06559173178184, 299.36964213008, 116.01840656090036, 295.8427372900655, 351.19842328177396, 180.86069711392133, 374.1767120252391, 158.2562500907132, 349.35176357598766, 182.23787453059333, 180.41362642891121, 111.85824681545512, 108.53752395235595, 106.7569563005057, 105.4932031671735, 87.15286553656537, 85.20808682908152, 84.52152308742563, 83.13943372276182, 82.38618301841903, 75.59009142289312, 74.0820532054471, 71.02543518498126, 67.04594984184271, 66.45923704199718, 64.16342753368595, 63.86985076864355, 63.53066734520206, 60.39811622436955, 59.979470975643004, 59.352672967656616, 53.69301209894212, 52.74552032623854, 51.75252495545937, 51.22362086604537, 50.350883241182515, 50.1189697103261, 50.562236820973894, 49.801012352215075, 229.36763363842056, 182.26064196477643, 237.12671914810213, 103.27878651513126, 176.23868965476328, 313.2473988152809, 126.64138823103735, 89.41094621157448, 118.38501028959372, 297.7953561988408, 209.04727554278912, 441.74529215319683, 377.7931570344722, 353.6481843494146, 313.0848323855398, 187.19937411907912, 1249.9264702130513, 228.46750166343057, 189.13112651108224, 223.49898499790095, 194.1259550334805, 276.8277220422847, 250.86754025216268, 232.07051897579882, 317.3562354425791, 118.06779854007567, 80.13871358228538, 75.92304375125215, 67.859591069542, 52.27462374441434, 49.950458921907426, 50.299778689205525, 49.028816516528096, 46.52215478281891, 43.02233268086799, 37.90731638203017, 37.89955071402876, 36.41501128901954, 34.0842345687549, 59.30236366443781, 29.900138819142605, 28.709510819164148, 28.431150326268643, 27.658529279982766, 26.149593673745624, 25.473361128829744, 24.74928989047528, 24.5398712153447, 24.467836395727385, 24.139969590111846, 24.19331248984071, 23.677318168560276, 23.602801204955885, 23.50750866104501, 23.116351161591002, 75.16057461152907, 320.44334079042807, 90.79462411495174, 145.5916963336581, 60.638944921959336, 456.07555937587586, 136.58943080845438, 177.2150534488043, 153.45132250330084, 364.54367069336985, 212.1652436802199, 157.7188373723622, 730.8154090308542, 158.8446446809579, 193.0127802220428, 382.1972992921236, 189.33831870655246, 144.07718351439343, 979.9737258373129, 536.0753452227754, 165.2563668132298, 1249.9264702130513, 224.44573598834538, 152.55129649212193, 246.31443852969375, 502.5061133442791, 228.46750166343057, 186.32331390232653, 313.7789212634557, 349.35176357598766, 377.62938501769565, 215.59107120161428, 195.45049108360598, 203.07686283874972, 217.2731915605081, 147.12563344719916, 115.15023330296499, 77.66732228558631, 75.3313514967723, 69.96627295961754, 68.14962920056549, 56.23479957135866, 52.14901061063368, 49.166999266871, 42.73559158170172, 41.81711977054408, 40.76787309725491, 39.39925010713591, 37.15011968273127, 34.918523997646176, 33.61614374556404, 33.161606038572124, 31.710983183298485, 30.507219770030858, 30.603633475735673, 30.124307683202723, 28.07227476854346, 27.53948416552128, 26.871609350502002, 25.8618712798349, 25.544433949773783, 25.229147692309617, 139.40777405030298, 104.52342704184262, 305.4250114926922, 216.7048870914298, 321.9311193798752, 979.9737258373129, 57.878629337398806, 502.5061133442791, 536.0753452227754, 99.03247098416622, 326.6087645454768, 69.21474262573774, 81.4659702383479, 215.04816408012044, 384.3149326593532, 377.62938501769565, 382.1972992921236, 730.8154090308542, 451.12451065051783, 328.0289328736578, 322.26773545663605, 125.85955085226226, 180.2684387851353, 215.59107120161428, 313.7789212634557, 364.54367069336985, 441.74529215319683, 295.8427372900655, 238.88189160410536], \"Category\": [\"Default\", \"Default\", \"Default\", \"Default\", \"Default\", \"Default\", \"Default\", \"Default\", \"Default\", \"Default\", \"Default\", \"Default\", \"Default\", \"Default\", \"Default\", \"Default\", \"Default\", \"Default\", \"Default\", \"Default\", \"Default\", \"Default\", \"Default\", \"Default\", \"Default\", \"Default\", \"Default\", \"Default\", \"Default\", \"Default\", \"Topic1\", \"Topic1\", \"Topic1\", \"Topic1\", \"Topic1\", \"Topic1\", \"Topic1\", \"Topic1\", \"Topic1\", \"Topic1\", \"Topic1\", \"Topic1\", \"Topic1\", \"Topic1\", \"Topic1\", \"Topic1\", \"Topic1\", \"Topic1\", \"Topic1\", \"Topic1\", \"Topic1\", \"Topic1\", \"Topic1\", \"Topic1\", \"Topic1\", \"Topic1\", \"Topic1\", \"Topic1\", \"Topic1\", \"Topic1\", \"Topic1\", \"Topic1\", \"Topic1\", \"Topic1\", \"Topic1\", \"Topic1\", \"Topic1\", \"Topic1\", \"Topic1\", \"Topic1\", \"Topic1\", \"Topic1\", \"Topic1\", \"Topic1\", \"Topic1\", \"Topic1\", \"Topic1\", \"Topic1\", \"Topic1\", \"Topic1\", \"Topic1\", \"Topic1\", \"Topic1\", \"Topic1\", \"Topic1\", \"Topic1\", \"Topic1\", \"Topic1\", \"Topic1\", \"Topic1\", \"Topic1\", \"Topic1\", \"Topic1\", \"Topic1\", \"Topic1\", \"Topic1\", \"Topic1\", \"Topic2\", \"Topic2\", \"Topic2\", \"Topic2\", \"Topic2\", \"Topic2\", \"Topic2\", \"Topic2\", \"Topic2\", \"Topic2\", \"Topic2\", \"Topic2\", \"Topic2\", \"Topic2\", \"Topic2\", \"Topic2\", \"Topic2\", \"Topic2\", \"Topic2\", \"Topic2\", \"Topic2\", \"Topic2\", \"Topic2\", \"Topic2\", \"Topic2\", \"Topic2\", \"Topic2\", \"Topic2\", \"Topic2\", \"Topic2\", \"Topic2\", \"Topic2\", \"Topic2\", \"Topic2\", \"Topic2\", \"Topic2\", \"Topic2\", \"Topic2\", \"Topic2\", \"Topic2\", \"Topic2\", \"Topic2\", \"Topic2\", \"Topic2\", \"Topic2\", \"Topic2\", \"Topic2\", \"Topic2\", \"Topic2\", \"Topic2\", \"Topic2\", \"Topic2\", \"Topic2\", \"Topic2\", \"Topic2\", \"Topic2\", \"Topic3\", \"Topic3\", \"Topic3\", \"Topic3\", \"Topic3\", \"Topic3\", \"Topic3\", \"Topic3\", \"Topic3\", \"Topic3\", \"Topic3\", \"Topic3\", \"Topic3\", \"Topic3\", \"Topic3\", \"Topic3\", \"Topic3\", \"Topic3\", \"Topic3\", \"Topic3\", \"Topic3\", \"Topic3\", \"Topic3\", \"Topic3\", \"Topic3\", \"Topic3\", \"Topic3\", \"Topic3\", \"Topic3\", \"Topic3\", \"Topic3\", \"Topic3\", \"Topic3\", \"Topic3\", \"Topic3\", \"Topic3\", \"Topic3\", \"Topic3\", \"Topic3\", \"Topic3\", \"Topic3\", \"Topic3\", \"Topic3\", \"Topic3\", \"Topic3\", \"Topic3\", \"Topic3\", \"Topic3\", \"Topic3\", \"Topic3\", \"Topic3\", \"Topic3\", \"Topic3\", \"Topic3\", \"Topic3\", \"Topic3\", \"Topic3\", \"Topic3\", \"Topic3\", \"Topic3\", \"Topic3\", \"Topic3\", \"Topic3\", \"Topic3\", \"Topic3\", \"Topic4\", \"Topic4\", \"Topic4\", \"Topic4\", \"Topic4\", \"Topic4\", \"Topic4\", \"Topic4\", \"Topic4\", \"Topic4\", \"Topic4\", \"Topic4\", \"Topic4\", \"Topic4\", \"Topic4\", \"Topic4\", \"Topic4\", \"Topic4\", \"Topic4\", \"Topic4\", \"Topic4\", \"Topic4\", \"Topic4\", \"Topic4\", \"Topic4\", \"Topic4\", \"Topic4\", \"Topic4\", \"Topic4\", \"Topic4\", \"Topic4\", \"Topic4\", \"Topic4\", \"Topic4\", \"Topic4\", \"Topic4\", \"Topic4\", \"Topic4\", \"Topic4\", \"Topic4\", \"Topic4\", \"Topic4\", \"Topic4\", \"Topic4\", \"Topic4\", \"Topic4\", \"Topic4\", \"Topic4\", \"Topic4\", \"Topic4\", \"Topic4\", \"Topic4\", \"Topic4\", \"Topic4\", \"Topic4\", \"Topic5\", \"Topic5\", \"Topic5\", \"Topic5\", \"Topic5\", \"Topic5\", \"Topic5\", \"Topic5\", \"Topic5\", \"Topic5\", \"Topic5\", \"Topic5\", \"Topic5\", \"Topic5\", \"Topic5\", \"Topic5\", \"Topic5\", \"Topic5\", \"Topic5\", \"Topic5\", \"Topic5\", \"Topic5\", \"Topic5\", \"Topic5\", \"Topic5\", \"Topic5\", \"Topic5\", \"Topic5\", \"Topic5\", \"Topic5\", \"Topic5\", \"Topic5\", \"Topic5\", \"Topic5\", \"Topic5\", \"Topic5\", \"Topic5\", \"Topic5\", \"Topic5\", \"Topic5\", \"Topic5\", \"Topic5\", \"Topic5\", \"Topic5\", \"Topic5\", \"Topic5\", \"Topic5\", \"Topic5\", \"Topic5\", \"Topic5\", \"Topic5\", \"Topic5\", \"Topic5\", \"Topic5\", \"Topic5\", \"Topic5\", \"Topic5\", \"Topic5\", \"Topic5\", \"Topic5\", \"Topic5\", \"Topic5\", \"Topic6\", \"Topic6\", \"Topic6\", \"Topic6\", \"Topic6\", \"Topic6\", \"Topic6\", \"Topic6\", \"Topic6\", \"Topic6\", \"Topic6\", \"Topic6\", \"Topic6\", \"Topic6\", \"Topic6\", \"Topic6\", \"Topic6\", \"Topic6\", \"Topic6\", \"Topic6\", \"Topic6\", \"Topic6\", \"Topic6\", \"Topic6\", \"Topic6\", \"Topic6\", \"Topic6\", \"Topic6\", \"Topic6\", \"Topic6\", \"Topic6\", \"Topic6\", \"Topic6\", \"Topic6\", \"Topic6\", \"Topic6\", \"Topic6\", \"Topic6\", \"Topic6\", \"Topic6\", \"Topic6\", \"Topic6\", \"Topic6\", \"Topic6\", \"Topic6\", \"Topic6\", \"Topic6\", \"Topic6\", \"Topic6\", \"Topic6\", \"Topic6\", \"Topic6\", \"Topic6\", \"Topic6\", \"Topic6\", \"Topic6\", \"Topic6\", \"Topic6\", \"Topic6\"], \"logprob\": [30.0, 29.0, 28.0, 27.0, 26.0, 25.0, 24.0, 23.0, 22.0, 21.0, 20.0, 19.0, 18.0, 17.0, 16.0, 15.0, 14.0, 13.0, 12.0, 11.0, 10.0, 9.0, 8.0, 7.0, 6.0, 5.0, 4.0, 3.0, 2.0, 1.0, -5.5231, -5.5455, -5.8971, -6.0127, -6.0494, -6.0582, -6.2357, -6.2673, -6.2937, -6.3292, -6.4069, -6.4124, -6.4287, -6.5385, -6.5438, -6.5539, -6.5728, -6.5493, -6.5991, -6.7068, -6.7456, -6.7508, -6.8011, -6.8075, -6.8379, -6.8379, -6.8762, -6.8808, -6.8851, -6.7827, -4.6018, -6.2608, -6.756, -6.3252, -5.7077, -5.8892, -5.5573, -6.0834, -5.6035, -6.3527, -6.1617, -5.0848, -5.6717, -4.9683, -4.825, -6.1009, -5.0999, -5.7146, -5.4728, -5.717, -5.5868, -5.2651, -5.8312, -5.2367, -5.3165, -5.6922, -4.7665, -5.4137, -5.418, -6.0279, -5.7452, -5.554, -5.7155, -5.8, -5.8255, -5.8655, -5.859, -4.9653, -4.9934, -5.3793, -5.5135, -5.6381, -5.6629, -5.7405, -5.755, -5.8416, -5.9581, -5.9768, -6.1072, -6.1395, -6.1704, -6.1831, -5.8328, -6.2218, -6.2534, -6.2648, -6.2666, -5.8744, -6.3537, -6.3726, -6.3949, -6.4167, -6.471, -6.4426, -6.486, -6.5242, -6.5962, -5.3519, -5.2928, -5.3714, -5.9983, -4.6059, -5.1241, -5.8674, -5.1684, -5.4315, -5.4446, -5.7808, -5.3961, -5.4609, -5.3917, -5.7067, -5.5544, -5.606, -5.302, -5.4246, -5.6473, -5.6666, -5.3241, -5.6478, -5.7609, -5.7522, -5.7597, -5.4834, -5.9006, -5.9566, -5.9843, -6.0098, -6.0634, -6.0725, -6.0748, -6.0983, -6.2354, -6.3041, -6.3382, -6.3459, -6.4293, -6.4383, -6.4652, -6.5139, -6.5758, -6.5812, -6.597, -6.7256, -6.7615, -6.7881, -6.8118, -6.8394, -6.8695, -6.8733, -6.8874, -6.8905, -6.9025, -4.8316, -6.0505, -6.5321, -5.5258, -5.9676, -6.6257, -4.7975, -6.3449, -5.8137, -6.2062, -5.7658, -5.8077, -5.0322, -5.7472, -5.5921, -4.8756, -5.5009, -4.3739, -5.132, -5.662, -5.8482, -5.5978, -5.9965, -5.7866, -5.4289, -5.743, -5.6576, -5.5786, -5.9388, -5.7144, -5.6924, -5.8526, -5.7927, -5.9064, -5.9017, -4.9238, -4.9339, -5.4146, -5.445, -5.4617, -5.4736, -5.6662, -5.689, -5.6972, -5.7138, -5.723, -5.81, -5.8304, -5.873, -5.9313, -5.9402, -5.9758, -5.9805, -5.9858, -6.037, -6.0441, -6.0548, -6.1564, -6.1745, -6.1938, -6.2042, -6.2216, -6.2263, -6.2177, -6.2328, -4.7507, -5.0027, -4.7558, -5.5479, -5.1307, -4.6507, -5.4468, -5.7474, -5.524, -4.8073, -5.1272, -4.6992, -4.8793, -5.0185, -5.1345, -5.4439, -4.6248, -5.3684, -5.4728, -5.4695, -5.5584, -5.5154, -5.5326, -5.5737, -5.5571, -5.18, -5.5707, -5.6253, -5.7388, -6.0033, -6.0496, -6.0428, -6.0685, -6.1218, -6.2015, -6.3305, -6.3312, -6.3716, -6.4393, -5.8856, -6.5737, -6.6154, -6.6256, -6.6537, -6.7122, -6.7385, -6.7685, -6.7772, -6.7805, -6.7942, -6.792, -6.8142, -6.8174, -6.8217, -6.8388, -5.6852, -4.3103, -5.5553, -5.1232, -5.9465, -4.1062, -5.2405, -5.1031, -5.2324, -4.5545, -5.0314, -5.2916, -4.1624, -5.3529, -5.2281, -4.7893, -5.2716, -5.5077, -4.3541, -4.7251, -5.4343, -4.4429, -5.3027, -5.5147, -5.3449, -5.0742, -5.3989, -5.4833, -5.4199, -5.4417, -5.5058, -5.5454, -4.5839, -4.5458, -4.4784, -4.8693, -5.1159, -5.513, -5.5439, -5.6186, -5.6452, -5.84, -5.9165, -5.9763, -6.119, -6.1411, -6.1671, -6.2025, -6.262, -6.3252, -6.3642, -6.3783, -6.424, -6.4638, -6.4609, -6.4769, -6.5492, -6.569, -6.5945, -6.6337, -6.6469, -6.6595, -4.9697, -5.2663, -4.2444, -4.5741, -4.2822, -3.2878, -5.8997, -4.015, -3.9955, -5.4611, -4.4844, -5.7704, -5.6532, -4.8864, -4.4746, -4.4924, -4.5165, -4.0674, -4.4202, -4.6633, -4.7364, -5.362, -5.2229, -5.1902, -5.0605, -5.0864, -5.2484, -5.3561, -5.3813], \"loglift\": [30.0, 29.0, 28.0, 27.0, 26.0, 25.0, 24.0, 23.0, 22.0, 21.0, 20.0, 19.0, 18.0, 17.0, 16.0, 15.0, 14.0, 13.0, 12.0, 11.0, 10.0, 9.0, 8.0, 7.0, 6.0, 5.0, 4.0, 3.0, 2.0, 1.0, 1.6258, 1.6257, 1.6228, 1.6217, 1.6212, 1.6212, 1.6189, 1.6185, 1.6181, 1.6176, 1.6164, 1.6164, 1.6161, 1.6142, 1.6141, 1.614, 1.6135, 1.6132, 1.613, 1.6104, 1.61, 1.6099, 1.6088, 1.6086, 1.608, 1.6079, 1.607, 1.6069, 1.6066, 1.6063, 1.5847, 1.5933, 1.6009, 1.5595, 1.4662, 1.4798, 1.4231, 1.4989, 1.4127, 1.5352, 1.4889, 1.1488, 1.2568, 0.9333, 0.7978, 1.3932, 0.8832, 1.1846, 1.0526, 1.1772, 1.1005, 0.8244, 1.2047, 0.7739, 0.7628, 1.0479, 0.038, 0.5701, 0.5587, 1.313, 0.8707, 0.52, 0.6279, 0.8171, 0.7672, 0.8741, 0.7037, 1.6532, 1.6531, 1.6512, 1.6503, 1.6494, 1.6492, 1.6486, 1.6485, 1.6477, 1.6466, 1.6464, 1.6449, 1.6445, 1.6441, 1.644, 1.6437, 1.6435, 1.643, 1.6428, 1.6428, 1.6417, 1.6415, 1.6412, 1.6408, 1.6405, 1.6396, 1.6396, 1.6389, 1.6384, 1.6372, 1.5886, 1.5769, 1.5498, 1.5954, 1.4566, 1.4896, 1.5293, 1.3489, 1.3922, 1.3817, 1.4657, 1.3012, 1.3092, 1.278, 1.4065, 1.3158, 1.3172, 1.1084, 1.0238, 0.9448, 0.896, -0.5196, 0.6956, 1.1745, 0.5056, 0.4156, 1.6603, 1.657, 1.6562, 1.6561, 1.6558, 1.6552, 1.655, 1.655, 1.6547, 1.653, 1.652, 1.6515, 1.6513, 1.65, 1.6498, 1.6494, 1.6484, 1.6474, 1.6472, 1.647, 1.6441, 1.6433, 1.6426, 1.6422, 1.6416, 1.6408, 1.6408, 1.6403, 1.6402, 1.6399, 1.5596, 1.5948, 1.6149, 1.4826, 1.5321, 1.6038, 1.1791, 1.5387, 1.3907, 1.4939, 1.3428, 1.3513, 1.0349, 1.2919, 1.1607, 0.7472, 1.0789, 0.4306, 0.8511, 1.119, 1.2352, 0.9949, 1.316, 1.0793, 0.6605, 1.0292, 0.8394, 0.6551, 1.2428, 0.5312, 0.3816, 0.885, 0.2179, 0.9647, 0.1776, 1.8062, 1.8062, 1.8035, 1.8032, 1.8031, 1.803, 1.8014, 1.8012, 1.8011, 1.801, 1.8009, 1.8, 1.7998, 1.7993, 1.7987, 1.7986, 1.7981, 1.798, 1.798, 1.7973, 1.7972, 1.7971, 1.7957, 1.7954, 1.7951, 1.7949, 1.7947, 1.7946, 1.7945, 1.7945, 1.7494, 1.7272, 1.7109, 1.75, 1.6328, 1.5377, 1.6472, 1.6946, 1.6374, 1.4316, 1.4655, 1.1454, 1.1217, 1.0486, 1.0544, 1.2593, 0.1796, 1.1355, 1.2201, 1.0565, 1.1084, 0.7966, 0.8778, 0.9146, 0.6182, 1.9841, 1.9809, 1.9803, 1.9791, 1.9755, 1.9747, 1.9746, 1.9744, 1.9736, 1.9721, 1.9696, 1.9692, 1.9688, 1.9672, 1.9671, 1.9638, 1.9627, 1.9623, 1.9617, 1.9593, 1.9592, 1.958, 1.9579, 1.9575, 1.9572, 1.9572, 1.9567, 1.9566, 1.9563, 1.956, 1.9305, 1.8553, 1.8714, 1.8314, 1.8839, 1.7065, 1.7779, 1.6548, 1.6696, 1.4822, 1.5465, 1.5829, 1.1788, 1.5145, 1.4445, 1.2001, 1.4202, 1.4573, 0.6937, 0.926, 1.3936, 0.3616, 1.219, 1.3931, 1.0839, 0.6415, 1.1051, 1.2245, 0.7668, 0.6375, 0.4956, 1.0165, 2.0761, 2.076, 2.0758, 2.0748, 2.0732, 2.0699, 2.0696, 2.0687, 2.0684, 2.0658, 2.0648, 2.0638, 2.0613, 2.0609, 2.0604, 2.0591, 2.0584, 2.0571, 2.0561, 2.0557, 2.0547, 2.0536, 2.0533, 2.0531, 2.0514, 2.0507, 2.0497, 2.0488, 2.048, 2.0478, 2.0282, 2.0197, 1.9692, 1.9827, 1.8788, 1.76, 1.9773, 1.7007, 1.6556, 1.8788, 1.6622, 1.9278, 1.882, 1.6781, 1.5093, 1.5091, 1.4729, 1.2738, 1.4034, 1.479, 1.4236, 1.7382, 1.518, 1.3718, 1.1261, 0.9503, 0.5962, 0.8894, 1.078]}, \"token.table\": {\"Topic\": [2, 3, 4, 5, 2, 4, 2, 1, 5, 1, 3, 5, 6, 6, 6, 6, 1, 2, 3, 5, 6, 1, 1, 3, 6, 1, 1, 2, 6, 2, 2, 5, 2, 3, 1, 6, 1, 2, 3, 4, 4, 5, 6, 4, 6, 1, 2, 3, 4, 5, 6, 1, 3, 2, 1, 3, 4, 4, 5, 6, 1, 3, 4, 5, 6, 6, 5, 6, 3, 5, 2, 3, 4, 1, 3, 4, 5, 6, 2, 5, 6, 5, 6, 1, 5, 2, 3, 5, 4, 1, 2, 3, 5, 6, 5, 1, 2, 3, 4, 5, 2, 5, 1, 3, 4, 5, 6, 6, 5, 1, 3, 6, 1, 2, 3, 4, 5, 4, 2, 4, 1, 1, 2, 3, 4, 6, 4, 3, 1, 6, 4, 3, 6, 2, 4, 6, 1, 3, 2, 3, 1, 4, 3, 5, 3, 4, 6, 3, 3, 6, 4, 5, 6, 4, 6, 3, 5, 6, 1, 1, 1, 2, 4, 4, 1, 3, 5, 1, 4, 5, 6, 4, 5, 6, 1, 2, 3, 4, 5, 6, 1, 2, 6, 2, 1, 5, 2, 3, 4, 3, 6, 4, 5, 6, 2, 4, 5, 6, 5, 4, 1, 2, 1, 3, 4, 6, 2, 3, 1, 4, 5, 6, 6, 1, 2, 3, 4, 1, 1, 2, 4, 5, 5, 1, 2, 4, 5, 6, 4, 5, 4, 2, 1, 2, 3, 5, 6, 6, 1, 2, 3, 4, 5, 4, 5, 5, 6, 6, 2, 4, 5, 5, 6, 4, 1, 3, 4, 5, 6, 4, 2, 2, 4, 2, 4, 5, 6, 4, 5, 6, 6, 3, 2, 2, 6, 5, 3, 3, 4, 3, 1, 2, 6, 3, 1, 2, 3, 4, 6, 5, 6, 2, 3, 1, 2, 3, 4, 5, 1, 2, 3, 2, 5, 6, 1, 2, 3, 4, 1, 1, 2, 3, 4, 4, 1, 1, 2, 3, 4, 5, 6, 1, 2, 3, 5, 3, 1, 2, 3, 5, 1, 2, 3, 4, 5, 6, 4, 2, 4, 5, 6, 5, 2, 3, 5, 1, 2, 3, 4, 5, 6, 1, 1, 2, 3, 4, 5, 1, 3, 3, 1, 6, 2, 4, 5, 6, 1, 2, 3, 4, 6, 1, 2, 3, 4, 5, 6, 1, 2, 4, 6, 1, 6, 6, 5, 6, 4, 6, 5, 6, 1, 2, 3, 4, 6, 5, 2, 2, 2, 3, 1, 2, 5, 4, 6, 4, 1, 2, 3, 4, 5, 6, 3, 1, 1, 2, 5, 1, 2, 3, 6, 1, 2, 3, 4, 6, 4, 5, 1, 2, 3, 4, 4, 1, 6, 4, 5, 6, 2, 3, 4, 1, 3, 6, 4, 5, 6, 2, 3, 1, 3, 4, 5, 6, 1, 2, 3, 5, 1, 3, 4, 5, 3, 4, 5, 6, 4, 6, 2, 4, 2, 6, 6, 4, 5, 6, 4, 5, 4, 5, 6, 5, 4, 3, 1, 2, 3, 4, 5, 4, 5, 6, 1, 2, 5, 1, 2, 5, 2, 2, 3, 5, 1, 2, 4, 5, 6, 2, 1, 2, 5, 4, 2, 3, 5, 6, 1, 2, 3, 4, 5, 6, 4, 5, 6, 1, 4, 1, 2, 3, 4, 5, 3, 1, 3, 5, 2, 4, 6, 5, 1, 6, 5, 6, 1, 3, 5, 4, 3, 5, 3, 1, 2, 3, 4, 5, 4, 6, 5, 1, 3, 5, 2, 1, 2, 5, 3, 2, 1, 2, 3, 4, 1, 6, 1, 3, 5, 6, 3, 3, 3, 5, 5, 1, 1, 2, 3, 4, 5, 6, 1, 3, 4, 1, 3, 4, 5, 6, 1, 4, 4, 4, 4, 4, 1, 2, 3, 4, 5, 6, 2, 2, 2, 3, 5, 1, 2, 3, 3, 5, 1, 3, 1, 6, 1, 2, 2, 3, 1, 2, 1, 2, 6, 3, 3, 1, 2, 3, 5, 1, 2, 3, 4, 6, 6, 3, 1, 2, 3, 4, 1, 2, 3, 2, 3, 1, 2, 3, 5, 2, 1, 2, 3, 4, 2, 3, 4, 5, 3], \"Freq\": [0.07016381242571063, 0.10524571863856592, 0.07016381242571063, 0.7520683644380857, 0.9371088924051014, 0.052061605133616747, 0.9905638833370439, 0.992575030321318, 0.9780002425193202, 0.11596027544489888, 0.013915233053387866, 0.3757112924414724, 0.4916715678863713, 0.9923491683887762, 0.967563931912931, 0.96904129266464, 0.1458414691542221, 0.05895718965808979, 0.07447223956811343, 0.2016956488303072, 0.5182026669947892, 0.9895865594076861, 0.34098213272614103, 0.6148011180971331, 0.04391436557836665, 0.9659200975062695, 0.8628691617103678, 0.114356153961615, 0.02079202799302091, 0.9919704771516731, 0.9862337764289345, 0.9713937970618798, 0.984983921337452, 0.9863542156490388, 0.8679517384454236, 0.12399310549220338, 0.44111556352085385, 0.08332182866505017, 0.16664365733010034, 0.30387961042547706, 0.4093583296114702, 0.3317956987377179, 0.2585421029125075, 0.9916470679849999, 0.9804596831386828, 0.07562479422069665, 0.2898950445126705, 0.15440062153392234, 0.3024991768827866, 0.09137995968334178, 0.09137995968334178, 0.6893216592551149, 0.30785239151199306, 0.9865091514837135, 0.21877075982305397, 0.64849903804691, 0.12501186275603085, 0.4330871878454164, 0.5651259646275555, 0.9666740557746523, 0.1088403973420025, 0.1088403973420025, 0.1297712429846953, 0.2888456698691605, 0.3683828833113931, 0.9649713576229995, 0.6657416561605952, 0.32970062971762815, 0.8993929375910524, 0.0977601019120709, 0.7122706643825353, 0.2596126720646624, 0.026626940724580758, 0.02361134223820171, 0.5572276768215603, 0.23611342238201707, 0.0566672213716841, 0.12750124808628924, 0.22156863456988868, 0.7233564246252248, 0.052133796369385574, 0.9780385876049186, 0.01686273426905032, 0.971464009158126, 0.9517072935175913, 0.5299995499068981, 0.16562485934590568, 0.30226536830627787, 0.9761121754894044, 0.29159829415127364, 0.49237089012428176, 0.13384839731533874, 0.06214389875355013, 0.0239014995205962, 0.968189557944516, 0.24701359345250426, 0.07298128897460353, 0.6006921477140444, 0.07298128897460353, 0.9886032909415936, 0.9212229544235654, 0.07571695515810127, 0.02189335337252652, 0.023261687958309428, 0.06431172553179665, 0.443340405793662, 0.44607707496522786, 0.9626777254094495, 0.9697247923560166, 0.9864409746286626, 0.9604599989764477, 0.989866555681891, 0.03992313802399623, 0.7363601013314861, 0.04879494647377318, 0.031051329574219296, 0.14638483942131952, 0.9863808861587227, 0.9871014917762666, 0.9953125268792621, 0.9801921108484369, 0.42493291241833103, 0.13897177009907682, 0.23518299555228384, 0.19242245090641405, 0.008017602121100585, 0.9855624230628003, 0.9910982922611056, 0.9809234520088376, 0.9775792765809626, 0.9953247872624369, 0.9633057228148357, 0.977966780247996, 0.9922510317085054, 0.08767684132561221, 0.909070407428716, 0.9082973723480192, 0.08733628580269415, 0.9757923450975062, 0.9764298583668224, 0.048412652478904326, 0.939205458090744, 0.7583859931088633, 0.23809792806906177, 0.9929513728159732, 0.8397702019342036, 0.15887544360917366, 0.9665521402240657, 0.9949535214136865, 0.9956014130877966, 0.3399548036917448, 0.6232504734348654, 0.03777275596574942, 0.04783616593434512, 0.9375888523131645, 0.7211396741665178, 0.1522405978795982, 0.12018994569441964, 0.9887250962625522, 0.9903867995347445, 0.9819934833566027, 0.07681307302048036, 0.9217568762457644, 0.9854591644348362, 0.9799932958360891, 0.9897991709237487, 0.9909560561535055, 0.9935013960576802, 0.46980079126975066, 0.23713754225996939, 0.29082906126222663, 0.24359107958978568, 0.40192528132314637, 0.3532070654051892, 0.4960779383107569, 0.15816977743241525, 0.1629628009909733, 0.0766883769369286, 0.02396511779279019, 0.08148140049548665, 0.39453205064406605, 0.46879690723589024, 0.13460505257268135, 0.9916848060894676, 0.11013867943700463, 0.8921233034397374, 0.2056950988160498, 0.08610492508578829, 0.7079738284831482, 0.9340711940486849, 0.04916164179203605, 0.9862949063790668, 0.34510074311125066, 0.6547587072002647, 0.22499084066851976, 0.5029207026708089, 0.13234755333442338, 0.1402884065344888, 0.9848352837883494, 0.9836698963877031, 0.9895097057094504, 0.9943411926006116, 0.3460703415286956, 0.07285691400604118, 0.015612195858437395, 0.5646410835468191, 0.7082536668832284, 0.2912978791213278, 0.155474090511531, 0.0731642778877793, 0.22254134524199534, 0.5487320841583446, 0.9941401350467411, 0.6369423371367801, 0.0844923508446749, 0.1689847016893498, 0.1039905856549845, 0.9913695999558368, 0.0051663870011095835, 0.681963084146465, 0.13432606202884917, 0.17565715803772586, 0.9762371629532162, 0.006373914448895552, 0.22308700571134432, 0.08923480228453773, 0.2932000646491954, 0.3856218241581809, 0.445751701648184, 0.5506344549771686, 0.9776737287938392, 0.9929991377721327, 0.054082787857362376, 0.27041393928681184, 0.3211165529030891, 0.050702613616277224, 0.30421568169766333, 0.9762645822549245, 0.9904343505109838, 0.2938044011034675, 0.08547037123009964, 0.5769250058031726, 0.04273518561504982, 0.9950475749512039, 0.9527766766293361, 0.8516969244992134, 0.14423899527809259, 0.982787378050087, 0.9798270299008648, 0.9977073437461543, 0.9744606074625873, 0.4526457939928337, 0.5442215326619041, 0.9940580103637657, 0.14778394171883963, 0.43900523863537655, 0.12170442259198558, 0.10866466302855855, 0.18255663388797838, 0.9930312396010658, 0.9740411809394497, 0.9965948525264613, 0.9923273711157742, 0.986469296568364, 0.10287046924620544, 0.5506595706708644, 0.34491863217845353, 0.38276250942763285, 0.0443782619626241, 0.5713701227687853, 0.9780420739333876, 0.9955379851287697, 0.996356763707532, 0.9900755392614422, 0.9976951140869056, 0.9752865583940729, 0.9937398759478047, 0.5316017678582243, 0.4665653813649309, 0.9746993426081685, 0.8467051954287729, 0.14539382143726404, 0.9811647496198025, 0.9921151101068532, 0.13414894512769063, 0.23635766522497872, 0.15970112515201265, 0.4695213079469172, 0.9833737792609626, 0.28603311990408964, 0.7071374353184439, 0.14475872763387929, 0.8396006202765, 0.5598544928639841, 0.12194850339611536, 0.171836527512708, 0.022172455162930066, 0.11640538960538285, 0.61796513061139, 0.016701760286794327, 0.3640983742521163, 0.9868891915717684, 0.9446441883522951, 0.05321939089308705, 0.2063142193208943, 0.0392979465373132, 0.7073630376716376, 0.0491224331716415, 0.9758801859273332, 0.09716906508133037, 0.04484726080676787, 0.6876579990371072, 0.1719144997592768, 0.9853938550751785, 0.9853124273822828, 0.42094886380762586, 0.03826807852796599, 0.511835550311545, 0.028701058895974487, 0.8053331751140983, 0.1903514777542414, 0.4650643698854679, 0.2056074056335753, 0.32799276612975103, 0.980879535560035, 0.9798046763045211, 0.36531919968667775, 0.3839579343645695, 0.22366481613470068, 0.02609422854904841, 0.06650048776276919, 0.17511795110862552, 0.06871717068819483, 0.07536721946447175, 0.10418409749500507, 0.5076203899224715, 0.9888803016574482, 0.24177677220703506, 0.6850341879199326, 0.003358010725097709, 0.0705182252270519, 0.9506759361562495, 0.7652968017057227, 0.13859705857662696, 0.09038938602823497, 0.1264324242593516, 0.16978068400541504, 0.19867952383612397, 0.3612354978838618, 0.13365713421702885, 0.010837064936515853, 0.9765478114662067, 0.13790915143797708, 0.11205118554335637, 0.6550684693303911, 0.08619321964873566, 0.008619321964873567, 0.9527393529861473, 0.044609869370588834, 0.9916823921943216, 0.9706673113329092, 0.9861894464469296, 0.3166538784884895, 0.08587223823416666, 0.4669302953982812, 0.12880835735124999, 0.6337228085170201, 0.1357977446822186, 0.22632957447036434, 0.8447015357381795, 0.1520462764328723, 0.2032119537053291, 0.11360668278014462, 0.2904170834450176, 0.19601153014884107, 0.19601153014884107, 0.0016000941236640088, 0.5589952048327673, 0.1386308107985263, 0.10732707932789133, 0.1967663121011341, 0.9819330269088282, 0.9946972647514021, 0.9900110206469258, 0.10149790892531972, 0.8938364237616866, 0.0863876711878041, 0.8984317803531626, 0.9762648712958018, 0.9618030680668244, 0.43340765136102544, 0.0725368454160712, 0.3989526497883916, 0.09248447790549078, 0.9816711949405159, 0.9814174059545675, 0.9885849978472474, 0.9912295847311456, 0.10434970553676311, 0.8869724970624865, 0.012042552434168808, 0.9874892996018422, 0.9809719681776423, 0.33015859634843264, 0.6696174348475253, 0.9870930672009035, 0.4709050399987708, 0.07202077082334142, 0.18836201599950833, 0.0387804150587223, 0.20498219388181788, 0.02770029647051593, 0.9729697561953988, 0.9771574929681793, 0.7893408636335745, 0.20028051763836965, 0.9857907179765725, 0.7277253676494893, 0.1111802645020053, 0.141502154820734, 0.020214593545819143, 0.9764540476089164, 0.5779942668320158, 0.02391700414477307, 0.39463056838875565, 0.0039861673574621784, 0.906688207775175, 0.09277739800490163, 0.9799117311092069, 0.8450992072933443, 0.09281436380678347, 0.058619598193757984, 0.9867719147331802, 0.9884261907744544, 0.9831308076940213, 0.07406520033291326, 0.6007510693669631, 0.3236923570105098, 0.7808107911434174, 0.17709110726964106, 0.04024797892491842, 0.9838547630507379, 0.9505767113220296, 0.04526555768200141, 0.9417196165545592, 0.05667756951485772, 0.9914079400969621, 0.9839345228347669, 0.011575700268644316, 0.056991044776131136, 0.04144803256445901, 0.2797742198100983, 0.5802724559024262, 0.04144803256445901, 0.16556078363760013, 0.8278039181880006, 0.12482705960227848, 0.8737894172159494, 0.58886702329706, 0.08412386047100857, 0.1945364273392073, 0.1314435319859509, 0.9882294021475125, 0.9843995074376596, 0.2734767197671697, 0.7255296558002151, 0.5551703833046617, 0.4441363066437294, 0.10065881618905098, 0.8947450327915643, 0.1801627631144308, 0.81694494308785, 0.9736952226930299, 0.9921935347373531, 0.043039206678925954, 0.946862546936371, 0.4095027301398202, 0.5899615603709274, 0.8528017696945246, 0.00789631268235671, 0.14213362828242077, 0.9698951625413084, 0.9858657129244836, 0.9879608342278278, 0.20090049263775034, 0.030907768098115435, 0.015453884049057717, 0.49452428956984695, 0.257564734150962, 0.9938297007865536, 0.9761907340293989, 0.978686787468289, 0.20203440565934314, 0.7134339949845554, 0.08207647729910815, 0.3167004215256611, 0.6199242293693791, 0.060644761568743606, 0.9900863104337343, 0.16671321663176494, 0.8335660831588246, 0.9887762124248866, 0.06598630273816718, 0.06127299539972666, 0.18381898619918, 0.6410097980279097, 0.051846380722845635, 0.981615251355284, 0.09028578378993207, 0.19185729055360565, 0.7166434088325858, 0.9839157415807142, 0.1113854976567617, 0.13366259718811405, 0.4633636702521287, 0.2940577138138509, 0.07582638911968119, 0.12005844943949522, 0.4928715292779277, 0.1579716439993358, 0.14533391247938895, 0.006318865759973432, 0.05572071514444745, 0.258703320313506, 0.6845687860603544, 0.9625364719694353, 0.0337732095427872, 0.30410144867105293, 0.17140263470550257, 0.4589167316308617, 0.06082028973421059, 0.9784107848958908, 0.9619125445009933, 0.983911835427362, 0.09894631260029071, 0.8905168134026165, 0.876473649973991, 0.09619832743616975, 0.02137740609692661, 0.9560377997421878, 0.13003010137111048, 0.8524195534328354, 0.17166086871363676, 0.817913550929681, 0.6482011197969794, 0.022351762751619975, 0.320375266106553, 0.9818677464966293, 0.9770136444089172, 0.9878423768905218, 0.9842518065072482, 0.01970368920589993, 0.8191105084166971, 0.02533331469329991, 0.10133325877319964, 0.03659256566809987, 0.7597828454446206, 0.23623500236513412, 0.9873327991519857, 0.8036086815836897, 0.18994387019250847, 0.9741593557053868, 0.9820655110200524, 0.01354481680256371, 0.9345923593768959, 0.04740685880897298, 0.9816526943814973, 0.9917710909323426, 0.21372211125735632, 0.18229238901362746, 0.5531631114896282, 0.0502875555899662, 0.17185089625815173, 0.8224292892354405, 0.10592396033514608, 0.10327586132676743, 0.2250884157121854, 0.5640450887846529, 0.984489900710476, 0.9726154140766917, 0.9319126093422477, 0.05481838878483811, 0.9790160850368217, 0.9927794325186902, 0.9839588007774216, 0.16525360042701637, 0.029428723363715246, 0.5138707848894892, 0.06564869058059554, 0.22637479510550187, 0.4732035763617283, 0.4420033405576583, 0.08320062881085333, 0.17452072996058057, 0.10103831734559929, 0.033679439115199765, 0.030617671922908873, 0.6582799463425408, 0.9787626325477893, 0.993089944115564, 0.9929095365141829, 0.9934084662029754, 0.9858219228474778, 0.9932073695779111, 0.23613034388141352, 0.31484045850855136, 0.24639688057190975, 0.14373151366694736, 0.00684435779366416, 0.0513326834524812, 0.9930659366752244, 0.9903863988579684, 0.7613232808796034, 0.17522519956752777, 0.06646473087044157, 0.09964738787033045, 0.896826490832974, 0.9801242739391955, 0.9820497705384078, 0.9760648743138072, 0.8750540920979456, 0.11581598277766927, 0.9775303301937831, 0.980410520317708, 0.9227598226346152, 0.05223168807365747, 0.7009956440483925, 0.29739209141446954, 0.8105872587817151, 0.18326320633325732, 0.9809741399797344, 0.9907017340158553, 0.9802757579025945, 0.995900482797775, 0.9820906964826818, 0.32338831480456526, 0.09817145270852873, 0.5774791335795808, 0.9756167782163991, 0.327450217245802, 0.16799619841306362, 0.27619713976385035, 0.222096669088457, 0.0056947863868835125, 0.9512806493782472, 0.9860214894911815, 0.23468366494488765, 0.10303185290263361, 0.5266072481690163, 0.13165181204225407, 0.12640686307475904, 0.13483398727974297, 0.7331598058336024, 0.11847178134620567, 0.876691181961922, 0.4179168827016483, 0.09732310967024686, 0.22613310776322065, 0.25761999618594755, 0.9919116215461238, 0.4453331481021775, 0.11277917387003196, 0.3643634848108725, 0.07518611591335464, 0.008753980261693071, 0.07003184209354457, 0.5077308551781982, 0.4114370722995743, 0.9786098168753102], \"Term\": [\"according\", \"according\", \"according\", \"according\", \"administration\", \"administration\", \"aid\", \"album\", \"alert\", \"amp\", \"amp\", \"amp\", \"amp\", \"analyst\", \"animal\", \"announce\", \"announced\", \"announced\", \"announced\", \"announced\", \"announced\", \"app\", \"apple\", \"apple\", \"apple\", \"arrived\", \"article\", \"article\", \"article\", \"artificial\", \"assess\", \"asteroid\", \"attack\", \"auto\", \"available\", \"available\", \"back\", \"back\", \"back\", \"back\", \"bank\", \"bank\", \"bank\", \"bankmanfried\", \"benzinga\", \"ber\", \"ber\", \"ber\", \"ber\", \"ber\", \"ber\", \"best\", \"best\", \"biden\", \"big\", \"big\", \"big\", \"billion\", \"billion\", \"brokerage\", \"business\", \"business\", \"business\", \"business\", \"business\", \"candidate\", \"capital\", \"capital\", \"car\", \"car\", \"case\", \"case\", \"case\", \"ceo\", \"ceo\", \"ceo\", \"ceo\", \"ceo\", \"china\", \"china\", \"china\", \"chinese\", \"chinese\", \"christmas\", \"ciar\", \"city\", \"city\", \"city\", \"civil\", \"climate\", \"climate\", \"climate\", \"climate\", \"climate\", \"collaboration\", \"come\", \"come\", \"come\", \"come\", \"commercial\", \"commission\", \"commission\", \"company\", \"company\", \"company\", \"company\", \"company\", \"competition\", \"complete\", \"concert\", \"conversation\", \"corporation\", \"country\", \"country\", \"country\", \"country\", \"country\", \"covid\", \"crisis\", \"crore\", \"culture\", \"day\", \"day\", \"day\", \"day\", \"day\", \"delhi\", \"different\", \"disney\", \"dividend\", \"donald\", \"dont\", \"dublin\", \"earn\", \"earnings\", \"earnings\", \"earth\", \"earth\", \"east\", \"easy\", \"economy\", \"economy\", \"electric\", \"electric\", \"elon\", \"ember\", \"ember\", \"employment\", \"episode\", \"eps\", \"estate\", \"estate\", \"estate\", \"estimate\", \"estimate\", \"event\", \"event\", \"event\", \"everything\", \"fact\", \"fast\", \"federal\", \"federal\", \"fell\", \"festival\", \"filed\", \"filing\", \"film\", \"finance\", \"finance\", \"finance\", \"financial\", \"financial\", \"financial\", \"first\", \"first\", \"first\", \"first\", \"first\", \"first\", \"food\", \"food\", \"food\", \"foreign\", \"form\", \"form\", \"former\", \"former\", \"former\", \"francisco\", \"francisco\", \"fraud\", \"free\", \"free\", \"friday\", \"friday\", \"friday\", \"friday\", \"fully\", \"gain\", \"game\", \"gaza\", \"get\", \"get\", \"get\", \"get\", \"getty\", \"getty\", \"global\", \"global\", \"global\", \"global\", \"globe\", \"good\", \"good\", \"good\", \"good\", \"google\", \"government\", \"government\", \"government\", \"government\", \"grew\", \"group\", \"group\", \"group\", \"group\", \"group\", \"growth\", \"growth\", \"guilty\", \"hamas\", \"health\", \"health\", \"health\", \"health\", \"health\", \"healthcare\", \"heard\", \"high\", \"high\", \"high\", \"high\", \"higher\", \"highest\", \"holding\", \"holding\", \"hong\", \"hospital\", \"house\", \"hub\", \"inc\", \"inc\", \"index\", \"industry\", \"industry\", \"industry\", \"industry\", \"industry\", \"inflation\", \"insight\", \"intelligence\", \"interest\", \"investing\", \"investment\", \"investment\", \"investment\", \"investor\", \"investor\", \"investor\", \"io\", \"iphone\", \"israel\", \"israeli\", \"issued\", \"italy\", \"japan\", \"job\", \"job\", \"kind\", \"know\", \"know\", \"kong\", \"labor\", \"last\", \"last\", \"last\", \"last\", \"leadership\", \"leading\", \"leading\", \"let\", \"let\", \"life\", \"life\", \"life\", \"life\", \"life\", \"like\", \"like\", \"like\", \"link\", \"llc\", \"llc\", \"long\", \"long\", \"long\", \"long\", \"longer\", \"look\", \"look\", \"look\", \"look\", \"loss\", \"love\", \"make\", \"make\", \"make\", \"make\", \"management\", \"management\", \"many\", \"many\", \"many\", \"mass\", \"max\", \"may\", \"may\", \"may\", \"may\", \"mber\", \"mber\", \"mber\", \"mber\", \"mber\", \"mber\", \"mike\", \"million\", \"million\", \"million\", \"million\", \"mind\", \"minister\", \"minister\", \"minister\", \"month\", \"month\", \"month\", \"month\", \"month\", \"month\", \"movie\", \"much\", \"much\", \"much\", \"much\", \"much\", \"music\", \"music\", \"musk\", \"nasa\", \"nasdaq\", \"national\", \"national\", \"national\", \"national\", \"need\", \"need\", \"need\", \"net\", \"net\", \"new\", \"new\", \"new\", \"new\", \"new\", \"new\", \"news\", \"news\", \"news\", \"news\", \"newsletter\", \"newswire\", \"note\", \"november\", \"november\", \"nyse\", \"nyse\", \"objective\", \"offeringthe\", \"one\", \"one\", \"one\", \"one\", \"operating\", \"owned\", \"paid\", \"palestinian\", \"parent\", \"parent\", \"party\", \"party\", \"payment\", \"per\", \"per\", \"percent\", \"plan\", \"plan\", \"plan\", \"plan\", \"plan\", \"plan\", \"player\", \"podcast\", \"politics\", \"politics\", \"position\", \"post\", \"post\", \"post\", \"post\", \"presentation\", \"president\", \"president\", \"president\", \"president\", \"price\", \"price\", \"problem\", \"product\", \"product\", \"product\", \"profit\", \"promotion\", \"provider\", \"quarter\", \"quarter\", \"quarter\", \"question\", \"question\", \"question\", \"race\", \"range\", \"range\", \"rate\", \"rate\", \"rating\", \"reader\", \"reader\", \"real\", \"real\", \"real\", \"real\", \"real\", \"receive\", \"receive\", \"recent\", \"recent\", \"released\", \"released\", \"released\", \"released\", \"remains\", \"rep\", \"report\", \"report\", \"reported\", \"reported\", \"republican\", \"republican\", \"research\", \"research\", \"researchandetscoms\", \"reserve\", \"result\", \"result\", \"reuters\", \"reuters\", \"revenue\", \"revenue\", \"revenue\", \"robot\", \"rose\", \"safety\", \"sale\", \"sale\", \"sale\", \"sale\", \"sale\", \"sam\", \"satellite\", \"scene\", \"school\", \"school\", \"school\", \"science\", \"science\", \"science\", \"scientist\", \"season\", \"season\", \"sec\", \"second\", \"second\", \"second\", \"second\", \"second\", \"secretary\", \"security\", \"security\", \"security\", \"sen\", \"service\", \"service\", \"service\", \"service\", \"set\", \"set\", \"set\", \"set\", \"set\", \"set\", \"share\", \"share\", \"share\", \"shared\", \"shared\", \"show\", \"show\", \"show\", \"show\", \"signed\", \"singer\", \"single\", \"size\", \"size\", \"skip\", \"skip\", \"skip\", \"slowed\", \"software\", \"software\", \"solution\", \"solution\", \"space\", \"space\", \"space\", \"speaker\", \"sport\", \"stake\", \"starting\", \"state\", \"state\", \"state\", \"state\", \"state\", \"stock\", \"stock\", \"storm\", \"story\", \"story\", \"strategic\", \"strip\", \"student\", \"student\", \"student\", \"summer\", \"sunday\", \"take\", \"take\", \"take\", \"take\", \"target\", \"target\", \"technology\", \"technology\", \"technology\", \"technology\", \"television\", \"tell\", \"tesla\", \"tesla\", \"test\", \"thing\", \"thought\", \"thursday\", \"thursday\", \"thursday\", \"thursday\", \"thursday\", \"time\", \"time\", \"time\", \"today\", \"today\", \"today\", \"today\", \"today\", \"tour\", \"traded\", \"trading\", \"treasury\", \"trial\", \"trump\", \"two\", \"two\", \"two\", \"two\", \"two\", \"two\", \"ukraine\", \"unbiased\", \"united\", \"united\", \"united\", \"university\", \"university\", \"unleashed\", \"upcoming\", \"usd\", \"user\", \"user\", \"vega\", \"venture\", \"version\", \"version\", \"via\", \"via\", \"video\", \"video\", \"voice\", \"war\", \"warned\", \"watch\", \"wave\", \"way\", \"way\", \"way\", \"wealth\", \"week\", \"week\", \"week\", \"week\", \"week\", \"whole\", \"winter\", \"work\", \"work\", \"work\", \"work\", \"worker\", \"worker\", \"worker\", \"working\", \"working\", \"world\", \"world\", \"world\", \"world\", \"write\", \"year\", \"year\", \"year\", \"year\", \"york\", \"york\", \"york\", \"york\", \"youre\"]}, \"R\": 30, \"lambda.step\": 0.01, \"plot.opts\": {\"xlab\": \"PC1\", \"ylab\": \"PC2\"}, \"topic.order\": [2, 4, 5, 3, 6, 1]};\n",
       "\n",
       "function LDAvis_load_lib(url, callback){\n",
       "  var s = document.createElement('script');\n",
       "  s.src = url;\n",
       "  s.async = true;\n",
       "  s.onreadystatechange = s.onload = callback;\n",
       "  s.onerror = function(){console.warn(\"failed to load library \" + url);};\n",
       "  document.getElementsByTagName(\"head\")[0].appendChild(s);\n",
       "}\n",
       "\n",
       "if(typeof(LDAvis) !== \"undefined\"){\n",
       "   // already loaded: just create the visualization\n",
       "   !function(LDAvis){\n",
       "       new LDAvis(\"#\" + \"ldavis_el93465138954135365710947771\", ldavis_el93465138954135365710947771_data);\n",
       "   }(LDAvis);\n",
       "}else if(typeof define === \"function\" && define.amd){\n",
       "   // require.js is available: use it to load d3/LDAvis\n",
       "   require.config({paths: {d3: \"https://d3js.org/d3.v5\"}});\n",
       "   require([\"d3\"], function(d3){\n",
       "      window.d3 = d3;\n",
       "      LDAvis_load_lib(\"https://cdn.jsdelivr.net/gh/bmabey/pyLDAvis@3.4.0/pyLDAvis/js/ldavis.v3.0.0.js\", function(){\n",
       "        new LDAvis(\"#\" + \"ldavis_el93465138954135365710947771\", ldavis_el93465138954135365710947771_data);\n",
       "      });\n",
       "    });\n",
       "}else{\n",
       "    // require.js not available: dynamically load d3 & LDAvis\n",
       "    LDAvis_load_lib(\"https://d3js.org/d3.v5.js\", function(){\n",
       "         LDAvis_load_lib(\"https://cdn.jsdelivr.net/gh/bmabey/pyLDAvis@3.4.0/pyLDAvis/js/ldavis.v3.0.0.js\", function(){\n",
       "                 new LDAvis(\"#\" + \"ldavis_el93465138954135365710947771\", ldavis_el93465138954135365710947771_data);\n",
       "            })\n",
       "         });\n",
       "}\n",
       "</script>"
      ],
      "text/plain": [
       "<IPython.core.display.HTML object>"
      ]
     },
     "execution_count": 50,
     "metadata": {},
     "output_type": "execute_result"
    }
   ],
   "source": [
    "# Visualize the topics\n",
    "vis_data = gensimvis.prepare(lda_model, corpus_gensim, dictionary)\n",
    "pyLDAvis.display(vis_data)"
   ]
  },
  {
   "cell_type": "code",
   "execution_count": 29,
   "id": "2cc4527b-ed17-474c-bc54-893ebab79f7e",
   "metadata": {},
   "outputs": [
    {
     "name": "stderr",
     "output_type": "stream",
     "text": [
      "/Users/binitkc/ADS_FiNAL/ADS/lib/python3.9/site-packages/urllib3/__init__.py:35: NotOpenSSLWarning: urllib3 v2 only supports OpenSSL 1.1.1+, currently the 'ssl' module is compiled with 'LibreSSL 2.8.3'. See: https://github.com/urllib3/urllib3/issues/3020\n",
      "  warnings.warn(\n",
      "/Users/binitkc/ADS_FiNAL/ADS/lib/python3.9/site-packages/urllib3/__init__.py:35: NotOpenSSLWarning: urllib3 v2 only supports OpenSSL 1.1.1+, currently the 'ssl' module is compiled with 'LibreSSL 2.8.3'. See: https://github.com/urllib3/urllib3/issues/3020\n",
      "  warnings.warn(\n",
      "/Users/binitkc/ADS_FiNAL/ADS/lib/python3.9/site-packages/urllib3/__init__.py:35: NotOpenSSLWarning: urllib3 v2 only supports OpenSSL 1.1.1+, currently the 'ssl' module is compiled with 'LibreSSL 2.8.3'. See: https://github.com/urllib3/urllib3/issues/3020\n",
      "  warnings.warn(\n",
      "/Users/binitkc/ADS_FiNAL/ADS/lib/python3.9/site-packages/urllib3/__init__.py:35: NotOpenSSLWarning: urllib3 v2 only supports OpenSSL 1.1.1+, currently the 'ssl' module is compiled with 'LibreSSL 2.8.3'. See: https://github.com/urllib3/urllib3/issues/3020\n",
      "  warnings.warn(\n",
      "/Users/binitkc/ADS_FiNAL/ADS/lib/python3.9/site-packages/urllib3/__init__.py:35: NotOpenSSLWarning: urllib3 v2 only supports OpenSSL 1.1.1+, currently the 'ssl' module is compiled with 'LibreSSL 2.8.3'. See: https://github.com/urllib3/urllib3/issues/3020\n",
      "  warnings.warn(\n",
      "/Users/binitkc/ADS_FiNAL/ADS/lib/python3.9/site-packages/urllib3/__init__.py:35: NotOpenSSLWarning: urllib3 v2 only supports OpenSSL 1.1.1+, currently the 'ssl' module is compiled with 'LibreSSL 2.8.3'. See: https://github.com/urllib3/urllib3/issues/3020\n",
      "  warnings.warn(\n",
      "/Users/binitkc/ADS_FiNAL/ADS/lib/python3.9/site-packages/urllib3/__init__.py:35: NotOpenSSLWarning: urllib3 v2 only supports OpenSSL 1.1.1+, currently the 'ssl' module is compiled with 'LibreSSL 2.8.3'. See: https://github.com/urllib3/urllib3/issues/3020\n",
      "  warnings.warn(\n"
     ]
    },
    {
     "name": "stdout",
     "output_type": "stream",
     "text": [
      "Coherence Score: 0.8213\n",
      "Topic 0: report, char, free, share, quarter, company, inc, according, recent, new\n",
      "Topic 1: char, product, commission, receive, expert, case, answer, question, unbiased, review\n",
      "Topic 2: product, receive, commission, expert, unbiased, assess, case, write, reader, answer\n",
      "Topic 3: report, global, newswire, globe, november, research, issued, get, earnings, analyst\n",
      "Topic 4: november, globe, newswire, global, dublin, according, added, size, forecast, researchandetscoms\n"
     ]
    }
   ],
   "source": [
    "# from sklearn.feature_extraction.text import TfidfVectorizer\n",
    "from sklearn.decomposition import TruncatedSVD\n",
    "# from gensim.models import CoherenceModel\n",
    "from gensim.corpora.dictionary import Dictionary\n",
    "# import numpy as np\n",
    "\n",
    "# Step 1: Prepare text data\n",
    "# Assuming 'lemmatized_text' is a list of lists of lemmatized tokens as per your previous code\n",
    "lemmatized_text = [tokens for tokens in df_cleaned['lemmatized_content']]\n",
    "\n",
    "# Step 2: Create TF-IDF matrix\n",
    "tfidf_vectorizer = TfidfVectorizer(tokenizer=lambda doc: doc, lowercase=False)\n",
    "tfidf_matrix = tfidf_vectorizer.fit_transform(lemmatized_text)\n",
    "\n",
    "# Step 3: Train LSA model using TruncatedSVD\n",
    "num_topics = 5\n",
    "lsa_model = TruncatedSVD(n_components=num_topics, random_state=42)\n",
    "lsa_matrix = lsa_model.fit_transform(tfidf_matrix)\n",
    "\n",
    "# Step 4: Extract top words for each topic\n",
    "def get_lsa_topics(model, vectorizer, n_words=10):\n",
    "    topics = []\n",
    "    for idx, topic in enumerate(model.components_):\n",
    "        top_words_indices = topic.argsort()[:-n_words - 1:-1]\n",
    "        top_words = [vectorizer.get_feature_names_out()[i] for i in top_words_indices]\n",
    "        topics.append(top_words)\n",
    "    return topics\n",
    "\n",
    "topics = get_lsa_topics(lsa_model, tfidf_vectorizer)\n",
    "\n",
    "# Step 5: Create a Gensim dictionary and corpus for coherence calculation\n",
    "dictionary = Dictionary(lemmatized_text)\n",
    "corpus = [dictionary.doc2bow(text) for text in lemmatized_text]\n",
    "\n",
    "# Step 6: Calculate the coherence score\n",
    "coherence_model = CoherenceModel(topics=topics, texts=lemmatized_text, dictionary=dictionary, coherence='c_v')\n",
    "coherence_score = coherence_model.get_coherence()\n",
    "\n",
    "# Print coherence score\n",
    "print(f\"Coherence Score: {coherence_score:.4f}\")\n",
    "\n",
    "# Display the topics and their associated words\n",
    "for i, topic in enumerate(topics):\n",
    "    print(f\"Topic {i}: {', '.join(topic)}\")\n"
   ]
  },
  {
   "cell_type": "code",
   "execution_count": 31,
   "id": "102423b8-817d-492b-a2fd-a9101404372d",
   "metadata": {},
   "outputs": [
    {
     "ename": "NameError",
     "evalue": "name 'lda_model' is not defined",
     "output_type": "error",
     "traceback": [
      "\u001b[0;31m---------------------------------------------------------------------------\u001b[0m",
      "\u001b[0;31mNameError\u001b[0m                                 Traceback (most recent call last)",
      "Cell \u001b[0;32mIn[31], line 5\u001b[0m\n\u001b[1;32m      1\u001b[0m \u001b[38;5;66;03m# import matplotlib.pyplot as plt\u001b[39;00m\n\u001b[1;32m      2\u001b[0m \n\u001b[1;32m      3\u001b[0m \u001b[38;5;66;03m# Parameters\u001b[39;00m\n\u001b[1;32m      4\u001b[0m num_top_words \u001b[38;5;241m=\u001b[39m \u001b[38;5;241m7\u001b[39m  \u001b[38;5;66;03m# Number of top words to display for each topic\u001b[39;00m\n\u001b[0;32m----> 5\u001b[0m num_topics \u001b[38;5;241m=\u001b[39m \u001b[43mlda_model\u001b[49m\u001b[38;5;241m.\u001b[39mnum_topics  \u001b[38;5;66;03m# Total number of topics in the LDA model\u001b[39;00m\n\u001b[1;32m      7\u001b[0m \u001b[38;5;66;03m# Define grid size for plotting (adjust based on the number of topics)\u001b[39;00m\n\u001b[1;32m      8\u001b[0m num_rows \u001b[38;5;241m=\u001b[39m \u001b[38;5;241m3\u001b[39m\n",
      "\u001b[0;31mNameError\u001b[0m: name 'lda_model' is not defined"
     ]
    }
   ],
   "source": [
    "# import matplotlib.pyplot as plt\n",
    "\n",
    "# Parameters\n",
    "num_top_words = 7  # Number of top words to display for each topic\n",
    "num_topics = lda_model.num_topics  # Total number of topics in the LDA model\n",
    "\n",
    "# Define grid size for plotting (adjust based on the number of topics)\n",
    "num_rows = 3\n",
    "num_cols = 3\n",
    "\n",
    "fig, axes = plt.subplots(num_rows, num_cols, figsize=(12, 8))\n",
    "\n",
    "# Plot the top words for each topic\n",
    "for topic_idx in range(num_topics):\n",
    "    row = topic_idx // num_cols\n",
    "    col = topic_idx % num_cols\n",
    "\n",
    "    # Get the top words and weights for the current topic\n",
    "    top_words = lda_model.show_topic(topic_idx, topn=num_top_words)\n",
    "    words, weights = zip(*top_words)\n",
    "\n",
    "    # Plot horizontal bar chart for the topic\n",
    "    axes[row, col].barh(words, weights, color='skyblue')\n",
    "    axes[row, col].set_title(f\"Top {num_top_words} Words for Topic {topic_idx}\")\n",
    "    axes[row, col].set_xlabel(\"Word Importance\")\n",
    "    axes[row, col].invert_yaxis()  # Show the most important word at the top\n",
    "\n",
    "# Remove empty subplots if the grid is larger than the number of topics\n",
    "for i in range(num_topics, num_rows * num_cols):\n",
    "    fig.delaxes(axes.flatten()[i])\n",
    "\n",
    "plt.tight_layout()\n",
    "plt.show()\n"
   ]
  },
  {
   "cell_type": "code",
   "execution_count": null,
   "id": "dfe757e5-b673-40f3-8e1c-22d6d4bd608a",
   "metadata": {},
   "outputs": [],
   "source": []
  },
  {
   "cell_type": "code",
   "execution_count": 32,
   "id": "d7463e2c-238b-4d77-ad63-2837964eaf3d",
   "metadata": {},
   "outputs": [
    {
     "name": "stderr",
     "output_type": "stream",
     "text": [
      "/Users/binitkc/ADS_FiNAL/ADS/lib/python3.9/site-packages/urllib3/__init__.py:35: NotOpenSSLWarning: urllib3 v2 only supports OpenSSL 1.1.1+, currently the 'ssl' module is compiled with 'LibreSSL 2.8.3'. See: https://github.com/urllib3/urllib3/issues/3020\n",
      "  warnings.warn(\n",
      "/Users/binitkc/ADS_FiNAL/ADS/lib/python3.9/site-packages/urllib3/__init__.py:35: NotOpenSSLWarning: urllib3 v2 only supports OpenSSL 1.1.1+, currently the 'ssl' module is compiled with 'LibreSSL 2.8.3'. See: https://github.com/urllib3/urllib3/issues/3020\n",
      "  warnings.warn(\n",
      "/Users/binitkc/ADS_FiNAL/ADS/lib/python3.9/site-packages/urllib3/__init__.py:35: NotOpenSSLWarning: urllib3 v2 only supports OpenSSL 1.1.1+, currently the 'ssl' module is compiled with 'LibreSSL 2.8.3'. See: https://github.com/urllib3/urllib3/issues/3020\n",
      "  warnings.warn(\n",
      "/Users/binitkc/ADS_FiNAL/ADS/lib/python3.9/site-packages/urllib3/__init__.py:35: NotOpenSSLWarning: urllib3 v2 only supports OpenSSL 1.1.1+, currently the 'ssl' module is compiled with 'LibreSSL 2.8.3'. See: https://github.com/urllib3/urllib3/issues/3020\n",
      "  warnings.warn(\n",
      "/Users/binitkc/ADS_FiNAL/ADS/lib/python3.9/site-packages/urllib3/__init__.py:35: NotOpenSSLWarning: urllib3 v2 only supports OpenSSL 1.1.1+, currently the 'ssl' module is compiled with 'LibreSSL 2.8.3'. See: https://github.com/urllib3/urllib3/issues/3020\n",
      "  warnings.warn(\n",
      "/Users/binitkc/ADS_FiNAL/ADS/lib/python3.9/site-packages/urllib3/__init__.py:35: NotOpenSSLWarning: urllib3 v2 only supports OpenSSL 1.1.1+, currently the 'ssl' module is compiled with 'LibreSSL 2.8.3'. See: https://github.com/urllib3/urllib3/issues/3020\n",
      "  warnings.warn(\n",
      "/Users/binitkc/ADS_FiNAL/ADS/lib/python3.9/site-packages/urllib3/__init__.py:35: NotOpenSSLWarning: urllib3 v2 only supports OpenSSL 1.1.1+, currently the 'ssl' module is compiled with 'LibreSSL 2.8.3'. See: https://github.com/urllib3/urllib3/issues/3020\n",
      "  warnings.warn(\n"
     ]
    },
    {
     "name": "stdout",
     "output_type": "stream",
     "text": [
      "Number of Topics: 2, Coherence Score: 0.8384\n"
     ]
    },
    {
     "name": "stderr",
     "output_type": "stream",
     "text": [
      "/Users/binitkc/ADS_FiNAL/ADS/lib/python3.9/site-packages/urllib3/__init__.py:35: NotOpenSSLWarning: urllib3 v2 only supports OpenSSL 1.1.1+, currently the 'ssl' module is compiled with 'LibreSSL 2.8.3'. See: https://github.com/urllib3/urllib3/issues/3020\n",
      "  warnings.warn(\n",
      "/Users/binitkc/ADS_FiNAL/ADS/lib/python3.9/site-packages/urllib3/__init__.py:35: NotOpenSSLWarning: urllib3 v2 only supports OpenSSL 1.1.1+, currently the 'ssl' module is compiled with 'LibreSSL 2.8.3'. See: https://github.com/urllib3/urllib3/issues/3020\n",
      "  warnings.warn(\n",
      "/Users/binitkc/ADS_FiNAL/ADS/lib/python3.9/site-packages/urllib3/__init__.py:35: NotOpenSSLWarning: urllib3 v2 only supports OpenSSL 1.1.1+, currently the 'ssl' module is compiled with 'LibreSSL 2.8.3'. See: https://github.com/urllib3/urllib3/issues/3020\n",
      "  warnings.warn(\n",
      "/Users/binitkc/ADS_FiNAL/ADS/lib/python3.9/site-packages/urllib3/__init__.py:35: NotOpenSSLWarning: urllib3 v2 only supports OpenSSL 1.1.1+, currently the 'ssl' module is compiled with 'LibreSSL 2.8.3'. See: https://github.com/urllib3/urllib3/issues/3020\n",
      "  warnings.warn(\n",
      "/Users/binitkc/ADS_FiNAL/ADS/lib/python3.9/site-packages/urllib3/__init__.py:35: NotOpenSSLWarning: urllib3 v2 only supports OpenSSL 1.1.1+, currently the 'ssl' module is compiled with 'LibreSSL 2.8.3'. See: https://github.com/urllib3/urllib3/issues/3020\n",
      "  warnings.warn(\n",
      "/Users/binitkc/ADS_FiNAL/ADS/lib/python3.9/site-packages/urllib3/__init__.py:35: NotOpenSSLWarning: urllib3 v2 only supports OpenSSL 1.1.1+, currently the 'ssl' module is compiled with 'LibreSSL 2.8.3'. See: https://github.com/urllib3/urllib3/issues/3020\n",
      "  warnings.warn(\n",
      "/Users/binitkc/ADS_FiNAL/ADS/lib/python3.9/site-packages/urllib3/__init__.py:35: NotOpenSSLWarning: urllib3 v2 only supports OpenSSL 1.1.1+, currently the 'ssl' module is compiled with 'LibreSSL 2.8.3'. See: https://github.com/urllib3/urllib3/issues/3020\n",
      "  warnings.warn(\n"
     ]
    },
    {
     "name": "stdout",
     "output_type": "stream",
     "text": [
      "Number of Topics: 3, Coherence Score: 0.8909\n"
     ]
    },
    {
     "name": "stderr",
     "output_type": "stream",
     "text": [
      "/Users/binitkc/ADS_FiNAL/ADS/lib/python3.9/site-packages/urllib3/__init__.py:35: NotOpenSSLWarning: urllib3 v2 only supports OpenSSL 1.1.1+, currently the 'ssl' module is compiled with 'LibreSSL 2.8.3'. See: https://github.com/urllib3/urllib3/issues/3020\n",
      "  warnings.warn(\n",
      "/Users/binitkc/ADS_FiNAL/ADS/lib/python3.9/site-packages/urllib3/__init__.py:35: NotOpenSSLWarning: urllib3 v2 only supports OpenSSL 1.1.1+, currently the 'ssl' module is compiled with 'LibreSSL 2.8.3'. See: https://github.com/urllib3/urllib3/issues/3020\n",
      "  warnings.warn(\n",
      "/Users/binitkc/ADS_FiNAL/ADS/lib/python3.9/site-packages/urllib3/__init__.py:35: NotOpenSSLWarning: urllib3 v2 only supports OpenSSL 1.1.1+, currently the 'ssl' module is compiled with 'LibreSSL 2.8.3'. See: https://github.com/urllib3/urllib3/issues/3020\n",
      "  warnings.warn(\n",
      "/Users/binitkc/ADS_FiNAL/ADS/lib/python3.9/site-packages/urllib3/__init__.py:35: NotOpenSSLWarning: urllib3 v2 only supports OpenSSL 1.1.1+, currently the 'ssl' module is compiled with 'LibreSSL 2.8.3'. See: https://github.com/urllib3/urllib3/issues/3020\n",
      "  warnings.warn(\n",
      "/Users/binitkc/ADS_FiNAL/ADS/lib/python3.9/site-packages/urllib3/__init__.py:35: NotOpenSSLWarning: urllib3 v2 only supports OpenSSL 1.1.1+, currently the 'ssl' module is compiled with 'LibreSSL 2.8.3'. See: https://github.com/urllib3/urllib3/issues/3020\n",
      "  warnings.warn(\n",
      "/Users/binitkc/ADS_FiNAL/ADS/lib/python3.9/site-packages/urllib3/__init__.py:35: NotOpenSSLWarning: urllib3 v2 only supports OpenSSL 1.1.1+, currently the 'ssl' module is compiled with 'LibreSSL 2.8.3'. See: https://github.com/urllib3/urllib3/issues/3020\n",
      "  warnings.warn(\n",
      "/Users/binitkc/ADS_FiNAL/ADS/lib/python3.9/site-packages/urllib3/__init__.py:35: NotOpenSSLWarning: urllib3 v2 only supports OpenSSL 1.1.1+, currently the 'ssl' module is compiled with 'LibreSSL 2.8.3'. See: https://github.com/urllib3/urllib3/issues/3020\n",
      "  warnings.warn(\n"
     ]
    },
    {
     "name": "stdout",
     "output_type": "stream",
     "text": [
      "Number of Topics: 5, Coherence Score: 0.8213\n"
     ]
    },
    {
     "name": "stderr",
     "output_type": "stream",
     "text": [
      "/Users/binitkc/ADS_FiNAL/ADS/lib/python3.9/site-packages/urllib3/__init__.py:35: NotOpenSSLWarning: urllib3 v2 only supports OpenSSL 1.1.1+, currently the 'ssl' module is compiled with 'LibreSSL 2.8.3'. See: https://github.com/urllib3/urllib3/issues/3020\n",
      "  warnings.warn(\n",
      "/Users/binitkc/ADS_FiNAL/ADS/lib/python3.9/site-packages/urllib3/__init__.py:35: NotOpenSSLWarning: urllib3 v2 only supports OpenSSL 1.1.1+, currently the 'ssl' module is compiled with 'LibreSSL 2.8.3'. See: https://github.com/urllib3/urllib3/issues/3020\n",
      "  warnings.warn(\n",
      "/Users/binitkc/ADS_FiNAL/ADS/lib/python3.9/site-packages/urllib3/__init__.py:35: NotOpenSSLWarning: urllib3 v2 only supports OpenSSL 1.1.1+, currently the 'ssl' module is compiled with 'LibreSSL 2.8.3'. See: https://github.com/urllib3/urllib3/issues/3020\n",
      "  warnings.warn(\n",
      "/Users/binitkc/ADS_FiNAL/ADS/lib/python3.9/site-packages/urllib3/__init__.py:35: NotOpenSSLWarning: urllib3 v2 only supports OpenSSL 1.1.1+, currently the 'ssl' module is compiled with 'LibreSSL 2.8.3'. See: https://github.com/urllib3/urllib3/issues/3020\n",
      "  warnings.warn(\n",
      "/Users/binitkc/ADS_FiNAL/ADS/lib/python3.9/site-packages/urllib3/__init__.py:35: NotOpenSSLWarning: urllib3 v2 only supports OpenSSL 1.1.1+, currently the 'ssl' module is compiled with 'LibreSSL 2.8.3'. See: https://github.com/urllib3/urllib3/issues/3020\n",
      "  warnings.warn(\n",
      "/Users/binitkc/ADS_FiNAL/ADS/lib/python3.9/site-packages/urllib3/__init__.py:35: NotOpenSSLWarning: urllib3 v2 only supports OpenSSL 1.1.1+, currently the 'ssl' module is compiled with 'LibreSSL 2.8.3'. See: https://github.com/urllib3/urllib3/issues/3020\n",
      "  warnings.warn(\n",
      "/Users/binitkc/ADS_FiNAL/ADS/lib/python3.9/site-packages/urllib3/__init__.py:35: NotOpenSSLWarning: urllib3 v2 only supports OpenSSL 1.1.1+, currently the 'ssl' module is compiled with 'LibreSSL 2.8.3'. See: https://github.com/urllib3/urllib3/issues/3020\n",
      "  warnings.warn(\n"
     ]
    },
    {
     "name": "stdout",
     "output_type": "stream",
     "text": [
      "Number of Topics: 6, Coherence Score: 0.7771\n"
     ]
    },
    {
     "name": "stderr",
     "output_type": "stream",
     "text": [
      "/Users/binitkc/ADS_FiNAL/ADS/lib/python3.9/site-packages/urllib3/__init__.py:35: NotOpenSSLWarning: urllib3 v2 only supports OpenSSL 1.1.1+, currently the 'ssl' module is compiled with 'LibreSSL 2.8.3'. See: https://github.com/urllib3/urllib3/issues/3020\n",
      "  warnings.warn(\n",
      "/Users/binitkc/ADS_FiNAL/ADS/lib/python3.9/site-packages/urllib3/__init__.py:35: NotOpenSSLWarning: urllib3 v2 only supports OpenSSL 1.1.1+, currently the 'ssl' module is compiled with 'LibreSSL 2.8.3'. See: https://github.com/urllib3/urllib3/issues/3020\n",
      "  warnings.warn(\n",
      "/Users/binitkc/ADS_FiNAL/ADS/lib/python3.9/site-packages/urllib3/__init__.py:35: NotOpenSSLWarning: urllib3 v2 only supports OpenSSL 1.1.1+, currently the 'ssl' module is compiled with 'LibreSSL 2.8.3'. See: https://github.com/urllib3/urllib3/issues/3020\n",
      "  warnings.warn(\n",
      "/Users/binitkc/ADS_FiNAL/ADS/lib/python3.9/site-packages/urllib3/__init__.py:35: NotOpenSSLWarning: urllib3 v2 only supports OpenSSL 1.1.1+, currently the 'ssl' module is compiled with 'LibreSSL 2.8.3'. See: https://github.com/urllib3/urllib3/issues/3020\n",
      "  warnings.warn(\n",
      "/Users/binitkc/ADS_FiNAL/ADS/lib/python3.9/site-packages/urllib3/__init__.py:35: NotOpenSSLWarning: urllib3 v2 only supports OpenSSL 1.1.1+, currently the 'ssl' module is compiled with 'LibreSSL 2.8.3'. See: https://github.com/urllib3/urllib3/issues/3020\n",
      "  warnings.warn(\n",
      "/Users/binitkc/ADS_FiNAL/ADS/lib/python3.9/site-packages/urllib3/__init__.py:35: NotOpenSSLWarning: urllib3 v2 only supports OpenSSL 1.1.1+, currently the 'ssl' module is compiled with 'LibreSSL 2.8.3'. See: https://github.com/urllib3/urllib3/issues/3020\n",
      "  warnings.warn(\n",
      "/Users/binitkc/ADS_FiNAL/ADS/lib/python3.9/site-packages/urllib3/__init__.py:35: NotOpenSSLWarning: urllib3 v2 only supports OpenSSL 1.1.1+, currently the 'ssl' module is compiled with 'LibreSSL 2.8.3'. See: https://github.com/urllib3/urllib3/issues/3020\n",
      "  warnings.warn(\n"
     ]
    },
    {
     "name": "stdout",
     "output_type": "stream",
     "text": [
      "Number of Topics: 7, Coherence Score: 0.7989\n"
     ]
    },
    {
     "name": "stderr",
     "output_type": "stream",
     "text": [
      "/Users/binitkc/ADS_FiNAL/ADS/lib/python3.9/site-packages/urllib3/__init__.py:35: NotOpenSSLWarning: urllib3 v2 only supports OpenSSL 1.1.1+, currently the 'ssl' module is compiled with 'LibreSSL 2.8.3'. See: https://github.com/urllib3/urllib3/issues/3020\n",
      "  warnings.warn(\n",
      "/Users/binitkc/ADS_FiNAL/ADS/lib/python3.9/site-packages/urllib3/__init__.py:35: NotOpenSSLWarning: urllib3 v2 only supports OpenSSL 1.1.1+, currently the 'ssl' module is compiled with 'LibreSSL 2.8.3'. See: https://github.com/urllib3/urllib3/issues/3020\n",
      "  warnings.warn(\n",
      "/Users/binitkc/ADS_FiNAL/ADS/lib/python3.9/site-packages/urllib3/__init__.py:35: NotOpenSSLWarning: urllib3 v2 only supports OpenSSL 1.1.1+, currently the 'ssl' module is compiled with 'LibreSSL 2.8.3'. See: https://github.com/urllib3/urllib3/issues/3020\n",
      "  warnings.warn(\n",
      "/Users/binitkc/ADS_FiNAL/ADS/lib/python3.9/site-packages/urllib3/__init__.py:35: NotOpenSSLWarning: urllib3 v2 only supports OpenSSL 1.1.1+, currently the 'ssl' module is compiled with 'LibreSSL 2.8.3'. See: https://github.com/urllib3/urllib3/issues/3020\n",
      "  warnings.warn(\n",
      "/Users/binitkc/ADS_FiNAL/ADS/lib/python3.9/site-packages/urllib3/__init__.py:35: NotOpenSSLWarning: urllib3 v2 only supports OpenSSL 1.1.1+, currently the 'ssl' module is compiled with 'LibreSSL 2.8.3'. See: https://github.com/urllib3/urllib3/issues/3020\n",
      "  warnings.warn(\n",
      "/Users/binitkc/ADS_FiNAL/ADS/lib/python3.9/site-packages/urllib3/__init__.py:35: NotOpenSSLWarning: urllib3 v2 only supports OpenSSL 1.1.1+, currently the 'ssl' module is compiled with 'LibreSSL 2.8.3'. See: https://github.com/urllib3/urllib3/issues/3020\n",
      "  warnings.warn(\n",
      "/Users/binitkc/ADS_FiNAL/ADS/lib/python3.9/site-packages/urllib3/__init__.py:35: NotOpenSSLWarning: urllib3 v2 only supports OpenSSL 1.1.1+, currently the 'ssl' module is compiled with 'LibreSSL 2.8.3'. See: https://github.com/urllib3/urllib3/issues/3020\n",
      "  warnings.warn(\n"
     ]
    },
    {
     "name": "stdout",
     "output_type": "stream",
     "text": [
      "Number of Topics: 10, Coherence Score: 0.7435\n"
     ]
    },
    {
     "name": "stderr",
     "output_type": "stream",
     "text": [
      "/Users/binitkc/ADS_FiNAL/ADS/lib/python3.9/site-packages/urllib3/__init__.py:35: NotOpenSSLWarning: urllib3 v2 only supports OpenSSL 1.1.1+, currently the 'ssl' module is compiled with 'LibreSSL 2.8.3'. See: https://github.com/urllib3/urllib3/issues/3020\n",
      "  warnings.warn(\n",
      "/Users/binitkc/ADS_FiNAL/ADS/lib/python3.9/site-packages/urllib3/__init__.py:35: NotOpenSSLWarning: urllib3 v2 only supports OpenSSL 1.1.1+, currently the 'ssl' module is compiled with 'LibreSSL 2.8.3'. See: https://github.com/urllib3/urllib3/issues/3020\n",
      "  warnings.warn(\n",
      "/Users/binitkc/ADS_FiNAL/ADS/lib/python3.9/site-packages/urllib3/__init__.py:35: NotOpenSSLWarning: urllib3 v2 only supports OpenSSL 1.1.1+, currently the 'ssl' module is compiled with 'LibreSSL 2.8.3'. See: https://github.com/urllib3/urllib3/issues/3020\n",
      "  warnings.warn(\n",
      "/Users/binitkc/ADS_FiNAL/ADS/lib/python3.9/site-packages/urllib3/__init__.py:35: NotOpenSSLWarning: urllib3 v2 only supports OpenSSL 1.1.1+, currently the 'ssl' module is compiled with 'LibreSSL 2.8.3'. See: https://github.com/urllib3/urllib3/issues/3020\n",
      "  warnings.warn(\n",
      "/Users/binitkc/ADS_FiNAL/ADS/lib/python3.9/site-packages/urllib3/__init__.py:35: NotOpenSSLWarning: urllib3 v2 only supports OpenSSL 1.1.1+, currently the 'ssl' module is compiled with 'LibreSSL 2.8.3'. See: https://github.com/urllib3/urllib3/issues/3020\n",
      "  warnings.warn(\n",
      "/Users/binitkc/ADS_FiNAL/ADS/lib/python3.9/site-packages/urllib3/__init__.py:35: NotOpenSSLWarning: urllib3 v2 only supports OpenSSL 1.1.1+, currently the 'ssl' module is compiled with 'LibreSSL 2.8.3'. See: https://github.com/urllib3/urllib3/issues/3020\n",
      "  warnings.warn(\n",
      "/Users/binitkc/ADS_FiNAL/ADS/lib/python3.9/site-packages/urllib3/__init__.py:35: NotOpenSSLWarning: urllib3 v2 only supports OpenSSL 1.1.1+, currently the 'ssl' module is compiled with 'LibreSSL 2.8.3'. See: https://github.com/urllib3/urllib3/issues/3020\n",
      "  warnings.warn(\n"
     ]
    },
    {
     "name": "stdout",
     "output_type": "stream",
     "text": [
      "Number of Topics: 15, Coherence Score: 0.6189\n",
      "\n",
      "Best Coherence Score: 0.8909 with 3 topics\n",
      "\n",
      "Best Topics:\n",
      "Topic 0: report, char, free, share, quarter, company, inc, according, recent, new\n",
      "Topic 1: char, product, commission, expert, receive, case, answer, question, unbiased, review\n",
      "Topic 2: product, receive, commission, expert, unbiased, assess, case, write, reader, answer\n"
     ]
    }
   ],
   "source": [
    "\n",
    "# Step 1: Prepare text data\n",
    "lemmatized_text = [tokens for tokens in df_cleaned['lemmatized_content']]\n",
    "\n",
    "# Step 2: Create TF-IDF matrix\n",
    "tfidf_vectorizer = TfidfVectorizer(tokenizer=lambda doc: doc, lowercase=False)\n",
    "tfidf_matrix = tfidf_vectorizer.fit_transform(lemmatized_text)\n",
    "\n",
    "# Function to extract top words for each topic\n",
    "def get_lsa_topics(model, vectorizer, n_words=10):\n",
    "    topics = []\n",
    "    for idx, topic in enumerate(model.components_):\n",
    "        top_words_indices = topic.argsort()[:-n_words - 1:-1]\n",
    "        top_words = [vectorizer.get_feature_names_out()[i] for i in top_words_indices]\n",
    "        topics.append(top_words)\n",
    "    return topics\n",
    "\n",
    "# Step 3: Hyperparameter tuning\n",
    "topic_range = [2, 3, 5, 6, 7, 10, 15]  # Range of topic numbers to evaluate\n",
    "best_coherence_score = -1\n",
    "best_num_topics = None\n",
    "best_lsa_model = None\n",
    "best_topics = None\n",
    "\n",
    "# Create a Gensim dictionary and corpus\n",
    "dictionary = Dictionary(lemmatized_text)\n",
    "corpus = [dictionary.doc2bow(text) for text in lemmatized_text]\n",
    "\n",
    "for num_topics in topic_range:\n",
    "    # Train LSA model\n",
    "    lsa_model = TruncatedSVD(n_components=num_topics, random_state=42)\n",
    "    lsa_model.fit(tfidf_matrix)\n",
    "    \n",
    "    # Extract topics\n",
    "    topics = get_lsa_topics(lsa_model, tfidf_vectorizer)\n",
    "    \n",
    "    # Calculate coherence score\n",
    "    coherence_model = CoherenceModel(topics=topics, texts=lemmatized_text, dictionary=dictionary, coherence='c_v')\n",
    "    coherence_score = coherence_model.get_coherence()\n",
    "    \n",
    "    print(f\"Number of Topics: {num_topics}, Coherence Score: {coherence_score:.4f}\")\n",
    "    \n",
    "    # Update the best model if the coherence score improves\n",
    "    if coherence_score > best_coherence_score:\n",
    "        best_coherence_score = coherence_score\n",
    "        best_num_topics = num_topics\n",
    "        best_lsa_model = lsa_model\n",
    "        best_topics = topics\n",
    "\n",
    "# Display the best coherence score and the corresponding number of topics\n",
    "print(f\"\\nBest Coherence Score: {best_coherence_score:.4f} with {best_num_topics} topics\")\n",
    "\n",
    "# Display the topics and their associated words for the best model\n",
    "print(\"\\nBest Topics:\")\n",
    "for i, topic in enumerate(best_topics):\n",
    "    print(f\"Topic {i}: {', '.join(topic)}\")\n"
   ]
  },
  {
   "cell_type": "code",
   "execution_count": null,
   "id": "a9c3fbae-c1fc-42ab-9ca6-db924662ceae",
   "metadata": {},
   "outputs": [],
   "source": []
  },
  {
   "cell_type": "code",
   "execution_count": 33,
   "id": "d66c7be9-78e5-4983-b34c-1cfb5ebb6ca2",
   "metadata": {},
   "outputs": [
    {
     "name": "stdout",
     "output_type": "stream",
     "text": [
      "\n",
      "Topic Diversity: 0.7333\n"
     ]
    }
   ],
   "source": [
    "def calculate_topic_diversity(topics, top_n_words=10):\n",
    "    \"\"\"\n",
    "    Calculates topic diversity as the proportion of unique words \n",
    "    in the top N words across all topics.\n",
    "    \"\"\"\n",
    "    unique_words = set()\n",
    "    total_words = 0\n",
    "\n",
    "    for topic in topics:\n",
    "        top_words = topic[:top_n_words]\n",
    "        unique_words.update(top_words)\n",
    "        total_words += len(top_words)\n",
    "\n",
    "    topic_diversity = len(unique_words) / total_words\n",
    "    return topic_diversity\n",
    "\n",
    "# Calculate topic diversity for the best LSA model\n",
    "topic_diversity_score = calculate_topic_diversity(best_topics, top_n_words=10)\n",
    "print(f\"\\nTopic Diversity: {topic_diversity_score:.4f}\")\n"
   ]
  },
  {
   "cell_type": "code",
   "execution_count": null,
   "id": "68c9e73d-373a-4366-aebb-20f1b5435578",
   "metadata": {},
   "outputs": [],
   "source": []
  },
  {
   "cell_type": "code",
   "execution_count": null,
   "id": "89721058-12cb-4735-aa1b-0b230d198703",
   "metadata": {},
   "outputs": [],
   "source": []
  }
 ],
 "metadata": {
  "kernelspec": {
   "display_name": "ADS",
   "language": "python",
   "name": "ads"
  },
  "language_info": {
   "codemirror_mode": {
    "name": "ipython",
    "version": 3
   },
   "file_extension": ".py",
   "mimetype": "text/x-python",
   "name": "python",
   "nbconvert_exporter": "python",
   "pygments_lexer": "ipython3",
   "version": "3.9.6"
  }
 },
 "nbformat": 4,
 "nbformat_minor": 5
}
