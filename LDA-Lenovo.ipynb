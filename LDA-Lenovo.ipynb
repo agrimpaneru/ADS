{
 "cells": [
  {
   "cell_type": "code",
   "execution_count": 1,
   "id": "a1f746ab-d055-47d4-b750-e0c756292ef0",
   "metadata": {},
   "outputs": [],
   "source": [
    "#Import Libraries\n",
    "\n",
    "#for reading and data-manipulation\n",
    "import os\n",
    "import numpy as np\n",
    "import pandas as pd"
   ]
  },
  {
   "cell_type": "code",
   "execution_count": 2,
   "id": "c31388f7-a8bc-4578-b93a-d9e4f458bd68",
   "metadata": {},
   "outputs": [],
   "source": [
    "#for visualization\n",
    "import matplotlib.pyplot as plt\n",
    "import seaborn as sns\n",
    "sns.set()\n",
    "from wordcloud import WordCloud\n",
    "import pyLDAvis\n",
    "import pyLDAvis.gensim_models as gensimvis"
   ]
  },
  {
   "cell_type": "code",
   "execution_count": 3,
   "id": "f50e62f5-bc32-46ef-b5dc-8bd9a91b37fc",
   "metadata": {},
   "outputs": [],
   "source": [
    "#for data preprocessing\n",
    "import time\n",
    "from contractions import contractions_dict\n",
    "import re\n",
    "from collections import Counter\n",
    "from wordcloud import STOPWORDS\n",
    "import string\n",
    "import nltk\n",
    "from nltk.corpus import stopwords\n",
    "from nltk.tokenize import word_tokenize\n",
    "from nltk.stem import PorterStemmer\n",
    "from nltk.stem import WordNetLemmatizer\n",
    "from nltk import pos_tag\n",
    "from sklearn.feature_extraction.text import CountVectorizer\n",
    "from sklearn.feature_extraction.text import TfidfVectorizer"
   ]
  },
  {
   "cell_type": "code",
   "execution_count": 4,
   "id": "106c4edf-02aa-4ab7-91fa-9b71dda15ae3",
   "metadata": {},
   "outputs": [
    {
     "name": "stderr",
     "output_type": "stream",
     "text": [
      "/Users/binitkc/ADS_FiNAL/ADS/lib/python3.9/site-packages/urllib3/__init__.py:35: NotOpenSSLWarning: urllib3 v2 only supports OpenSSL 1.1.1+, currently the 'ssl' module is compiled with 'LibreSSL 2.8.3'. See: https://github.com/urllib3/urllib3/issues/3020\n",
      "  warnings.warn(\n"
     ]
    }
   ],
   "source": [
    "# for ML model Implementation\n",
    "from gensim import corpora\n",
    "from gensim.models import CoherenceModel, LdaModel\n",
    "from gensim.models.coherencemodel import CoherenceModel\n",
    "from sklearn.metrics import make_scorer\n",
    "from sklearn.model_selection import GridSearchCV\n",
    "from sklearn.pipeline import Pipeline\n",
    "from sklearn.model_selection import ParameterGrid\n",
    "from sklearn.decomposition import NMF\n",
    "from sklearn.decomposition import TruncatedSVD\n",
    "from sklearn.decomposition import PCA\n",
    "from sklearn.cluster import KMeans\n",
    "from bertopic import BERTopic\n",
    "from sklearn.metrics import silhouette_score\n",
    "import hdbscan\n",
    "from sentence_transformers import SentenceTransformer\n",
    "from umap import UMAP"
   ]
  },
  {
   "cell_type": "code",
   "execution_count": 5,
   "id": "0ebbbfbb-10c1-4bb6-88d4-ee9f3c72d2c6",
   "metadata": {},
   "outputs": [],
   "source": [
    "# This code avoids printing different warnings in following jupyter cells.\n",
    "import warnings\n",
    "warnings.simplefilter(\"ignore\", category=DeprecationWarning)\n",
    "# warnings.simplefilter(\"ignore\", category=SettingWithCopyWarning)\n"
   ]
  },
  {
   "cell_type": "code",
   "execution_count": 6,
   "id": "3bb2389a-9fd0-4bc6-bba0-51257a74e42d",
   "metadata": {},
   "outputs": [
    {
     "data": {
      "text/html": [
       "<div>\n",
       "<style scoped>\n",
       "    .dataframe tbody tr th:only-of-type {\n",
       "        vertical-align: middle;\n",
       "    }\n",
       "\n",
       "    .dataframe tbody tr th {\n",
       "        vertical-align: top;\n",
       "    }\n",
       "\n",
       "    .dataframe thead th {\n",
       "        text-align: right;\n",
       "    }\n",
       "</style>\n",
       "<table border=\"1\" class=\"dataframe\">\n",
       "  <thead>\n",
       "    <tr style=\"text-align: right;\">\n",
       "      <th></th>\n",
       "      <th>sentiment</th>\n",
       "      <th>review</th>\n",
       "    </tr>\n",
       "  </thead>\n",
       "  <tbody>\n",
       "    <tr>\n",
       "      <th>0</th>\n",
       "      <td>1</td>\n",
       "      <td>Good but need updates and improvements</td>\n",
       "    </tr>\n",
       "    <tr>\n",
       "      <th>1</th>\n",
       "      <td>0</td>\n",
       "      <td>Worst mobile i have bought ever, Battery is dr...</td>\n",
       "    </tr>\n",
       "    <tr>\n",
       "      <th>2</th>\n",
       "      <td>1</td>\n",
       "      <td>when I will get my 10% cash back.... its alrea...</td>\n",
       "    </tr>\n",
       "    <tr>\n",
       "      <th>3</th>\n",
       "      <td>1</td>\n",
       "      <td>Good</td>\n",
       "    </tr>\n",
       "    <tr>\n",
       "      <th>4</th>\n",
       "      <td>0</td>\n",
       "      <td>The worst phone everThey have changed the last...</td>\n",
       "    </tr>\n",
       "  </tbody>\n",
       "</table>\n",
       "</div>"
      ],
      "text/plain": [
       "   sentiment                                             review\n",
       "0          1             Good but need updates and improvements\n",
       "1          0  Worst mobile i have bought ever, Battery is dr...\n",
       "2          1  when I will get my 10% cash back.... its alrea...\n",
       "3          1                                               Good\n",
       "4          0  The worst phone everThey have changed the last..."
      ]
     },
     "execution_count": 6,
     "metadata": {},
     "output_type": "execute_result"
    }
   ],
   "source": [
    "df = pd.read_csv('lenovoK8.csv', encoding='ISO-8859-1') # this is for the LenovoK8 dataset.\n",
    "df.head()"
   ]
  },
  {
   "cell_type": "code",
   "execution_count": 7,
   "id": "2e1b77d0-0c40-4c1f-bf11-f97767233a7b",
   "metadata": {},
   "outputs": [],
   "source": [
    "df = df.rename(columns={'review': 'brief_review'})\n"
   ]
  },
  {
   "cell_type": "code",
   "execution_count": 8,
   "id": "ac759f4c-5058-40ba-9d01-55ba8dc0057b",
   "metadata": {},
   "outputs": [],
   "source": [
    "\n",
    "df = df[['brief_review', 'sentiment']].dropna()\n"
   ]
  },
  {
   "cell_type": "code",
   "execution_count": 9,
   "id": "8aae62a4-ad89-4c33-a233-e177f33cebc9",
   "metadata": {},
   "outputs": [],
   "source": [
    "# df = df_filtered.rename(columns={'article_id': 'unique_identifier', 'content': 'brief_review'})"
   ]
  },
  {
   "cell_type": "code",
   "execution_count": 10,
   "id": "1b9561f8-f6c5-4ce7-afdf-95c6b136f069",
   "metadata": {},
   "outputs": [],
   "source": [
    "# df = df[['unique_identifier', 'brief_review', 'category']].dropna()"
   ]
  },
  {
   "cell_type": "code",
   "execution_count": 11,
   "id": "11c8ccc2-c1c1-4830-87ea-e3476c3e1a0d",
   "metadata": {},
   "outputs": [
    {
     "data": {
      "text/plain": [
       "brief_review    0\n",
       "sentiment       0\n",
       "dtype: int64"
      ]
     },
     "execution_count": 11,
     "metadata": {},
     "output_type": "execute_result"
    }
   ],
   "source": [
    "# Handling missing values\n",
    "df.isnull().sum()"
   ]
  },
  {
   "cell_type": "code",
   "execution_count": 12,
   "id": "8f7e020e-bd11-4cfe-94db-7dd703cf907c",
   "metadata": {},
   "outputs": [
    {
     "data": {
      "text/plain": [
       "1708"
      ]
     },
     "execution_count": 12,
     "metadata": {},
     "output_type": "execute_result"
    }
   ],
   "source": [
    "#handling duplicate values \n",
    "len(df[df.duplicated(subset=['brief_review'])])"
   ]
  },
  {
   "cell_type": "code",
   "execution_count": 13,
   "id": "f996f32d-2926-4d21-8232-5036d2b2f8a6",
   "metadata": {},
   "outputs": [
    {
     "name": "stdout",
     "output_type": "stream",
     "text": [
      "                                        brief_review  sentiment\n",
      "0             Good but need updates and improvements          1\n",
      "1  Worst mobile i have bought ever, Battery is dr...          0\n",
      "2  when I will get my 10% cash back.... its alrea...          1\n",
      "3                                               Good          1\n",
      "4  The worst phone everThey have changed the last...          0\n"
     ]
    }
   ],
   "source": [
    "# Drop duplicate \n",
    "df_cleaned = df.drop_duplicates(subset = [\"brief_review\"])\n",
    "print(df_cleaned.head())"
   ]
  },
  {
   "cell_type": "code",
   "execution_count": 14,
   "id": "66e849d5-b196-4c4a-a0f7-5ab996747966",
   "metadata": {},
   "outputs": [
    {
     "name": "stdout",
     "output_type": "stream",
     "text": [
      "<class 'pandas.core.frame.DataFrame'>\n",
      "Index: 12967 entries, 0 to 14674\n",
      "Data columns (total 2 columns):\n",
      " #   Column        Non-Null Count  Dtype \n",
      "---  ------        --------------  ----- \n",
      " 0   brief_review  12967 non-null  object\n",
      " 1   sentiment     12967 non-null  int64 \n",
      "dtypes: int64(1), object(1)\n",
      "memory usage: 303.9+ KB\n"
     ]
    }
   ],
   "source": [
    "df_cleaned.info()"
   ]
  },
  {
   "cell_type": "code",
   "execution_count": 15,
   "id": "27c4db27-6caf-45af-af84-d6e3db1e8079",
   "metadata": {},
   "outputs": [],
   "source": [
    "# Expand Contraction\n",
    "\n",
    "# Function to expand contractions using the contractions_dict\n",
    "def expand_contractions(text):\n",
    "    # Regular expression pattern to match contractions\n",
    "    contractions_pattern = re.compile('({})'.format('|'.join(contractions_dict.keys())),\n",
    "                                      flags=re.IGNORECASE | re.DOTALL)\n",
    "\n",
    "    def expand_match(contraction):\n",
    "        match = contraction.group(0)\n",
    "        expanded = contractions_dict.get(match.lower())\n",
    "        return expanded\n",
    "\n",
    "    expanded_text = contractions_pattern.sub(expand_match, text)\n",
    "    return expanded_text\n",
    "\n",
    "# Apply the expand_contractions function to the \"brief_review\" column\n",
    "df_cleaned['brief_review'] = df_cleaned['brief_review'].apply(expand_contractions)"
   ]
  },
  {
   "cell_type": "code",
   "execution_count": 16,
   "id": "066e63a2-bbea-4b33-bf16-9b3b86a70d46",
   "metadata": {},
   "outputs": [],
   "source": [
    "# Remove Punctuations\n",
    "\n",
    "# Function to remove punctuations from text\n",
    "def remove_punctuations(text):\n",
    "    # Create a translation table to remove punctuations\n",
    "    translator = str.maketrans('', '', string.punctuation +'\\n')\n",
    "\n",
    "    # Apply the translation table to remove punctuations\n",
    "    text_without_punctuations = text.translate(translator)\n",
    "    return text_without_punctuations\n",
    "\n",
    "# Apply the remove_punctuations function to the \"brief_review\" column\n",
    "df_cleaned['brief_review'] = df_cleaned['brief_review'].apply(remove_punctuations)"
   ]
  },
  {
   "cell_type": "code",
   "execution_count": 17,
   "id": "293e719b-54ee-45bc-9992-f453554d3135",
   "metadata": {},
   "outputs": [],
   "source": [
    "# Convert text in the \"brief_review\" column to lowercase\n",
    "df_cleaned['brief_review'] = df_cleaned['brief_review'].str.lower()"
   ]
  },
  {
   "cell_type": "code",
   "execution_count": 18,
   "id": "c4e59383-4c53-4c99-80fa-d5d5384e14ab",
   "metadata": {},
   "outputs": [
    {
     "data": {
      "text/plain": [
       "0               good but need updates and improvements\n",
       "1    worst mobile i have bought ever battery is dra...\n",
       "2         when i will get my cash back its already ary\n",
       "3                                                 good\n",
       "4    the worst phone everthey have changed the last...\n",
       "Name: brief_review, dtype: object"
      ]
     },
     "execution_count": 18,
     "metadata": {},
     "output_type": "execute_result"
    }
   ],
   "source": [
    "# Function to remove URLs from text\n",
    "def remove_urls(text):\n",
    "    url_pattern = re.compile(r'https?://\\S+|www\\.\\S+')\n",
    "    return re.sub(url_pattern, '', text)\n",
    "\n",
    "# Function to remove words containing digits from text\n",
    "def remove_words_with_digits(text):\n",
    "    return ' '.join(word for word in text.split() if not any(char.isdigit() for char in word))\n",
    "\n",
    "# Function to remove non-ASCII characters (special characters)\n",
    "def remove_special_characters(text):\n",
    "    # Replace non-ASCII characters with a space\n",
    "    return re.sub(r'[^\\x00-\\x7F]+', ' ', text)\n",
    "\n",
    "# Apply the remove_urls function to the \"brief_review\" column\n",
    "df_cleaned['brief_review'] = df_cleaned['brief_review'].apply(remove_urls)\n",
    "\n",
    "# Apply the remove_words_with_digits function to the \"brief_review\" column\n",
    "df_cleaned['brief_review'] = df_cleaned['brief_review'].apply(remove_words_with_digits)\n",
    "\n",
    "# Apply the remove_special_characters function to the \"brief_review\" column\n",
    "df_cleaned['brief_review'] = df_cleaned['brief_review'].apply(remove_special_characters)\n",
    "\n",
    "# Verify the cleaned data\n",
    "df_cleaned['brief_review'].head()\n"
   ]
  },
  {
   "cell_type": "code",
   "execution_count": 19,
   "id": "10b225d2-91c6-4c86-b8ee-e63fc0b03b2f",
   "metadata": {},
   "outputs": [
    {
     "name": "stderr",
     "output_type": "stream",
     "text": [
      "[nltk_data] Downloading package stopwords to\n",
      "[nltk_data]     /Users/binitkc/nltk_data...\n",
      "[nltk_data]   Package stopwords is already up-to-date!\n"
     ]
    }
   ],
   "source": [
    " # Remove Stopwords\n",
    "# Download the list of stopwords if not already downloaded\n",
    "nltk.download('stopwords')\n",
    "\n",
    "# Get the list of English stopwords\n",
    "stop_words = set(stopwords.words('english'))\n",
    "\n",
    "# Add unnecessary words to the list of English stopwords\n",
    "stop_unnecessary_words = stop_words.union(set(['mr', 'people', 'would', 'year', 'said', 'say', 'also', 'wale', 'could']))\n",
    "\n",
    "\n",
    "# Function to remove stopwords from text\n",
    "def remove_stopwords(text):\n",
    "    words = text.split()\n",
    "    words = [word for word in words if len(word)>2]\n",
    "    filtered_words = [word for word in words if word.lower() not in stop_unnecessary_words]\n",
    "    return ' '.join(filtered_words)\n",
    "\n",
    "# Apply the remove_stopwords function to the \"brief_review\" column\n",
    "df_cleaned['brief_review'] = df_cleaned['brief_review'].apply(remove_stopwords)"
   ]
  },
  {
   "cell_type": "code",
   "execution_count": 20,
   "id": "5bdac301-439d-44c6-bae4-186631d239a7",
   "metadata": {},
   "outputs": [],
   "source": [
    "# Remove white spaces from the \"brief_review\" column\n",
    "df_cleaned['brief_review'] = df_cleaned['brief_review'].str.replace('\\s+', ' ', regex=True)"
   ]
  },
  {
   "cell_type": "code",
   "execution_count": 21,
   "id": "644e0b2c-8c7d-430a-b938-15d7e022bc8e",
   "metadata": {},
   "outputs": [
    {
     "name": "stderr",
     "output_type": "stream",
     "text": [
      "[nltk_data] Downloading package punkt to /Users/binitkc/nltk_data...\n",
      "[nltk_data]   Package punkt is already up-to-date!\n",
      "[nltk_data] Downloading package punkt_tab to\n",
      "[nltk_data]     /Users/binitkc/nltk_data...\n",
      "[nltk_data]   Package punkt_tab is already up-to-date!\n"
     ]
    }
   ],
   "source": [
    "# Tokenization\n",
    "\n",
    "# Download the punkt package\n",
    "nltk.download('punkt')\n",
    "# Download the punkt_tab resource as well\n",
    "nltk.download('punkt_tab')\n",
    "\n",
    "# Function to tokenize text\n",
    "def tokenize_text(text):\n",
    "    tokens = word_tokenize(text)\n",
    "    return tokens\n",
    "\n",
    "# Apply the tokenize_text function to the \"brief_review\" column\n",
    "df_cleaned['tokenized_content'] = df_cleaned['brief_review'].apply(tokenize_text)\n"
   ]
  },
  {
   "cell_type": "code",
   "execution_count": 22,
   "id": "0ed4eba1-f81d-4dca-b19d-9582e6dce706",
   "metadata": {},
   "outputs": [
    {
     "data": {
      "text/html": [
       "<div>\n",
       "<style scoped>\n",
       "    .dataframe tbody tr th:only-of-type {\n",
       "        vertical-align: middle;\n",
       "    }\n",
       "\n",
       "    .dataframe tbody tr th {\n",
       "        vertical-align: top;\n",
       "    }\n",
       "\n",
       "    .dataframe thead th {\n",
       "        text-align: right;\n",
       "    }\n",
       "</style>\n",
       "<table border=\"1\" class=\"dataframe\">\n",
       "  <thead>\n",
       "    <tr style=\"text-align: right;\">\n",
       "      <th></th>\n",
       "      <th>brief_review</th>\n",
       "      <th>sentiment</th>\n",
       "      <th>tokenized_content</th>\n",
       "    </tr>\n",
       "  </thead>\n",
       "  <tbody>\n",
       "    <tr>\n",
       "      <th>0</th>\n",
       "      <td>good need updates improvements</td>\n",
       "      <td>1</td>\n",
       "      <td>[good, need, updates, improvements]</td>\n",
       "    </tr>\n",
       "    <tr>\n",
       "      <th>1</th>\n",
       "      <td>worst mobile bought ever battery draining like...</td>\n",
       "      <td>0</td>\n",
       "      <td>[worst, mobile, bought, ever, battery, drainin...</td>\n",
       "    </tr>\n",
       "    <tr>\n",
       "      <th>2</th>\n",
       "      <td>get cash back already ary</td>\n",
       "      <td>1</td>\n",
       "      <td>[get, cash, back, already, ary]</td>\n",
       "    </tr>\n",
       "    <tr>\n",
       "      <th>3</th>\n",
       "      <td>good</td>\n",
       "      <td>1</td>\n",
       "      <td>[good]</td>\n",
       "    </tr>\n",
       "    <tr>\n",
       "      <th>4</th>\n",
       "      <td>worst phone everthey changed last phone proble...</td>\n",
       "      <td>0</td>\n",
       "      <td>[worst, phone, everthey, changed, last, phone,...</td>\n",
       "    </tr>\n",
       "  </tbody>\n",
       "</table>\n",
       "</div>"
      ],
      "text/plain": [
       "                                        brief_review  sentiment  \\\n",
       "0                     good need updates improvements          1   \n",
       "1  worst mobile bought ever battery draining like...          0   \n",
       "2                          get cash back already ary          1   \n",
       "3                                               good          1   \n",
       "4  worst phone everthey changed last phone proble...          0   \n",
       "\n",
       "                                   tokenized_content  \n",
       "0                [good, need, updates, improvements]  \n",
       "1  [worst, mobile, bought, ever, battery, drainin...  \n",
       "2                    [get, cash, back, already, ary]  \n",
       "3                                             [good]  \n",
       "4  [worst, phone, everthey, changed, last, phone,...  "
      ]
     },
     "execution_count": 22,
     "metadata": {},
     "output_type": "execute_result"
    }
   ],
   "source": [
    "df_cleaned.head()"
   ]
  },
  {
   "cell_type": "code",
   "execution_count": 23,
   "id": "1934f5d1-f594-4944-9dce-41e2f100dc40",
   "metadata": {},
   "outputs": [],
   "source": [
    "# Initialize the stemmer\n",
    "stemmer = PorterStemmer()\n",
    "\n",
    "# Function to perform stemming on text\n",
    "def stem_text(tokens):\n",
    "    stemmed_tokens = [stemmer.stem(token) for token in tokens]\n",
    "    return stemmed_tokens\n",
    "\n",
    "# Apply the stem_text function to the \"tokenized_content\" column\n",
    "df_cleaned['stemmed_content'] = df_cleaned['tokenized_content'].apply(stem_text)"
   ]
  },
  {
   "cell_type": "code",
   "execution_count": 24,
   "id": "d25f76a2-332c-40bf-b1dd-184feb0e6674",
   "metadata": {},
   "outputs": [
    {
     "name": "stderr",
     "output_type": "stream",
     "text": [
      "[nltk_data] Downloading package wordnet to /Users/binitkc/nltk_data...\n",
      "[nltk_data]   Package wordnet is already up-to-date!\n"
     ]
    }
   ],
   "source": [
    "nltk.download('wordnet')\n",
    "# Initialize the lemmatizer\n",
    "lemmatizer = WordNetLemmatizer()\n",
    "\n",
    "# Function to perform lemmatization on text\n",
    "def lemmatize_text(tokens):\n",
    "    lemmatized_tokens = [lemmatizer.lemmatize(token) for token in tokens]\n",
    "    return lemmatized_tokens\n",
    "\n",
    "# Apply the lemmatize_text function to the \"tokenized_content\" column\n",
    "df_cleaned['lemmatized_content'] = df_cleaned['tokenized_content'].apply(lemmatize_text)"
   ]
  },
  {
   "cell_type": "code",
   "execution_count": 25,
   "id": "0ce38bcd-2000-4746-891a-49fdd5cd75e1",
   "metadata": {},
   "outputs": [
    {
     "name": "stdout",
     "output_type": "stream",
     "text": [
      "<class 'pandas.core.series.Series'>\n",
      "Index: 12967 entries, 0 to 14674\n",
      "Series name: lemmatized_content\n",
      "Non-Null Count  Dtype \n",
      "--------------  ----- \n",
      "12967 non-null  object\n",
      "dtypes: object(1)\n",
      "memory usage: 202.6+ KB\n"
     ]
    }
   ],
   "source": [
    "df_cleaned['lemmatized_content'].info()"
   ]
  },
  {
   "cell_type": "code",
   "execution_count": 26,
   "id": "298c6905-35e8-4b12-8c19-b7293d7109dd",
   "metadata": {},
   "outputs": [],
   "source": [
    "df_cleaned = df_cleaned.iloc[0:10000]"
   ]
  },
  {
   "cell_type": "code",
   "execution_count": 27,
   "id": "9c141d75-d9dc-4172-a3c5-a9e0ae55ec9e",
   "metadata": {},
   "outputs": [
    {
     "name": "stdout",
     "output_type": "stream",
     "text": [
      "<class 'pandas.core.frame.DataFrame'>\n",
      "Index: 10000 entries, 0 to 11237\n",
      "Data columns (total 5 columns):\n",
      " #   Column              Non-Null Count  Dtype \n",
      "---  ------              --------------  ----- \n",
      " 0   brief_review        10000 non-null  object\n",
      " 1   sentiment           10000 non-null  int64 \n",
      " 2   tokenized_content   10000 non-null  object\n",
      " 3   stemmed_content     10000 non-null  object\n",
      " 4   lemmatized_content  10000 non-null  object\n",
      "dtypes: int64(1), object(4)\n",
      "memory usage: 468.8+ KB\n"
     ]
    }
   ],
   "source": [
    "df_cleaned.info()"
   ]
  },
  {
   "cell_type": "code",
   "execution_count": 28,
   "id": "cde3c3a4-a6fd-4e5e-8ac6-ae84900ddbd8",
   "metadata": {},
   "outputs": [
    {
     "name": "stdout",
     "output_type": "stream",
     "text": [
      "\n",
      "\n",
      "\n",
      "\n"
     ]
    },
    {
     "name": "stderr",
     "output_type": "stream",
     "text": [
      "/Users/binitkc/ADS_FiNAL/ADS/lib/python3.9/site-packages/urllib3/__init__.py:35: NotOpenSSLWarning: urllib3 v2 only supports OpenSSL 1.1.1+, currently the 'ssl' module is compiled with 'LibreSSL 2.8.3'. See: https://github.com/urllib3/urllib3/issues/3020\n",
      "  warnings.warn(\n",
      "/Users/binitkc/ADS_FiNAL/ADS/lib/python3.9/site-packages/urllib3/__init__.py:35: NotOpenSSLWarning: urllib3 v2 only supports OpenSSL 1.1.1+, currently the 'ssl' module is compiled with 'LibreSSL 2.8.3'. See: https://github.com/urllib3/urllib3/issues/3020\n",
      "  warnings.warn(\n",
      "/Users/binitkc/ADS_FiNAL/ADS/lib/python3.9/site-packages/urllib3/__init__.py:35: NotOpenSSLWarning: urllib3 v2 only supports OpenSSL 1.1.1+, currently the 'ssl' module is compiled with 'LibreSSL 2.8.3'. See: https://github.com/urllib3/urllib3/issues/3020\n",
      "  warnings.warn(\n",
      "/Users/binitkc/ADS_FiNAL/ADS/lib/python3.9/site-packages/urllib3/__init__.py:35: NotOpenSSLWarning: urllib3 v2 only supports OpenSSL 1.1.1+, currently the 'ssl' module is compiled with 'LibreSSL 2.8.3'. See: https://github.com/urllib3/urllib3/issues/3020\n",
      "  warnings.warn(\n",
      "/Users/binitkc/ADS_FiNAL/ADS/lib/python3.9/site-packages/urllib3/__init__.py:35: NotOpenSSLWarning: urllib3 v2 only supports OpenSSL 1.1.1+, currently the 'ssl' module is compiled with 'LibreSSL 2.8.3'. See: https://github.com/urllib3/urllib3/issues/3020\n",
      "  warnings.warn(\n",
      "/Users/binitkc/ADS_FiNAL/ADS/lib/python3.9/site-packages/urllib3/__init__.py:35: NotOpenSSLWarning: urllib3 v2 only supports OpenSSL 1.1.1+, currently the 'ssl' module is compiled with 'LibreSSL 2.8.3'. See: https://github.com/urllib3/urllib3/issues/3020\n",
      "  warnings.warn(\n",
      "/Users/binitkc/ADS_FiNAL/ADS/lib/python3.9/site-packages/urllib3/__init__.py:35: NotOpenSSLWarning: urllib3 v2 only supports OpenSSL 1.1.1+, currently the 'ssl' module is compiled with 'LibreSSL 2.8.3'. See: https://github.com/urllib3/urllib3/issues/3020\n",
      "  warnings.warn(\n"
     ]
    },
    {
     "name": "stdout",
     "output_type": "stream",
     "text": [
      "Coherence Score: 0.5570\n",
      "\n",
      "\n",
      "Topic 0: 0.063*\"battery\" + 0.033*\"phone\" + 0.026*\"charging\" + 0.019*\"day\" + 0.019*\"product\" + 0.017*\"charge\" + 0.016*\"get\" + 0.016*\"hour\" + 0.016*\"fast\" + 0.016*\"time\"\n",
      "\n",
      "\n",
      "Topic 1: 0.042*\"phone\" + 0.026*\"working\" + 0.019*\"call\" + 0.018*\"buy\" + 0.018*\"worst\" + 0.013*\"amazon\" + 0.013*\"network\" + 0.013*\"mobile\" + 0.012*\"product\" + 0.012*\"service\"\n",
      "\n",
      "\n",
      "Topic 2: 0.075*\"good\" + 0.074*\"camera\" + 0.039*\"phone\" + 0.032*\"quality\" + 0.030*\"battery\" + 0.019*\"performance\" + 0.012*\"better\" + 0.012*\"note\" + 0.010*\"sound\" + 0.010*\"backup\"\n",
      "\n",
      "\n",
      "Topic 3: 0.048*\"problem\" + 0.043*\"phone\" + 0.041*\"heating\" + 0.032*\"issue\" + 0.031*\"good\" + 0.027*\"money\" + 0.024*\"mobile\" + 0.016*\"screen\" + 0.015*\"waste\" + 0.012*\"like\"\n",
      "\n",
      "\n",
      "Topic 4: 0.087*\"phone\" + 0.065*\"good\" + 0.065*\"product\" + 0.065*\"mobile\" + 0.061*\"nice\" + 0.045*\"best\" + 0.043*\"price\" + 0.023*\"awesome\" + 0.018*\"excellent\" + 0.016*\"great\"\n"
     ]
    }
   ],
   "source": [
    "# ML Model - 1 Implementation\n",
    "\n",
    "# Convert the list of lemmatized tokens into a list of lists\n",
    "lemmatized_text = [tokens for tokens in df_cleaned['lemmatized_content']]\n",
    "\n",
    "# Create a dictionary of terms with term frequency filtering\n",
    "dictionary = corpora.Dictionary(lemmatized_text)\n",
    "dictionary.filter_extremes(no_below=3, no_above=0.85)\n",
    "\n",
    "# Fit the Algorithm\n",
    "\n",
    "# Create a Gensim corpus\n",
    "corpus_gensim = [dictionary.doc2bow(text) for text in lemmatized_text]\n",
    "\n",
    "# Build LDA model\n",
    "num_topics = 5\n",
    "lda_model = LdaModel(corpus_gensim, num_topics=num_topics, id2word=dictionary, passes=20, random_state= 40)\n",
    "\n",
    "print('\\n')\n",
    "print('\\n')\n",
    "# Calculate coherence score\n",
    "coherence_model = CoherenceModel(model=lda_model, texts=lemmatized_text, dictionary=dictionary, coherence='c_v')\n",
    "coherence_score = coherence_model.get_coherence()\n",
    "\n",
    "# Print coherence score\n",
    "print(f\"Coherence Score: {coherence_score:.4f}\")\n",
    "\n",
    "\n",
    "# Print topics and associated words\n",
    "for topic_id, topic_words in lda_model.print_topics():\n",
    "    print('\\n')\n",
    "    print(f\"Topic {topic_id}: {topic_words}\")"
   ]
  },
  {
   "cell_type": "code",
   "execution_count": 29,
   "id": "f90b212c-bed4-4e81-b9cc-92d4a0550f11",
   "metadata": {},
   "outputs": [
    {
     "name": "stderr",
     "output_type": "stream",
     "text": [
      "/Users/binitkc/ADS_FiNAL/ADS/lib/python3.9/site-packages/urllib3/__init__.py:35: NotOpenSSLWarning: urllib3 v2 only supports OpenSSL 1.1.1+, currently the 'ssl' module is compiled with 'LibreSSL 2.8.3'. See: https://github.com/urllib3/urllib3/issues/3020\n",
      "  warnings.warn(\n",
      "/Users/binitkc/ADS_FiNAL/ADS/lib/python3.9/site-packages/urllib3/__init__.py:35: NotOpenSSLWarning: urllib3 v2 only supports OpenSSL 1.1.1+, currently the 'ssl' module is compiled with 'LibreSSL 2.8.3'. See: https://github.com/urllib3/urllib3/issues/3020\n",
      "  warnings.warn(\n",
      "/Users/binitkc/ADS_FiNAL/ADS/lib/python3.9/site-packages/urllib3/__init__.py:35: NotOpenSSLWarning: urllib3 v2 only supports OpenSSL 1.1.1+, currently the 'ssl' module is compiled with 'LibreSSL 2.8.3'. See: https://github.com/urllib3/urllib3/issues/3020\n",
      "  warnings.warn(\n",
      "/Users/binitkc/ADS_FiNAL/ADS/lib/python3.9/site-packages/urllib3/__init__.py:35: NotOpenSSLWarning: urllib3 v2 only supports OpenSSL 1.1.1+, currently the 'ssl' module is compiled with 'LibreSSL 2.8.3'. See: https://github.com/urllib3/urllib3/issues/3020\n",
      "  warnings.warn(\n",
      "/Users/binitkc/ADS_FiNAL/ADS/lib/python3.9/site-packages/urllib3/__init__.py:35: NotOpenSSLWarning: urllib3 v2 only supports OpenSSL 1.1.1+, currently the 'ssl' module is compiled with 'LibreSSL 2.8.3'. See: https://github.com/urllib3/urllib3/issues/3020\n",
      "  warnings.warn(\n",
      "/Users/binitkc/ADS_FiNAL/ADS/lib/python3.9/site-packages/urllib3/__init__.py:35: NotOpenSSLWarning: urllib3 v2 only supports OpenSSL 1.1.1+, currently the 'ssl' module is compiled with 'LibreSSL 2.8.3'. See: https://github.com/urllib3/urllib3/issues/3020\n",
      "  warnings.warn(\n",
      "/Users/binitkc/ADS_FiNAL/ADS/lib/python3.9/site-packages/urllib3/__init__.py:35: NotOpenSSLWarning: urllib3 v2 only supports OpenSSL 1.1.1+, currently the 'ssl' module is compiled with 'LibreSSL 2.8.3'. See: https://github.com/urllib3/urllib3/issues/3020\n",
      "  warnings.warn(\n",
      "/Users/binitkc/ADS_FiNAL/ADS/lib/python3.9/site-packages/urllib3/__init__.py:35: NotOpenSSLWarning: urllib3 v2 only supports OpenSSL 1.1.1+, currently the 'ssl' module is compiled with 'LibreSSL 2.8.3'. See: https://github.com/urllib3/urllib3/issues/3020\n",
      "  warnings.warn(\n",
      "/Users/binitkc/ADS_FiNAL/ADS/lib/python3.9/site-packages/urllib3/__init__.py:35: NotOpenSSLWarning: urllib3 v2 only supports OpenSSL 1.1.1+, currently the 'ssl' module is compiled with 'LibreSSL 2.8.3'. See: https://github.com/urllib3/urllib3/issues/3020\n",
      "  warnings.warn(\n",
      "/Users/binitkc/ADS_FiNAL/ADS/lib/python3.9/site-packages/urllib3/__init__.py:35: NotOpenSSLWarning: urllib3 v2 only supports OpenSSL 1.1.1+, currently the 'ssl' module is compiled with 'LibreSSL 2.8.3'. See: https://github.com/urllib3/urllib3/issues/3020\n",
      "  warnings.warn(\n",
      "/Users/binitkc/ADS_FiNAL/ADS/lib/python3.9/site-packages/urllib3/__init__.py:35: NotOpenSSLWarning: urllib3 v2 only supports OpenSSL 1.1.1+, currently the 'ssl' module is compiled with 'LibreSSL 2.8.3'. See: https://github.com/urllib3/urllib3/issues/3020\n",
      "  warnings.warn(\n",
      "/Users/binitkc/ADS_FiNAL/ADS/lib/python3.9/site-packages/urllib3/__init__.py:35: NotOpenSSLWarning: urllib3 v2 only supports OpenSSL 1.1.1+, currently the 'ssl' module is compiled with 'LibreSSL 2.8.3'. See: https://github.com/urllib3/urllib3/issues/3020\n",
      "  warnings.warn(\n",
      "/Users/binitkc/ADS_FiNAL/ADS/lib/python3.9/site-packages/urllib3/__init__.py:35: NotOpenSSLWarning: urllib3 v2 only supports OpenSSL 1.1.1+, currently the 'ssl' module is compiled with 'LibreSSL 2.8.3'. See: https://github.com/urllib3/urllib3/issues/3020\n",
      "  warnings.warn(\n",
      "/Users/binitkc/ADS_FiNAL/ADS/lib/python3.9/site-packages/urllib3/__init__.py:35: NotOpenSSLWarning: urllib3 v2 only supports OpenSSL 1.1.1+, currently the 'ssl' module is compiled with 'LibreSSL 2.8.3'. See: https://github.com/urllib3/urllib3/issues/3020\n",
      "  warnings.warn(\n",
      "/Users/binitkc/ADS_FiNAL/ADS/lib/python3.9/site-packages/urllib3/__init__.py:35: NotOpenSSLWarning: urllib3 v2 only supports OpenSSL 1.1.1+, currently the 'ssl' module is compiled with 'LibreSSL 2.8.3'. See: https://github.com/urllib3/urllib3/issues/3020\n",
      "  warnings.warn(\n",
      "/Users/binitkc/ADS_FiNAL/ADS/lib/python3.9/site-packages/urllib3/__init__.py:35: NotOpenSSLWarning: urllib3 v2 only supports OpenSSL 1.1.1+, currently the 'ssl' module is compiled with 'LibreSSL 2.8.3'. See: https://github.com/urllib3/urllib3/issues/3020\n",
      "  warnings.warn(\n",
      "/Users/binitkc/ADS_FiNAL/ADS/lib/python3.9/site-packages/urllib3/__init__.py:35: NotOpenSSLWarning: urllib3 v2 only supports OpenSSL 1.1.1+, currently the 'ssl' module is compiled with 'LibreSSL 2.8.3'. See: https://github.com/urllib3/urllib3/issues/3020\n",
      "  warnings.warn(\n",
      "/Users/binitkc/ADS_FiNAL/ADS/lib/python3.9/site-packages/urllib3/__init__.py:35: NotOpenSSLWarning: urllib3 v2 only supports OpenSSL 1.1.1+, currently the 'ssl' module is compiled with 'LibreSSL 2.8.3'. See: https://github.com/urllib3/urllib3/issues/3020\n",
      "  warnings.warn(\n",
      "/Users/binitkc/ADS_FiNAL/ADS/lib/python3.9/site-packages/urllib3/__init__.py:35: NotOpenSSLWarning: urllib3 v2 only supports OpenSSL 1.1.1+, currently the 'ssl' module is compiled with 'LibreSSL 2.8.3'. See: https://github.com/urllib3/urllib3/issues/3020\n",
      "  warnings.warn(\n",
      "/Users/binitkc/ADS_FiNAL/ADS/lib/python3.9/site-packages/urllib3/__init__.py:35: NotOpenSSLWarning: urllib3 v2 only supports OpenSSL 1.1.1+, currently the 'ssl' module is compiled with 'LibreSSL 2.8.3'. See: https://github.com/urllib3/urllib3/issues/3020\n",
      "  warnings.warn(\n",
      "/Users/binitkc/ADS_FiNAL/ADS/lib/python3.9/site-packages/urllib3/__init__.py:35: NotOpenSSLWarning: urllib3 v2 only supports OpenSSL 1.1.1+, currently the 'ssl' module is compiled with 'LibreSSL 2.8.3'. See: https://github.com/urllib3/urllib3/issues/3020\n",
      "  warnings.warn(\n",
      "/Users/binitkc/ADS_FiNAL/ADS/lib/python3.9/site-packages/urllib3/__init__.py:35: NotOpenSSLWarning: urllib3 v2 only supports OpenSSL 1.1.1+, currently the 'ssl' module is compiled with 'LibreSSL 2.8.3'. See: https://github.com/urllib3/urllib3/issues/3020\n",
      "  warnings.warn(\n",
      "/Users/binitkc/ADS_FiNAL/ADS/lib/python3.9/site-packages/urllib3/__init__.py:35: NotOpenSSLWarning: urllib3 v2 only supports OpenSSL 1.1.1+, currently the 'ssl' module is compiled with 'LibreSSL 2.8.3'. See: https://github.com/urllib3/urllib3/issues/3020\n",
      "  warnings.warn(\n",
      "/Users/binitkc/ADS_FiNAL/ADS/lib/python3.9/site-packages/urllib3/__init__.py:35: NotOpenSSLWarning: urllib3 v2 only supports OpenSSL 1.1.1+, currently the 'ssl' module is compiled with 'LibreSSL 2.8.3'. See: https://github.com/urllib3/urllib3/issues/3020\n",
      "  warnings.warn(\n",
      "/Users/binitkc/ADS_FiNAL/ADS/lib/python3.9/site-packages/urllib3/__init__.py:35: NotOpenSSLWarning: urllib3 v2 only supports OpenSSL 1.1.1+, currently the 'ssl' module is compiled with 'LibreSSL 2.8.3'. See: https://github.com/urllib3/urllib3/issues/3020\n",
      "  warnings.warn(\n",
      "/Users/binitkc/ADS_FiNAL/ADS/lib/python3.9/site-packages/urllib3/__init__.py:35: NotOpenSSLWarning: urllib3 v2 only supports OpenSSL 1.1.1+, currently the 'ssl' module is compiled with 'LibreSSL 2.8.3'. See: https://github.com/urllib3/urllib3/issues/3020\n",
      "  warnings.warn(\n",
      "/Users/binitkc/ADS_FiNAL/ADS/lib/python3.9/site-packages/urllib3/__init__.py:35: NotOpenSSLWarning: urllib3 v2 only supports OpenSSL 1.1.1+, currently the 'ssl' module is compiled with 'LibreSSL 2.8.3'. See: https://github.com/urllib3/urllib3/issues/3020\n",
      "  warnings.warn(\n",
      "/Users/binitkc/ADS_FiNAL/ADS/lib/python3.9/site-packages/urllib3/__init__.py:35: NotOpenSSLWarning: urllib3 v2 only supports OpenSSL 1.1.1+, currently the 'ssl' module is compiled with 'LibreSSL 2.8.3'. See: https://github.com/urllib3/urllib3/issues/3020\n",
      "  warnings.warn(\n",
      "/Users/binitkc/ADS_FiNAL/ADS/lib/python3.9/site-packages/urllib3/__init__.py:35: NotOpenSSLWarning: urllib3 v2 only supports OpenSSL 1.1.1+, currently the 'ssl' module is compiled with 'LibreSSL 2.8.3'. See: https://github.com/urllib3/urllib3/issues/3020\n",
      "  warnings.warn(\n",
      "/Users/binitkc/ADS_FiNAL/ADS/lib/python3.9/site-packages/urllib3/__init__.py:35: NotOpenSSLWarning: urllib3 v2 only supports OpenSSL 1.1.1+, currently the 'ssl' module is compiled with 'LibreSSL 2.8.3'. See: https://github.com/urllib3/urllib3/issues/3020\n",
      "  warnings.warn(\n",
      "/Users/binitkc/ADS_FiNAL/ADS/lib/python3.9/site-packages/urllib3/__init__.py:35: NotOpenSSLWarning: urllib3 v2 only supports OpenSSL 1.1.1+, currently the 'ssl' module is compiled with 'LibreSSL 2.8.3'. See: https://github.com/urllib3/urllib3/issues/3020\n",
      "  warnings.warn(\n",
      "/Users/binitkc/ADS_FiNAL/ADS/lib/python3.9/site-packages/urllib3/__init__.py:35: NotOpenSSLWarning: urllib3 v2 only supports OpenSSL 1.1.1+, currently the 'ssl' module is compiled with 'LibreSSL 2.8.3'. See: https://github.com/urllib3/urllib3/issues/3020\n",
      "  warnings.warn(\n",
      "/Users/binitkc/ADS_FiNAL/ADS/lib/python3.9/site-packages/urllib3/__init__.py:35: NotOpenSSLWarning: urllib3 v2 only supports OpenSSL 1.1.1+, currently the 'ssl' module is compiled with 'LibreSSL 2.8.3'. See: https://github.com/urllib3/urllib3/issues/3020\n",
      "  warnings.warn(\n",
      "/Users/binitkc/ADS_FiNAL/ADS/lib/python3.9/site-packages/urllib3/__init__.py:35: NotOpenSSLWarning: urllib3 v2 only supports OpenSSL 1.1.1+, currently the 'ssl' module is compiled with 'LibreSSL 2.8.3'. See: https://github.com/urllib3/urllib3/issues/3020\n",
      "  warnings.warn(\n",
      "/Users/binitkc/ADS_FiNAL/ADS/lib/python3.9/site-packages/urllib3/__init__.py:35: NotOpenSSLWarning: urllib3 v2 only supports OpenSSL 1.1.1+, currently the 'ssl' module is compiled with 'LibreSSL 2.8.3'. See: https://github.com/urllib3/urllib3/issues/3020\n",
      "  warnings.warn(\n",
      "/Users/binitkc/ADS_FiNAL/ADS/lib/python3.9/site-packages/urllib3/__init__.py:35: NotOpenSSLWarning: urllib3 v2 only supports OpenSSL 1.1.1+, currently the 'ssl' module is compiled with 'LibreSSL 2.8.3'. See: https://github.com/urllib3/urllib3/issues/3020\n",
      "  warnings.warn(\n",
      "/Users/binitkc/ADS_FiNAL/ADS/lib/python3.9/site-packages/urllib3/__init__.py:35: NotOpenSSLWarning: urllib3 v2 only supports OpenSSL 1.1.1+, currently the 'ssl' module is compiled with 'LibreSSL 2.8.3'. See: https://github.com/urllib3/urllib3/issues/3020\n",
      "  warnings.warn(\n",
      "/Users/binitkc/ADS_FiNAL/ADS/lib/python3.9/site-packages/urllib3/__init__.py:35: NotOpenSSLWarning: urllib3 v2 only supports OpenSSL 1.1.1+, currently the 'ssl' module is compiled with 'LibreSSL 2.8.3'. See: https://github.com/urllib3/urllib3/issues/3020\n",
      "  warnings.warn(\n",
      "/Users/binitkc/ADS_FiNAL/ADS/lib/python3.9/site-packages/urllib3/__init__.py:35: NotOpenSSLWarning: urllib3 v2 only supports OpenSSL 1.1.1+, currently the 'ssl' module is compiled with 'LibreSSL 2.8.3'. See: https://github.com/urllib3/urllib3/issues/3020\n",
      "  warnings.warn(\n",
      "/Users/binitkc/ADS_FiNAL/ADS/lib/python3.9/site-packages/urllib3/__init__.py:35: NotOpenSSLWarning: urllib3 v2 only supports OpenSSL 1.1.1+, currently the 'ssl' module is compiled with 'LibreSSL 2.8.3'. See: https://github.com/urllib3/urllib3/issues/3020\n",
      "  warnings.warn(\n",
      "/Users/binitkc/ADS_FiNAL/ADS/lib/python3.9/site-packages/urllib3/__init__.py:35: NotOpenSSLWarning: urllib3 v2 only supports OpenSSL 1.1.1+, currently the 'ssl' module is compiled with 'LibreSSL 2.8.3'. See: https://github.com/urllib3/urllib3/issues/3020\n",
      "  warnings.warn(\n",
      "/Users/binitkc/ADS_FiNAL/ADS/lib/python3.9/site-packages/urllib3/__init__.py:35: NotOpenSSLWarning: urllib3 v2 only supports OpenSSL 1.1.1+, currently the 'ssl' module is compiled with 'LibreSSL 2.8.3'. See: https://github.com/urllib3/urllib3/issues/3020\n",
      "  warnings.warn(\n",
      "/Users/binitkc/ADS_FiNAL/ADS/lib/python3.9/site-packages/urllib3/__init__.py:35: NotOpenSSLWarning: urllib3 v2 only supports OpenSSL 1.1.1+, currently the 'ssl' module is compiled with 'LibreSSL 2.8.3'. See: https://github.com/urllib3/urllib3/issues/3020\n",
      "  warnings.warn(\n",
      "/Users/binitkc/ADS_FiNAL/ADS/lib/python3.9/site-packages/urllib3/__init__.py:35: NotOpenSSLWarning: urllib3 v2 only supports OpenSSL 1.1.1+, currently the 'ssl' module is compiled with 'LibreSSL 2.8.3'. See: https://github.com/urllib3/urllib3/issues/3020\n",
      "  warnings.warn(\n",
      "/Users/binitkc/ADS_FiNAL/ADS/lib/python3.9/site-packages/urllib3/__init__.py:35: NotOpenSSLWarning: urllib3 v2 only supports OpenSSL 1.1.1+, currently the 'ssl' module is compiled with 'LibreSSL 2.8.3'. See: https://github.com/urllib3/urllib3/issues/3020\n",
      "  warnings.warn(\n",
      "/Users/binitkc/ADS_FiNAL/ADS/lib/python3.9/site-packages/urllib3/__init__.py:35: NotOpenSSLWarning: urllib3 v2 only supports OpenSSL 1.1.1+, currently the 'ssl' module is compiled with 'LibreSSL 2.8.3'. See: https://github.com/urllib3/urllib3/issues/3020\n",
      "  warnings.warn(\n",
      "/Users/binitkc/ADS_FiNAL/ADS/lib/python3.9/site-packages/urllib3/__init__.py:35: NotOpenSSLWarning: urllib3 v2 only supports OpenSSL 1.1.1+, currently the 'ssl' module is compiled with 'LibreSSL 2.8.3'. See: https://github.com/urllib3/urllib3/issues/3020\n",
      "  warnings.warn(\n",
      "/Users/binitkc/ADS_FiNAL/ADS/lib/python3.9/site-packages/urllib3/__init__.py:35: NotOpenSSLWarning: urllib3 v2 only supports OpenSSL 1.1.1+, currently the 'ssl' module is compiled with 'LibreSSL 2.8.3'. See: https://github.com/urllib3/urllib3/issues/3020\n",
      "  warnings.warn(\n",
      "/Users/binitkc/ADS_FiNAL/ADS/lib/python3.9/site-packages/urllib3/__init__.py:35: NotOpenSSLWarning: urllib3 v2 only supports OpenSSL 1.1.1+, currently the 'ssl' module is compiled with 'LibreSSL 2.8.3'. See: https://github.com/urllib3/urllib3/issues/3020\n",
      "  warnings.warn(\n",
      "/Users/binitkc/ADS_FiNAL/ADS/lib/python3.9/site-packages/urllib3/__init__.py:35: NotOpenSSLWarning: urllib3 v2 only supports OpenSSL 1.1.1+, currently the 'ssl' module is compiled with 'LibreSSL 2.8.3'. See: https://github.com/urllib3/urllib3/issues/3020\n",
      "  warnings.warn(\n",
      "/Users/binitkc/ADS_FiNAL/ADS/lib/python3.9/site-packages/urllib3/__init__.py:35: NotOpenSSLWarning: urllib3 v2 only supports OpenSSL 1.1.1+, currently the 'ssl' module is compiled with 'LibreSSL 2.8.3'. See: https://github.com/urllib3/urllib3/issues/3020\n",
      "  warnings.warn(\n",
      "/Users/binitkc/ADS_FiNAL/ADS/lib/python3.9/site-packages/urllib3/__init__.py:35: NotOpenSSLWarning: urllib3 v2 only supports OpenSSL 1.1.1+, currently the 'ssl' module is compiled with 'LibreSSL 2.8.3'. See: https://github.com/urllib3/urllib3/issues/3020\n",
      "  warnings.warn(\n",
      "/Users/binitkc/ADS_FiNAL/ADS/lib/python3.9/site-packages/urllib3/__init__.py:35: NotOpenSSLWarning: urllib3 v2 only supports OpenSSL 1.1.1+, currently the 'ssl' module is compiled with 'LibreSSL 2.8.3'. See: https://github.com/urllib3/urllib3/issues/3020\n",
      "  warnings.warn(\n",
      "/Users/binitkc/ADS_FiNAL/ADS/lib/python3.9/site-packages/urllib3/__init__.py:35: NotOpenSSLWarning: urllib3 v2 only supports OpenSSL 1.1.1+, currently the 'ssl' module is compiled with 'LibreSSL 2.8.3'. See: https://github.com/urllib3/urllib3/issues/3020\n",
      "  warnings.warn(\n",
      "/Users/binitkc/ADS_FiNAL/ADS/lib/python3.9/site-packages/urllib3/__init__.py:35: NotOpenSSLWarning: urllib3 v2 only supports OpenSSL 1.1.1+, currently the 'ssl' module is compiled with 'LibreSSL 2.8.3'. See: https://github.com/urllib3/urllib3/issues/3020\n",
      "  warnings.warn(\n",
      "/Users/binitkc/ADS_FiNAL/ADS/lib/python3.9/site-packages/urllib3/__init__.py:35: NotOpenSSLWarning: urllib3 v2 only supports OpenSSL 1.1.1+, currently the 'ssl' module is compiled with 'LibreSSL 2.8.3'. See: https://github.com/urllib3/urllib3/issues/3020\n",
      "  warnings.warn(\n",
      "/Users/binitkc/ADS_FiNAL/ADS/lib/python3.9/site-packages/urllib3/__init__.py:35: NotOpenSSLWarning: urllib3 v2 only supports OpenSSL 1.1.1+, currently the 'ssl' module is compiled with 'LibreSSL 2.8.3'. See: https://github.com/urllib3/urllib3/issues/3020\n",
      "  warnings.warn(\n",
      "/Users/binitkc/ADS_FiNAL/ADS/lib/python3.9/site-packages/urllib3/__init__.py:35: NotOpenSSLWarning: urllib3 v2 only supports OpenSSL 1.1.1+, currently the 'ssl' module is compiled with 'LibreSSL 2.8.3'. See: https://github.com/urllib3/urllib3/issues/3020\n",
      "  warnings.warn(\n",
      "/Users/binitkc/ADS_FiNAL/ADS/lib/python3.9/site-packages/urllib3/__init__.py:35: NotOpenSSLWarning: urllib3 v2 only supports OpenSSL 1.1.1+, currently the 'ssl' module is compiled with 'LibreSSL 2.8.3'. See: https://github.com/urllib3/urllib3/issues/3020\n",
      "  warnings.warn(\n",
      "/Users/binitkc/ADS_FiNAL/ADS/lib/python3.9/site-packages/urllib3/__init__.py:35: NotOpenSSLWarning: urllib3 v2 only supports OpenSSL 1.1.1+, currently the 'ssl' module is compiled with 'LibreSSL 2.8.3'. See: https://github.com/urllib3/urllib3/issues/3020\n",
      "  warnings.warn(\n",
      "/Users/binitkc/ADS_FiNAL/ADS/lib/python3.9/site-packages/urllib3/__init__.py:35: NotOpenSSLWarning: urllib3 v2 only supports OpenSSL 1.1.1+, currently the 'ssl' module is compiled with 'LibreSSL 2.8.3'. See: https://github.com/urllib3/urllib3/issues/3020\n",
      "  warnings.warn(\n",
      "/Users/binitkc/ADS_FiNAL/ADS/lib/python3.9/site-packages/urllib3/__init__.py:35: NotOpenSSLWarning: urllib3 v2 only supports OpenSSL 1.1.1+, currently the 'ssl' module is compiled with 'LibreSSL 2.8.3'. See: https://github.com/urllib3/urllib3/issues/3020\n",
      "  warnings.warn(\n",
      "/Users/binitkc/ADS_FiNAL/ADS/lib/python3.9/site-packages/urllib3/__init__.py:35: NotOpenSSLWarning: urllib3 v2 only supports OpenSSL 1.1.1+, currently the 'ssl' module is compiled with 'LibreSSL 2.8.3'. See: https://github.com/urllib3/urllib3/issues/3020\n",
      "  warnings.warn(\n",
      "/Users/binitkc/ADS_FiNAL/ADS/lib/python3.9/site-packages/urllib3/__init__.py:35: NotOpenSSLWarning: urllib3 v2 only supports OpenSSL 1.1.1+, currently the 'ssl' module is compiled with 'LibreSSL 2.8.3'. See: https://github.com/urllib3/urllib3/issues/3020\n",
      "  warnings.warn(\n",
      "/Users/binitkc/ADS_FiNAL/ADS/lib/python3.9/site-packages/urllib3/__init__.py:35: NotOpenSSLWarning: urllib3 v2 only supports OpenSSL 1.1.1+, currently the 'ssl' module is compiled with 'LibreSSL 2.8.3'. See: https://github.com/urllib3/urllib3/issues/3020\n",
      "  warnings.warn(\n",
      "/Users/binitkc/ADS_FiNAL/ADS/lib/python3.9/site-packages/urllib3/__init__.py:35: NotOpenSSLWarning: urllib3 v2 only supports OpenSSL 1.1.1+, currently the 'ssl' module is compiled with 'LibreSSL 2.8.3'. See: https://github.com/urllib3/urllib3/issues/3020\n",
      "  warnings.warn(\n",
      "/Users/binitkc/ADS_FiNAL/ADS/lib/python3.9/site-packages/urllib3/__init__.py:35: NotOpenSSLWarning: urllib3 v2 only supports OpenSSL 1.1.1+, currently the 'ssl' module is compiled with 'LibreSSL 2.8.3'. See: https://github.com/urllib3/urllib3/issues/3020\n",
      "  warnings.warn(\n",
      "/Users/binitkc/ADS_FiNAL/ADS/lib/python3.9/site-packages/urllib3/__init__.py:35: NotOpenSSLWarning: urllib3 v2 only supports OpenSSL 1.1.1+, currently the 'ssl' module is compiled with 'LibreSSL 2.8.3'. See: https://github.com/urllib3/urllib3/issues/3020\n",
      "  warnings.warn(\n",
      "/Users/binitkc/ADS_FiNAL/ADS/lib/python3.9/site-packages/urllib3/__init__.py:35: NotOpenSSLWarning: urllib3 v2 only supports OpenSSL 1.1.1+, currently the 'ssl' module is compiled with 'LibreSSL 2.8.3'. See: https://github.com/urllib3/urllib3/issues/3020\n",
      "  warnings.warn(\n",
      "/Users/binitkc/ADS_FiNAL/ADS/lib/python3.9/site-packages/urllib3/__init__.py:35: NotOpenSSLWarning: urllib3 v2 only supports OpenSSL 1.1.1+, currently the 'ssl' module is compiled with 'LibreSSL 2.8.3'. See: https://github.com/urllib3/urllib3/issues/3020\n",
      "  warnings.warn(\n",
      "/Users/binitkc/ADS_FiNAL/ADS/lib/python3.9/site-packages/urllib3/__init__.py:35: NotOpenSSLWarning: urllib3 v2 only supports OpenSSL 1.1.1+, currently the 'ssl' module is compiled with 'LibreSSL 2.8.3'. See: https://github.com/urllib3/urllib3/issues/3020\n",
      "  warnings.warn(\n",
      "/Users/binitkc/ADS_FiNAL/ADS/lib/python3.9/site-packages/urllib3/__init__.py:35: NotOpenSSLWarning: urllib3 v2 only supports OpenSSL 1.1.1+, currently the 'ssl' module is compiled with 'LibreSSL 2.8.3'. See: https://github.com/urllib3/urllib3/issues/3020\n",
      "  warnings.warn(\n",
      "/Users/binitkc/ADS_FiNAL/ADS/lib/python3.9/site-packages/urllib3/__init__.py:35: NotOpenSSLWarning: urllib3 v2 only supports OpenSSL 1.1.1+, currently the 'ssl' module is compiled with 'LibreSSL 2.8.3'. See: https://github.com/urllib3/urllib3/issues/3020\n",
      "  warnings.warn(\n",
      "/Users/binitkc/ADS_FiNAL/ADS/lib/python3.9/site-packages/urllib3/__init__.py:35: NotOpenSSLWarning: urllib3 v2 only supports OpenSSL 1.1.1+, currently the 'ssl' module is compiled with 'LibreSSL 2.8.3'. See: https://github.com/urllib3/urllib3/issues/3020\n",
      "  warnings.warn(\n",
      "/Users/binitkc/ADS_FiNAL/ADS/lib/python3.9/site-packages/urllib3/__init__.py:35: NotOpenSSLWarning: urllib3 v2 only supports OpenSSL 1.1.1+, currently the 'ssl' module is compiled with 'LibreSSL 2.8.3'. See: https://github.com/urllib3/urllib3/issues/3020\n",
      "  warnings.warn(\n",
      "/Users/binitkc/ADS_FiNAL/ADS/lib/python3.9/site-packages/urllib3/__init__.py:35: NotOpenSSLWarning: urllib3 v2 only supports OpenSSL 1.1.1+, currently the 'ssl' module is compiled with 'LibreSSL 2.8.3'. See: https://github.com/urllib3/urllib3/issues/3020\n",
      "  warnings.warn(\n",
      "/Users/binitkc/ADS_FiNAL/ADS/lib/python3.9/site-packages/urllib3/__init__.py:35: NotOpenSSLWarning: urllib3 v2 only supports OpenSSL 1.1.1+, currently the 'ssl' module is compiled with 'LibreSSL 2.8.3'. See: https://github.com/urllib3/urllib3/issues/3020\n",
      "  warnings.warn(\n",
      "/Users/binitkc/ADS_FiNAL/ADS/lib/python3.9/site-packages/urllib3/__init__.py:35: NotOpenSSLWarning: urllib3 v2 only supports OpenSSL 1.1.1+, currently the 'ssl' module is compiled with 'LibreSSL 2.8.3'. See: https://github.com/urllib3/urllib3/issues/3020\n",
      "  warnings.warn(\n",
      "/Users/binitkc/ADS_FiNAL/ADS/lib/python3.9/site-packages/urllib3/__init__.py:35: NotOpenSSLWarning: urllib3 v2 only supports OpenSSL 1.1.1+, currently the 'ssl' module is compiled with 'LibreSSL 2.8.3'. See: https://github.com/urllib3/urllib3/issues/3020\n",
      "  warnings.warn(\n",
      "/Users/binitkc/ADS_FiNAL/ADS/lib/python3.9/site-packages/urllib3/__init__.py:35: NotOpenSSLWarning: urllib3 v2 only supports OpenSSL 1.1.1+, currently the 'ssl' module is compiled with 'LibreSSL 2.8.3'. See: https://github.com/urllib3/urllib3/issues/3020\n",
      "  warnings.warn(\n",
      "/Users/binitkc/ADS_FiNAL/ADS/lib/python3.9/site-packages/urllib3/__init__.py:35: NotOpenSSLWarning: urllib3 v2 only supports OpenSSL 1.1.1+, currently the 'ssl' module is compiled with 'LibreSSL 2.8.3'. See: https://github.com/urllib3/urllib3/issues/3020\n",
      "  warnings.warn(\n",
      "/Users/binitkc/ADS_FiNAL/ADS/lib/python3.9/site-packages/urllib3/__init__.py:35: NotOpenSSLWarning: urllib3 v2 only supports OpenSSL 1.1.1+, currently the 'ssl' module is compiled with 'LibreSSL 2.8.3'. See: https://github.com/urllib3/urllib3/issues/3020\n",
      "  warnings.warn(\n",
      "/Users/binitkc/ADS_FiNAL/ADS/lib/python3.9/site-packages/urllib3/__init__.py:35: NotOpenSSLWarning: urllib3 v2 only supports OpenSSL 1.1.1+, currently the 'ssl' module is compiled with 'LibreSSL 2.8.3'. See: https://github.com/urllib3/urllib3/issues/3020\n",
      "  warnings.warn(\n",
      "/Users/binitkc/ADS_FiNAL/ADS/lib/python3.9/site-packages/urllib3/__init__.py:35: NotOpenSSLWarning: urllib3 v2 only supports OpenSSL 1.1.1+, currently the 'ssl' module is compiled with 'LibreSSL 2.8.3'. See: https://github.com/urllib3/urllib3/issues/3020\n",
      "  warnings.warn(\n",
      "/Users/binitkc/ADS_FiNAL/ADS/lib/python3.9/site-packages/urllib3/__init__.py:35: NotOpenSSLWarning: urllib3 v2 only supports OpenSSL 1.1.1+, currently the 'ssl' module is compiled with 'LibreSSL 2.8.3'. See: https://github.com/urllib3/urllib3/issues/3020\n",
      "  warnings.warn(\n",
      "/Users/binitkc/ADS_FiNAL/ADS/lib/python3.9/site-packages/urllib3/__init__.py:35: NotOpenSSLWarning: urllib3 v2 only supports OpenSSL 1.1.1+, currently the 'ssl' module is compiled with 'LibreSSL 2.8.3'. See: https://github.com/urllib3/urllib3/issues/3020\n",
      "  warnings.warn(\n",
      "/Users/binitkc/ADS_FiNAL/ADS/lib/python3.9/site-packages/urllib3/__init__.py:35: NotOpenSSLWarning: urllib3 v2 only supports OpenSSL 1.1.1+, currently the 'ssl' module is compiled with 'LibreSSL 2.8.3'. See: https://github.com/urllib3/urllib3/issues/3020\n",
      "  warnings.warn(\n",
      "/Users/binitkc/ADS_FiNAL/ADS/lib/python3.9/site-packages/urllib3/__init__.py:35: NotOpenSSLWarning: urllib3 v2 only supports OpenSSL 1.1.1+, currently the 'ssl' module is compiled with 'LibreSSL 2.8.3'. See: https://github.com/urllib3/urllib3/issues/3020\n",
      "  warnings.warn(\n",
      "/Users/binitkc/ADS_FiNAL/ADS/lib/python3.9/site-packages/urllib3/__init__.py:35: NotOpenSSLWarning: urllib3 v2 only supports OpenSSL 1.1.1+, currently the 'ssl' module is compiled with 'LibreSSL 2.8.3'. See: https://github.com/urllib3/urllib3/issues/3020\n",
      "  warnings.warn(\n",
      "/Users/binitkc/ADS_FiNAL/ADS/lib/python3.9/site-packages/urllib3/__init__.py:35: NotOpenSSLWarning: urllib3 v2 only supports OpenSSL 1.1.1+, currently the 'ssl' module is compiled with 'LibreSSL 2.8.3'. See: https://github.com/urllib3/urllib3/issues/3020\n",
      "  warnings.warn(\n",
      "/Users/binitkc/ADS_FiNAL/ADS/lib/python3.9/site-packages/urllib3/__init__.py:35: NotOpenSSLWarning: urllib3 v2 only supports OpenSSL 1.1.1+, currently the 'ssl' module is compiled with 'LibreSSL 2.8.3'. See: https://github.com/urllib3/urllib3/issues/3020\n",
      "  warnings.warn(\n",
      "/Users/binitkc/ADS_FiNAL/ADS/lib/python3.9/site-packages/urllib3/__init__.py:35: NotOpenSSLWarning: urllib3 v2 only supports OpenSSL 1.1.1+, currently the 'ssl' module is compiled with 'LibreSSL 2.8.3'. See: https://github.com/urllib3/urllib3/issues/3020\n",
      "  warnings.warn(\n",
      "/Users/binitkc/ADS_FiNAL/ADS/lib/python3.9/site-packages/urllib3/__init__.py:35: NotOpenSSLWarning: urllib3 v2 only supports OpenSSL 1.1.1+, currently the 'ssl' module is compiled with 'LibreSSL 2.8.3'. See: https://github.com/urllib3/urllib3/issues/3020\n",
      "  warnings.warn(\n",
      "/Users/binitkc/ADS_FiNAL/ADS/lib/python3.9/site-packages/urllib3/__init__.py:35: NotOpenSSLWarning: urllib3 v2 only supports OpenSSL 1.1.1+, currently the 'ssl' module is compiled with 'LibreSSL 2.8.3'. See: https://github.com/urllib3/urllib3/issues/3020\n",
      "  warnings.warn(\n",
      "/Users/binitkc/ADS_FiNAL/ADS/lib/python3.9/site-packages/urllib3/__init__.py:35: NotOpenSSLWarning: urllib3 v2 only supports OpenSSL 1.1.1+, currently the 'ssl' module is compiled with 'LibreSSL 2.8.3'. See: https://github.com/urllib3/urllib3/issues/3020\n",
      "  warnings.warn(\n",
      "/Users/binitkc/ADS_FiNAL/ADS/lib/python3.9/site-packages/urllib3/__init__.py:35: NotOpenSSLWarning: urllib3 v2 only supports OpenSSL 1.1.1+, currently the 'ssl' module is compiled with 'LibreSSL 2.8.3'. See: https://github.com/urllib3/urllib3/issues/3020\n",
      "  warnings.warn(\n",
      "/Users/binitkc/ADS_FiNAL/ADS/lib/python3.9/site-packages/urllib3/__init__.py:35: NotOpenSSLWarning: urllib3 v2 only supports OpenSSL 1.1.1+, currently the 'ssl' module is compiled with 'LibreSSL 2.8.3'. See: https://github.com/urllib3/urllib3/issues/3020\n",
      "  warnings.warn(\n",
      "/Users/binitkc/ADS_FiNAL/ADS/lib/python3.9/site-packages/urllib3/__init__.py:35: NotOpenSSLWarning: urllib3 v2 only supports OpenSSL 1.1.1+, currently the 'ssl' module is compiled with 'LibreSSL 2.8.3'. See: https://github.com/urllib3/urllib3/issues/3020\n",
      "  warnings.warn(\n",
      "/Users/binitkc/ADS_FiNAL/ADS/lib/python3.9/site-packages/urllib3/__init__.py:35: NotOpenSSLWarning: urllib3 v2 only supports OpenSSL 1.1.1+, currently the 'ssl' module is compiled with 'LibreSSL 2.8.3'. See: https://github.com/urllib3/urllib3/issues/3020\n",
      "  warnings.warn(\n",
      "/Users/binitkc/ADS_FiNAL/ADS/lib/python3.9/site-packages/urllib3/__init__.py:35: NotOpenSSLWarning: urllib3 v2 only supports OpenSSL 1.1.1+, currently the 'ssl' module is compiled with 'LibreSSL 2.8.3'. See: https://github.com/urllib3/urllib3/issues/3020\n",
      "  warnings.warn(\n",
      "/Users/binitkc/ADS_FiNAL/ADS/lib/python3.9/site-packages/urllib3/__init__.py:35: NotOpenSSLWarning: urllib3 v2 only supports OpenSSL 1.1.1+, currently the 'ssl' module is compiled with 'LibreSSL 2.8.3'. See: https://github.com/urllib3/urllib3/issues/3020\n",
      "  warnings.warn(\n",
      "/Users/binitkc/ADS_FiNAL/ADS/lib/python3.9/site-packages/urllib3/__init__.py:35: NotOpenSSLWarning: urllib3 v2 only supports OpenSSL 1.1.1+, currently the 'ssl' module is compiled with 'LibreSSL 2.8.3'. See: https://github.com/urllib3/urllib3/issues/3020\n",
      "  warnings.warn(\n",
      "/Users/binitkc/ADS_FiNAL/ADS/lib/python3.9/site-packages/urllib3/__init__.py:35: NotOpenSSLWarning: urllib3 v2 only supports OpenSSL 1.1.1+, currently the 'ssl' module is compiled with 'LibreSSL 2.8.3'. See: https://github.com/urllib3/urllib3/issues/3020\n",
      "  warnings.warn(\n",
      "/Users/binitkc/ADS_FiNAL/ADS/lib/python3.9/site-packages/urllib3/__init__.py:35: NotOpenSSLWarning: urllib3 v2 only supports OpenSSL 1.1.1+, currently the 'ssl' module is compiled with 'LibreSSL 2.8.3'. See: https://github.com/urllib3/urllib3/issues/3020\n",
      "  warnings.warn(\n",
      "/Users/binitkc/ADS_FiNAL/ADS/lib/python3.9/site-packages/urllib3/__init__.py:35: NotOpenSSLWarning: urllib3 v2 only supports OpenSSL 1.1.1+, currently the 'ssl' module is compiled with 'LibreSSL 2.8.3'. See: https://github.com/urllib3/urllib3/issues/3020\n",
      "  warnings.warn(\n",
      "/Users/binitkc/ADS_FiNAL/ADS/lib/python3.9/site-packages/urllib3/__init__.py:35: NotOpenSSLWarning: urllib3 v2 only supports OpenSSL 1.1.1+, currently the 'ssl' module is compiled with 'LibreSSL 2.8.3'. See: https://github.com/urllib3/urllib3/issues/3020\n",
      "  warnings.warn(\n",
      "/Users/binitkc/ADS_FiNAL/ADS/lib/python3.9/site-packages/urllib3/__init__.py:35: NotOpenSSLWarning: urllib3 v2 only supports OpenSSL 1.1.1+, currently the 'ssl' module is compiled with 'LibreSSL 2.8.3'. See: https://github.com/urllib3/urllib3/issues/3020\n",
      "  warnings.warn(\n",
      "/Users/binitkc/ADS_FiNAL/ADS/lib/python3.9/site-packages/urllib3/__init__.py:35: NotOpenSSLWarning: urllib3 v2 only supports OpenSSL 1.1.1+, currently the 'ssl' module is compiled with 'LibreSSL 2.8.3'. See: https://github.com/urllib3/urllib3/issues/3020\n",
      "  warnings.warn(\n",
      "/Users/binitkc/ADS_FiNAL/ADS/lib/python3.9/site-packages/urllib3/__init__.py:35: NotOpenSSLWarning: urllib3 v2 only supports OpenSSL 1.1.1+, currently the 'ssl' module is compiled with 'LibreSSL 2.8.3'. See: https://github.com/urllib3/urllib3/issues/3020\n",
      "  warnings.warn(\n",
      "/Users/binitkc/ADS_FiNAL/ADS/lib/python3.9/site-packages/urllib3/__init__.py:35: NotOpenSSLWarning: urllib3 v2 only supports OpenSSL 1.1.1+, currently the 'ssl' module is compiled with 'LibreSSL 2.8.3'. See: https://github.com/urllib3/urllib3/issues/3020\n",
      "  warnings.warn(\n",
      "/Users/binitkc/ADS_FiNAL/ADS/lib/python3.9/site-packages/urllib3/__init__.py:35: NotOpenSSLWarning: urllib3 v2 only supports OpenSSL 1.1.1+, currently the 'ssl' module is compiled with 'LibreSSL 2.8.3'. See: https://github.com/urllib3/urllib3/issues/3020\n",
      "  warnings.warn(\n",
      "/Users/binitkc/ADS_FiNAL/ADS/lib/python3.9/site-packages/urllib3/__init__.py:35: NotOpenSSLWarning: urllib3 v2 only supports OpenSSL 1.1.1+, currently the 'ssl' module is compiled with 'LibreSSL 2.8.3'. See: https://github.com/urllib3/urllib3/issues/3020\n",
      "  warnings.warn(\n",
      "/Users/binitkc/ADS_FiNAL/ADS/lib/python3.9/site-packages/urllib3/__init__.py:35: NotOpenSSLWarning: urllib3 v2 only supports OpenSSL 1.1.1+, currently the 'ssl' module is compiled with 'LibreSSL 2.8.3'. See: https://github.com/urllib3/urllib3/issues/3020\n",
      "  warnings.warn(\n",
      "/Users/binitkc/ADS_FiNAL/ADS/lib/python3.9/site-packages/urllib3/__init__.py:35: NotOpenSSLWarning: urllib3 v2 only supports OpenSSL 1.1.1+, currently the 'ssl' module is compiled with 'LibreSSL 2.8.3'. See: https://github.com/urllib3/urllib3/issues/3020\n",
      "  warnings.warn(\n",
      "/Users/binitkc/ADS_FiNAL/ADS/lib/python3.9/site-packages/urllib3/__init__.py:35: NotOpenSSLWarning: urllib3 v2 only supports OpenSSL 1.1.1+, currently the 'ssl' module is compiled with 'LibreSSL 2.8.3'. See: https://github.com/urllib3/urllib3/issues/3020\n",
      "  warnings.warn(\n",
      "/Users/binitkc/ADS_FiNAL/ADS/lib/python3.9/site-packages/urllib3/__init__.py:35: NotOpenSSLWarning: urllib3 v2 only supports OpenSSL 1.1.1+, currently the 'ssl' module is compiled with 'LibreSSL 2.8.3'. See: https://github.com/urllib3/urllib3/issues/3020\n",
      "  warnings.warn(\n",
      "/Users/binitkc/ADS_FiNAL/ADS/lib/python3.9/site-packages/urllib3/__init__.py:35: NotOpenSSLWarning: urllib3 v2 only supports OpenSSL 1.1.1+, currently the 'ssl' module is compiled with 'LibreSSL 2.8.3'. See: https://github.com/urllib3/urllib3/issues/3020\n",
      "  warnings.warn(\n",
      "/Users/binitkc/ADS_FiNAL/ADS/lib/python3.9/site-packages/urllib3/__init__.py:35: NotOpenSSLWarning: urllib3 v2 only supports OpenSSL 1.1.1+, currently the 'ssl' module is compiled with 'LibreSSL 2.8.3'. See: https://github.com/urllib3/urllib3/issues/3020\n",
      "  warnings.warn(\n",
      "/Users/binitkc/ADS_FiNAL/ADS/lib/python3.9/site-packages/urllib3/__init__.py:35: NotOpenSSLWarning: urllib3 v2 only supports OpenSSL 1.1.1+, currently the 'ssl' module is compiled with 'LibreSSL 2.8.3'. See: https://github.com/urllib3/urllib3/issues/3020\n",
      "  warnings.warn(\n",
      "/Users/binitkc/ADS_FiNAL/ADS/lib/python3.9/site-packages/urllib3/__init__.py:35: NotOpenSSLWarning: urllib3 v2 only supports OpenSSL 1.1.1+, currently the 'ssl' module is compiled with 'LibreSSL 2.8.3'. See: https://github.com/urllib3/urllib3/issues/3020\n",
      "  warnings.warn(\n",
      "/Users/binitkc/ADS_FiNAL/ADS/lib/python3.9/site-packages/urllib3/__init__.py:35: NotOpenSSLWarning: urllib3 v2 only supports OpenSSL 1.1.1+, currently the 'ssl' module is compiled with 'LibreSSL 2.8.3'. See: https://github.com/urllib3/urllib3/issues/3020\n",
      "  warnings.warn(\n",
      "/Users/binitkc/ADS_FiNAL/ADS/lib/python3.9/site-packages/urllib3/__init__.py:35: NotOpenSSLWarning: urllib3 v2 only supports OpenSSL 1.1.1+, currently the 'ssl' module is compiled with 'LibreSSL 2.8.3'. See: https://github.com/urllib3/urllib3/issues/3020\n",
      "  warnings.warn(\n",
      "/Users/binitkc/ADS_FiNAL/ADS/lib/python3.9/site-packages/urllib3/__init__.py:35: NotOpenSSLWarning: urllib3 v2 only supports OpenSSL 1.1.1+, currently the 'ssl' module is compiled with 'LibreSSL 2.8.3'. See: https://github.com/urllib3/urllib3/issues/3020\n",
      "  warnings.warn(\n",
      "/Users/binitkc/ADS_FiNAL/ADS/lib/python3.9/site-packages/urllib3/__init__.py:35: NotOpenSSLWarning: urllib3 v2 only supports OpenSSL 1.1.1+, currently the 'ssl' module is compiled with 'LibreSSL 2.8.3'. See: https://github.com/urllib3/urllib3/issues/3020\n",
      "  warnings.warn(\n",
      "/Users/binitkc/ADS_FiNAL/ADS/lib/python3.9/site-packages/urllib3/__init__.py:35: NotOpenSSLWarning: urllib3 v2 only supports OpenSSL 1.1.1+, currently the 'ssl' module is compiled with 'LibreSSL 2.8.3'. See: https://github.com/urllib3/urllib3/issues/3020\n",
      "  warnings.warn(\n",
      "/Users/binitkc/ADS_FiNAL/ADS/lib/python3.9/site-packages/urllib3/__init__.py:35: NotOpenSSLWarning: urllib3 v2 only supports OpenSSL 1.1.1+, currently the 'ssl' module is compiled with 'LibreSSL 2.8.3'. See: https://github.com/urllib3/urllib3/issues/3020\n",
      "  warnings.warn(\n",
      "/Users/binitkc/ADS_FiNAL/ADS/lib/python3.9/site-packages/urllib3/__init__.py:35: NotOpenSSLWarning: urllib3 v2 only supports OpenSSL 1.1.1+, currently the 'ssl' module is compiled with 'LibreSSL 2.8.3'. See: https://github.com/urllib3/urllib3/issues/3020\n",
      "  warnings.warn(\n",
      "/Users/binitkc/ADS_FiNAL/ADS/lib/python3.9/site-packages/urllib3/__init__.py:35: NotOpenSSLWarning: urllib3 v2 only supports OpenSSL 1.1.1+, currently the 'ssl' module is compiled with 'LibreSSL 2.8.3'. See: https://github.com/urllib3/urllib3/issues/3020\n",
      "  warnings.warn(\n",
      "/Users/binitkc/ADS_FiNAL/ADS/lib/python3.9/site-packages/urllib3/__init__.py:35: NotOpenSSLWarning: urllib3 v2 only supports OpenSSL 1.1.1+, currently the 'ssl' module is compiled with 'LibreSSL 2.8.3'. See: https://github.com/urllib3/urllib3/issues/3020\n",
      "  warnings.warn(\n",
      "/Users/binitkc/ADS_FiNAL/ADS/lib/python3.9/site-packages/urllib3/__init__.py:35: NotOpenSSLWarning: urllib3 v2 only supports OpenSSL 1.1.1+, currently the 'ssl' module is compiled with 'LibreSSL 2.8.3'. See: https://github.com/urllib3/urllib3/issues/3020\n",
      "  warnings.warn(\n",
      "/Users/binitkc/ADS_FiNAL/ADS/lib/python3.9/site-packages/urllib3/__init__.py:35: NotOpenSSLWarning: urllib3 v2 only supports OpenSSL 1.1.1+, currently the 'ssl' module is compiled with 'LibreSSL 2.8.3'. See: https://github.com/urllib3/urllib3/issues/3020\n",
      "  warnings.warn(\n",
      "/Users/binitkc/ADS_FiNAL/ADS/lib/python3.9/site-packages/urllib3/__init__.py:35: NotOpenSSLWarning: urllib3 v2 only supports OpenSSL 1.1.1+, currently the 'ssl' module is compiled with 'LibreSSL 2.8.3'. See: https://github.com/urllib3/urllib3/issues/3020\n",
      "  warnings.warn(\n",
      "/Users/binitkc/ADS_FiNAL/ADS/lib/python3.9/site-packages/urllib3/__init__.py:35: NotOpenSSLWarning: urllib3 v2 only supports OpenSSL 1.1.1+, currently the 'ssl' module is compiled with 'LibreSSL 2.8.3'. See: https://github.com/urllib3/urllib3/issues/3020\n",
      "  warnings.warn(\n",
      "/Users/binitkc/ADS_FiNAL/ADS/lib/python3.9/site-packages/urllib3/__init__.py:35: NotOpenSSLWarning: urllib3 v2 only supports OpenSSL 1.1.1+, currently the 'ssl' module is compiled with 'LibreSSL 2.8.3'. See: https://github.com/urllib3/urllib3/issues/3020\n",
      "  warnings.warn(\n",
      "/Users/binitkc/ADS_FiNAL/ADS/lib/python3.9/site-packages/urllib3/__init__.py:35: NotOpenSSLWarning: urllib3 v2 only supports OpenSSL 1.1.1+, currently the 'ssl' module is compiled with 'LibreSSL 2.8.3'. See: https://github.com/urllib3/urllib3/issues/3020\n",
      "  warnings.warn(\n",
      "/Users/binitkc/ADS_FiNAL/ADS/lib/python3.9/site-packages/urllib3/__init__.py:35: NotOpenSSLWarning: urllib3 v2 only supports OpenSSL 1.1.1+, currently the 'ssl' module is compiled with 'LibreSSL 2.8.3'. See: https://github.com/urllib3/urllib3/issues/3020\n",
      "  warnings.warn(\n",
      "/Users/binitkc/ADS_FiNAL/ADS/lib/python3.9/site-packages/urllib3/__init__.py:35: NotOpenSSLWarning: urllib3 v2 only supports OpenSSL 1.1.1+, currently the 'ssl' module is compiled with 'LibreSSL 2.8.3'. See: https://github.com/urllib3/urllib3/issues/3020\n",
      "  warnings.warn(\n",
      "/Users/binitkc/ADS_FiNAL/ADS/lib/python3.9/site-packages/urllib3/__init__.py:35: NotOpenSSLWarning: urllib3 v2 only supports OpenSSL 1.1.1+, currently the 'ssl' module is compiled with 'LibreSSL 2.8.3'. See: https://github.com/urllib3/urllib3/issues/3020\n",
      "  warnings.warn(\n",
      "/Users/binitkc/ADS_FiNAL/ADS/lib/python3.9/site-packages/urllib3/__init__.py:35: NotOpenSSLWarning: urllib3 v2 only supports OpenSSL 1.1.1+, currently the 'ssl' module is compiled with 'LibreSSL 2.8.3'. See: https://github.com/urllib3/urllib3/issues/3020\n",
      "  warnings.warn(\n",
      "/Users/binitkc/ADS_FiNAL/ADS/lib/python3.9/site-packages/urllib3/__init__.py:35: NotOpenSSLWarning: urllib3 v2 only supports OpenSSL 1.1.1+, currently the 'ssl' module is compiled with 'LibreSSL 2.8.3'. See: https://github.com/urllib3/urllib3/issues/3020\n",
      "  warnings.warn(\n",
      "/Users/binitkc/ADS_FiNAL/ADS/lib/python3.9/site-packages/urllib3/__init__.py:35: NotOpenSSLWarning: urllib3 v2 only supports OpenSSL 1.1.1+, currently the 'ssl' module is compiled with 'LibreSSL 2.8.3'. See: https://github.com/urllib3/urllib3/issues/3020\n",
      "  warnings.warn(\n",
      "/Users/binitkc/ADS_FiNAL/ADS/lib/python3.9/site-packages/urllib3/__init__.py:35: NotOpenSSLWarning: urllib3 v2 only supports OpenSSL 1.1.1+, currently the 'ssl' module is compiled with 'LibreSSL 2.8.3'. See: https://github.com/urllib3/urllib3/issues/3020\n",
      "  warnings.warn(\n",
      "/Users/binitkc/ADS_FiNAL/ADS/lib/python3.9/site-packages/urllib3/__init__.py:35: NotOpenSSLWarning: urllib3 v2 only supports OpenSSL 1.1.1+, currently the 'ssl' module is compiled with 'LibreSSL 2.8.3'. See: https://github.com/urllib3/urllib3/issues/3020\n",
      "  warnings.warn(\n",
      "/Users/binitkc/ADS_FiNAL/ADS/lib/python3.9/site-packages/urllib3/__init__.py:35: NotOpenSSLWarning: urllib3 v2 only supports OpenSSL 1.1.1+, currently the 'ssl' module is compiled with 'LibreSSL 2.8.3'. See: https://github.com/urllib3/urllib3/issues/3020\n",
      "  warnings.warn(\n",
      "/Users/binitkc/ADS_FiNAL/ADS/lib/python3.9/site-packages/urllib3/__init__.py:35: NotOpenSSLWarning: urllib3 v2 only supports OpenSSL 1.1.1+, currently the 'ssl' module is compiled with 'LibreSSL 2.8.3'. See: https://github.com/urllib3/urllib3/issues/3020\n",
      "  warnings.warn(\n",
      "/Users/binitkc/ADS_FiNAL/ADS/lib/python3.9/site-packages/urllib3/__init__.py:35: NotOpenSSLWarning: urllib3 v2 only supports OpenSSL 1.1.1+, currently the 'ssl' module is compiled with 'LibreSSL 2.8.3'. See: https://github.com/urllib3/urllib3/issues/3020\n",
      "  warnings.warn(\n",
      "/Users/binitkc/ADS_FiNAL/ADS/lib/python3.9/site-packages/urllib3/__init__.py:35: NotOpenSSLWarning: urllib3 v2 only supports OpenSSL 1.1.1+, currently the 'ssl' module is compiled with 'LibreSSL 2.8.3'. See: https://github.com/urllib3/urllib3/issues/3020\n",
      "  warnings.warn(\n",
      "/Users/binitkc/ADS_FiNAL/ADS/lib/python3.9/site-packages/urllib3/__init__.py:35: NotOpenSSLWarning: urllib3 v2 only supports OpenSSL 1.1.1+, currently the 'ssl' module is compiled with 'LibreSSL 2.8.3'. See: https://github.com/urllib3/urllib3/issues/3020\n",
      "  warnings.warn(\n",
      "/Users/binitkc/ADS_FiNAL/ADS/lib/python3.9/site-packages/urllib3/__init__.py:35: NotOpenSSLWarning: urllib3 v2 only supports OpenSSL 1.1.1+, currently the 'ssl' module is compiled with 'LibreSSL 2.8.3'. See: https://github.com/urllib3/urllib3/issues/3020\n",
      "  warnings.warn(\n",
      "/Users/binitkc/ADS_FiNAL/ADS/lib/python3.9/site-packages/urllib3/__init__.py:35: NotOpenSSLWarning: urllib3 v2 only supports OpenSSL 1.1.1+, currently the 'ssl' module is compiled with 'LibreSSL 2.8.3'. See: https://github.com/urllib3/urllib3/issues/3020\n",
      "  warnings.warn(\n",
      "/Users/binitkc/ADS_FiNAL/ADS/lib/python3.9/site-packages/urllib3/__init__.py:35: NotOpenSSLWarning: urllib3 v2 only supports OpenSSL 1.1.1+, currently the 'ssl' module is compiled with 'LibreSSL 2.8.3'. See: https://github.com/urllib3/urllib3/issues/3020\n",
      "  warnings.warn(\n",
      "/Users/binitkc/ADS_FiNAL/ADS/lib/python3.9/site-packages/urllib3/__init__.py:35: NotOpenSSLWarning: urllib3 v2 only supports OpenSSL 1.1.1+, currently the 'ssl' module is compiled with 'LibreSSL 2.8.3'. See: https://github.com/urllib3/urllib3/issues/3020\n",
      "  warnings.warn(\n",
      "/Users/binitkc/ADS_FiNAL/ADS/lib/python3.9/site-packages/urllib3/__init__.py:35: NotOpenSSLWarning: urllib3 v2 only supports OpenSSL 1.1.1+, currently the 'ssl' module is compiled with 'LibreSSL 2.8.3'. See: https://github.com/urllib3/urllib3/issues/3020\n",
      "  warnings.warn(\n",
      "/Users/binitkc/ADS_FiNAL/ADS/lib/python3.9/site-packages/urllib3/__init__.py:35: NotOpenSSLWarning: urllib3 v2 only supports OpenSSL 1.1.1+, currently the 'ssl' module is compiled with 'LibreSSL 2.8.3'. See: https://github.com/urllib3/urllib3/issues/3020\n",
      "  warnings.warn(\n",
      "/Users/binitkc/ADS_FiNAL/ADS/lib/python3.9/site-packages/urllib3/__init__.py:35: NotOpenSSLWarning: urllib3 v2 only supports OpenSSL 1.1.1+, currently the 'ssl' module is compiled with 'LibreSSL 2.8.3'. See: https://github.com/urllib3/urllib3/issues/3020\n",
      "  warnings.warn(\n",
      "/Users/binitkc/ADS_FiNAL/ADS/lib/python3.9/site-packages/urllib3/__init__.py:35: NotOpenSSLWarning: urllib3 v2 only supports OpenSSL 1.1.1+, currently the 'ssl' module is compiled with 'LibreSSL 2.8.3'. See: https://github.com/urllib3/urllib3/issues/3020\n",
      "  warnings.warn(\n",
      "/Users/binitkc/ADS_FiNAL/ADS/lib/python3.9/site-packages/urllib3/__init__.py:35: NotOpenSSLWarning: urllib3 v2 only supports OpenSSL 1.1.1+, currently the 'ssl' module is compiled with 'LibreSSL 2.8.3'. See: https://github.com/urllib3/urllib3/issues/3020\n",
      "  warnings.warn(\n",
      "/Users/binitkc/ADS_FiNAL/ADS/lib/python3.9/site-packages/urllib3/__init__.py:35: NotOpenSSLWarning: urllib3 v2 only supports OpenSSL 1.1.1+, currently the 'ssl' module is compiled with 'LibreSSL 2.8.3'. See: https://github.com/urllib3/urllib3/issues/3020\n",
      "  warnings.warn(\n",
      "/Users/binitkc/ADS_FiNAL/ADS/lib/python3.9/site-packages/urllib3/__init__.py:35: NotOpenSSLWarning: urllib3 v2 only supports OpenSSL 1.1.1+, currently the 'ssl' module is compiled with 'LibreSSL 2.8.3'. See: https://github.com/urllib3/urllib3/issues/3020\n",
      "  warnings.warn(\n",
      "/Users/binitkc/ADS_FiNAL/ADS/lib/python3.9/site-packages/urllib3/__init__.py:35: NotOpenSSLWarning: urllib3 v2 only supports OpenSSL 1.1.1+, currently the 'ssl' module is compiled with 'LibreSSL 2.8.3'. See: https://github.com/urllib3/urllib3/issues/3020\n",
      "  warnings.warn(\n",
      "/Users/binitkc/ADS_FiNAL/ADS/lib/python3.9/site-packages/urllib3/__init__.py:35: NotOpenSSLWarning: urllib3 v2 only supports OpenSSL 1.1.1+, currently the 'ssl' module is compiled with 'LibreSSL 2.8.3'. See: https://github.com/urllib3/urllib3/issues/3020\n",
      "  warnings.warn(\n",
      "/Users/binitkc/ADS_FiNAL/ADS/lib/python3.9/site-packages/urllib3/__init__.py:35: NotOpenSSLWarning: urllib3 v2 only supports OpenSSL 1.1.1+, currently the 'ssl' module is compiled with 'LibreSSL 2.8.3'. See: https://github.com/urllib3/urllib3/issues/3020\n",
      "  warnings.warn(\n",
      "/Users/binitkc/ADS_FiNAL/ADS/lib/python3.9/site-packages/urllib3/__init__.py:35: NotOpenSSLWarning: urllib3 v2 only supports OpenSSL 1.1.1+, currently the 'ssl' module is compiled with 'LibreSSL 2.8.3'. See: https://github.com/urllib3/urllib3/issues/3020\n",
      "  warnings.warn(\n",
      "/Users/binitkc/ADS_FiNAL/ADS/lib/python3.9/site-packages/urllib3/__init__.py:35: NotOpenSSLWarning: urllib3 v2 only supports OpenSSL 1.1.1+, currently the 'ssl' module is compiled with 'LibreSSL 2.8.3'. See: https://github.com/urllib3/urllib3/issues/3020\n",
      "  warnings.warn(\n",
      "/Users/binitkc/ADS_FiNAL/ADS/lib/python3.9/site-packages/urllib3/__init__.py:35: NotOpenSSLWarning: urllib3 v2 only supports OpenSSL 1.1.1+, currently the 'ssl' module is compiled with 'LibreSSL 2.8.3'. See: https://github.com/urllib3/urllib3/issues/3020\n",
      "  warnings.warn(\n",
      "/Users/binitkc/ADS_FiNAL/ADS/lib/python3.9/site-packages/urllib3/__init__.py:35: NotOpenSSLWarning: urllib3 v2 only supports OpenSSL 1.1.1+, currently the 'ssl' module is compiled with 'LibreSSL 2.8.3'. See: https://github.com/urllib3/urllib3/issues/3020\n",
      "  warnings.warn(\n",
      "/Users/binitkc/ADS_FiNAL/ADS/lib/python3.9/site-packages/urllib3/__init__.py:35: NotOpenSSLWarning: urllib3 v2 only supports OpenSSL 1.1.1+, currently the 'ssl' module is compiled with 'LibreSSL 2.8.3'. See: https://github.com/urllib3/urllib3/issues/3020\n",
      "  warnings.warn(\n",
      "/Users/binitkc/ADS_FiNAL/ADS/lib/python3.9/site-packages/urllib3/__init__.py:35: NotOpenSSLWarning: urllib3 v2 only supports OpenSSL 1.1.1+, currently the 'ssl' module is compiled with 'LibreSSL 2.8.3'. See: https://github.com/urllib3/urllib3/issues/3020\n",
      "  warnings.warn(\n"
     ]
    }
   ],
   "source": [
    "# import matplotlib.pyplot as plt\n",
    "from mpl_toolkits.mplot3d import Axes3D\n",
    "from sklearn.model_selection import ParameterGrid\n",
    "# from gensim.models import LdaModel\n",
    "# from gensim.models.coherencemodel import CoherenceModel\n",
    "\n",
    "# Define a grid of hyperparameters to search over\n",
    "param_grid = {\n",
    "    'num_topics': [3, 4, 5, 6, 7, 8],\n",
    "    'passes': [10,15,20,25]\n",
    "}\n",
    "\n",
    "best_coherence_score = -1\n",
    "best_lda_model = None\n",
    "scores = []  # To store coherence scores\n",
    "topics = []  # To store number of topics\n",
    "passes_list = []  # To store passes for each model\n",
    "\n",
    "# Perform grid search\n",
    "for params in ParameterGrid(param_grid):\n",
    "    lda_model = LdaModel(corpus=corpus_gensim, id2word=dictionary, **params)\n",
    "    coherence_model = CoherenceModel(model=lda_model, texts=lemmatized_text, dictionary=dictionary, coherence='c_v')\n",
    "    coherence_score = coherence_model.get_coherence()\n",
    "    \n",
    "    # Track best model\n",
    "    if coherence_score > best_coherence_score:\n",
    "        best_coherence_score = coherence_score\n",
    "        best_lda_model = lda_model\n",
    "    \n",
    "    # Collect data for plotting\n",
    "    scores.append(coherence_score)\n",
    "    topics.append(params['num_topics'])\n",
    "    passes_list.append(params['passes'])\n"
   ]
  },
  {
   "cell_type": "code",
   "execution_count": 30,
   "id": "4d1199db-ee5f-4255-a661-11055b7cfb3e",
   "metadata": {},
   "outputs": [
    {
     "name": "stdout",
     "output_type": "stream",
     "text": [
      " LDA_news model saved successfully! \n"
     ]
    }
   ],
   "source": [
    "# After grid search is completed and best_lda_model is chosen:\n",
    "best_lda_model.save(\"Trained_models/lda_news.model\")\n",
    "\n",
    "# Optionally, print confirmation\n",
    "print(\" LDA_news model saved successfully! \")"
   ]
  },
  {
   "cell_type": "code",
   "execution_count": 31,
   "id": "741cb883-1ebe-46b8-9bfa-b1f2f9100f57",
   "metadata": {},
   "outputs": [
    {
     "name": "stdout",
     "output_type": "stream",
     "text": [
      "LDA model loaded successfully!\n"
     ]
    }
   ],
   "source": [
    "# Load the saved model\n",
    "best_lda_model = LdaModel.load(\"Trained_models/lda_news.model\")\n",
    "\n",
    "# Optionally, print to confirm successful loading\n",
    "print(\"LDA model loaded successfully!\")"
   ]
  },
  {
   "cell_type": "code",
   "execution_count": null,
   "id": "cac43076-ec45-47b6-b1b8-47c7880c24ff",
   "metadata": {},
   "outputs": [],
   "source": [
    "# Plot coherence score in 3D\n",
    "fig = plt.figure(figsize=(10, 7))\n",
    "ax = fig.add_subplot(111, projection='3d')\n",
    "ax.scatter(topics, passes_list, scores, c=scores, cmap='viridis', marker='o')\n",
    "ax.set_xlabel('Number of Topics')\n",
    "ax.set_ylabel('Passes')\n",
    "ax.set_zlabel('Coherence Score')\n",
    "ax.set_title(\"Coherence Score for Different Hyperparameter Combinations\")\n",
    "plt.show()\n",
    "\n",
    "# Print best hyperparameters and coherence score\n",
    "print(\"Best Hyperparameters:\", best_lda_model)\n",
    "print(f\"Best Coherence Score: {best_coherence_score:.4f}\")\n",
    "\n",
    "# Print topics and associated words for the best model\n",
    "for topic_id, topic_words in best_lda_model.print_topics():\n",
    "    print(f\"\\nTopic {topic_id}: {topic_words}\")"
   ]
  },
  {
   "cell_type": "code",
   "execution_count": 32,
   "id": "c4f5fbb9-2ebc-4346-92a4-b23f92e036f6",
   "metadata": {},
   "outputs": [
    {
     "data": {
      "image/png": "[encoded data removed]",
      "text/plain": [
       "<Figure size 800x600 with 1 Axes>"
      ]
     },
     "metadata": {},
     "output_type": "display_data"
    },
    {
     "name": "stdout",
     "output_type": "stream",
     "text": [
      "Best Number of Topics: 6\n",
      "Best Number of Passes: 20\n",
      "Best Coherence Score: 0.6117\n",
      "\n",
      "Topic 0: 0.058*\"mobile\" + 0.037*\"bad\" + 0.026*\"network\" + 0.025*\"phone\" + 0.025*\"call\" + 0.023*\"buy\" + 0.023*\"problem\" + 0.020*\"note\" + 0.018*\"issue\" + 0.016*\"waste\"\n",
      "\n",
      "Topic 1: 0.146*\"good\" + 0.098*\"phone\" + 0.053*\"nice\" + 0.048*\"product\" + 0.042*\"price\" + 0.041*\"best\" + 0.040*\"mobile\" + 0.029*\"awesome\" + 0.025*\"camera\" + 0.019*\"performance\"\n",
      "\n",
      "Topic 2: 0.038*\"update\" + 0.023*\"screen\" + 0.019*\"software\" + 0.018*\"option\" + 0.018*\"working\" + 0.016*\"need\" + 0.016*\"not\" + 0.016*\"can\" + 0.016*\"cast\" + 0.015*\"phone\"\n",
      "\n",
      "Topic 3: 0.100*\"battery\" + 0.037*\"charging\" + 0.030*\"heating\" + 0.030*\"phone\" + 0.022*\"fast\" + 0.021*\"problem\" + 0.021*\"issue\" + 0.020*\"charge\" + 0.020*\"hour\" + 0.019*\"heat\"\n",
      "\n",
      "Topic 4: 0.077*\"camera\" + 0.057*\"good\" + 0.035*\"quality\" + 0.027*\"phone\" + 0.020*\"battery\" + 0.016*\"note\" + 0.013*\"sound\" + 0.012*\"dual\" + 0.012*\"better\" + 0.010*\"front\"\n",
      "\n",
      "Topic 5: 0.062*\"phone\" + 0.022*\"product\" + 0.020*\"buy\" + 0.017*\"amazon\" + 0.016*\"worst\" + 0.015*\"service\" + 0.014*\"day\" + 0.014*\"time\" + 0.012*\"month\" + 0.012*\"issue\"\n"
     ]
    }
   ],
   "source": [
    "# Plot coherence score in 3D\n",
    "fig = plt.figure(figsize=(8, 6))\n",
    "ax = fig.add_subplot(111, projection='3d')\n",
    "ax.scatter(topics, passes_list, scores, c=scores, cmap='viridis', marker='o')\n",
    "ax.set_xlabel('Number of Topics')\n",
    "ax.set_ylabel('Passes')\n",
    "ax.set_zlabel('Coherence Score')\n",
    "ax.set_title(\"Coherence Score for Different Hyperparameter Combinations\")\n",
    "plt.show()\n",
    "\n",
    "# Find the best hyperparameters and coherence score\n",
    "best_index = scores.index(max(scores))  # Get the index of the best score\n",
    "best_topics = topics[best_index]\n",
    "best_passes = passes_list[best_index]\n",
    "best_coherence_score = scores[best_index]\n",
    "\n",
    "# Print best hyperparameters and coherence score\n",
    "print(\"Best Number of Topics:\", best_topics)\n",
    "print(\"Best Number of Passes:\", best_passes)\n",
    "print(f\"Best Coherence Score: {best_coherence_score:.4f}\")\n",
    "\n",
    "# Print topics and associated words for the best model\n",
    "for topic_id, topic_words in best_lda_model.print_topics():\n",
    "    print(f\"\\nTopic {topic_id}: {topic_words}\")\n"
   ]
  },
  {
   "cell_type": "code",
   "execution_count": 34,
   "id": "72680f13-adc7-429d-a2d0-93bd90815bdd",
   "metadata": {},
   "outputs": [
    {
     "name": "stdout",
     "output_type": "stream",
     "text": [
      "Topic Diversity: 0.7862\n"
     ]
    }
   ],
   "source": [
    "import numpy as np\n",
    "from sklearn.metrics.pairwise import cosine_similarity\n",
    "\n",
    "def calculate_topic_diversity(lda_model, num_topics):\n",
    "    # Get the topic-word distributions from the LDA model\n",
    "    topic_word_distributions = [lda_model.get_topics()[i] for i in range(num_topics)]\n",
    "    \n",
    "    # Calculate pairwise cosine similarities between topics\n",
    "    similarities = cosine_similarity(topic_word_distributions)\n",
    "    \n",
    "    # Set diagonal elements to zero (similarity of a topic with itself should not be counted)\n",
    "    np.fill_diagonal(similarities, 0)\n",
    "    \n",
    "    # Calculate topic diversity (1 - average cosine similarity)\n",
    "    avg_similarity = np.mean(similarities)\n",
    "    topic_diversity = 1 - avg_similarity\n",
    "    \n",
    "    return topic_diversity\n",
    "\n",
    "# Assuming 'best_lda_model' is the trained model and 'num_topics' is the number of topics\n",
    "topic_diversity = calculate_topic_diversity(best_lda_model, best_lda_model.num_topics)\n",
    "\n",
    "print(f\"Topic Diversity: {topic_diversity:.4f}\")\n"
   ]
  },
  {
   "cell_type": "code",
   "execution_count": 37,
   "id": "33e3466d-6573-4e35-9274-b80887e7f131",
   "metadata": {},
   "outputs": [],
   "source": [
    "lda_model = best_lda_model"
   ]
  },
  {
   "cell_type": "code",
   "execution_count": 38,
   "id": "aaf2190d-2a74-4e74-9ceb-6aeb6a70472f",
   "metadata": {},
   "outputs": [
    {
     "data": {
      "text/html": [
       "\n",
       "<link rel=\"stylesheet\" type=\"text/css\" href=\"https://cdn.jsdelivr.net/gh/bmabey/pyLDAvis@3.4.0/pyLDAvis/js/ldavis.v1.0.0.css\">\n",
       "\n",
       "\n",
       "<div id=\"ldavis_el93468137649937604636928691\" style=\"background-color:white;\"></div>\n",
       "<script type=\"text/javascript\">\n",
       "\n",
       "var ldavis_el93468137649937604636928691_data = {\"mdsDat\": {\"x\": [0.09324991214243346, -0.14332321449399185, -0.06190054636071766, 0.1193534960184674, -0.26275965736232937, 0.25538001005613853], \"y\": [0.07529165231876792, -0.04368047492221432, 0.29234737428445656, -0.042563358685495836, -0.1577912176474694, -0.12360397534804494], \"topics\": [1, 2, 3, 4, 5, 6], \"cluster\": [1, 1, 1, 1, 1, 1], \"Freq\": [23.35544778222123, 22.390285865211244, 17.600218838548308, 13.281042279342369, 12.952102860499318, 10.420902374177532]}, \"tinfo\": {\"Term\": [\"good\", \"battery\", \"camera\", \"mobile\", \"nice\", \"product\", \"best\", \"price\", \"charging\", \"phone\", \"bad\", \"update\", \"quality\", \"awesome\", \"heating\", \"network\", \"call\", \"buy\", \"charge\", \"fast\", \"hour\", \"heat\", \"screen\", \"drain\", \"service\", \"feature\", \"backup\", \"excellent\", \"performance\", \"great\", \"got\", \"service\", \"bluetooth\", \"replacement\", \"center\", \"care\", \"defective\", \"centre\", \"started\", \"warranty\", \"piece\", \"bought\", \"seen\", \"connected\", \"stopped\", \"connection\", \"faulty\", \"exchange\", \"returned\", \"frequently\", \"go\", \"called\", \"type\", \"friend\", \"cable\", \"replaced\", \"reason\", \"ordered\", \"damaged\", \"bed\", \"purchased\", \"customer\", \"first\", \"month\", \"ever\", \"amazon\", \"start\", \"never\", \"sale\", \"worst\", \"buy\", \"day\", \"phone\", \"used\", \"time\", \"know\", \"since\", \"product\", \"dont\", \"even\", \"get\", \"one\", \"return\", \"using\", \"charger\", \"issue\", \"device\", \"working\", \"use\", \"problem\", \"please\", \"note\", \"dual\", \"front\", \"average\", \"dolby\", \"depth\", \"rear\", \"atmos\", \"flash\", \"perfect\", \"effect\", \"sensor\", \"image\", \"cool\", \"selfie\", \"cam\", \"storage\", \"internal\", \"bokeh\", \"rest\", \"pretty\", \"fingerprint\", \"package\", \"scratch\", \"loud\", \"dedicated\", \"yes\", \"killer\", \"space\", \"honor\", \"built\", \"light\", \"picture\", \"camera\", \"sound\", \"quality\", \"look\", \"clarity\", \"mode\", \"redmi\", \"ram\", \"compared\", \"photo\", \"expected\", \"display\", \"good\", \"better\", \"processor\", \"note\", \"work\", \"battery\", \"phone\", \"great\", \"performance\", \"feature\", \"poor\", \"like\", \"back\", \"backup\", \"screen\", \"much\", \"charge\", \"hour\", \"drain\", \"heat\", \"hai\", \"draining\", \"hr\", \"quickly\", \"net\", \"nhi\", \"bhi\", \"drained\", \"warm\", \"hitting\", \"par\", \"phn\", \"stand\", \"capacity\", \"bahut\", \"aur\", \"koi\", \"standby\", \"discharge\", \"lasting\", \"useful\", \"slightly\", \"regular\", \"lagging\", \"india\", \"paisa\", \"full\", \"charging\", \"battery\", \"long\", \"turbo\", \"fast\", \"charged\", \"min\", \"heated\", \"heating\", \"take\", \"fully\", \"backup\", \"slow\", \"life\", \"usage\", \"getting\", \"hanging\", \"issue\", \"problem\", \"charger\", \"time\", \"day\", \"poor\", \"get\", \"even\", \"phone\", \"use\", \"mobile\", \"using\", \"much\", \"bad\", \"performance\", \"network\", \"jio\", \"recorder\", \"head\", \"ringtone\", \"lte\", \"player\", \"bar\", \"facility\", \"weak\", \"incoming\", \"sm\", \"bekar\", \"default\", \"especially\", \"resolve\", \"responding\", \"saying\", \"automatic\", \"iron\", \"store\", \"meet\", \"choose\", \"sell\", \"checked\", \"place\", \"reply\", \"blink\", \"beautiful\", \"insert\", \"volta\", \"sim\", \"waste\", \"bad\", \"call\", \"signal\", \"delivery\", \"box\", \"mobile\", \"app\", \"earphone\", \"class\", \"plz\", \"voice\", \"pls\", \"set\", \"support\", \"buy\", \"gallery\", \"problem\", \"return\", \"note\", \"model\", \"expectation\", \"issue\", \"money\", \"working\", \"like\", \"product\", \"phone\", \"option\", \"show\", \"heating\", \"please\", \"poor\", \"worst\", \"amazon\", \"nice\", \"best\", \"excellent\", \"amazing\", \"value\", \"superb\", \"awesome\", \"offer\", \"result\", \"liked\", \"worthy\", \"coverage\", \"satisfactory\", \"reasonable\", \"affordable\", \"phoneno\", \"solved\", \"outstanding\", \"icon\", \"fone\", \"hearing\", \"happen\", \"indian\", \"socket\", \"mobail\", \"band\", \"fabulous\", \"lovely\", \"atom\", \"unhappy\", \"worth\", \"price\", \"super\", \"thanks\", \"range\", \"budget\", \"segment\", \"loved\", \"otherwise\", \"good\", \"fantastic\", \"happy\", \"product\", \"overall\", \"great\", \"phone\", \"money\", \"mobile\", \"performance\", \"gud\", \"feature\", \"really\", \"satisfied\", \"camera\", \"heating\", \"one\", \"quality\", \"problem\", \"buy\", \"update\", \"cast\", \"system\", \"oreo\", \"function\", \"fix\", \"bug\", \"updated\", \"bill\", \"receive\", \"auto\", \"black\", \"invoice\", \"hotspot\", \"casting\", \"improvement\", \"solve\", \"sir\", \"cash\", \"shown\", \"often\", \"mirroring\", \"copy\", \"nougat\", \"operating\", \"described\", \"venom\", \"search\", \"click\", \"improved\", \"software\", \"version\", \"can\", \"not\", \"need\", \"apps\", \"option\", \"available\", \"android\", \"screen\", \"many\", \"properly\", \"handset\", \"application\", \"contact\", \"recording\", \"working\", \"new\", \"feature\", \"call\", \"support\", \"get\", \"phone\", \"device\", \"work\", \"note\", \"like\", \"back\"], \"Freq\": [3605.0, 2394.0, 2308.0, 1710.0, 743.0, 1466.0, 585.0, 659.0, 782.0, 4745.0, 710.0, 426.0, 1046.0, 406.0, 900.0, 374.0, 486.0, 953.0, 388.0, 522.0, 376.0, 370.0, 543.0, 350.0, 391.0, 591.0, 507.0, 259.0, 649.0, 415.0, 307.97410436216506, 390.3013668778445, 158.8144762511159, 121.23981852899746, 109.01089736429172, 85.04737202288486, 84.15496175252676, 83.0808074468461, 75.51229383031156, 72.75459212275224, 71.7980327152934, 231.09745605550813, 53.07233420130648, 52.08362910651999, 49.246890731150664, 49.32799577006638, 48.41262895106086, 43.709158983250525, 42.17389719526961, 42.22917722818787, 40.03627418019364, 37.84036043729483, 37.01652052135798, 36.68123104590181, 35.93466168147268, 34.96504308853698, 33.25629296996201, 33.181561951459436, 31.65198373909564, 31.593938963710876, 123.84056109511405, 149.2005569673701, 134.93953527336802, 311.68958634952645, 192.51414442157795, 443.2118880811593, 66.57808633379297, 125.33986345133602, 55.28810489947655, 408.8088907628504, 510.3758923880852, 347.257746302167, 1583.8423846674773, 136.45614319872655, 347.08160879711954, 94.51440139873691, 89.24502746703136, 562.3860498711168, 116.64679009572818, 267.72016523756093, 257.6425870853802, 291.789224917877, 163.70725847746368, 225.36433435689605, 172.18612207592355, 309.90502657766024, 160.81948052627104, 247.05876177030723, 170.97323874204127, 210.47893721095036, 134.23414368098028, 134.45303542429872, 304.6797074985004, 242.18121680214676, 200.63903753084398, 190.847577398392, 180.17763190908843, 161.61372693168042, 113.41688102955483, 104.5887332881794, 92.46882504192723, 87.9791000017348, 79.4708575625721, 70.94180323952688, 60.9556727337561, 59.00160558219201, 58.86867769922302, 44.53776388511486, 41.565519489427125, 40.31838879599585, 37.58704351870202, 36.64048915424615, 36.00826639337107, 33.08773921664065, 33.08802613996472, 31.616407774111327, 31.257213862275982, 30.393083194102857, 114.14898435628105, 29.94560780485376, 29.63222787764487, 28.733379487259313, 159.05739351876912, 125.76008380173299, 1881.6735674396239, 321.67318169440045, 847.4100949891406, 221.93436164699557, 83.22724067634233, 209.6095219675579, 119.89783689384085, 156.70549723549496, 101.77077125691642, 125.87640990345581, 111.12613066338241, 187.69793200450448, 1392.9791257169766, 293.13541289353185, 153.04225340987273, 390.7780677233334, 231.79900143121029, 484.9937785502465, 668.7118851921551, 185.76314837297784, 229.51041009203084, 210.03914561256488, 197.2883867239082, 222.42043816621953, 184.02084767952712, 180.48715683678483, 170.2858338379618, 144.7971565896068, 387.67132390883546, 375.2811276247566, 350.01771244704287, 369.3016728705399, 171.50411076775, 143.78996056269182, 109.17025559308382, 87.53082303393022, 56.511930318040505, 50.26519013115405, 45.47872779910253, 45.36780213380236, 39.4557504532544, 34.77013816139063, 33.384380183689245, 31.993361086137487, 31.569977155632266, 29.983635634026168, 29.81449375713894, 29.550511039349765, 28.84827659141031, 28.81311239179921, 27.525261264148565, 25.379805172501975, 25.235057384428597, 24.547746562957737, 23.244679276283147, 39.637996002162836, 23.027169039481244, 22.41428207300745, 247.26973890478328, 710.2471066746907, 1908.6122308789663, 104.37339160727042, 227.90285108452758, 425.84890360564094, 74.7827187510663, 63.77897493037367, 113.13086055914988, 581.2058961723938, 258.15809538043845, 74.29875378472887, 325.86679634424195, 125.2050234282442, 165.99524487295068, 117.74445178250173, 153.6003144742357, 104.0866471769877, 403.8933304440016, 407.93780069746174, 178.3304003751654, 282.5744434653676, 249.74133976569388, 223.87504848750345, 212.65276721645577, 211.6085823089718, 572.0033132572145, 182.4589770878973, 301.2466490903722, 180.80778936114058, 166.70922081841698, 176.05547071436584, 155.54982288140428, 373.4738682999361, 135.12796283044392, 47.40813129221742, 43.119145445234345, 42.7961822624622, 41.09116137787095, 36.54966834146897, 34.5314643990798, 32.82446187648549, 31.84486878684649, 31.79012435194598, 31.124358015442617, 30.745315825237302, 30.301422172289406, 27.351701767697396, 26.381061435465014, 26.398422673853958, 26.110818922932108, 24.621070317085145, 24.514412358717053, 23.40117328838274, 23.338015317300925, 23.117551349196603, 23.041816043034224, 22.59805214019367, 21.381068591174316, 20.029729648535092, 19.32069249376621, 18.68177431908474, 18.810459464507115, 109.62751031831264, 219.72028767089176, 232.66557383508388, 533.5198236151871, 362.6942159014007, 106.37924165699114, 106.56860941105785, 73.14078931463435, 835.906459234463, 135.2053006346853, 80.59015750347724, 39.552045383779706, 60.15924726330484, 60.420048349195675, 58.637140328739754, 75.7427811166151, 117.91956669781872, 337.31862680425735, 63.70660171751483, 336.5292338914516, 140.2244796441994, 286.4792589785697, 67.8141126611168, 63.314048665482616, 255.7562129899381, 150.08585177654723, 189.36455918094742, 164.37138577680028, 225.04788774075766, 366.69170549424166, 101.28724756126304, 70.95684898837807, 127.67103206391593, 85.39954575501567, 103.60949139154833, 108.45081502015626, 104.02463107265609, 742.7270065720065, 583.8360117687793, 258.44957889651994, 177.04386333839946, 167.54426468876028, 122.91824924006018, 402.3887041828368, 46.84419060540746, 38.19105547304072, 33.86200483326905, 25.432201710695455, 20.57295652156023, 19.633350629760084, 18.794290319976277, 16.083161787736024, 16.009708165466044, 16.054569466516387, 15.281084648769385, 15.34199965325065, 14.015821437366142, 13.666479605459003, 13.255372345124904, 12.724619884786351, 11.743555209384295, 11.515138732561221, 11.203424257339295, 11.01599821469876, 10.829889302091994, 11.094779517030469, 9.9984614445126, 189.41888420993084, 599.7521880902004, 134.95030029678477, 62.88883599422712, 228.48426095237429, 114.31573857159896, 23.458572327481722, 38.94441769906782, 84.12396957486031, 2066.0873957098847, 46.198887272082146, 82.73334319220807, 678.6001176459758, 145.90811225861933, 229.1228200540607, 1386.8327852219763, 213.41936968224812, 558.4389970677944, 263.53793733494774, 49.919731139205105, 225.98531935707751, 144.01711121630132, 91.70956711736221, 355.2019841754099, 182.11503910479598, 143.61374568970282, 125.98661170275676, 107.24847401316585, 90.79011668390788, 425.9558098030447, 176.46167636909794, 122.22484682557351, 104.30765370239456, 104.09942641742813, 66.30538617749528, 55.38900782742275, 50.57569546531796, 49.546426916831095, 45.93046375300282, 43.80102878778217, 41.9349744713721, 41.239751736484976, 36.49474048358721, 33.63714466677795, 30.46540975943644, 30.142660640967456, 28.49114040210032, 27.701524682805985, 26.297905024094128, 25.885670848690474, 25.414861510870747, 24.360997793514215, 23.768053517023045, 22.606210106555686, 22.497336620618505, 21.925325077894914, 21.56472727089443, 20.943534645682675, 20.447992632404617, 212.0587050885511, 66.84992284605956, 181.96665744964423, 181.96665744964423, 182.10771805476014, 135.4920748365581, 207.33643266557596, 112.77666334373839, 136.38485222964485, 263.143714380874, 134.79330866265522, 123.8349749368934, 92.05848216420527, 54.69007770335648, 67.09362154218798, 74.2363166712274, 203.24552703319543, 82.37852603845141, 154.2982269006307, 123.54111277947509, 77.83976144677172, 98.88038499930678, 167.5005835340526, 77.5664459469297, 80.17016493569149, 87.14212976875189, 73.92061740978524, 69.71567121696249], \"Total\": [3605.0, 2394.0, 2308.0, 1710.0, 743.0, 1466.0, 585.0, 659.0, 782.0, 4745.0, 710.0, 426.0, 1046.0, 406.0, 900.0, 374.0, 486.0, 953.0, 388.0, 522.0, 376.0, 370.0, 543.0, 350.0, 391.0, 591.0, 507.0, 259.0, 649.0, 415.0, 308.79465701071416, 391.82801077995305, 159.63500657406763, 122.05757335282178, 109.82917590468436, 85.86601616382764, 84.97256627060976, 83.8988475533051, 76.33262927546767, 73.57308764276422, 72.6169522504155, 233.83758635521443, 53.89390149770538, 52.90640570964153, 50.06584044513553, 50.156176369878956, 49.23072133795906, 44.528504217241014, 42.992752326031386, 43.05013918584069, 40.86064939285394, 38.66132886558514, 37.83841322035129, 37.50411941656111, 36.75451727727397, 35.78542833439091, 34.076380383746525, 34.00094291759021, 32.46920037472856, 32.412289877824676, 127.93117266963728, 161.3862648887174, 147.65516012843858, 366.3541664082461, 227.0811979010775, 627.6303176830436, 73.72646167979195, 154.7130671424514, 60.09751333239874, 645.5861773145233, 953.7880139250432, 633.268229291347, 4745.5826573671175, 198.2117436273905, 711.7444863310373, 122.25386925159394, 113.03161170901205, 1466.534516783094, 167.60395358754965, 599.9080783066845, 585.6914054555348, 735.8502644819985, 304.58657738105046, 540.1055548856893, 351.1725587252935, 1103.198579544804, 321.17154688775463, 783.8187175605684, 489.90305263941156, 1127.2861656004534, 256.7889866853085, 937.6703980256557, 305.49996074748844, 243.00090959087888, 201.46172816135584, 191.6680178388907, 180.99737705153717, 162.4335643389765, 114.23682616784087, 105.40952875465024, 93.29085027922984, 88.79916642015779, 80.29269195498577, 71.76268511168078, 61.77750508211821, 59.8205762721316, 59.69044132772561, 45.357836403284985, 42.38588958947899, 41.13778771024317, 38.409600848094044, 37.46108292765314, 36.82864245242233, 33.90823518219471, 33.909461520539516, 32.43833953536328, 32.076728459558545, 31.213774273725555, 117.27242144202621, 30.766574847384938, 30.453101270884364, 29.55613496851391, 164.2309816677282, 132.8282855865251, 2308.2065794180726, 368.7906644130459, 1046.9918720255632, 253.20274211631207, 92.29407668664886, 261.26361476791584, 142.25697281369852, 193.10820419996648, 119.96192541223782, 155.2692289360984, 134.1705794929698, 263.3246544306542, 3605.6316420870903, 476.52332951742073, 217.10192853074082, 937.6703980256557, 496.1495830255147, 2394.263941946221, 4745.5826573671175, 415.55764899377243, 649.099773591108, 591.499515003043, 534.4972786982072, 727.4727507956624, 474.7793364219449, 507.0108955005553, 543.9541953566621, 440.65390079313676, 388.49060082885546, 376.1026464433354, 350.837927376177, 370.20422803604913, 172.32190115001205, 144.6098578541653, 109.98928817604255, 88.34993286995658, 57.33287824553737, 51.08335722828418, 46.295818088740596, 46.18647031222092, 40.29639570722422, 35.58979343495105, 34.20423003463277, 32.81320191252648, 32.39112350075467, 30.805801939957107, 30.632223474653667, 30.367671954455982, 29.66603211683583, 29.63473955374064, 28.343608375137006, 26.199305449602132, 26.06396363231786, 25.37121150759641, 24.069147787550367, 41.06003369834118, 23.861580762815564, 23.233418239448273, 265.3616672385244, 782.2158013470752, 2394.263941946221, 116.12466782544288, 268.48462268734073, 522.2961189912938, 82.26579491895654, 69.78516545353345, 135.16305246624884, 900.8082177314207, 356.5353222389508, 87.33609820077612, 507.0108955005553, 171.8516194730429, 259.23369755108894, 178.35635071609676, 266.88525291464254, 156.47747927764624, 1103.198579544804, 1127.2861656004534, 351.1725587252935, 711.7444863310373, 633.268229291347, 534.4972786982072, 585.6914054555348, 599.9080783066845, 4745.5826573671175, 489.90305263941156, 1710.6060316458304, 540.1055548856893, 440.65390079313676, 710.2386815037057, 649.099773591108, 374.2932854694639, 135.9463889190492, 48.22572722067164, 43.938273947300374, 43.615351006310746, 41.909484416857, 37.37150439279355, 35.35338129076839, 33.644206585362575, 32.66296937591367, 32.60935256195831, 31.946381993144673, 31.569910877383297, 31.12095440400392, 28.178440732505486, 27.202180674138404, 27.220279769980422, 26.93325008604956, 25.43966617918365, 25.341326740705895, 24.22205203716626, 24.15791080238123, 23.939474630234727, 23.86327027826117, 23.419716316230588, 22.20353983402236, 20.84939371700299, 20.1438719886362, 19.506037841380873, 19.641641130847116, 120.60299480173634, 259.27840101635684, 277.3656057239544, 710.2386815037057, 486.8972211362248, 133.59284190807753, 140.08498601357599, 92.97553552698439, 1710.6060316458304, 199.88051803533907, 110.97315827127515, 45.86921827455371, 77.91055765904083, 78.60629528185821, 77.83084836551404, 111.60074266093127, 206.01940711151434, 953.7880139250432, 91.83770302317399, 1127.2861656004534, 304.58657738105046, 937.6703980256557, 109.3438743199419, 99.21071379999661, 1103.198579544804, 451.5581463002797, 783.8187175605684, 727.4727507956624, 1466.534516783094, 4745.5826573671175, 316.20861117729777, 129.54814008461258, 900.8082177314207, 256.7889866853085, 534.4972786982072, 645.5861773145233, 627.6303176830436, 743.5534827712875, 585.4023650286925, 259.27677549176, 177.87502232175888, 168.3750220526001, 123.74560762899893, 406.9012362988186, 47.67802427986397, 39.0276931127757, 34.69266388283419, 26.262661439631, 21.420016789278467, 20.47445005096252, 19.620079481113024, 16.908233432212267, 16.840405802646192, 16.895684358660336, 16.10707087610721, 16.22851743570925, 14.847739232859379, 14.511781693762323, 14.120080720455542, 13.558932901692001, 12.587176747687833, 12.34481443989176, 12.036666126546216, 11.841250683523707, 11.654447489661715, 11.963660945114079, 10.830713757609352, 205.4200891394736, 659.896686849212, 147.7306889709574, 69.0489012189022, 263.6045917773799, 137.21374219560442, 26.085673393933426, 44.9329004375274, 106.79299350508755, 3605.6316420870903, 57.350645023217815, 114.76085891818225, 1466.534516783094, 240.687949372666, 415.55764899377243, 4745.5826573671175, 451.5581463002797, 1710.6060316458304, 649.099773591108, 71.72554280577741, 591.499515003043, 327.8557301324254, 189.83656106540047, 2308.2065794180726, 900.8082177314207, 735.8502644819985, 1046.9918720255632, 1127.2861656004534, 953.7880139250432, 426.76722026264383, 177.2709723917035, 123.03557304308535, 105.11760974922089, 105.03668495515585, 67.11623958500559, 56.19972613181108, 51.38658741368536, 50.355915932884876, 46.74187623252853, 44.61316848904162, 42.74632073168616, 42.04830860209569, 37.30744908750526, 34.44717599736687, 31.275884343991336, 30.957430548463122, 29.302421229592152, 28.510473128059957, 27.11090480085354, 26.69714832389411, 26.223464963719547, 25.17068255299456, 24.57975805702733, 23.41703166651983, 23.308410588267318, 22.734987790759163, 22.376818228637983, 21.754727858572497, 21.26013729052012, 234.63532017796695, 74.16935040373961, 230.19487525456685, 230.19487525456685, 242.52161435538855, 184.98473645248765, 316.20861117729777, 173.94332491569835, 222.1393894644541, 543.9541953566621, 246.76781778267627, 224.6135347667551, 169.4946759975315, 79.23351766463057, 110.59497278154058, 132.77045139847456, 783.8187175605684, 167.7127385021964, 591.499515003043, 486.8972211362248, 206.01940711151434, 585.6914054555348, 4745.5826573671175, 321.17154688775463, 496.1495830255147, 937.6703980256557, 727.4727507956624, 474.7793364219449], \"Category\": [\"Default\", \"Default\", \"Default\", \"Default\", \"Default\", \"Default\", \"Default\", \"Default\", \"Default\", \"Default\", \"Default\", \"Default\", \"Default\", \"Default\", \"Default\", \"Default\", \"Default\", \"Default\", \"Default\", \"Default\", \"Default\", \"Default\", \"Default\", \"Default\", \"Default\", \"Default\", \"Default\", \"Default\", \"Default\", \"Default\", \"Topic1\", \"Topic1\", \"Topic1\", \"Topic1\", \"Topic1\", \"Topic1\", \"Topic1\", \"Topic1\", \"Topic1\", \"Topic1\", \"Topic1\", \"Topic1\", \"Topic1\", \"Topic1\", \"Topic1\", \"Topic1\", \"Topic1\", \"Topic1\", \"Topic1\", \"Topic1\", \"Topic1\", \"Topic1\", \"Topic1\", \"Topic1\", \"Topic1\", \"Topic1\", \"Topic1\", \"Topic1\", \"Topic1\", \"Topic1\", \"Topic1\", \"Topic1\", \"Topic1\", \"Topic1\", \"Topic1\", \"Topic1\", \"Topic1\", \"Topic1\", \"Topic1\", \"Topic1\", \"Topic1\", \"Topic1\", \"Topic1\", \"Topic1\", \"Topic1\", \"Topic1\", \"Topic1\", \"Topic1\", \"Topic1\", \"Topic1\", \"Topic1\", \"Topic1\", \"Topic1\", \"Topic1\", \"Topic1\", \"Topic1\", \"Topic1\", \"Topic1\", \"Topic1\", \"Topic1\", \"Topic1\", \"Topic1\", \"Topic2\", \"Topic2\", \"Topic2\", \"Topic2\", \"Topic2\", \"Topic2\", \"Topic2\", \"Topic2\", \"Topic2\", \"Topic2\", \"Topic2\", \"Topic2\", \"Topic2\", \"Topic2\", \"Topic2\", \"Topic2\", \"Topic2\", \"Topic2\", \"Topic2\", \"Topic2\", \"Topic2\", \"Topic2\", \"Topic2\", \"Topic2\", \"Topic2\", \"Topic2\", \"Topic2\", \"Topic2\", \"Topic2\", \"Topic2\", \"Topic2\", \"Topic2\", \"Topic2\", \"Topic2\", \"Topic2\", \"Topic2\", \"Topic2\", \"Topic2\", \"Topic2\", \"Topic2\", \"Topic2\", \"Topic2\", \"Topic2\", \"Topic2\", \"Topic2\", \"Topic2\", \"Topic2\", \"Topic2\", \"Topic2\", \"Topic2\", \"Topic2\", \"Topic2\", \"Topic2\", \"Topic2\", \"Topic2\", \"Topic2\", \"Topic2\", \"Topic2\", \"Topic2\", \"Topic2\", \"Topic3\", \"Topic3\", \"Topic3\", \"Topic3\", \"Topic3\", \"Topic3\", \"Topic3\", \"Topic3\", \"Topic3\", \"Topic3\", \"Topic3\", \"Topic3\", \"Topic3\", \"Topic3\", \"Topic3\", \"Topic3\", \"Topic3\", \"Topic3\", \"Topic3\", \"Topic3\", \"Topic3\", \"Topic3\", \"Topic3\", \"Topic3\", \"Topic3\", \"Topic3\", \"Topic3\", \"Topic3\", \"Topic3\", \"Topic3\", \"Topic3\", \"Topic3\", \"Topic3\", \"Topic3\", \"Topic3\", \"Topic3\", \"Topic3\", \"Topic3\", \"Topic3\", \"Topic3\", \"Topic3\", \"Topic3\", \"Topic3\", \"Topic3\", \"Topic3\", \"Topic3\", \"Topic3\", \"Topic3\", \"Topic3\", \"Topic3\", \"Topic3\", \"Topic3\", \"Topic3\", \"Topic3\", \"Topic3\", \"Topic3\", \"Topic3\", \"Topic3\", \"Topic3\", \"Topic3\", \"Topic3\", \"Topic3\", \"Topic3\", \"Topic4\", \"Topic4\", \"Topic4\", \"Topic4\", \"Topic4\", \"Topic4\", \"Topic4\", \"Topic4\", \"Topic4\", \"Topic4\", \"Topic4\", \"Topic4\", \"Topic4\", \"Topic4\", \"Topic4\", \"Topic4\", \"Topic4\", \"Topic4\", \"Topic4\", \"Topic4\", \"Topic4\", \"Topic4\", \"Topic4\", \"Topic4\", \"Topic4\", \"Topic4\", \"Topic4\", \"Topic4\", \"Topic4\", \"Topic4\", \"Topic4\", \"Topic4\", \"Topic4\", \"Topic4\", \"Topic4\", \"Topic4\", \"Topic4\", \"Topic4\", \"Topic4\", \"Topic4\", \"Topic4\", \"Topic4\", \"Topic4\", \"Topic4\", \"Topic4\", \"Topic4\", \"Topic4\", \"Topic4\", \"Topic4\", \"Topic4\", \"Topic4\", \"Topic4\", \"Topic4\", \"Topic4\", \"Topic4\", \"Topic4\", \"Topic4\", \"Topic4\", \"Topic4\", \"Topic4\", \"Topic4\", \"Topic4\", \"Topic4\", \"Topic4\", \"Topic4\", \"Topic4\", \"Topic4\", \"Topic5\", \"Topic5\", \"Topic5\", \"Topic5\", \"Topic5\", \"Topic5\", \"Topic5\", \"Topic5\", \"Topic5\", \"Topic5\", \"Topic5\", \"Topic5\", \"Topic5\", \"Topic5\", \"Topic5\", \"Topic5\", \"Topic5\", \"Topic5\", \"Topic5\", \"Topic5\", \"Topic5\", \"Topic5\", \"Topic5\", \"Topic5\", \"Topic5\", \"Topic5\", \"Topic5\", \"Topic5\", \"Topic5\", \"Topic5\", \"Topic5\", \"Topic5\", \"Topic5\", \"Topic5\", \"Topic5\", \"Topic5\", \"Topic5\", \"Topic5\", \"Topic5\", \"Topic5\", \"Topic5\", \"Topic5\", \"Topic5\", \"Topic5\", \"Topic5\", \"Topic5\", \"Topic5\", \"Topic5\", \"Topic5\", \"Topic5\", \"Topic5\", \"Topic5\", \"Topic5\", \"Topic5\", \"Topic5\", \"Topic5\", \"Topic5\", \"Topic5\", \"Topic5\", \"Topic6\", \"Topic6\", \"Topic6\", \"Topic6\", \"Topic6\", \"Topic6\", \"Topic6\", \"Topic6\", \"Topic6\", \"Topic6\", \"Topic6\", \"Topic6\", \"Topic6\", \"Topic6\", \"Topic6\", \"Topic6\", \"Topic6\", \"Topic6\", \"Topic6\", \"Topic6\", \"Topic6\", \"Topic6\", \"Topic6\", \"Topic6\", \"Topic6\", \"Topic6\", \"Topic6\", \"Topic6\", \"Topic6\", \"Topic6\", \"Topic6\", \"Topic6\", \"Topic6\", \"Topic6\", \"Topic6\", \"Topic6\", \"Topic6\", \"Topic6\", \"Topic6\", \"Topic6\", \"Topic6\", \"Topic6\", \"Topic6\", \"Topic6\", \"Topic6\", \"Topic6\", \"Topic6\", \"Topic6\", \"Topic6\", \"Topic6\", \"Topic6\", \"Topic6\", \"Topic6\", \"Topic6\", \"Topic6\", \"Topic6\", \"Topic6\", \"Topic6\"], \"logprob\": [30.0, 29.0, 28.0, 27.0, 26.0, 25.0, 24.0, 23.0, 22.0, 21.0, 20.0, 19.0, 18.0, 17.0, 16.0, 15.0, 14.0, 13.0, 12.0, 11.0, 10.0, 9.0, 8.0, 7.0, 6.0, 5.0, 4.0, 3.0, 2.0, 1.0, -4.4146, -4.1777, -5.0769, -5.3469, -5.4532, -5.7014, -5.712, -5.7248, -5.8203, -5.8576, -5.8708, -4.7018, -6.173, -6.1918, -6.2478, -6.2462, -6.2649, -6.3671, -6.4028, -6.4015, -6.4549, -6.5113, -6.5333, -6.5424, -6.5629, -6.5903, -6.6404, -6.6426, -6.6898, -6.6917, -5.3256, -5.1394, -5.2398, -4.4026, -4.8845, -4.0506, -5.9463, -5.3136, -6.1321, -4.1314, -3.9095, -4.2946, -2.777, -5.2286, -4.2951, -5.5959, -5.6533, -3.8125, -5.3855, -4.5547, -4.5931, -4.4686, -5.0466, -4.7269, -4.9961, -4.4084, -5.0644, -4.635, -5.0031, -4.7953, -5.2451, -5.2434, -4.3832, -4.6128, -4.8009, -4.851, -4.9085, -5.0172, -5.3714, -5.4524, -5.5756, -5.6253, -5.7271, -5.8406, -5.9923, -6.0249, -6.0271, -6.3061, -6.3752, -6.4056, -6.4758, -6.5013, -6.5187, -6.6033, -6.6033, -6.6488, -6.6602, -6.6882, -5.3649, -6.7031, -6.7136, -6.7444, -5.0332, -5.2681, -2.5625, -4.3289, -3.3603, -4.7001, -5.6809, -4.7572, -5.3158, -5.0481, -5.4797, -5.2671, -5.3918, -4.8676, -2.8632, -4.4218, -5.0717, -4.1343, -4.6566, -3.9183, -3.5971, -4.878, -4.6665, -4.7551, -4.8178, -4.6979, -4.8874, -4.9068, -4.965, -5.1271, -3.9016, -3.934, -4.0037, -3.9501, -4.7171, -4.8934, -5.1688, -5.3897, -5.8273, -5.9444, -6.0445, -6.0469, -6.1865, -6.313, -6.3536, -6.3962, -6.4095, -6.4611, -6.4667, -6.4756, -6.4997, -6.5009, -6.5466, -6.6278, -6.6335, -6.6611, -6.7156, -6.1819, -6.7251, -6.752, -4.3512, -3.2961, -2.3076, -5.2138, -4.4328, -3.8076, -5.5471, -5.7063, -5.1332, -3.4966, -4.3082, -5.5536, -4.0752, -5.0318, -4.7498, -5.0932, -4.8274, -5.2165, -3.8606, -3.8506, -4.6781, -4.2178, -4.3413, -4.4506, -4.5021, -4.507, -3.5126, -4.6552, -4.1538, -4.6643, -4.7455, -4.6909, -4.8148, -3.6573, -4.6739, -5.7214, -5.8162, -5.8237, -5.8644, -5.9815, -6.0383, -6.089, -6.1193, -6.121, -6.1422, -6.1544, -6.169, -6.2714, -6.3075, -6.3068, -6.3178, -6.3765, -6.3809, -6.4274, -6.4301, -6.4396, -6.4428, -6.4623, -6.5176, -6.5829, -6.619, -6.6526, -6.6457, -4.8831, -4.1878, -4.1305, -3.3007, -3.6866, -4.9131, -4.9114, -5.2878, -2.8516, -4.6734, -5.1908, -5.9025, -5.4832, -5.4788, -5.5088, -5.2528, -4.8101, -3.7591, -5.4259, -3.7615, -4.6369, -3.9225, -5.3634, -5.432, -4.0359, -4.5689, -4.3365, -4.478, -4.1638, -3.6756, -4.9622, -5.3181, -4.7307, -5.1328, -4.9395, -4.8939, -4.9355, -2.9447, -3.1855, -4.0004, -4.3787, -4.4338, -4.7436, -3.5577, -5.7082, -5.9125, -6.0328, -6.3191, -6.5311, -6.5778, -6.6215, -6.7773, -6.7819, -6.7791, -6.8285, -6.8245, -6.9149, -6.9401, -6.9707, -7.0115, -7.0918, -7.1114, -7.1389, -7.1557, -7.1728, -7.1486, -7.2526, -4.3111, -3.1586, -4.6502, -5.4137, -4.1236, -4.8161, -6.3998, -5.8929, -5.1228, -1.9217, -5.7221, -5.1394, -3.035, -4.5721, -4.1208, -2.3203, -4.1918, -3.2299, -3.9809, -5.6447, -4.1346, -4.5851, -5.0364, -3.6824, -4.3504, -4.5879, -4.7189, -4.8799, -5.0465, -3.2833, -4.1645, -4.5318, -4.6903, -4.6923, -5.1434, -5.3232, -5.4142, -5.4347, -5.5105, -5.558, -5.6015, -5.6182, -5.7405, -5.822, -5.921, -5.9317, -5.988, -6.0161, -6.0681, -6.0839, -6.1023, -6.1446, -6.1693, -6.2194, -6.2242, -6.25, -6.2666, -6.2958, -6.3197, -3.9808, -5.1352, -4.1338, -4.1338, -4.133, -4.4287, -4.0033, -4.6122, -4.4221, -3.7649, -4.4339, -4.5187, -4.8152, -5.3359, -5.1315, -5.0304, -4.0232, -4.9263, -4.2987, -4.5211, -4.983, -4.7437, -4.2166, -4.9865, -4.9535, -4.8701, -5.0346, -5.0932], \"loglift\": [30.0, 29.0, 28.0, 27.0, 26.0, 25.0, 24.0, 23.0, 22.0, 21.0, 20.0, 19.0, 18.0, 17.0, 16.0, 15.0, 14.0, 13.0, 12.0, 11.0, 10.0, 9.0, 8.0, 7.0, 6.0, 5.0, 4.0, 3.0, 2.0, 1.0, 1.4517, 1.4504, 1.4492, 1.4476, 1.4469, 1.4448, 1.4447, 1.4445, 1.4435, 1.4432, 1.443, 1.4426, 1.439, 1.4387, 1.4378, 1.4377, 1.4376, 1.4358, 1.4351, 1.4351, 1.434, 1.4329, 1.4324, 1.4322, 1.4318, 1.4311, 1.43, 1.4299, 1.4288, 1.4288, 1.4218, 1.3758, 1.3643, 1.2927, 1.2892, 1.1064, 1.3524, 1.2438, 1.3709, 0.9974, 0.829, 0.8535, 0.357, 1.081, 0.7362, 1.197, 1.2181, 0.4959, 1.0919, 0.6475, 0.6331, 0.5293, 0.8335, 0.5803, 0.7416, 0.1846, 0.7626, 0.2998, 0.4016, -0.2238, 0.8057, -0.4878, 1.4939, 1.4932, 1.4925, 1.4923, 1.492, 1.4915, 1.4893, 1.4887, 1.4877, 1.4873, 1.4863, 1.485, 1.4832, 1.4828, 1.4827, 1.4783, 1.477, 1.4764, 1.4749, 1.4744, 1.474, 1.472, 1.472, 1.4709, 1.4707, 1.4699, 1.4695, 1.4695, 1.4692, 1.4683, 1.4645, 1.4419, 1.2922, 1.3598, 1.2851, 1.3647, 1.3931, 1.2763, 1.3255, 1.2877, 1.3321, 1.2867, 1.3081, 1.158, 0.5455, 1.0107, 1.1469, 0.6213, 0.7355, -0.1002, -0.4631, 0.6914, 0.4569, 0.4612, 0.4999, 0.3115, 0.5487, 0.4637, 0.3352, 0.3836, 1.7351, 1.7351, 1.7349, 1.7348, 1.7325, 1.7316, 1.7298, 1.7279, 1.7228, 1.7211, 1.7195, 1.7194, 1.7162, 1.714, 1.713, 1.712, 1.7116, 1.7102, 1.7102, 1.71, 1.7093, 1.7091, 1.708, 1.7055, 1.7049, 1.7043, 1.7024, 1.702, 1.7017, 1.7014, 1.6666, 1.6407, 1.5106, 1.6306, 1.5734, 1.5331, 1.6419, 1.6473, 1.5593, 1.2991, 1.4144, 1.5756, 1.2952, 1.4206, 1.2915, 1.322, 1.1848, 1.3296, 0.7324, 0.7208, 1.0596, 0.8135, 0.8068, 0.867, 0.7241, 0.6952, -0.3786, 0.7496, 0.0006, 0.6429, 0.7653, 0.3425, 0.3086, 2.0166, 2.0128, 2.0017, 2.0, 1.9999, 1.9991, 1.9966, 1.9953, 1.9942, 1.9935, 1.9934, 1.9928, 1.9924, 1.9921, 1.9891, 1.9882, 1.9882, 1.9878, 1.9861, 1.9857, 1.9844, 1.9843, 1.9839, 1.9838, 1.9831, 1.9811, 1.9787, 1.9771, 1.9757, 1.9756, 1.9234, 1.8533, 1.8431, 1.7327, 1.7243, 1.791, 1.7454, 1.7789, 1.3027, 1.6279, 1.6989, 1.8707, 1.7603, 1.7557, 1.7357, 1.6312, 1.4609, 0.9794, 1.6531, 0.8099, 1.2431, 0.8331, 1.5411, 1.5697, 0.5571, 0.9173, 0.5983, 0.5314, 0.1445, -0.5416, 0.8804, 1.4169, 0.065, 0.9179, 0.3781, 0.235, 0.2215, 2.0428, 2.0412, 2.0407, 2.0392, 2.039, 2.0372, 2.0328, 2.0263, 2.0222, 2.0197, 2.0118, 2.0036, 2.002, 2.0009, 1.9939, 1.9933, 1.9928, 1.9913, 1.9877, 1.9863, 1.9839, 1.9807, 1.9804, 1.9745, 1.9743, 1.9722, 1.9717, 1.9705, 1.9685, 1.964, 1.9628, 1.9483, 1.9534, 1.9505, 1.9009, 1.8613, 1.9378, 1.9009, 1.8053, 1.4871, 1.8277, 1.7167, 1.2733, 1.5434, 1.4485, 0.8137, 1.2945, 0.9245, 1.1425, 1.6815, 1.0817, 1.2213, 1.3164, 0.1724, 0.4453, 0.41, -0.0736, -0.3085, -0.308, 2.2595, 2.2568, 2.2547, 2.2536, 2.2524, 2.2492, 2.2468, 2.2455, 2.2452, 2.2438, 2.243, 2.2422, 2.2419, 2.2393, 2.2376, 2.2351, 2.2347, 2.2333, 2.2326, 2.2309, 2.2305, 2.23, 2.2287, 2.2278, 2.2261, 2.2259, 2.2251, 2.2244, 2.2234, 2.2224, 2.1602, 2.1575, 2.0263, 2.0263, 1.9749, 1.95, 1.8393, 1.828, 1.7735, 1.5352, 1.6567, 1.6659, 1.651, 1.8906, 1.7616, 1.68, 0.9116, 1.5504, 0.9176, 0.8899, 1.288, 0.4825, -1.0826, 0.8405, 0.4386, -0.1145, -0.0252, 0.3429]}, \"token.table\": {\"Topic\": [5, 5, 1, 4, 5, 2, 6, 2, 4, 1, 6, 1, 2, 4, 6, 2, 5, 3, 6, 4, 2, 4, 6, 2, 2, 5, 1, 2, 3, 6, 2, 3, 3, 4, 3, 5, 4, 2, 3, 4, 1, 4, 2, 5, 1, 2, 3, 4, 5, 6, 3, 6, 6, 4, 1, 2, 1, 6, 1, 4, 2, 5, 6, 6, 2, 1, 3, 4, 5, 1, 4, 6, 1, 2, 2, 3, 5, 4, 6, 3, 1, 6, 6, 6, 1, 1, 3, 1, 3, 1, 3, 1, 3, 4, 4, 2, 5, 2, 4, 6, 2, 6, 1, 1, 4, 6, 2, 6, 5, 1, 4, 1, 1, 2, 3, 2, 4, 1, 1, 2, 4, 2, 6, 1, 2, 5, 6, 3, 1, 2, 4, 2, 1, 4, 3, 3, 3, 2, 2, 4, 2, 4, 1, 2, 3, 4, 6, 1, 5, 5, 1, 2, 4, 2, 3, 5, 4, 2, 5, 2, 3, 1, 2, 4, 5, 6, 2, 1, 2, 3, 6, 2, 5, 1, 1, 2, 1, 2, 3, 6, 3, 4, 5, 6, 2, 4, 1, 2, 3, 6, 1, 3, 4, 6, 1, 2, 3, 5, 6, 1, 2, 5, 2, 5, 3, 1, 3, 5, 6, 1, 3, 5, 5, 1, 5, 4, 5, 3, 1, 3, 1, 3, 4, 5, 3, 2, 6, 3, 3, 5, 2, 6, 6, 4, 3, 5, 4, 2, 6, 4, 1, 2, 3, 4, 5, 6, 4, 1, 2, 1, 2, 6, 3, 3, 5, 3, 1, 2, 3, 2, 4, 1, 2, 3, 4, 5, 6, 5, 3, 6, 1, 2, 3, 2, 1, 5, 5, 4, 1, 2, 4, 6, 4, 1, 3, 6, 5, 1, 3, 4, 5, 6, 1, 2, 3, 1, 4, 6, 1, 3, 4, 5, 1, 3, 1, 2, 3, 4, 5, 6, 1, 2, 6, 3, 4, 1, 3, 4, 1, 6, 3, 5, 4, 6, 1, 2, 3, 4, 6, 6, 5, 6, 1, 2, 3, 4, 5, 6, 6, 1, 2, 4, 6, 1, 6, 4, 5, 5, 2, 3, 5, 2, 3, 3, 2, 2, 3, 5, 3, 1, 2, 3, 4, 5, 6, 5, 2, 4, 6, 2, 4, 1, 4, 4, 1, 4, 6, 4, 6, 1, 4, 1, 2, 3, 4, 2, 2, 5, 1, 3, 4, 5, 6, 2, 3, 1, 4, 5, 1, 2, 6, 1, 4, 1, 2, 3, 4, 5, 3, 2, 3, 2, 5, 1, 2, 4, 5, 6, 2, 1, 5, 6, 4, 4, 6, 2, 3, 4, 3, 1, 1, 4, 4, 4, 2, 5, 1, 4, 1, 4, 1, 5, 5, 1, 2, 3, 4, 5, 4, 2, 1, 2, 6, 6, 1, 5, 6, 2, 4, 2, 1, 4, 4, 6, 1, 2, 3, 4, 6, 6, 1, 4, 2, 4, 6, 1, 2, 4, 6, 6, 3, 2, 3, 4, 6, 4, 5, 1, 4, 6, 6, 5, 2, 4, 2, 3, 3, 1, 3, 6, 1, 1, 2, 4, 2, 5, 5, 1, 4, 6, 6, 1, 2, 3, 4, 1, 5, 1, 2, 3, 4, 6, 1, 3, 1, 5, 6, 6, 1, 2, 3, 1, 2, 3, 4, 5, 6, 1, 2, 3, 4, 3, 1, 2, 3, 4, 5, 5, 6, 2, 6, 2, 4, 2, 4, 3, 1, 1, 4, 4, 1, 2, 3, 4, 6, 1, 2, 4, 5, 6, 1, 2, 3, 4, 2, 3, 5, 6, 5, 2], \"Freq\": [0.946284546173702, 0.9950806903052636, 0.7058295106510728, 0.16570263906932634, 0.12746356851486643, 0.38264262904891694, 0.6122282064782671, 0.320191285419246, 0.675403492681222, 0.3029021139965552, 0.6941506779087724, 0.021623405675026484, 0.2270457595877781, 0.01621755425626986, 0.7297899415321438, 0.9891731396141583, 0.9194509983578535, 0.9878926525876794, 0.9862558856542047, 0.9827172976214832, 0.028744994971340525, 0.32194394367901386, 0.6496368863522959, 0.9977081097954942, 0.009830395297846907, 0.9879547274336142, 0.214836645521891, 0.3875484585885092, 0.24853651148610917, 0.1474369135934546, 0.3550219563275694, 0.6429842097932645, 0.24780401938595584, 0.751859922455116, 0.9793608363043971, 0.9138743140627699, 0.9900043142164547, 0.20256747449730161, 0.797322286217214, 0.9740573741578956, 0.9872798287507989, 0.9819476564379033, 0.001708226785095046, 0.9976044424955068, 0.004197066284300114, 0.6148702106499667, 0.0146897319950504, 0.146897319950504, 0.13010905481330354, 0.0881383919703024, 0.9720100401669811, 0.992931993663679, 0.9825407024765773, 0.9432148899039126, 0.9960221345700073, 0.9723420297110469, 0.9878651400767371, 0.008552944935729325, 0.20435483261600154, 0.7851527779456902, 0.16033379490982763, 0.8308205736236522, 0.0072878997686285285, 0.9786524559034818, 0.9811837721980103, 0.5347100116106933, 0.015726765047373335, 0.3533279880643209, 0.09540904128739823, 0.9794714409773924, 0.7455372186205995, 0.2546738708235657, 0.9828943058867842, 0.988432966612949, 0.8153516313407596, 0.030759811809348527, 0.15379905904674265, 0.2085189774399538, 0.7906344561264914, 0.9738425267575349, 0.9899143316236387, 0.9820952417812544, 0.9928303411745544, 0.98701850051798, 0.992450312971446, 0.989286532777056, 0.9987371616512504, 0.08509004267078427, 0.9116790286155457, 0.4897877004522664, 0.5068733179099036, 0.09076779052242229, 0.9076779052242229, 0.9820785055393813, 0.9607562553169733, 0.8992993156190994, 0.086679452107865, 0.1308066765839902, 0.8720445105599347, 0.9653074097971263, 0.8502697805948566, 0.1500476083402688, 0.9828677511260919, 0.9769484746733347, 0.3888060995768619, 0.6058141551546453, 0.9874144305263751, 0.9534902341035133, 0.9803913884190464, 0.9232508113546203, 0.07435577004198284, 0.9855493708094596, 0.547951063940642, 0.056847948996723664, 0.39477742358835877, 0.966432722061539, 0.9639807189248765, 0.9885543497943506, 0.021415571256931578, 0.2141557125693158, 0.7638220414972263, 0.9944895496952247, 0.9438653020414044, 0.5012897361554493, 0.1245440338274408, 0.13077123551881284, 0.24286086596350956, 0.987877041956365, 0.1746893016890447, 0.7139475808160958, 0.11013021193439776, 0.9965147141060737, 0.6980742249548657, 0.2983223183567802, 0.9976116397037127, 0.974311301465551, 0.9957827366459323, 0.9983634670647251, 0.27033564212586125, 0.7299062337398254, 0.9910002936696896, 0.958179349109758, 0.4467351077459458, 0.07167764788461072, 0.35338747329156905, 0.053341505402500995, 0.07667841401609518, 0.8499162492707821, 0.14972617862801343, 0.9950756272352647, 0.9881311032891964, 0.3527844792101596, 0.6350120625782874, 0.8273050650855698, 0.16397037326020303, 0.928955926531118, 0.9808523769544666, 0.17436595518588507, 0.8020833938550713, 0.18380377818124324, 0.8156292656792669, 0.9750009485030616, 0.35502987690348253, 0.001690618461445155, 0.38207977228660506, 0.26035524306255386, 0.9775000543804235, 0.9142924628070538, 0.013545073523067464, 0.06772536761533732, 0.9833685618874427, 0.9961148791813361, 0.9429044907400276, 0.9756066018437849, 0.9865582921448757, 0.9958810459081654, 0.02261065082398208, 0.007536883607994027, 0.9308051255872624, 0.037684418039970136, 0.8473014197392024, 0.04580007674265958, 0.10305017267098407, 0.9901302582464551, 0.29399690008783125, 0.6968815409489333, 0.4405050127026103, 0.027318140322642497, 0.3636727430451782, 0.16903099324635046, 0.32972972106534826, 0.5770270118643595, 0.07868550161786719, 0.0112407859454096, 0.9789369624408256, 0.3863400752700499, 0.0391054921845492, 0.5729925308743166, 0.001386719581012383, 0.9974265843249788, 0.44759132806333546, 0.551066742615612, 0.2927827267458264, 0.6971017303472057, 0.9981319777238772, 0.1592970389252417, 0.17109681958637069, 0.12389769694185464, 0.5427899104119346, 0.3131441037151213, 0.6646323833953596, 0.012781391988372299, 0.9206746234224498, 0.2701269430381414, 0.7232431055537335, 0.9786456348188429, 0.9647333659944523, 0.9967471251140549, 0.1553679028168134, 0.8360272865857101, 0.009991027860142573, 0.6449763540825372, 0.14209461845536103, 0.20204078561621647, 0.9834280174727893, 0.9851213422615329, 0.9649547444415559, 0.9970682300330436, 0.9910055952497924, 0.9242988498132295, 0.9893721213121576, 0.9407276974132235, 0.9592054910435663, 0.9813135645425486, 0.9638925529963966, 0.958777515476734, 0.9673326110291557, 0.9908958006257162, 0.975068947195573, 0.9865308259429992, 0.28100108697376186, 0.001812910238540399, 0.3662078681851606, 0.23205251053317108, 0.06163894811037356, 0.05801312763329277, 0.9930385137363763, 0.01705430804111692, 0.9720955583436645, 0.7770715199573235, 0.11451580294107926, 0.11451580294107926, 0.9775489989961331, 0.9741833212771084, 0.02435458303192771, 0.9542237693320094, 0.05014780147337135, 0.30860185522074673, 0.6403488495830495, 0.9681486305774417, 0.03044492548985666, 0.14158605925424053, 0.3051660694605961, 0.18832320502748495, 0.2254379972591791, 0.037114792231694116, 0.10172202315353203, 0.9800342837559696, 0.8955892141395096, 0.09472578226475584, 0.0039494043059795795, 0.8767677559274667, 0.1184821291793874, 0.9864869921937459, 0.11127703645465233, 0.8679608843462882, 0.9438456872157814, 0.9782988402383881, 0.1620956912429612, 0.08915263018362865, 0.19856722177262745, 0.547072957944994, 0.9520690836284115, 0.07164846522187093, 0.9171003548399479, 0.9533446489465742, 0.9720680742857093, 0.0011691762819728481, 0.17596103043691363, 0.4887156858646505, 0.3262001826704246, 0.007599645832823512, 0.08803368972916961, 0.8037858627445922, 0.10717144836594562, 0.3658183894505088, 0.621891262065865, 0.00914545973626272, 0.18380800054220744, 0.011072771117000448, 0.33218313351001344, 0.4717000495842191, 0.8516349167224248, 0.1473983509711889, 0.09531289732010505, 0.32905643122417216, 0.37898223458232244, 0.07715805973532314, 0.12027579899918019, 0.0022693546980977392, 0.11133028316574906, 0.1360703460914711, 0.7504485754135678, 0.9941939380033954, 0.9965447270371367, 0.807947268506459, 0.12280798481298177, 0.06463578148051673, 0.506818985600708, 0.4889312566971537, 0.9787923643420143, 0.9992556248015616, 0.2085189774399538, 0.7906344561264914, 0.14290735879275737, 0.4169908752833443, 0.04159244024565327, 0.30501122846812395, 0.09278313593261113, 0.9764131910622457, 0.9857791028444457, 0.9738867868794003, 0.3968198614504179, 0.1875381536991701, 0.06115374577146851, 0.0801793555670365, 0.19569198646869923, 0.0801793555670365, 0.9821910961022411, 0.01897481532100278, 0.0031624692201671295, 0.3194093912368801, 0.6546311285745958, 0.9705613188429437, 0.9893680064464254, 0.2060060241588034, 0.7865684558790675, 0.9312680198266584, 0.3116067929261998, 0.07894038754130396, 0.6065945568963357, 0.9732149084930369, 0.9469118910210965, 0.964792950070402, 0.9861631631037108, 0.3543368975890069, 0.2403328522777612, 0.4067171346239036, 0.975217233761755, 0.3337840923581793, 0.14097320567400376, 0.12053314446267586, 0.07733507695419937, 0.2922718030939361, 0.035401343128897804, 0.9500958698682822, 0.8114936930089075, 0.00644042613499133, 0.17389150564476588, 0.9485931361955497, 0.04517110172359761, 0.991504018947422, 0.945795137035844, 0.9900591533889338, 0.521829233136915, 0.3310110807211774, 0.1440871763139243, 0.7580541808168472, 0.2441191429749169, 0.21819892593243811, 0.7701138562321346, 0.016838252239412547, 0.36857063235158577, 0.4190853890698234, 0.19457535921098945, 0.9876916818303516, 0.08940793487190465, 0.909233235985471, 0.18628810182208053, 0.3619311692543279, 0.29894804911448164, 0.0949182233093458, 0.05766060294492969, 0.7047380971483898, 0.2901862752963958, 0.3832163468151919, 0.15342291465021027, 0.4629962624333012, 0.3873319570449893, 0.06232928044402127, 0.5520593410756169, 0.969271190222035, 0.023450109440855686, 0.009551172523100391, 0.8089843127066031, 0.0009551172523100391, 0.06017238689553246, 0.12034477379106492, 0.9960392401149682, 0.8130156906095202, 0.18642398001237406, 0.12898106125827194, 0.8649318225554706, 0.1342053713144736, 0.33246330621085507, 0.07015280773256574, 0.4392175788473682, 0.024400976602631564, 0.9973308205065813, 0.9684127136854028, 0.9683956692576127, 0.9841282316345649, 0.974583540958067, 0.4368441877622959, 0.5573529292139637, 0.8435438884050589, 0.11950205085738334, 0.028118129613501963, 0.955580156099113, 0.9780517274503017, 0.9913354548696071, 0.9592605075940268, 0.9558057242344052, 0.955170197356818, 0.9893359774887021, 0.9736675926551425, 0.5384347577300794, 0.4596394273305556, 0.9769088445768035, 0.9858914122639593, 0.9151792969502008, 0.06655849432365096, 0.9768272139285022, 0.015803067560660626, 0.27918752690500437, 0.005267689186886875, 0.22124294584924875, 0.4846274051935925, 0.9653495184180185, 0.9731797120992723, 0.2022229094636815, 0.3125263146256896, 0.4834965926268021, 0.9831603302673421, 0.983413679973727, 0.8817100349553928, 0.07667043782220806, 0.9862827086720346, 0.9638243095688529, 0.9839002538897252, 0.9953346602854801, 0.002552140154578154, 0.6809990524068955, 0.3136179846610703, 0.24701242317411612, 0.08491052046610242, 0.07719138224191129, 0.5480588139175702, 0.030876552896764515, 0.9590236914255047, 0.20210663696022083, 0.7934556858438299, 0.07328030381829363, 0.8485087810539262, 0.0771371619139933, 0.7873903473049743, 0.12385915575583865, 0.0353883302159539, 0.044235412769942375, 0.9555524364561092, 0.9853687906277055, 0.0931035741709132, 0.7273716732102594, 0.07564665401386697, 0.09892254755659528, 0.9703759257199217, 0.9533511954699696, 0.03409546352157098, 0.05966706116274922, 0.903529783321631, 0.969072673942875, 0.9469873880426022, 0.8731240540280046, 0.12473200771828638, 0.9750841667885531, 0.9879249788681904, 0.978581233940336, 0.9087646209171647, 0.054254604233860575, 0.027127302116930287, 0.9956423710459745, 0.9787112243465976, 0.9921108141026967, 0.9495479559167346, 0.08122889078490048, 0.9138250213301303, 0.9939746739841115, 0.048539116485211475, 0.5727615745254954, 0.3786051085846495, 0.9915831412210946, 0.15426241544488226, 0.10097176283665021, 0.7236309669959932, 0.019633398329348652, 0.07241244844937873, 0.912396850462172, 0.4875345108590106, 0.004214995771115365, 0.3976146010752161, 0.02669497321706398, 0.0842999154223073, 0.1489843239423858, 0.8492106464715992, 0.9778422732615977, 0.9233001835150785, 0.9982022511893681, 0.9924768809694803, 0.16820258925208253, 0.16820258925208253, 0.6615968510581913, 0.34904865172551375, 0.11226711020411262, 0.37150207376633626, 0.00816488074211728, 0.10206100927646601, 0.057154165194820965, 0.6861349257673672, 0.1563984021969734, 0.14630818270039447, 0.005045109748289465, 0.959178747817212, 0.4165852359130432, 0.16107962455304337, 0.3351196786678259, 0.0629506578713043, 0.022217879248695636, 0.9977726978263859, 0.9676715115256008, 0.0943786073613375, 0.9033380990299447, 0.22898929322972783, 0.7632976440990927, 0.08291668060514885, 0.9120834866566374, 0.9678284947208863, 0.9922106348785189, 0.15863538626267384, 0.8400464772546137, 0.9797027218106338, 0.22170733134394915, 0.46760091701632917, 0.07860532656740016, 0.07054324179125655, 0.16124169552287212, 0.3151238857483822, 0.13140793616228083, 0.24112718383175802, 0.05230801342382052, 0.25898845670818454, 0.6335327712581107, 0.037175517139840235, 0.16109390760597436, 0.16728982712928106, 0.06815302270896423, 0.004868073050640302, 0.9200658065710171, 0.004868073050640302, 0.9519218018884555, 0.9611141458549196], \"Term\": [\"affordable\", \"amazing\", \"amazon\", \"amazon\", \"amazon\", \"android\", \"android\", \"app\", \"app\", \"application\", \"application\", \"apps\", \"apps\", \"apps\", \"apps\", \"atmos\", \"atom\", \"aur\", \"auto\", \"automatic\", \"available\", \"available\", \"available\", \"average\", \"awesome\", \"awesome\", \"back\", \"back\", \"back\", \"back\", \"backup\", \"backup\", \"bad\", \"bad\", \"bahut\", \"band\", \"bar\", \"battery\", \"battery\", \"beautiful\", \"bed\", \"bekar\", \"best\", \"best\", \"better\", \"better\", \"better\", \"better\", \"better\", \"better\", \"bhi\", \"bill\", \"black\", \"blink\", \"bluetooth\", \"bokeh\", \"bought\", \"bought\", \"box\", \"box\", \"budget\", \"budget\", \"budget\", \"bug\", \"built\", \"buy\", \"buy\", \"buy\", \"buy\", \"cable\", \"call\", \"call\", \"called\", \"cam\", \"camera\", \"camera\", \"camera\", \"can\", \"can\", \"capacity\", \"care\", \"cash\", \"cast\", \"casting\", \"center\", \"centre\", \"charge\", \"charged\", \"charged\", \"charger\", \"charger\", \"charging\", \"charging\", \"checked\", \"choose\", \"clarity\", \"clarity\", \"class\", \"class\", \"click\", \"compared\", \"compared\", \"connected\", \"connection\", \"contact\", \"contact\", \"cool\", \"copy\", \"coverage\", \"customer\", \"customer\", \"damaged\", \"day\", \"day\", \"day\", \"dedicated\", \"default\", \"defective\", \"delivery\", \"delivery\", \"delivery\", \"depth\", \"described\", \"device\", \"device\", \"device\", \"device\", \"discharge\", \"display\", \"display\", \"display\", \"dolby\", \"dont\", \"dont\", \"drain\", \"drained\", \"draining\", \"dual\", \"earphone\", \"earphone\", \"effect\", \"especially\", \"even\", \"even\", \"even\", \"even\", \"even\", \"ever\", \"ever\", \"excellent\", \"exchange\", \"expectation\", \"expectation\", \"expected\", \"expected\", \"fabulous\", \"facility\", \"fantastic\", \"fantastic\", \"fast\", \"fast\", \"faulty\", \"feature\", \"feature\", \"feature\", \"feature\", \"fingerprint\", \"first\", \"first\", \"first\", \"fix\", \"flash\", \"fone\", \"frequently\", \"friend\", \"front\", \"full\", \"full\", \"full\", \"full\", \"fully\", \"fully\", \"fully\", \"function\", \"gallery\", \"gallery\", \"get\", \"get\", \"get\", \"get\", \"getting\", \"getting\", \"getting\", \"getting\", \"go\", \"good\", \"good\", \"good\", \"good\", \"got\", \"great\", \"great\", \"gud\", \"gud\", \"hai\", \"handset\", \"handset\", \"handset\", \"handset\", \"hanging\", \"hanging\", \"hanging\", \"happen\", \"happy\", \"happy\", \"head\", \"hearing\", \"heat\", \"heated\", \"heated\", \"heating\", \"heating\", \"heating\", \"heating\", \"hitting\", \"honor\", \"hotspot\", \"hour\", \"hr\", \"icon\", \"image\", \"improved\", \"improvement\", \"incoming\", \"india\", \"indian\", \"insert\", \"internal\", \"invoice\", \"iron\", \"issue\", \"issue\", \"issue\", \"issue\", \"issue\", \"issue\", \"jio\", \"killer\", \"killer\", \"know\", \"know\", \"know\", \"koi\", \"lagging\", \"lagging\", \"lasting\", \"life\", \"life\", \"life\", \"light\", \"light\", \"like\", \"like\", \"like\", \"like\", \"like\", \"like\", \"liked\", \"long\", \"long\", \"look\", \"look\", \"look\", \"loud\", \"loved\", \"loved\", \"lovely\", \"lte\", \"many\", \"many\", \"many\", \"many\", \"meet\", \"min\", \"min\", \"mirroring\", \"mobail\", \"mobile\", \"mobile\", \"mobile\", \"mobile\", \"mobile\", \"mode\", \"mode\", \"mode\", \"model\", \"model\", \"model\", \"money\", \"money\", \"money\", \"money\", \"month\", \"month\", \"much\", \"much\", \"much\", \"much\", \"much\", \"much\", \"need\", \"need\", \"need\", \"net\", \"network\", \"never\", \"never\", \"never\", \"new\", \"new\", \"nhi\", \"nice\", \"not\", \"not\", \"note\", \"note\", \"note\", \"note\", \"note\", \"nougat\", \"offer\", \"often\", \"one\", \"one\", \"one\", \"one\", \"one\", \"one\", \"operating\", \"option\", \"option\", \"option\", \"option\", \"ordered\", \"oreo\", \"otherwise\", \"otherwise\", \"outstanding\", \"overall\", \"overall\", \"overall\", \"package\", \"paisa\", \"par\", \"perfect\", \"performance\", \"performance\", \"performance\", \"phn\", \"phone\", \"phone\", \"phone\", \"phone\", \"phone\", \"phone\", \"phoneno\", \"photo\", \"photo\", \"photo\", \"picture\", \"picture\", \"piece\", \"place\", \"player\", \"please\", \"please\", \"please\", \"pls\", \"pls\", \"plz\", \"plz\", \"poor\", \"poor\", \"poor\", \"poor\", \"pretty\", \"price\", \"price\", \"problem\", \"problem\", \"problem\", \"problem\", \"problem\", \"processor\", \"processor\", \"product\", \"product\", \"product\", \"properly\", \"properly\", \"properly\", \"purchased\", \"purchased\", \"quality\", \"quality\", \"quality\", \"quality\", \"quality\", \"quickly\", \"ram\", \"ram\", \"range\", \"range\", \"really\", \"really\", \"really\", \"really\", \"really\", \"rear\", \"reason\", \"reasonable\", \"receive\", \"recorder\", \"recording\", \"recording\", \"redmi\", \"redmi\", \"redmi\", \"regular\", \"replaced\", \"replacement\", \"reply\", \"resolve\", \"responding\", \"rest\", \"result\", \"return\", \"return\", \"returned\", \"ringtone\", \"sale\", \"sale\", \"satisfactory\", \"satisfied\", \"satisfied\", \"satisfied\", \"satisfied\", \"satisfied\", \"saying\", \"scratch\", \"screen\", \"screen\", \"screen\", \"search\", \"seen\", \"segment\", \"segment\", \"selfie\", \"sell\", \"sensor\", \"service\", \"service\", \"set\", \"set\", \"show\", \"show\", \"show\", \"show\", \"show\", \"shown\", \"signal\", \"signal\", \"sim\", \"sim\", \"sim\", \"since\", \"since\", \"since\", \"since\", \"sir\", \"slightly\", \"slow\", \"slow\", \"slow\", \"slow\", \"sm\", \"socket\", \"software\", \"software\", \"software\", \"solve\", \"solved\", \"sound\", \"sound\", \"space\", \"stand\", \"standby\", \"start\", \"start\", \"start\", \"started\", \"stopped\", \"storage\", \"store\", \"super\", \"super\", \"superb\", \"support\", \"support\", \"support\", \"system\", \"take\", \"take\", \"take\", \"take\", \"thanks\", \"thanks\", \"time\", \"time\", \"time\", \"time\", \"time\", \"turbo\", \"turbo\", \"type\", \"unhappy\", \"update\", \"updated\", \"usage\", \"usage\", \"usage\", \"use\", \"use\", \"use\", \"use\", \"use\", \"use\", \"used\", \"used\", \"used\", \"used\", \"useful\", \"using\", \"using\", \"using\", \"using\", \"using\", \"value\", \"venom\", \"version\", \"version\", \"voice\", \"voice\", \"volta\", \"volta\", \"warm\", \"warranty\", \"waste\", \"waste\", \"weak\", \"work\", \"work\", \"work\", \"work\", \"work\", \"working\", \"working\", \"working\", \"working\", \"working\", \"worst\", \"worst\", \"worst\", \"worst\", \"worth\", \"worth\", \"worth\", \"worth\", \"worthy\", \"yes\"]}, \"R\": 30, \"lambda.step\": 0.01, \"plot.opts\": {\"xlab\": \"PC1\", \"ylab\": \"PC2\"}, \"topic.order\": [6, 5, 4, 1, 2, 3]};\n",
       "\n",
       "function LDAvis_load_lib(url, callback){\n",
       "  var s = document.createElement('script');\n",
       "  s.src = url;\n",
       "  s.async = true;\n",
       "  s.onreadystatechange = s.onload = callback;\n",
       "  s.onerror = function(){console.warn(\"failed to load library \" + url);};\n",
       "  document.getElementsByTagName(\"head\")[0].appendChild(s);\n",
       "}\n",
       "\n",
       "if(typeof(LDAvis) !== \"undefined\"){\n",
       "   // already loaded: just create the visualization\n",
       "   !function(LDAvis){\n",
       "       new LDAvis(\"#\" + \"ldavis_el93468137649937604636928691\", ldavis_el93468137649937604636928691_data);\n",
       "   }(LDAvis);\n",
       "}else if(typeof define === \"function\" && define.amd){\n",
       "   // require.js is available: use it to load d3/LDAvis\n",
       "   require.config({paths: {d3: \"https://d3js.org/d3.v5\"}});\n",
       "   require([\"d3\"], function(d3){\n",
       "      window.d3 = d3;\n",
       "      LDAvis_load_lib(\"https://cdn.jsdelivr.net/gh/bmabey/pyLDAvis@3.4.0/pyLDAvis/js/ldavis.v3.0.0.js\", function(){\n",
       "        new LDAvis(\"#\" + \"ldavis_el93468137649937604636928691\", ldavis_el93468137649937604636928691_data);\n",
       "      });\n",
       "    });\n",
       "}else{\n",
       "    // require.js not available: dynamically load d3 & LDAvis\n",
       "    LDAvis_load_lib(\"https://d3js.org/d3.v5.js\", function(){\n",
       "         LDAvis_load_lib(\"https://cdn.jsdelivr.net/gh/bmabey/pyLDAvis@3.4.0/pyLDAvis/js/ldavis.v3.0.0.js\", function(){\n",
       "                 new LDAvis(\"#\" + \"ldavis_el93468137649937604636928691\", ldavis_el93468137649937604636928691_data);\n",
       "            })\n",
       "         });\n",
       "}\n",
       "</script>"
      ],
      "text/plain": [
       "<IPython.core.display.HTML object>"
      ]
     },
     "execution_count": 38,
     "metadata": {},
     "output_type": "execute_result"
    }
   ],
   "source": [
    "# Visualize the topics\n",
    "vis_data = gensimvis.prepare(lda_model, corpus_gensim, dictionary)\n",
    "pyLDAvis.display(vis_data)"
   ]
  },
  {
   "cell_type": "code",
   "execution_count": 42,
   "id": "102423b8-817d-492b-a2fd-a9101404372d",
   "metadata": {},
   "outputs": [
    {
     "data": {
      "image/png": "[encoded data removed]",
      "text/plain": [
       "<Figure size 1200x800 with 6 Axes>"
      ]
     },
     "metadata": {},
     "output_type": "display_data"
    }
   ],
   "source": [
    "# import matplotlib.pyplot as plt\n",
    "\n",
    "# Parameters\n",
    "num_top_words = 7  # Number of top words to display for each topic\n",
    "num_topics = lda_model.num_topics  # Total number of topics in the LDA model\n",
    "\n",
    "# Define grid size for plotting (adjust based on the number of topics)\n",
    "num_rows = 3\n",
    "num_cols = 3\n",
    "\n",
    "fig, axes = plt.subplots(num_rows, num_cols, figsize=(12, 8))\n",
    "\n",
    "# Plot the top words for each topic\n",
    "for topic_idx in range(num_topics):\n",
    "    row = topic_idx // num_cols\n",
    "    col = topic_idx % num_cols\n",
    "\n",
    "    # Get the top words and weights for the current topic\n",
    "    top_words = lda_model.show_topic(topic_idx, topn=num_top_words)\n",
    "    words, weights = zip(*top_words)\n",
    "\n",
    "    # Plot horizontal bar chart for the topic\n",
    "    axes[row, col].barh(words, weights, color='skyblue')\n",
    "    axes[row, col].set_title(f\"Top {num_top_words} Words for Topic {topic_idx}\")\n",
    "    axes[row, col].set_xlabel(\"Word Importance\")\n",
    "    axes[row, col].invert_yaxis()  # Show the most important word at the top\n",
    "\n",
    "# Remove empty subplots if the grid is larger than the number of topics\n",
    "for i in range(num_topics, num_rows * num_cols):\n",
    "    fig.delaxes(axes.flatten()[i])\n",
    "\n",
    "plt.tight_layout()\n",
    "plt.show()\n"
   ]
  },
  {
   "cell_type": "code",
   "execution_count": null,
   "id": "95366756-8731-4446-976a-0968a2736558",
   "metadata": {},
   "outputs": [],
   "source": []
  },
  {
   "cell_type": "code",
   "execution_count": 31,
   "id": "478eb756-1d4d-4b2e-b549-b1ed3027bea5",
   "metadata": {},
   "outputs": [
    {
     "name": "stderr",
     "output_type": "stream",
     "text": [
      "/Users/binitkc/ADS_FiNAL/ADS/lib/python3.9/site-packages/urllib3/__init__.py:35: NotOpenSSLWarning: urllib3 v2 only supports OpenSSL 1.1.1+, currently the 'ssl' module is compiled with 'LibreSSL 2.8.3'. See: https://github.com/urllib3/urllib3/issues/3020\n",
      "  warnings.warn(\n",
      "/Users/binitkc/ADS_FiNAL/ADS/lib/python3.9/site-packages/urllib3/__init__.py:35: NotOpenSSLWarning: urllib3 v2 only supports OpenSSL 1.1.1+, currently the 'ssl' module is compiled with 'LibreSSL 2.8.3'. See: https://github.com/urllib3/urllib3/issues/3020\n",
      "  warnings.warn(\n",
      "/Users/binitkc/ADS_FiNAL/ADS/lib/python3.9/site-packages/urllib3/__init__.py:35: NotOpenSSLWarning: urllib3 v2 only supports OpenSSL 1.1.1+, currently the 'ssl' module is compiled with 'LibreSSL 2.8.3'. See: https://github.com/urllib3/urllib3/issues/3020\n",
      "  warnings.warn(\n",
      "/Users/binitkc/ADS_FiNAL/ADS/lib/python3.9/site-packages/urllib3/__init__.py:35: NotOpenSSLWarning: urllib3 v2 only supports OpenSSL 1.1.1+, currently the 'ssl' module is compiled with 'LibreSSL 2.8.3'. See: https://github.com/urllib3/urllib3/issues/3020\n",
      "  warnings.warn(\n",
      "/Users/binitkc/ADS_FiNAL/ADS/lib/python3.9/site-packages/urllib3/__init__.py:35: NotOpenSSLWarning: urllib3 v2 only supports OpenSSL 1.1.1+, currently the 'ssl' module is compiled with 'LibreSSL 2.8.3'. See: https://github.com/urllib3/urllib3/issues/3020\n",
      "  warnings.warn(\n",
      "/Users/binitkc/ADS_FiNAL/ADS/lib/python3.9/site-packages/urllib3/__init__.py:35: NotOpenSSLWarning: urllib3 v2 only supports OpenSSL 1.1.1+, currently the 'ssl' module is compiled with 'LibreSSL 2.8.3'. See: https://github.com/urllib3/urllib3/issues/3020\n",
      "  warnings.warn(\n",
      "/Users/binitkc/ADS_FiNAL/ADS/lib/python3.9/site-packages/urllib3/__init__.py:35: NotOpenSSLWarning: urllib3 v2 only supports OpenSSL 1.1.1+, currently the 'ssl' module is compiled with 'LibreSSL 2.8.3'. See: https://github.com/urllib3/urllib3/issues/3020\n",
      "  warnings.warn(\n"
     ]
    },
    {
     "name": "stdout",
     "output_type": "stream",
     "text": [
      "Coherence Score: 0.4435\n",
      "Topic 0: good, phone, camera, battery, product, mobile, nice, quality, price, best\n",
      "Topic 1: good, overall, condition, mobil, expected, expectedperformance, supplier, curiour, worthfull, issueperformance\n",
      "Topic 2: nice, product, good, feature, happy, handset, price, delivery, excellent, really\n",
      "Topic 3: phone, best, price, good, range, budget, great, feature, amazing, awesome\n",
      "Topic 4: product, phone, worst, price, buy, best, bad, excellent, amazon, awesome\n"
     ]
    }
   ],
   "source": [
    "# from sklearn.feature_extraction.text import TfidfVectorizer\n",
    "from sklearn.decomposition import TruncatedSVD\n",
    "# from gensim.models import CoherenceModel\n",
    "from gensim.corpora.dictionary import Dictionary\n",
    "# import numpy as np\n",
    "\n",
    "# Step 1: Prepare text data\n",
    "# Assuming 'lemmatized_text' is a list of lists of lemmatized tokens as per your previous code\n",
    "lemmatized_text = [tokens for tokens in df_cleaned['lemmatized_content']]\n",
    "\n",
    "# Step 2: Create TF-IDF matrix\n",
    "tfidf_vectorizer = TfidfVectorizer(tokenizer=lambda doc: doc, lowercase=False)\n",
    "tfidf_matrix = tfidf_vectorizer.fit_transform(lemmatized_text)\n",
    "\n",
    "# Step 3: Train LSA model using TruncatedSVD\n",
    "num_topics = 5\n",
    "lsa_model = TruncatedSVD(n_components=num_topics, random_state=42)\n",
    "lsa_matrix = lsa_model.fit_transform(tfidf_matrix)\n",
    "\n",
    "# Step 4: Extract top words for each topic\n",
    "def get_lsa_topics(model, vectorizer, n_words=10):\n",
    "    topics = []\n",
    "    for idx, topic in enumerate(model.components_):\n",
    "        top_words_indices = topic.argsort()[:-n_words - 1:-1]\n",
    "        top_words = [vectorizer.get_feature_names_out()[i] for i in top_words_indices]\n",
    "        topics.append(top_words)\n",
    "    return topics\n",
    "\n",
    "topics = get_lsa_topics(lsa_model, tfidf_vectorizer)\n",
    "\n",
    "# Step 5: Create a Gensim dictionary and corpus for coherence calculation\n",
    "dictionary = Dictionary(lemmatized_text)\n",
    "corpus = [dictionary.doc2bow(text) for text in lemmatized_text]\n",
    "\n",
    "# Step 6: Calculate the coherence score\n",
    "coherence_model = CoherenceModel(topics=topics, texts=lemmatized_text, dictionary=dictionary, coherence='c_v')\n",
    "coherence_score = coherence_model.get_coherence()\n",
    "\n",
    "# Print coherence score\n",
    "print(f\"Coherence Score: {coherence_score:.4f}\")\n",
    "\n",
    "# Display the topics and their associated words\n",
    "for i, topic in enumerate(topics):\n",
    "    print(f\"Topic {i}: {', '.join(topic)}\")\n"
   ]
  },
  {
   "cell_type": "code",
   "execution_count": 32,
   "id": "a850f2d6-11a6-4632-ae52-25ab9c617827",
   "metadata": {},
   "outputs": [
    {
     "name": "stderr",
     "output_type": "stream",
     "text": [
      "/Users/binitkc/ADS_FiNAL/ADS/lib/python3.9/site-packages/urllib3/__init__.py:35: NotOpenSSLWarning: urllib3 v2 only supports OpenSSL 1.1.1+, currently the 'ssl' module is compiled with 'LibreSSL 2.8.3'. See: https://github.com/urllib3/urllib3/issues/3020\n",
      "  warnings.warn(\n",
      "/Users/binitkc/ADS_FiNAL/ADS/lib/python3.9/site-packages/urllib3/__init__.py:35: NotOpenSSLWarning: urllib3 v2 only supports OpenSSL 1.1.1+, currently the 'ssl' module is compiled with 'LibreSSL 2.8.3'. See: https://github.com/urllib3/urllib3/issues/3020\n",
      "  warnings.warn(\n",
      "/Users/binitkc/ADS_FiNAL/ADS/lib/python3.9/site-packages/urllib3/__init__.py:35: NotOpenSSLWarning: urllib3 v2 only supports OpenSSL 1.1.1+, currently the 'ssl' module is compiled with 'LibreSSL 2.8.3'. See: https://github.com/urllib3/urllib3/issues/3020\n",
      "  warnings.warn(\n",
      "/Users/binitkc/ADS_FiNAL/ADS/lib/python3.9/site-packages/urllib3/__init__.py:35: NotOpenSSLWarning: urllib3 v2 only supports OpenSSL 1.1.1+, currently the 'ssl' module is compiled with 'LibreSSL 2.8.3'. See: https://github.com/urllib3/urllib3/issues/3020\n",
      "  warnings.warn(\n",
      "/Users/binitkc/ADS_FiNAL/ADS/lib/python3.9/site-packages/urllib3/__init__.py:35: NotOpenSSLWarning: urllib3 v2 only supports OpenSSL 1.1.1+, currently the 'ssl' module is compiled with 'LibreSSL 2.8.3'. See: https://github.com/urllib3/urllib3/issues/3020\n",
      "  warnings.warn(\n",
      "/Users/binitkc/ADS_FiNAL/ADS/lib/python3.9/site-packages/urllib3/__init__.py:35: NotOpenSSLWarning: urllib3 v2 only supports OpenSSL 1.1.1+, currently the 'ssl' module is compiled with 'LibreSSL 2.8.3'. See: https://github.com/urllib3/urllib3/issues/3020\n",
      "  warnings.warn(\n",
      "/Users/binitkc/ADS_FiNAL/ADS/lib/python3.9/site-packages/urllib3/__init__.py:35: NotOpenSSLWarning: urllib3 v2 only supports OpenSSL 1.1.1+, currently the 'ssl' module is compiled with 'LibreSSL 2.8.3'. See: https://github.com/urllib3/urllib3/issues/3020\n",
      "  warnings.warn(\n"
     ]
    },
    {
     "name": "stdout",
     "output_type": "stream",
     "text": [
      "Number of Topics: 2, Coherence Score: 0.4506\n"
     ]
    },
    {
     "name": "stderr",
     "output_type": "stream",
     "text": [
      "/Users/binitkc/ADS_FiNAL/ADS/lib/python3.9/site-packages/urllib3/__init__.py:35: NotOpenSSLWarning: urllib3 v2 only supports OpenSSL 1.1.1+, currently the 'ssl' module is compiled with 'LibreSSL 2.8.3'. See: https://github.com/urllib3/urllib3/issues/3020\n",
      "  warnings.warn(\n",
      "/Users/binitkc/ADS_FiNAL/ADS/lib/python3.9/site-packages/urllib3/__init__.py:35: NotOpenSSLWarning: urllib3 v2 only supports OpenSSL 1.1.1+, currently the 'ssl' module is compiled with 'LibreSSL 2.8.3'. See: https://github.com/urllib3/urllib3/issues/3020\n",
      "  warnings.warn(\n",
      "/Users/binitkc/ADS_FiNAL/ADS/lib/python3.9/site-packages/urllib3/__init__.py:35: NotOpenSSLWarning: urllib3 v2 only supports OpenSSL 1.1.1+, currently the 'ssl' module is compiled with 'LibreSSL 2.8.3'. See: https://github.com/urllib3/urllib3/issues/3020\n",
      "  warnings.warn(\n",
      "/Users/binitkc/ADS_FiNAL/ADS/lib/python3.9/site-packages/urllib3/__init__.py:35: NotOpenSSLWarning: urllib3 v2 only supports OpenSSL 1.1.1+, currently the 'ssl' module is compiled with 'LibreSSL 2.8.3'. See: https://github.com/urllib3/urllib3/issues/3020\n",
      "  warnings.warn(\n",
      "/Users/binitkc/ADS_FiNAL/ADS/lib/python3.9/site-packages/urllib3/__init__.py:35: NotOpenSSLWarning: urllib3 v2 only supports OpenSSL 1.1.1+, currently the 'ssl' module is compiled with 'LibreSSL 2.8.3'. See: https://github.com/urllib3/urllib3/issues/3020\n",
      "  warnings.warn(\n",
      "/Users/binitkc/ADS_FiNAL/ADS/lib/python3.9/site-packages/urllib3/__init__.py:35: NotOpenSSLWarning: urllib3 v2 only supports OpenSSL 1.1.1+, currently the 'ssl' module is compiled with 'LibreSSL 2.8.3'. See: https://github.com/urllib3/urllib3/issues/3020\n",
      "  warnings.warn(\n",
      "/Users/binitkc/ADS_FiNAL/ADS/lib/python3.9/site-packages/urllib3/__init__.py:35: NotOpenSSLWarning: urllib3 v2 only supports OpenSSL 1.1.1+, currently the 'ssl' module is compiled with 'LibreSSL 2.8.3'. See: https://github.com/urllib3/urllib3/issues/3020\n",
      "  warnings.warn(\n"
     ]
    },
    {
     "name": "stdout",
     "output_type": "stream",
     "text": [
      "Number of Topics: 3, Coherence Score: 0.4443\n"
     ]
    },
    {
     "name": "stderr",
     "output_type": "stream",
     "text": [
      "/Users/binitkc/ADS_FiNAL/ADS/lib/python3.9/site-packages/urllib3/__init__.py:35: NotOpenSSLWarning: urllib3 v2 only supports OpenSSL 1.1.1+, currently the 'ssl' module is compiled with 'LibreSSL 2.8.3'. See: https://github.com/urllib3/urllib3/issues/3020\n",
      "  warnings.warn(\n",
      "/Users/binitkc/ADS_FiNAL/ADS/lib/python3.9/site-packages/urllib3/__init__.py:35: NotOpenSSLWarning: urllib3 v2 only supports OpenSSL 1.1.1+, currently the 'ssl' module is compiled with 'LibreSSL 2.8.3'. See: https://github.com/urllib3/urllib3/issues/3020\n",
      "  warnings.warn(\n",
      "/Users/binitkc/ADS_FiNAL/ADS/lib/python3.9/site-packages/urllib3/__init__.py:35: NotOpenSSLWarning: urllib3 v2 only supports OpenSSL 1.1.1+, currently the 'ssl' module is compiled with 'LibreSSL 2.8.3'. See: https://github.com/urllib3/urllib3/issues/3020\n",
      "  warnings.warn(\n",
      "/Users/binitkc/ADS_FiNAL/ADS/lib/python3.9/site-packages/urllib3/__init__.py:35: NotOpenSSLWarning: urllib3 v2 only supports OpenSSL 1.1.1+, currently the 'ssl' module is compiled with 'LibreSSL 2.8.3'. See: https://github.com/urllib3/urllib3/issues/3020\n",
      "  warnings.warn(\n",
      "/Users/binitkc/ADS_FiNAL/ADS/lib/python3.9/site-packages/urllib3/__init__.py:35: NotOpenSSLWarning: urllib3 v2 only supports OpenSSL 1.1.1+, currently the 'ssl' module is compiled with 'LibreSSL 2.8.3'. See: https://github.com/urllib3/urllib3/issues/3020\n",
      "  warnings.warn(\n",
      "/Users/binitkc/ADS_FiNAL/ADS/lib/python3.9/site-packages/urllib3/__init__.py:35: NotOpenSSLWarning: urllib3 v2 only supports OpenSSL 1.1.1+, currently the 'ssl' module is compiled with 'LibreSSL 2.8.3'. See: https://github.com/urllib3/urllib3/issues/3020\n",
      "  warnings.warn(\n",
      "/Users/binitkc/ADS_FiNAL/ADS/lib/python3.9/site-packages/urllib3/__init__.py:35: NotOpenSSLWarning: urllib3 v2 only supports OpenSSL 1.1.1+, currently the 'ssl' module is compiled with 'LibreSSL 2.8.3'. See: https://github.com/urllib3/urllib3/issues/3020\n",
      "  warnings.warn(\n"
     ]
    },
    {
     "name": "stdout",
     "output_type": "stream",
     "text": [
      "Number of Topics: 5, Coherence Score: 0.4435\n"
     ]
    },
    {
     "name": "stderr",
     "output_type": "stream",
     "text": [
      "/Users/binitkc/ADS_FiNAL/ADS/lib/python3.9/site-packages/urllib3/__init__.py:35: NotOpenSSLWarning: urllib3 v2 only supports OpenSSL 1.1.1+, currently the 'ssl' module is compiled with 'LibreSSL 2.8.3'. See: https://github.com/urllib3/urllib3/issues/3020\n",
      "  warnings.warn(\n",
      "/Users/binitkc/ADS_FiNAL/ADS/lib/python3.9/site-packages/urllib3/__init__.py:35: NotOpenSSLWarning: urllib3 v2 only supports OpenSSL 1.1.1+, currently the 'ssl' module is compiled with 'LibreSSL 2.8.3'. See: https://github.com/urllib3/urllib3/issues/3020\n",
      "  warnings.warn(\n",
      "/Users/binitkc/ADS_FiNAL/ADS/lib/python3.9/site-packages/urllib3/__init__.py:35: NotOpenSSLWarning: urllib3 v2 only supports OpenSSL 1.1.1+, currently the 'ssl' module is compiled with 'LibreSSL 2.8.3'. See: https://github.com/urllib3/urllib3/issues/3020\n",
      "  warnings.warn(\n",
      "/Users/binitkc/ADS_FiNAL/ADS/lib/python3.9/site-packages/urllib3/__init__.py:35: NotOpenSSLWarning: urllib3 v2 only supports OpenSSL 1.1.1+, currently the 'ssl' module is compiled with 'LibreSSL 2.8.3'. See: https://github.com/urllib3/urllib3/issues/3020\n",
      "  warnings.warn(\n",
      "/Users/binitkc/ADS_FiNAL/ADS/lib/python3.9/site-packages/urllib3/__init__.py:35: NotOpenSSLWarning: urllib3 v2 only supports OpenSSL 1.1.1+, currently the 'ssl' module is compiled with 'LibreSSL 2.8.3'. See: https://github.com/urllib3/urllib3/issues/3020\n",
      "  warnings.warn(\n",
      "/Users/binitkc/ADS_FiNAL/ADS/lib/python3.9/site-packages/urllib3/__init__.py:35: NotOpenSSLWarning: urllib3 v2 only supports OpenSSL 1.1.1+, currently the 'ssl' module is compiled with 'LibreSSL 2.8.3'. See: https://github.com/urllib3/urllib3/issues/3020\n",
      "  warnings.warn(\n",
      "/Users/binitkc/ADS_FiNAL/ADS/lib/python3.9/site-packages/urllib3/__init__.py:35: NotOpenSSLWarning: urllib3 v2 only supports OpenSSL 1.1.1+, currently the 'ssl' module is compiled with 'LibreSSL 2.8.3'. See: https://github.com/urllib3/urllib3/issues/3020\n",
      "  warnings.warn(\n"
     ]
    },
    {
     "name": "stdout",
     "output_type": "stream",
     "text": [
      "Number of Topics: 6, Coherence Score: 0.4499\n"
     ]
    },
    {
     "name": "stderr",
     "output_type": "stream",
     "text": [
      "/Users/binitkc/ADS_FiNAL/ADS/lib/python3.9/site-packages/urllib3/__init__.py:35: NotOpenSSLWarning: urllib3 v2 only supports OpenSSL 1.1.1+, currently the 'ssl' module is compiled with 'LibreSSL 2.8.3'. See: https://github.com/urllib3/urllib3/issues/3020\n",
      "  warnings.warn(\n",
      "/Users/binitkc/ADS_FiNAL/ADS/lib/python3.9/site-packages/urllib3/__init__.py:35: NotOpenSSLWarning: urllib3 v2 only supports OpenSSL 1.1.1+, currently the 'ssl' module is compiled with 'LibreSSL 2.8.3'. See: https://github.com/urllib3/urllib3/issues/3020\n",
      "  warnings.warn(\n",
      "/Users/binitkc/ADS_FiNAL/ADS/lib/python3.9/site-packages/urllib3/__init__.py:35: NotOpenSSLWarning: urllib3 v2 only supports OpenSSL 1.1.1+, currently the 'ssl' module is compiled with 'LibreSSL 2.8.3'. See: https://github.com/urllib3/urllib3/issues/3020\n",
      "  warnings.warn(\n",
      "/Users/binitkc/ADS_FiNAL/ADS/lib/python3.9/site-packages/urllib3/__init__.py:35: NotOpenSSLWarning: urllib3 v2 only supports OpenSSL 1.1.1+, currently the 'ssl' module is compiled with 'LibreSSL 2.8.3'. See: https://github.com/urllib3/urllib3/issues/3020\n",
      "  warnings.warn(\n",
      "/Users/binitkc/ADS_FiNAL/ADS/lib/python3.9/site-packages/urllib3/__init__.py:35: NotOpenSSLWarning: urllib3 v2 only supports OpenSSL 1.1.1+, currently the 'ssl' module is compiled with 'LibreSSL 2.8.3'. See: https://github.com/urllib3/urllib3/issues/3020\n",
      "  warnings.warn(\n",
      "/Users/binitkc/ADS_FiNAL/ADS/lib/python3.9/site-packages/urllib3/__init__.py:35: NotOpenSSLWarning: urllib3 v2 only supports OpenSSL 1.1.1+, currently the 'ssl' module is compiled with 'LibreSSL 2.8.3'. See: https://github.com/urllib3/urllib3/issues/3020\n",
      "  warnings.warn(\n",
      "/Users/binitkc/ADS_FiNAL/ADS/lib/python3.9/site-packages/urllib3/__init__.py:35: NotOpenSSLWarning: urllib3 v2 only supports OpenSSL 1.1.1+, currently the 'ssl' module is compiled with 'LibreSSL 2.8.3'. See: https://github.com/urllib3/urllib3/issues/3020\n",
      "  warnings.warn(\n"
     ]
    },
    {
     "name": "stdout",
     "output_type": "stream",
     "text": [
      "Number of Topics: 7, Coherence Score: 0.4661\n"
     ]
    },
    {
     "name": "stderr",
     "output_type": "stream",
     "text": [
      "/Users/binitkc/ADS_FiNAL/ADS/lib/python3.9/site-packages/urllib3/__init__.py:35: NotOpenSSLWarning: urllib3 v2 only supports OpenSSL 1.1.1+, currently the 'ssl' module is compiled with 'LibreSSL 2.8.3'. See: https://github.com/urllib3/urllib3/issues/3020\n",
      "  warnings.warn(\n",
      "/Users/binitkc/ADS_FiNAL/ADS/lib/python3.9/site-packages/urllib3/__init__.py:35: NotOpenSSLWarning: urllib3 v2 only supports OpenSSL 1.1.1+, currently the 'ssl' module is compiled with 'LibreSSL 2.8.3'. See: https://github.com/urllib3/urllib3/issues/3020\n",
      "  warnings.warn(\n",
      "/Users/binitkc/ADS_FiNAL/ADS/lib/python3.9/site-packages/urllib3/__init__.py:35: NotOpenSSLWarning: urllib3 v2 only supports OpenSSL 1.1.1+, currently the 'ssl' module is compiled with 'LibreSSL 2.8.3'. See: https://github.com/urllib3/urllib3/issues/3020\n",
      "  warnings.warn(\n",
      "/Users/binitkc/ADS_FiNAL/ADS/lib/python3.9/site-packages/urllib3/__init__.py:35: NotOpenSSLWarning: urllib3 v2 only supports OpenSSL 1.1.1+, currently the 'ssl' module is compiled with 'LibreSSL 2.8.3'. See: https://github.com/urllib3/urllib3/issues/3020\n",
      "  warnings.warn(\n",
      "/Users/binitkc/ADS_FiNAL/ADS/lib/python3.9/site-packages/urllib3/__init__.py:35: NotOpenSSLWarning: urllib3 v2 only supports OpenSSL 1.1.1+, currently the 'ssl' module is compiled with 'LibreSSL 2.8.3'. See: https://github.com/urllib3/urllib3/issues/3020\n",
      "  warnings.warn(\n",
      "/Users/binitkc/ADS_FiNAL/ADS/lib/python3.9/site-packages/urllib3/__init__.py:35: NotOpenSSLWarning: urllib3 v2 only supports OpenSSL 1.1.1+, currently the 'ssl' module is compiled with 'LibreSSL 2.8.3'. See: https://github.com/urllib3/urllib3/issues/3020\n",
      "  warnings.warn(\n",
      "/Users/binitkc/ADS_FiNAL/ADS/lib/python3.9/site-packages/urllib3/__init__.py:35: NotOpenSSLWarning: urllib3 v2 only supports OpenSSL 1.1.1+, currently the 'ssl' module is compiled with 'LibreSSL 2.8.3'. See: https://github.com/urllib3/urllib3/issues/3020\n",
      "  warnings.warn(\n"
     ]
    },
    {
     "name": "stdout",
     "output_type": "stream",
     "text": [
      "Number of Topics: 10, Coherence Score: 0.4548\n"
     ]
    },
    {
     "name": "stderr",
     "output_type": "stream",
     "text": [
      "/Users/binitkc/ADS_FiNAL/ADS/lib/python3.9/site-packages/urllib3/__init__.py:35: NotOpenSSLWarning: urllib3 v2 only supports OpenSSL 1.1.1+, currently the 'ssl' module is compiled with 'LibreSSL 2.8.3'. See: https://github.com/urllib3/urllib3/issues/3020\n",
      "  warnings.warn(\n",
      "/Users/binitkc/ADS_FiNAL/ADS/lib/python3.9/site-packages/urllib3/__init__.py:35: NotOpenSSLWarning: urllib3 v2 only supports OpenSSL 1.1.1+, currently the 'ssl' module is compiled with 'LibreSSL 2.8.3'. See: https://github.com/urllib3/urllib3/issues/3020\n",
      "  warnings.warn(\n",
      "/Users/binitkc/ADS_FiNAL/ADS/lib/python3.9/site-packages/urllib3/__init__.py:35: NotOpenSSLWarning: urllib3 v2 only supports OpenSSL 1.1.1+, currently the 'ssl' module is compiled with 'LibreSSL 2.8.3'. See: https://github.com/urllib3/urllib3/issues/3020\n",
      "  warnings.warn(\n",
      "/Users/binitkc/ADS_FiNAL/ADS/lib/python3.9/site-packages/urllib3/__init__.py:35: NotOpenSSLWarning: urllib3 v2 only supports OpenSSL 1.1.1+, currently the 'ssl' module is compiled with 'LibreSSL 2.8.3'. See: https://github.com/urllib3/urllib3/issues/3020\n",
      "  warnings.warn(\n",
      "/Users/binitkc/ADS_FiNAL/ADS/lib/python3.9/site-packages/urllib3/__init__.py:35: NotOpenSSLWarning: urllib3 v2 only supports OpenSSL 1.1.1+, currently the 'ssl' module is compiled with 'LibreSSL 2.8.3'. See: https://github.com/urllib3/urllib3/issues/3020\n",
      "  warnings.warn(\n",
      "/Users/binitkc/ADS_FiNAL/ADS/lib/python3.9/site-packages/urllib3/__init__.py:35: NotOpenSSLWarning: urllib3 v2 only supports OpenSSL 1.1.1+, currently the 'ssl' module is compiled with 'LibreSSL 2.8.3'. See: https://github.com/urllib3/urllib3/issues/3020\n",
      "  warnings.warn(\n",
      "/Users/binitkc/ADS_FiNAL/ADS/lib/python3.9/site-packages/urllib3/__init__.py:35: NotOpenSSLWarning: urllib3 v2 only supports OpenSSL 1.1.1+, currently the 'ssl' module is compiled with 'LibreSSL 2.8.3'. See: https://github.com/urllib3/urllib3/issues/3020\n",
      "  warnings.warn(\n"
     ]
    },
    {
     "name": "stdout",
     "output_type": "stream",
     "text": [
      "Number of Topics: 15, Coherence Score: 0.4382\n",
      "\n",
      "Best Coherence Score: 0.4661 with 7 topics\n",
      "\n",
      "Best Topics:\n",
      "Topic 0: good, phone, camera, battery, product, mobile, nice, quality, price, best\n",
      "Topic 1: good, overall, condition, mobil, expected, expectedperformance, supplier, curiour, worthfull, issueperformance\n",
      "Topic 2: nice, product, good, price, feature, happy, handset, delivery, really, excellent\n",
      "Topic 3: phone, best, price, good, range, budget, great, feature, awesome, amazing\n",
      "Topic 4: product, phone, price, best, worst, buy, bad, excellent, amazon, money\n",
      "Topic 5: mobile, best, product, price, range, awesome, excellent, ever, buy, note\n",
      "Topic 6: camera, best, quality, battery, poor, performance, price, backup, bad, awesome\n"
     ]
    }
   ],
   "source": [
    "\n",
    "# Step 1: Prepare text data\n",
    "lemmatized_text = [tokens for tokens in df_cleaned['lemmatized_content']]\n",
    "\n",
    "# Step 2: Create TF-IDF matrix\n",
    "tfidf_vectorizer = TfidfVectorizer(tokenizer=lambda doc: doc, lowercase=False)\n",
    "tfidf_matrix = tfidf_vectorizer.fit_transform(lemmatized_text)\n",
    "\n",
    "# Function to extract top words for each topic\n",
    "def get_lsa_topics(model, vectorizer, n_words=10):\n",
    "    topics = []\n",
    "    for idx, topic in enumerate(model.components_):\n",
    "        top_words_indices = topic.argsort()[:-n_words - 1:-1]\n",
    "        top_words = [vectorizer.get_feature_names_out()[i] for i in top_words_indices]\n",
    "        topics.append(top_words)\n",
    "    return topics\n",
    "\n",
    "# Step 3: Hyperparameter tuning\n",
    "topic_range = [2, 3, 5, 6, 7, 10, 15]  # Range of topic numbers to evaluate\n",
    "best_coherence_score = -1\n",
    "best_num_topics = None\n",
    "best_lsa_model = None\n",
    "best_topics = None\n",
    "\n",
    "# Create a Gensim dictionary and corpus\n",
    "dictionary = Dictionary(lemmatized_text)\n",
    "corpus = [dictionary.doc2bow(text) for text in lemmatized_text]\n",
    "\n",
    "for num_topics in topic_range:\n",
    "    # Train LSA model\n",
    "    lsa_model = TruncatedSVD(n_components=num_topics, random_state=42)\n",
    "    lsa_model.fit(tfidf_matrix)\n",
    "    \n",
    "    # Extract topics\n",
    "    topics = get_lsa_topics(lsa_model, tfidf_vectorizer)\n",
    "    \n",
    "    # Calculate coherence score\n",
    "    coherence_model = CoherenceModel(topics=topics, texts=lemmatized_text, dictionary=dictionary, coherence='c_v')\n",
    "    coherence_score = coherence_model.get_coherence()\n",
    "    \n",
    "    print(f\"Number of Topics: {num_topics}, Coherence Score: {coherence_score:.4f}\")\n",
    "    \n",
    "    # Update the best model if the coherence score improves\n",
    "    if coherence_score > best_coherence_score:\n",
    "        best_coherence_score = coherence_score\n",
    "        best_num_topics = num_topics\n",
    "        best_lsa_model = lsa_model\n",
    "        best_topics = topics\n",
    "\n",
    "# Display the best coherence score and the corresponding number of topics\n",
    "print(f\"\\nBest Coherence Score: {best_coherence_score:.4f} with {best_num_topics} topics\")\n",
    "\n",
    "# Display the topics and their associated words for the best model\n",
    "print(\"\\nBest Topics:\")\n",
    "for i, topic in enumerate(best_topics):\n",
    "    print(f\"Topic {i}: {', '.join(topic)}\")\n"
   ]
  },
  {
   "cell_type": "code",
   "execution_count": 33,
   "id": "dfe757e5-b673-40f3-8e1c-22d6d4bd608a",
   "metadata": {},
   "outputs": [
    {
     "name": "stdout",
     "output_type": "stream",
     "text": [
      "\n",
      "Topic Diversity: 0.5714\n"
     ]
    }
   ],
   "source": [
    "def calculate_topic_diversity(topics, top_n_words=10):\n",
    "    \"\"\"\n",
    "    Calculates topic diversity as the proportion of unique words \n",
    "    in the top N words across all topics.\n",
    "    \"\"\"\n",
    "    unique_words = set()\n",
    "    total_words = 0\n",
    "\n",
    "    for topic in topics:\n",
    "        top_words = topic[:top_n_words]\n",
    "        unique_words.update(top_words)\n",
    "        total_words += len(top_words)\n",
    "\n",
    "    topic_diversity = len(unique_words) / total_words\n",
    "    return topic_diversity\n",
    "\n",
    "# Calculate topic diversity for the best LSA model\n",
    "topic_diversity_score = calculate_topic_diversity(best_topics, top_n_words=10)\n",
    "print(f\"\\nTopic Diversity: {topic_diversity_score:.4f}\")\n"
   ]
  },
  {
   "cell_type": "code",
   "execution_count": null,
   "id": "b5283047-2829-4d3f-832c-a218f35cc78a",
   "metadata": {},
   "outputs": [],
   "source": []
  }
 ],
 "metadata": {
  "kernelspec": {
   "display_name": "ADS",
   "language": "python",
   "name": "ads"
  },
  "language_info": {
   "codemirror_mode": {
    "name": "ipython",
    "version": 3
   },
   "file_extension": ".py",
   "mimetype": "text/x-python",
   "name": "python",
   "nbconvert_exporter": "python",
   "pygments_lexer": "ipython3",
   "version": "3.9.6"
  }
 },
 "nbformat": 4,
 "nbformat_minor": 5
}
